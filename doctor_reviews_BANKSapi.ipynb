{
  "cells": [
    {
      "cell_type": "markdown",
      "source": [
        "### Motivation\n",
        "In this notebook, we will focus on sentiment analysis of doctor reviews in German language. The motivation behind this study is to provide healthcare professionals with a tool to analyze patient feedback in a more efficient and effective way. By automating the sentiment analysis process, healthcare professionals can save time and resources and gain insights into patient satisfaction levels.\n",
        "\n",
        "We will apply different different methods and discuss their pros and cons.\n"
      ],
      "metadata": {
        "id": "nAGvK-4ZYJQn"
      }
    },
    {
      "cell_type": "markdown",
      "source": [
        "The Dataset\n",
        "\n",
        "\n",
        "I downloaded the dataset and requirements.txt(all the libraries needed) for our case study\n",
        "\n",
        "\n",
        "\n",
        "\n",
        "\n"
      ],
      "metadata": {
        "id": "x9OAmbajYslJ"
      }
    },
    {
      "cell_type": "code",
      "execution_count": null,
      "metadata": {
        "colab": {
          "base_uri": "https://localhost:8080/"
        },
        "id": "mKtLOPHI0O_G",
        "outputId": "c563eee7-498f-4794-cc5f-adb2f9ae7417"
      },
      "outputs": [
        {
          "output_type": "stream",
          "name": "stdout",
          "text": [
            "unzip:  cannot find or open /content/2023_03_Working_Student_Data_Science_Task_Data.zip, /content/2023_03_Working_Student_Data_Science_Task_Data.zip.zip or /content/2023_03_Working_Student_Data_Science_Task_Data.zip.ZIP.\n"
          ]
        }
      ],
      "source": [
        "!unzip /content/2023_03_Working_Student_Data_Science_Task_Data.zip"
      ]
    },
    {
      "cell_type": "code",
      "source": [
        "!pip install -r requirements.txt "
      ],
      "metadata": {
        "colab": {
          "base_uri": "https://localhost:8080/"
        },
        "id": "gLVJhmIllXUN",
        "outputId": "67fbff9e-514b-41dd-9334-3830ee4e795a"
      },
      "execution_count": null,
      "outputs": [
        {
          "output_type": "stream",
          "name": "stdout",
          "text": [
            "Looking in indexes: https://pypi.org/simple, https://us-python.pkg.dev/colab-wheels/public/simple/\n",
            "Collecting de-core-news-sm@ https://github.com/explosion/spacy-models/releases/download/de_core_news_sm-3.5.0/de_core_news_sm-3.5.0-py3-none-any.whl\n",
            "  Downloading https://github.com/explosion/spacy-models/releases/download/de_core_news_sm-3.5.0/de_core_news_sm-3.5.0-py3-none-any.whl (14.6 MB)\n",
            "\u001b[2K     \u001b[90m━━━━━━━━━━━━━━━━━━━━━━━━━━━━━━━━━━━━━━━━\u001b[0m \u001b[32m14.6/14.6 MB\u001b[0m \u001b[31m90.8 MB/s\u001b[0m eta \u001b[36m0:00:00\u001b[0m\n",
            "\u001b[?25hCollecting en-core-web-sm@ https://github.com/explosion/spacy-models/releases/download/en_core_web_sm-3.5.0/en_core_web_sm-3.5.0-py3-none-any.whl\n",
            "  Downloading https://github.com/explosion/spacy-models/releases/download/en_core_web_sm-3.5.0/en_core_web_sm-3.5.0-py3-none-any.whl (12.8 MB)\n",
            "\u001b[2K     \u001b[90m━━━━━━━━━━━━━━━━━━━━━━━━━━━━━━━━━━━━━━━━\u001b[0m \u001b[32m12.8/12.8 MB\u001b[0m \u001b[31m96.9 MB/s\u001b[0m eta \u001b[36m0:00:00\u001b[0m\n",
            "\u001b[?25hCollecting jaxlib@ https://storage.googleapis.com/jax-releases/cuda11/jaxlib-0.4.6+cuda11.cudnn86-cp39-cp39-manylinux2014_x86_64.whl\n",
            "  Downloading https://storage.googleapis.com/jax-releases/cuda11/jaxlib-0.4.6+cuda11.cudnn86-cp39-cp39-manylinux2014_x86_64.whl (147.6 MB)\n",
            "\u001b[2K     \u001b[90m━━━━━━━━━━━━━━━━━━━━━━━━━━━━━━━━━━━━━━━\u001b[0m \u001b[32m147.6/147.6 MB\u001b[0m \u001b[31m8.0 MB/s\u001b[0m eta \u001b[36m0:00:00\u001b[0m\n",
            "\u001b[?25hCollecting torch@ https://download.pytorch.org/whl/cu116/torch-1.13.1%2Bcu116-cp39-cp39-linux_x86_64.whl\n",
            "  Downloading https://download.pytorch.org/whl/cu116/torch-1.13.1%2Bcu116-cp39-cp39-linux_x86_64.whl (1977.9 MB)\n",
            "\u001b[2K     \u001b[90m━━━━━━━━━━━━━━━━━━━━━━━━━━━━━━━━━━━━━━━━\u001b[0m \u001b[32m2.0/2.0 GB\u001b[0m \u001b[31m862.1 kB/s\u001b[0m eta \u001b[36m0:00:00\u001b[0m\n",
            "\u001b[?25hCollecting torchaudio@ https://download.pytorch.org/whl/cu116/torchaudio-0.13.1%2Bcu116-cp39-cp39-linux_x86_64.whl\n",
            "  Downloading https://download.pytorch.org/whl/cu116/torchaudio-0.13.1%2Bcu116-cp39-cp39-linux_x86_64.whl (4.2 MB)\n",
            "\u001b[2K     \u001b[90m━━━━━━━━━━━━━━━━━━━━━━━━━━━━━━━━━━━━━━━━\u001b[0m \u001b[32m4.2/4.2 MB\u001b[0m \u001b[31m14.8 MB/s\u001b[0m eta \u001b[36m0:00:00\u001b[0m\n",
            "\u001b[?25hCollecting torchvision@ https://download.pytorch.org/whl/cu116/torchvision-0.14.1%2Bcu116-cp39-cp39-linux_x86_64.whl\n",
            "  Downloading https://download.pytorch.org/whl/cu116/torchvision-0.14.1%2Bcu116-cp39-cp39-linux_x86_64.whl (24.2 MB)\n",
            "\u001b[2K     \u001b[90m━━━━━━━━━━━━━━━━━━━━━━━━━━━━━━━━━━━━━━━━\u001b[0m \u001b[32m24.2/24.2 MB\u001b[0m \u001b[31m45.7 MB/s\u001b[0m eta \u001b[36m0:00:00\u001b[0m\n",
            "\u001b[?25hRequirement already satisfied: absl-py==1.4.0 in /usr/local/lib/python3.9/dist-packages (from -r requirements.txt (line 1)) (1.4.0)\n",
            "Requirement already satisfied: alabaster==0.7.13 in /usr/local/lib/python3.9/dist-packages (from -r requirements.txt (line 2)) (0.7.13)\n",
            "Requirement already satisfied: albumentations==1.2.1 in /usr/local/lib/python3.9/dist-packages (from -r requirements.txt (line 3)) (1.2.1)\n",
            "Requirement already satisfied: altair==4.2.2 in /usr/local/lib/python3.9/dist-packages (from -r requirements.txt (line 4)) (4.2.2)\n",
            "Requirement already satisfied: appdirs==1.4.4 in /usr/local/lib/python3.9/dist-packages (from -r requirements.txt (line 5)) (1.4.4)\n",
            "Requirement already satisfied: argon2-cffi==21.3.0 in /usr/local/lib/python3.9/dist-packages (from -r requirements.txt (line 6)) (21.3.0)\n",
            "Requirement already satisfied: argon2-cffi-bindings==21.2.0 in /usr/local/lib/python3.9/dist-packages (from -r requirements.txt (line 7)) (21.2.0)\n",
            "Requirement already satisfied: arviz==0.15.1 in /usr/local/lib/python3.9/dist-packages (from -r requirements.txt (line 8)) (0.15.1)\n",
            "Requirement already satisfied: astropy==5.2.1 in /usr/local/lib/python3.9/dist-packages (from -r requirements.txt (line 9)) (5.2.1)\n",
            "Requirement already satisfied: astunparse==1.6.3 in /usr/local/lib/python3.9/dist-packages (from -r requirements.txt (line 10)) (1.6.3)\n",
            "Requirement already satisfied: attrs==22.2.0 in /usr/local/lib/python3.9/dist-packages (from -r requirements.txt (line 11)) (22.2.0)\n",
            "Requirement already satisfied: audioread==3.0.0 in /usr/local/lib/python3.9/dist-packages (from -r requirements.txt (line 12)) (3.0.0)\n",
            "Requirement already satisfied: autograd==1.5 in /usr/local/lib/python3.9/dist-packages (from -r requirements.txt (line 13)) (1.5)\n",
            "Requirement already satisfied: Babel==2.12.1 in /usr/local/lib/python3.9/dist-packages (from -r requirements.txt (line 14)) (2.12.1)\n",
            "Requirement already satisfied: backcall==0.2.0 in /usr/local/lib/python3.9/dist-packages (from -r requirements.txt (line 15)) (0.2.0)\n",
            "Requirement already satisfied: beautifulsoup4==4.11.2 in /usr/local/lib/python3.9/dist-packages (from -r requirements.txt (line 16)) (4.11.2)\n",
            "Requirement already satisfied: bleach==6.0.0 in /usr/local/lib/python3.9/dist-packages (from -r requirements.txt (line 17)) (6.0.0)\n",
            "Requirement already satisfied: blis==0.7.9 in /usr/local/lib/python3.9/dist-packages (from -r requirements.txt (line 18)) (0.7.9)\n",
            "Collecting bokeh==1.4.0\n",
            "  Downloading bokeh-1.4.0.tar.gz (32.4 MB)\n",
            "\u001b[2K     \u001b[90m━━━━━━━━━━━━━━━━━━━━━━━━━━━━━━━━━━━━━━━━\u001b[0m \u001b[32m32.4/32.4 MB\u001b[0m \u001b[31m17.3 MB/s\u001b[0m eta \u001b[36m0:00:00\u001b[0m\n",
            "\u001b[?25h  Preparing metadata (setup.py) ... \u001b[?25l\u001b[?25hdone\n",
            "Collecting boto==2.49.0\n",
            "  Downloading boto-2.49.0-py2.py3-none-any.whl (1.4 MB)\n",
            "\u001b[2K     \u001b[90m━━━━━━━━━━━━━━━━━━━━━━━━━━━━━━━━━━━━━━━━\u001b[0m \u001b[32m1.4/1.4 MB\u001b[0m \u001b[31m72.7 MB/s\u001b[0m eta \u001b[36m0:00:00\u001b[0m\n",
            "\u001b[?25hCollecting boto3==1.26.99\n",
            "  Downloading boto3-1.26.99-py3-none-any.whl (135 kB)\n",
            "\u001b[2K     \u001b[90m━━━━━━━━━━━━━━━━━━━━━━━━━━━━━━━━━━━━━━\u001b[0m \u001b[32m135.5/135.5 KB\u001b[0m \u001b[31m12.3 MB/s\u001b[0m eta \u001b[36m0:00:00\u001b[0m\n",
            "\u001b[?25hCollecting botocore==1.29.99\n",
            "  Downloading botocore-1.29.99-py3-none-any.whl (10.5 MB)\n",
            "\u001b[2K     \u001b[90m━━━━━━━━━━━━━━━━━━━━━━━━━━━━━━━━━━━━━━━━\u001b[0m \u001b[32m10.5/10.5 MB\u001b[0m \u001b[31m66.7 MB/s\u001b[0m eta \u001b[36m0:00:00\u001b[0m\n",
            "\u001b[?25hRequirement already satisfied: branca==0.6.0 in /usr/local/lib/python3.9/dist-packages (from -r requirements.txt (line 23)) (0.6.0)\n",
            "Requirement already satisfied: CacheControl==0.12.11 in /usr/local/lib/python3.9/dist-packages (from -r requirements.txt (line 24)) (0.12.11)\n",
            "Requirement already satisfied: cached-property==1.5.2 in /usr/local/lib/python3.9/dist-packages (from -r requirements.txt (line 25)) (1.5.2)\n",
            "Requirement already satisfied: cachetools==5.3.0 in /usr/local/lib/python3.9/dist-packages (from -r requirements.txt (line 26)) (5.3.0)\n",
            "Requirement already satisfied: catalogue==2.0.8 in /usr/local/lib/python3.9/dist-packages (from -r requirements.txt (line 27)) (2.0.8)\n",
            "Requirement already satisfied: certifi==2022.12.7 in /usr/local/lib/python3.9/dist-packages (from -r requirements.txt (line 28)) (2022.12.7)\n",
            "Requirement already satisfied: cffi==1.15.1 in /usr/local/lib/python3.9/dist-packages (from -r requirements.txt (line 29)) (1.15.1)\n",
            "Requirement already satisfied: chardet==3.0.4 in /usr/lib/python3/dist-packages (from -r requirements.txt (line 30)) (3.0.4)\n",
            "Requirement already satisfied: charset-normalizer==2.0.12 in /usr/local/lib/python3.9/dist-packages (from -r requirements.txt (line 31)) (2.0.12)\n",
            "Requirement already satisfied: chex==0.1.6 in /usr/local/lib/python3.9/dist-packages (from -r requirements.txt (line 32)) (0.1.6)\n",
            "Requirement already satisfied: click==8.1.3 in /usr/local/lib/python3.9/dist-packages (from -r requirements.txt (line 33)) (8.1.3)\n",
            "Requirement already satisfied: cloudpickle==2.2.1 in /usr/local/lib/python3.9/dist-packages (from -r requirements.txt (line 34)) (2.2.1)\n",
            "Requirement already satisfied: cmake==3.25.2 in /usr/local/lib/python3.9/dist-packages (from -r requirements.txt (line 35)) (3.25.2)\n",
            "Requirement already satisfied: cmdstanpy==1.1.0 in /usr/local/lib/python3.9/dist-packages (from -r requirements.txt (line 36)) (1.1.0)\n",
            "Requirement already satisfied: colorcet==3.0.1 in /usr/local/lib/python3.9/dist-packages (from -r requirements.txt (line 37)) (3.0.1)\n",
            "Requirement already satisfied: colorlover==0.3.0 in /usr/local/lib/python3.9/dist-packages (from -r requirements.txt (line 38)) (0.3.0)\n",
            "Requirement already satisfied: community==1.0.0b1 in /usr/local/lib/python3.9/dist-packages (from -r requirements.txt (line 39)) (1.0.0b1)\n",
            "Requirement already satisfied: confection==0.0.4 in /usr/local/lib/python3.9/dist-packages (from -r requirements.txt (line 40)) (0.0.4)\n",
            "Requirement already satisfied: cons==0.4.5 in /usr/local/lib/python3.9/dist-packages (from -r requirements.txt (line 41)) (0.4.5)\n",
            "Requirement already satisfied: contextlib2==0.6.0.post1 in /usr/local/lib/python3.9/dist-packages (from -r requirements.txt (line 42)) (0.6.0.post1)\n",
            "Requirement already satisfied: contourpy==1.0.7 in /usr/local/lib/python3.9/dist-packages (from -r requirements.txt (line 43)) (1.0.7)\n",
            "Requirement already satisfied: convertdate==2.4.0 in /usr/local/lib/python3.9/dist-packages (from -r requirements.txt (line 44)) (2.4.0)\n",
            "Requirement already satisfied: cryptography==39.0.2 in /usr/local/lib/python3.9/dist-packages (from -r requirements.txt (line 45)) (39.0.2)\n",
            "Requirement already satisfied: cufflinks==0.17.3 in /usr/local/lib/python3.9/dist-packages (from -r requirements.txt (line 46)) (0.17.3)\n",
            "Requirement already satisfied: cupy-cuda11x==11.0.0 in /usr/local/lib/python3.9/dist-packages (from -r requirements.txt (line 47)) (11.0.0)\n",
            "Requirement already satisfied: cvxopt==1.3.0 in /usr/local/lib/python3.9/dist-packages (from -r requirements.txt (line 48)) (1.3.0)\n",
            "Requirement already satisfied: cvxpy==1.3.1 in /usr/local/lib/python3.9/dist-packages (from -r requirements.txt (line 49)) (1.3.1)\n",
            "Requirement already satisfied: cycler==0.11.0 in /usr/local/lib/python3.9/dist-packages (from -r requirements.txt (line 50)) (0.11.0)\n",
            "Requirement already satisfied: cymem==2.0.7 in /usr/local/lib/python3.9/dist-packages (from -r requirements.txt (line 51)) (2.0.7)\n",
            "Requirement already satisfied: Cython==0.29.33 in /usr/local/lib/python3.9/dist-packages (from -r requirements.txt (line 52)) (0.29.33)\n",
            "Requirement already satisfied: dask==2022.12.1 in /usr/local/lib/python3.9/dist-packages (from -r requirements.txt (line 53)) (2022.12.1)\n",
            "Requirement already satisfied: datascience==0.17.6 in /usr/local/lib/python3.9/dist-packages (from -r requirements.txt (line 54)) (0.17.6)\n",
            "Requirement already satisfied: db-dtypes==1.0.5 in /usr/local/lib/python3.9/dist-packages (from -r requirements.txt (line 55)) (1.0.5)\n",
            "Requirement already satisfied: dbus-python==1.2.16 in /usr/lib/python3/dist-packages (from -r requirements.txt (line 56)) (1.2.16)\n",
            "Requirement already satisfied: debugpy==1.6.6 in /usr/local/lib/python3.9/dist-packages (from -r requirements.txt (line 58)) (1.6.6)\n",
            "Requirement already satisfied: decorator==4.4.2 in /usr/local/lib/python3.9/dist-packages (from -r requirements.txt (line 59)) (4.4.2)\n",
            "Requirement already satisfied: defusedxml==0.7.1 in /usr/local/lib/python3.9/dist-packages (from -r requirements.txt (line 60)) (0.7.1)\n",
            "Requirement already satisfied: distributed==2022.12.1 in /usr/local/lib/python3.9/dist-packages (from -r requirements.txt (line 61)) (2022.12.1)\n",
            "Requirement already satisfied: dlib==19.24.0 in /usr/local/lib/python3.9/dist-packages (from -r requirements.txt (line 62)) (19.24.0)\n",
            "Requirement already satisfied: dm-tree==0.1.8 in /usr/local/lib/python3.9/dist-packages (from -r requirements.txt (line 63)) (0.1.8)\n",
            "Requirement already satisfied: docutils==0.16 in /usr/local/lib/python3.9/dist-packages (from -r requirements.txt (line 64)) (0.16)\n",
            "Requirement already satisfied: dopamine-rl==4.0.6 in /usr/local/lib/python3.9/dist-packages (from -r requirements.txt (line 65)) (4.0.6)\n",
            "Requirement already satisfied: earthengine-api==0.1.346 in /usr/local/lib/python3.9/dist-packages (from -r requirements.txt (line 66)) (0.1.346)\n",
            "Requirement already satisfied: easydict==1.10 in /usr/local/lib/python3.9/dist-packages (from -r requirements.txt (line 67)) (1.10)\n",
            "Requirement already satisfied: ecos==2.0.12 in /usr/local/lib/python3.9/dist-packages (from -r requirements.txt (line 68)) (2.0.12)\n",
            "Requirement already satisfied: editdistance==0.5.3 in /usr/local/lib/python3.9/dist-packages (from -r requirements.txt (line 69)) (0.5.3)\n",
            "Requirement already satisfied: entrypoints==0.4 in /usr/local/lib/python3.9/dist-packages (from -r requirements.txt (line 71)) (0.4)\n",
            "Requirement already satisfied: ephem==4.1.4 in /usr/local/lib/python3.9/dist-packages (from -r requirements.txt (line 72)) (4.1.4)\n",
            "Requirement already satisfied: et-xmlfile==1.1.0 in /usr/local/lib/python3.9/dist-packages (from -r requirements.txt (line 73)) (1.1.0)\n",
            "Requirement already satisfied: etils==1.1.1 in /usr/local/lib/python3.9/dist-packages (from -r requirements.txt (line 74)) (1.1.1)\n",
            "Requirement already satisfied: etuples==0.3.8 in /usr/local/lib/python3.9/dist-packages (from -r requirements.txt (line 75)) (0.3.8)\n",
            "Requirement already satisfied: exceptiongroup==1.1.1 in /usr/local/lib/python3.9/dist-packages (from -r requirements.txt (line 76)) (1.1.1)\n",
            "Requirement already satisfied: fastai==2.7.11 in /usr/local/lib/python3.9/dist-packages (from -r requirements.txt (line 77)) (2.7.11)\n",
            "Requirement already satisfied: fastcore==1.5.28 in /usr/local/lib/python3.9/dist-packages (from -r requirements.txt (line 78)) (1.5.28)\n",
            "Requirement already satisfied: fastdownload==0.0.7 in /usr/local/lib/python3.9/dist-packages (from -r requirements.txt (line 79)) (0.0.7)\n",
            "Requirement already satisfied: fastjsonschema==2.16.3 in /usr/local/lib/python3.9/dist-packages (from -r requirements.txt (line 80)) (2.16.3)\n",
            "Requirement already satisfied: fastprogress==1.0.3 in /usr/local/lib/python3.9/dist-packages (from -r requirements.txt (line 81)) (1.0.3)\n",
            "Requirement already satisfied: fastrlock==0.8.1 in /usr/local/lib/python3.9/dist-packages (from -r requirements.txt (line 82)) (0.8.1)\n",
            "Requirement already satisfied: filelock==3.10.1 in /usr/local/lib/python3.9/dist-packages (from -r requirements.txt (line 83)) (3.10.1)\n",
            "Requirement already satisfied: firebase-admin==5.3.0 in /usr/local/lib/python3.9/dist-packages (from -r requirements.txt (line 84)) (5.3.0)\n",
            "Requirement already satisfied: Flask==2.2.3 in /usr/local/lib/python3.9/dist-packages (from -r requirements.txt (line 85)) (2.2.3)\n",
            "Requirement already satisfied: flatbuffers==23.3.3 in /usr/local/lib/python3.9/dist-packages (from -r requirements.txt (line 86)) (23.3.3)\n",
            "Requirement already satisfied: flax==0.6.7 in /usr/local/lib/python3.9/dist-packages (from -r requirements.txt (line 87)) (0.6.7)\n",
            "Requirement already satisfied: folium==0.14.0 in /usr/local/lib/python3.9/dist-packages (from -r requirements.txt (line 88)) (0.14.0)\n",
            "Requirement already satisfied: fonttools==4.39.2 in /usr/local/lib/python3.9/dist-packages (from -r requirements.txt (line 89)) (4.39.2)\n",
            "Requirement already satisfied: frozendict==2.3.6 in /usr/local/lib/python3.9/dist-packages (from -r requirements.txt (line 90)) (2.3.6)\n",
            "Requirement already satisfied: fsspec==2023.3.0 in /usr/local/lib/python3.9/dist-packages (from -r requirements.txt (line 91)) (2023.3.0)\n",
            "Requirement already satisfied: future==0.18.3 in /usr/local/lib/python3.9/dist-packages (from -r requirements.txt (line 92)) (0.18.3)\n",
            "Requirement already satisfied: gast==0.4.0 in /usr/local/lib/python3.9/dist-packages (from -r requirements.txt (line 93)) (0.4.0)\n",
            "Requirement already satisfied: GDAL==3.3.2 in /usr/local/lib/python3.9/dist-packages (from -r requirements.txt (line 94)) (3.3.2)\n",
            "Requirement already satisfied: gdown==4.6.4 in /usr/local/lib/python3.9/dist-packages (from -r requirements.txt (line 95)) (4.6.4)\n",
            "Collecting gensim==3.4.0\n",
            "  Downloading gensim-3.4.0.tar.gz (22.2 MB)\n",
            "\u001b[2K     \u001b[90m━━━━━━━━━━━━━━━━━━━━━━━━━━━━━━━━━━━━━━━━\u001b[0m \u001b[32m22.2/22.2 MB\u001b[0m \u001b[31m46.2 MB/s\u001b[0m eta \u001b[36m0:00:00\u001b[0m\n",
            "\u001b[?25h  Preparing metadata (setup.py) ... \u001b[?25l\u001b[?25hdone\n",
            "Requirement already satisfied: geographiclib==2.0 in /usr/local/lib/python3.9/dist-packages (from -r requirements.txt (line 97)) (2.0)\n",
            "Requirement already satisfied: geopy==2.3.0 in /usr/local/lib/python3.9/dist-packages (from -r requirements.txt (line 98)) (2.3.0)\n",
            "Requirement already satisfied: gin-config==0.5.0 in /usr/local/lib/python3.9/dist-packages (from -r requirements.txt (line 99)) (0.5.0)\n",
            "Requirement already satisfied: glob2==0.7 in /usr/local/lib/python3.9/dist-packages (from -r requirements.txt (line 100)) (0.7)\n",
            "Requirement already satisfied: google==2.0.3 in /usr/local/lib/python3.9/dist-packages (from -r requirements.txt (line 101)) (2.0.3)\n",
            "Requirement already satisfied: google-api-core==2.11.0 in /usr/local/lib/python3.9/dist-packages (from -r requirements.txt (line 102)) (2.11.0)\n",
            "Requirement already satisfied: google-api-python-client==2.70.0 in /usr/local/lib/python3.9/dist-packages (from -r requirements.txt (line 103)) (2.70.0)\n",
            "Requirement already satisfied: google-auth==2.16.2 in /usr/local/lib/python3.9/dist-packages (from -r requirements.txt (line 104)) (2.16.2)\n",
            "Requirement already satisfied: google-auth-httplib2==0.1.0 in /usr/local/lib/python3.9/dist-packages (from -r requirements.txt (line 105)) (0.1.0)\n",
            "Requirement already satisfied: google-auth-oauthlib==0.4.6 in /usr/local/lib/python3.9/dist-packages (from -r requirements.txt (line 106)) (0.4.6)\n",
            "Requirement already satisfied: google-cloud-bigquery==3.4.2 in /usr/local/lib/python3.9/dist-packages (from -r requirements.txt (line 107)) (3.4.2)\n",
            "Requirement already satisfied: google-cloud-bigquery-storage==2.19.0 in /usr/local/lib/python3.9/dist-packages (from -r requirements.txt (line 108)) (2.19.0)\n",
            "Requirement already satisfied: google-cloud-core==2.3.2 in /usr/local/lib/python3.9/dist-packages (from -r requirements.txt (line 109)) (2.3.2)\n",
            "Requirement already satisfied: google-cloud-datastore==2.11.1 in /usr/local/lib/python3.9/dist-packages (from -r requirements.txt (line 110)) (2.11.1)\n",
            "Requirement already satisfied: google-cloud-firestore==2.7.3 in /usr/local/lib/python3.9/dist-packages (from -r requirements.txt (line 111)) (2.7.3)\n",
            "Requirement already satisfied: google-cloud-language==2.6.1 in /usr/local/lib/python3.9/dist-packages (from -r requirements.txt (line 112)) (2.6.1)\n",
            "Requirement already satisfied: google-cloud-storage==2.7.0 in /usr/local/lib/python3.9/dist-packages (from -r requirements.txt (line 113)) (2.7.0)\n",
            "Requirement already satisfied: google-cloud-translate==3.8.4 in /usr/local/lib/python3.9/dist-packages (from -r requirements.txt (line 114)) (3.8.4)\n",
            "Requirement already satisfied: google-crc32c==1.5.0 in /usr/local/lib/python3.9/dist-packages (from -r requirements.txt (line 115)) (1.5.0)\n",
            "Requirement already satisfied: google-pasta==0.2.0 in /usr/local/lib/python3.9/dist-packages (from -r requirements.txt (line 116)) (0.2.0)\n",
            "Requirement already satisfied: google-resumable-media==2.4.1 in /usr/local/lib/python3.9/dist-packages (from -r requirements.txt (line 117)) (2.4.1)\n",
            "Requirement already satisfied: googleapis-common-protos==1.59.0 in /usr/local/lib/python3.9/dist-packages (from -r requirements.txt (line 118)) (1.59.0)\n",
            "Requirement already satisfied: googledrivedownloader==0.4 in /usr/local/lib/python3.9/dist-packages (from -r requirements.txt (line 119)) (0.4)\n",
            "Requirement already satisfied: graphviz==0.20.1 in /usr/local/lib/python3.9/dist-packages (from -r requirements.txt (line 120)) (0.20.1)\n",
            "Requirement already satisfied: greenlet==2.0.2 in /usr/local/lib/python3.9/dist-packages (from -r requirements.txt (line 121)) (2.0.2)\n",
            "Requirement already satisfied: grpcio==1.51.3 in /usr/local/lib/python3.9/dist-packages (from -r requirements.txt (line 122)) (1.51.3)\n",
            "Requirement already satisfied: grpcio-status==1.48.2 in /usr/local/lib/python3.9/dist-packages (from -r requirements.txt (line 123)) (1.48.2)\n",
            "Requirement already satisfied: gspread==3.4.2 in /usr/local/lib/python3.9/dist-packages (from -r requirements.txt (line 124)) (3.4.2)\n",
            "Requirement already satisfied: gspread-dataframe==3.0.8 in /usr/local/lib/python3.9/dist-packages (from -r requirements.txt (line 125)) (3.0.8)\n",
            "Requirement already satisfied: gym==0.25.2 in /usr/local/lib/python3.9/dist-packages (from -r requirements.txt (line 126)) (0.25.2)\n",
            "Requirement already satisfied: gym-notices==0.0.8 in /usr/local/lib/python3.9/dist-packages (from -r requirements.txt (line 127)) (0.0.8)\n",
            "Requirement already satisfied: h5netcdf==1.1.0 in /usr/local/lib/python3.9/dist-packages (from -r requirements.txt (line 128)) (1.1.0)\n",
            "Requirement already satisfied: h5py==3.8.0 in /usr/local/lib/python3.9/dist-packages (from -r requirements.txt (line 129)) (3.8.0)\n",
            "Requirement already satisfied: HeapDict==1.0.1 in /usr/local/lib/python3.9/dist-packages (from -r requirements.txt (line 130)) (1.0.1)\n",
            "Requirement already satisfied: hijri-converter==2.2.4 in /usr/local/lib/python3.9/dist-packages (from -r requirements.txt (line 131)) (2.2.4)\n",
            "Requirement already satisfied: holidays==0.21.13 in /usr/local/lib/python3.9/dist-packages (from -r requirements.txt (line 132)) (0.21.13)\n",
            "Collecting holoviews==1.14.9\n",
            "  Downloading holoviews-1.14.9-py2.py3-none-any.whl (4.3 MB)\n",
            "\u001b[2K     \u001b[90m━━━━━━━━━━━━━━━━━━━━━━━━━━━━━━━━━━━━━━━━\u001b[0m \u001b[32m4.3/4.3 MB\u001b[0m \u001b[31m75.8 MB/s\u001b[0m eta \u001b[36m0:00:00\u001b[0m\n",
            "\u001b[?25hRequirement already satisfied: html5lib==1.1 in /usr/local/lib/python3.9/dist-packages (from -r requirements.txt (line 134)) (1.1)\n",
            "Requirement already satisfied: htmlmin==0.1.12 in /usr/local/lib/python3.9/dist-packages (from -r requirements.txt (line 135)) (0.1.12)\n",
            "Requirement already satisfied: httpimport==1.3.0 in /usr/local/lib/python3.9/dist-packages (from -r requirements.txt (line 136)) (1.3.0)\n",
            "Requirement already satisfied: httplib2==0.21.0 in /usr/local/lib/python3.9/dist-packages (from -r requirements.txt (line 137)) (0.21.0)\n",
            "Requirement already satisfied: humanize==4.6.0 in /usr/local/lib/python3.9/dist-packages (from -r requirements.txt (line 138)) (4.6.0)\n",
            "Collecting hvplot==0.8.1\n",
            "  Downloading hvplot-0.8.1-py2.py3-none-any.whl (3.2 MB)\n",
            "\u001b[2K     \u001b[90m━━━━━━━━━━━━━━━━━━━━━━━━━━━━━━━━━━━━━━━━\u001b[0m \u001b[32m3.2/3.2 MB\u001b[0m \u001b[31m69.9 MB/s\u001b[0m eta \u001b[36m0:00:00\u001b[0m\n",
            "\u001b[?25hRequirement already satisfied: hyperopt==0.2.7 in /usr/local/lib/python3.9/dist-packages (from -r requirements.txt (line 140)) (0.2.7)\n",
            "Requirement already satisfied: idna==3.4 in /usr/local/lib/python3.9/dist-packages (from -r requirements.txt (line 141)) (3.4)\n",
            "Requirement already satisfied: ImageHash==4.3.1 in /usr/local/lib/python3.9/dist-packages (from -r requirements.txt (line 142)) (4.3.1)\n",
            "Requirement already satisfied: imageio==2.25.1 in /usr/local/lib/python3.9/dist-packages (from -r requirements.txt (line 143)) (2.25.1)\n",
            "Requirement already satisfied: imageio-ffmpeg==0.4.8 in /usr/local/lib/python3.9/dist-packages (from -r requirements.txt (line 144)) (0.4.8)\n",
            "Requirement already satisfied: imagesize==1.4.1 in /usr/local/lib/python3.9/dist-packages (from -r requirements.txt (line 145)) (1.4.1)\n",
            "Requirement already satisfied: imbalanced-learn==0.10.1 in /usr/local/lib/python3.9/dist-packages (from -r requirements.txt (line 146)) (0.10.1)\n",
            "Requirement already satisfied: imgaug==0.4.0 in /usr/local/lib/python3.9/dist-packages (from -r requirements.txt (line 147)) (0.4.0)\n",
            "Requirement already satisfied: importlib-metadata==6.1.0 in /usr/local/lib/python3.9/dist-packages (from -r requirements.txt (line 148)) (6.1.0)\n",
            "Requirement already satisfied: importlib-resources==5.12.0 in /usr/local/lib/python3.9/dist-packages (from -r requirements.txt (line 149)) (5.12.0)\n",
            "Requirement already satisfied: imutils==0.5.4 in /usr/local/lib/python3.9/dist-packages (from -r requirements.txt (line 150)) (0.5.4)\n",
            "Requirement already satisfied: inflect==6.0.2 in /usr/local/lib/python3.9/dist-packages (from -r requirements.txt (line 151)) (6.0.2)\n",
            "Requirement already satisfied: iniconfig==2.0.0 in /usr/local/lib/python3.9/dist-packages (from -r requirements.txt (line 152)) (2.0.0)\n",
            "Requirement already satisfied: intel-openmp==2023.0.0 in /usr/local/lib/python3.9/dist-packages (from -r requirements.txt (line 153)) (2023.0.0)\n",
            "Requirement already satisfied: ipykernel==5.3.4 in /usr/local/lib/python3.9/dist-packages (from -r requirements.txt (line 154)) (5.3.4)\n",
            "Requirement already satisfied: ipython==7.9.0 in /usr/local/lib/python3.9/dist-packages (from -r requirements.txt (line 155)) (7.9.0)\n",
            "Requirement already satisfied: ipython-genutils==0.2.0 in /usr/local/lib/python3.9/dist-packages (from -r requirements.txt (line 156)) (0.2.0)\n",
            "Requirement already satisfied: ipython-sql==0.4.1 in /usr/local/lib/python3.9/dist-packages (from -r requirements.txt (line 157)) (0.4.1)\n",
            "Requirement already satisfied: ipywidgets==7.7.1 in /usr/local/lib/python3.9/dist-packages (from -r requirements.txt (line 158)) (7.7.1)\n",
            "Requirement already satisfied: itsdangerous==2.1.2 in /usr/local/lib/python3.9/dist-packages (from -r requirements.txt (line 159)) (2.1.2)\n",
            "Requirement already satisfied: jax==0.4.6 in /usr/local/lib/python3.9/dist-packages (from -r requirements.txt (line 160)) (0.4.6)\n",
            "Requirement already satisfied: jieba==0.42.1 in /usr/local/lib/python3.9/dist-packages (from -r requirements.txt (line 162)) (0.42.1)\n",
            "Requirement already satisfied: Jinja2==3.1.2 in /usr/local/lib/python3.9/dist-packages (from -r requirements.txt (line 163)) (3.1.2)\n",
            "Collecting jmespath==1.0.1\n",
            "  Downloading jmespath-1.0.1-py3-none-any.whl (20 kB)\n",
            "Requirement already satisfied: joblib==1.1.1 in /usr/local/lib/python3.9/dist-packages (from -r requirements.txt (line 165)) (1.1.1)\n",
            "Requirement already satisfied: jsonschema==4.3.3 in /usr/local/lib/python3.9/dist-packages (from -r requirements.txt (line 166)) (4.3.3)\n",
            "Requirement already satisfied: jupyter-client==6.1.12 in /usr/local/lib/python3.9/dist-packages (from -r requirements.txt (line 167)) (6.1.12)\n",
            "Requirement already satisfied: jupyter-console==6.1.0 in /usr/local/lib/python3.9/dist-packages (from -r requirements.txt (line 168)) (6.1.0)\n",
            "Requirement already satisfied: jupyter_core==5.3.0 in /usr/local/lib/python3.9/dist-packages (from -r requirements.txt (line 169)) (5.3.0)\n",
            "Requirement already satisfied: jupyterlab-pygments==0.2.2 in /usr/local/lib/python3.9/dist-packages (from -r requirements.txt (line 170)) (0.2.2)\n",
            "Requirement already satisfied: jupyterlab-widgets==3.0.6 in /usr/local/lib/python3.9/dist-packages (from -r requirements.txt (line 171)) (3.0.6)\n",
            "Requirement already satisfied: kaggle==1.5.13 in /usr/local/lib/python3.9/dist-packages (from -r requirements.txt (line 172)) (1.5.13)\n",
            "Requirement already satisfied: keras==2.11.0 in /usr/local/lib/python3.9/dist-packages (from -r requirements.txt (line 173)) (2.11.0)\n",
            "Requirement already satisfied: keras-vis==0.4.1 in /usr/local/lib/python3.9/dist-packages (from -r requirements.txt (line 174)) (0.4.1)\n",
            "Requirement already satisfied: kiwisolver==1.4.4 in /usr/local/lib/python3.9/dist-packages (from -r requirements.txt (line 175)) (1.4.4)\n",
            "Requirement already satisfied: korean-lunar-calendar==0.3.1 in /usr/local/lib/python3.9/dist-packages (from -r requirements.txt (line 176)) (0.3.1)\n",
            "Requirement already satisfied: langcodes==3.3.0 in /usr/local/lib/python3.9/dist-packages (from -r requirements.txt (line 177)) (3.3.0)\n",
            "Requirement already satisfied: lazy_loader==0.2 in /usr/local/lib/python3.9/dist-packages (from -r requirements.txt (line 178)) (0.2)\n",
            "Requirement already satisfied: libclang==15.0.6.1 in /usr/local/lib/python3.9/dist-packages (from -r requirements.txt (line 179)) (15.0.6.1)\n",
            "Requirement already satisfied: librosa==0.10.0.post2 in /usr/local/lib/python3.9/dist-packages (from -r requirements.txt (line 180)) (0.10.0.post2)\n",
            "Requirement already satisfied: lightgbm==3.3.5 in /usr/local/lib/python3.9/dist-packages (from -r requirements.txt (line 181)) (3.3.5)\n",
            "Requirement already satisfied: llvmlite==0.39.1 in /usr/local/lib/python3.9/dist-packages (from -r requirements.txt (line 182)) (0.39.1)\n",
            "Requirement already satisfied: locket==1.0.0 in /usr/local/lib/python3.9/dist-packages (from -r requirements.txt (line 183)) (1.0.0)\n",
            "Requirement already satisfied: logical-unification==0.4.5 in /usr/local/lib/python3.9/dist-packages (from -r requirements.txt (line 184)) (0.4.5)\n",
            "Requirement already satisfied: LunarCalendar==0.0.9 in /usr/local/lib/python3.9/dist-packages (from -r requirements.txt (line 185)) (0.0.9)\n",
            "Requirement already satisfied: lxml==4.9.2 in /usr/local/lib/python3.9/dist-packages (from -r requirements.txt (line 186)) (4.9.2)\n",
            "Requirement already satisfied: Markdown==3.4.2 in /usr/local/lib/python3.9/dist-packages (from -r requirements.txt (line 187)) (3.4.2)\n",
            "Requirement already satisfied: markdown-it-py==2.2.0 in /usr/local/lib/python3.9/dist-packages (from -r requirements.txt (line 188)) (2.2.0)\n",
            "Requirement already satisfied: MarkupSafe==2.1.2 in /usr/local/lib/python3.9/dist-packages (from -r requirements.txt (line 189)) (2.1.2)\n",
            "Requirement already satisfied: matplotlib==3.7.1 in /usr/local/lib/python3.9/dist-packages (from -r requirements.txt (line 190)) (3.7.1)\n",
            "Requirement already satisfied: matplotlib-venn==0.11.9 in /usr/local/lib/python3.9/dist-packages (from -r requirements.txt (line 191)) (0.11.9)\n",
            "Requirement already satisfied: mdurl==0.1.2 in /usr/local/lib/python3.9/dist-packages (from -r requirements.txt (line 192)) (0.1.2)\n",
            "Requirement already satisfied: miniKanren==1.0.3 in /usr/local/lib/python3.9/dist-packages (from -r requirements.txt (line 193)) (1.0.3)\n",
            "Requirement already satisfied: missingno==0.5.2 in /usr/local/lib/python3.9/dist-packages (from -r requirements.txt (line 194)) (0.5.2)\n",
            "Requirement already satisfied: mistune==0.8.4 in /usr/local/lib/python3.9/dist-packages (from -r requirements.txt (line 195)) (0.8.4)\n",
            "Requirement already satisfied: mizani==0.8.1 in /usr/local/lib/python3.9/dist-packages (from -r requirements.txt (line 196)) (0.8.1)\n",
            "Requirement already satisfied: mkl==2019.0 in /usr/local/lib/python3.9/dist-packages (from -r requirements.txt (line 197)) (2019.0)\n",
            "Requirement already satisfied: mlxtend==0.14.0 in /usr/local/lib/python3.9/dist-packages (from -r requirements.txt (line 198)) (0.14.0)\n",
            "Requirement already satisfied: more-itertools==9.1.0 in /usr/local/lib/python3.9/dist-packages (from -r requirements.txt (line 199)) (9.1.0)\n",
            "Requirement already satisfied: moviepy==1.0.3 in /usr/local/lib/python3.9/dist-packages (from -r requirements.txt (line 200)) (1.0.3)\n",
            "Requirement already satisfied: mpmath==1.3.0 in /usr/local/lib/python3.9/dist-packages (from -r requirements.txt (line 201)) (1.3.0)\n",
            "Requirement already satisfied: msgpack==1.0.5 in /usr/local/lib/python3.9/dist-packages (from -r requirements.txt (line 202)) (1.0.5)\n",
            "Requirement already satisfied: multimethod==1.9.1 in /usr/local/lib/python3.9/dist-packages (from -r requirements.txt (line 203)) (1.9.1)\n",
            "Requirement already satisfied: multipledispatch==0.6.0 in /usr/local/lib/python3.9/dist-packages (from -r requirements.txt (line 204)) (0.6.0)\n",
            "Requirement already satisfied: multitasking==0.0.11 in /usr/local/lib/python3.9/dist-packages (from -r requirements.txt (line 205)) (0.0.11)\n",
            "Requirement already satisfied: murmurhash==1.0.9 in /usr/local/lib/python3.9/dist-packages (from -r requirements.txt (line 206)) (1.0.9)\n",
            "Requirement already satisfied: music21==5.5.0 in /usr/local/lib/python3.9/dist-packages (from -r requirements.txt (line 207)) (5.5.0)\n",
            "Requirement already satisfied: natsort==5.5.0 in /usr/local/lib/python3.9/dist-packages (from -r requirements.txt (line 208)) (5.5.0)\n",
            "Requirement already satisfied: nbclient==0.7.2 in /usr/local/lib/python3.9/dist-packages (from -r requirements.txt (line 209)) (0.7.2)\n",
            "Requirement already satisfied: nbconvert==6.5.4 in /usr/local/lib/python3.9/dist-packages (from -r requirements.txt (line 210)) (6.5.4)\n",
            "Requirement already satisfied: nbformat==5.8.0 in /usr/local/lib/python3.9/dist-packages (from -r requirements.txt (line 211)) (5.8.0)\n",
            "Requirement already satisfied: nest-asyncio==1.5.6 in /usr/local/lib/python3.9/dist-packages (from -r requirements.txt (line 212)) (1.5.6)\n",
            "Requirement already satisfied: networkx==3.0 in /usr/local/lib/python3.9/dist-packages (from -r requirements.txt (line 213)) (3.0)\n",
            "Requirement already satisfied: nibabel==3.0.2 in /usr/local/lib/python3.9/dist-packages (from -r requirements.txt (line 214)) (3.0.2)\n",
            "Requirement already satisfied: nltk==3.8.1 in /usr/local/lib/python3.9/dist-packages (from -r requirements.txt (line 215)) (3.8.1)\n",
            "Requirement already satisfied: notebook==6.3.0 in /usr/local/lib/python3.9/dist-packages (from -r requirements.txt (line 216)) (6.3.0)\n",
            "Requirement already satisfied: numba==0.56.4 in /usr/local/lib/python3.9/dist-packages (from -r requirements.txt (line 217)) (0.56.4)\n",
            "Requirement already satisfied: numexpr==2.8.4 in /usr/local/lib/python3.9/dist-packages (from -r requirements.txt (line 218)) (2.8.4)\n",
            "Requirement already satisfied: numpy==1.22.4 in /usr/local/lib/python3.9/dist-packages (from -r requirements.txt (line 219)) (1.22.4)\n",
            "Requirement already satisfied: oauth2client==4.1.3 in /usr/local/lib/python3.9/dist-packages (from -r requirements.txt (line 220)) (4.1.3)\n",
            "Requirement already satisfied: oauthlib==3.2.2 in /usr/local/lib/python3.9/dist-packages (from -r requirements.txt (line 221)) (3.2.2)\n",
            "Requirement already satisfied: opencv-contrib-python==4.7.0.72 in /usr/local/lib/python3.9/dist-packages (from -r requirements.txt (line 222)) (4.7.0.72)\n",
            "Requirement already satisfied: opencv-python==4.7.0.72 in /usr/local/lib/python3.9/dist-packages (from -r requirements.txt (line 223)) (4.7.0.72)\n",
            "Requirement already satisfied: opencv-python-headless==4.7.0.72 in /usr/local/lib/python3.9/dist-packages (from -r requirements.txt (line 224)) (4.7.0.72)\n",
            "Requirement already satisfied: openpyxl==3.0.10 in /usr/local/lib/python3.9/dist-packages (from -r requirements.txt (line 225)) (3.0.10)\n",
            "Requirement already satisfied: opt-einsum==3.3.0 in /usr/local/lib/python3.9/dist-packages (from -r requirements.txt (line 226)) (3.3.0)\n",
            "Requirement already satisfied: optax==0.1.4 in /usr/local/lib/python3.9/dist-packages (from -r requirements.txt (line 227)) (0.1.4)\n",
            "Requirement already satisfied: orbax==0.1.6 in /usr/local/lib/python3.9/dist-packages (from -r requirements.txt (line 228)) (0.1.6)\n",
            "Requirement already satisfied: osqp==0.6.2.post0 in /usr/local/lib/python3.9/dist-packages (from -r requirements.txt (line 229)) (0.6.2.post0)\n",
            "Requirement already satisfied: packaging==23.0 in /usr/local/lib/python3.9/dist-packages (from -r requirements.txt (line 230)) (23.0)\n",
            "Requirement already satisfied: palettable==3.3.0 in /usr/local/lib/python3.9/dist-packages (from -r requirements.txt (line 231)) (3.3.0)\n",
            "Requirement already satisfied: pandas==1.4.4 in /usr/local/lib/python3.9/dist-packages (from -r requirements.txt (line 232)) (1.4.4)\n",
            "Requirement already satisfied: pandas-datareader==0.10.0 in /usr/local/lib/python3.9/dist-packages (from -r requirements.txt (line 233)) (0.10.0)\n",
            "Requirement already satisfied: pandas-gbq==0.17.9 in /usr/local/lib/python3.9/dist-packages (from -r requirements.txt (line 234)) (0.17.9)\n",
            "Requirement already satisfied: pandas-profiling==3.2.0 in /usr/local/lib/python3.9/dist-packages (from -r requirements.txt (line 235)) (3.2.0)\n",
            "Requirement already satisfied: pandocfilters==1.5.0 in /usr/local/lib/python3.9/dist-packages (from -r requirements.txt (line 236)) (1.5.0)\n",
            "Collecting panel==0.8.1\n",
            "  Downloading panel-0.8.1-py2.py3-none-any.whl (1.3 MB)\n",
            "\u001b[2K     \u001b[90m━━━━━━━━━━━━━━━━━━━━━━━━━━━━━━━━━━━━━━━━\u001b[0m \u001b[32m1.3/1.3 MB\u001b[0m \u001b[31m62.4 MB/s\u001b[0m eta \u001b[36m0:00:00\u001b[0m\n",
            "\u001b[?25hRequirement already satisfied: param==1.13.0 in /usr/local/lib/python3.9/dist-packages (from -r requirements.txt (line 238)) (1.13.0)\n",
            "Requirement already satisfied: parso==0.8.3 in /usr/local/lib/python3.9/dist-packages (from -r requirements.txt (line 239)) (0.8.3)\n",
            "Requirement already satisfied: partd==1.3.0 in /usr/local/lib/python3.9/dist-packages (from -r requirements.txt (line 240)) (1.3.0)\n",
            "Requirement already satisfied: pathlib==1.0.1 in /usr/local/lib/python3.9/dist-packages (from -r requirements.txt (line 241)) (1.0.1)\n",
            "Requirement already satisfied: pathy==0.10.1 in /usr/local/lib/python3.9/dist-packages (from -r requirements.txt (line 242)) (0.10.1)\n",
            "Requirement already satisfied: patsy==0.5.3 in /usr/local/lib/python3.9/dist-packages (from -r requirements.txt (line 243)) (0.5.3)\n",
            "Requirement already satisfied: pep517==0.13.0 in /usr/local/lib/python3.9/dist-packages (from -r requirements.txt (line 244)) (0.13.0)\n",
            "Requirement already satisfied: pexpect==4.8.0 in /usr/local/lib/python3.9/dist-packages (from -r requirements.txt (line 245)) (4.8.0)\n",
            "Requirement already satisfied: phik==0.12.3 in /usr/local/lib/python3.9/dist-packages (from -r requirements.txt (line 246)) (0.12.3)\n",
            "Requirement already satisfied: pickleshare==0.7.5 in /usr/local/lib/python3.9/dist-packages (from -r requirements.txt (line 247)) (0.7.5)\n",
            "Requirement already satisfied: Pillow==8.4.0 in /usr/local/lib/python3.9/dist-packages (from -r requirements.txt (line 248)) (8.4.0)\n",
            "Requirement already satisfied: pip-tools==6.6.2 in /usr/local/lib/python3.9/dist-packages (from -r requirements.txt (line 249)) (6.6.2)\n",
            "Requirement already satisfied: platformdirs==3.1.1 in /usr/local/lib/python3.9/dist-packages (from -r requirements.txt (line 250)) (3.1.1)\n",
            "Requirement already satisfied: plotly==5.13.1 in /usr/local/lib/python3.9/dist-packages (from -r requirements.txt (line 251)) (5.13.1)\n",
            "Requirement already satisfied: plotnine==0.10.1 in /usr/local/lib/python3.9/dist-packages (from -r requirements.txt (line 252)) (0.10.1)\n",
            "Requirement already satisfied: pluggy==1.0.0 in /usr/local/lib/python3.9/dist-packages (from -r requirements.txt (line 253)) (1.0.0)\n",
            "Requirement already satisfied: pooch==1.6.0 in /usr/local/lib/python3.9/dist-packages (from -r requirements.txt (line 254)) (1.6.0)\n",
            "Requirement already satisfied: portpicker==1.3.9 in /usr/local/lib/python3.9/dist-packages (from -r requirements.txt (line 255)) (1.3.9)\n",
            "Requirement already satisfied: prefetch-generator==1.0.3 in /usr/local/lib/python3.9/dist-packages (from -r requirements.txt (line 256)) (1.0.3)\n",
            "Requirement already satisfied: preshed==3.0.8 in /usr/local/lib/python3.9/dist-packages (from -r requirements.txt (line 257)) (3.0.8)\n",
            "Requirement already satisfied: prettytable==0.7.2 in /usr/local/lib/python3.9/dist-packages (from -r requirements.txt (line 258)) (0.7.2)\n",
            "Requirement already satisfied: proglog==0.1.10 in /usr/local/lib/python3.9/dist-packages (from -r requirements.txt (line 259)) (0.1.10)\n",
            "Requirement already satisfied: progressbar2==3.38.0 in /usr/local/lib/python3.9/dist-packages (from -r requirements.txt (line 260)) (3.38.0)\n",
            "Requirement already satisfied: prometheus-client==0.16.0 in /usr/local/lib/python3.9/dist-packages (from -r requirements.txt (line 261)) (0.16.0)\n",
            "Requirement already satisfied: promise==2.3 in /usr/local/lib/python3.9/dist-packages (from -r requirements.txt (line 262)) (2.3)\n",
            "Requirement already satisfied: prompt-toolkit==2.0.10 in /usr/local/lib/python3.9/dist-packages (from -r requirements.txt (line 263)) (2.0.10)\n",
            "Requirement already satisfied: prophet==1.1.2 in /usr/local/lib/python3.9/dist-packages (from -r requirements.txt (line 264)) (1.1.2)\n",
            "Requirement already satisfied: proto-plus==1.22.2 in /usr/local/lib/python3.9/dist-packages (from -r requirements.txt (line 265)) (1.22.2)\n",
            "Requirement already satisfied: protobuf==3.19.6 in /usr/local/lib/python3.9/dist-packages (from -r requirements.txt (line 266)) (3.19.6)\n",
            "Requirement already satisfied: psutil==5.9.4 in /usr/local/lib/python3.9/dist-packages (from -r requirements.txt (line 267)) (5.9.4)\n",
            "Requirement already satisfied: psycopg2==2.9.5 in /usr/local/lib/python3.9/dist-packages (from -r requirements.txt (line 268)) (2.9.5)\n",
            "Requirement already satisfied: ptyprocess==0.7.0 in /usr/local/lib/python3.9/dist-packages (from -r requirements.txt (line 269)) (0.7.0)\n",
            "Requirement already satisfied: py4j==0.10.9.7 in /usr/local/lib/python3.9/dist-packages (from -r requirements.txt (line 270)) (0.10.9.7)\n",
            "Requirement already satisfied: pyarrow==9.0.0 in /usr/local/lib/python3.9/dist-packages (from -r requirements.txt (line 271)) (9.0.0)\n",
            "Requirement already satisfied: pyasn1==0.4.8 in /usr/local/lib/python3.9/dist-packages (from -r requirements.txt (line 272)) (0.4.8)\n",
            "Requirement already satisfied: pyasn1-modules==0.2.8 in /usr/local/lib/python3.9/dist-packages (from -r requirements.txt (line 273)) (0.2.8)\n",
            "Requirement already satisfied: pycocotools==2.0.6 in /usr/local/lib/python3.9/dist-packages (from -r requirements.txt (line 274)) (2.0.6)\n",
            "Requirement already satisfied: pycparser==2.21 in /usr/local/lib/python3.9/dist-packages (from -r requirements.txt (line 275)) (2.21)\n",
            "Requirement already satisfied: pyct==0.5.0 in /usr/local/lib/python3.9/dist-packages (from -r requirements.txt (line 276)) (0.5.0)\n",
            "Requirement already satisfied: pydantic==1.10.7 in /usr/local/lib/python3.9/dist-packages (from -r requirements.txt (line 277)) (1.10.7)\n",
            "Requirement already satisfied: pydata-google-auth==1.7.0 in /usr/local/lib/python3.9/dist-packages (from -r requirements.txt (line 278)) (1.7.0)\n",
            "Requirement already satisfied: pydot==1.4.2 in /usr/local/lib/python3.9/dist-packages (from -r requirements.txt (line 279)) (1.4.2)\n",
            "Requirement already satisfied: pydot-ng==2.0.0 in /usr/local/lib/python3.9/dist-packages (from -r requirements.txt (line 280)) (2.0.0)\n",
            "Requirement already satisfied: pydotplus==2.0.2 in /usr/local/lib/python3.9/dist-packages (from -r requirements.txt (line 281)) (2.0.2)\n",
            "Requirement already satisfied: PyDrive==1.3.1 in /usr/local/lib/python3.9/dist-packages (from -r requirements.txt (line 282)) (1.3.1)\n",
            "Requirement already satisfied: pyerfa==2.0.0.2 in /usr/local/lib/python3.9/dist-packages (from -r requirements.txt (line 283)) (2.0.0.2)\n",
            "Requirement already satisfied: pygame==2.3.0 in /usr/local/lib/python3.9/dist-packages (from -r requirements.txt (line 284)) (2.3.0)\n",
            "Requirement already satisfied: Pygments==2.14.0 in /usr/local/lib/python3.9/dist-packages (from -r requirements.txt (line 285)) (2.14.0)\n",
            "Requirement already satisfied: PyGObject==3.36.0 in /usr/lib/python3/dist-packages (from -r requirements.txt (line 286)) (3.36.0)\n",
            "Requirement already satisfied: pymc==5.1.2 in /usr/local/lib/python3.9/dist-packages (from -r requirements.txt (line 287)) (5.1.2)\n",
            "Requirement already satisfied: PyMeeus==0.5.12 in /usr/local/lib/python3.9/dist-packages (from -r requirements.txt (line 288)) (0.5.12)\n",
            "Requirement already satisfied: pymystem3==0.2.0 in /usr/local/lib/python3.9/dist-packages (from -r requirements.txt (line 289)) (0.2.0)\n",
            "Requirement already satisfied: PyOpenGL==3.1.6 in /usr/local/lib/python3.9/dist-packages (from -r requirements.txt (line 290)) (3.1.6)\n",
            "Requirement already satisfied: pyparsing==3.0.9 in /usr/local/lib/python3.9/dist-packages (from -r requirements.txt (line 291)) (3.0.9)\n",
            "Requirement already satisfied: pyrsistent==0.19.3 in /usr/local/lib/python3.9/dist-packages (from -r requirements.txt (line 292)) (0.19.3)\n",
            "Requirement already satisfied: PySocks==1.7.1 in /usr/local/lib/python3.9/dist-packages (from -r requirements.txt (line 293)) (1.7.1)\n",
            "Requirement already satisfied: pytensor==2.10.1 in /usr/local/lib/python3.9/dist-packages (from -r requirements.txt (line 294)) (2.10.1)\n",
            "Requirement already satisfied: pytest==7.2.2 in /usr/local/lib/python3.9/dist-packages (from -r requirements.txt (line 295)) (7.2.2)\n",
            "Requirement already satisfied: python-apt==0.0.0 in /usr/local/lib/python3.9/dist-packages (from -r requirements.txt (line 296)) (0.0.0)\n",
            "Requirement already satisfied: python-dateutil==2.8.2 in /usr/local/lib/python3.9/dist-packages (from -r requirements.txt (line 297)) (2.8.2)\n",
            "Requirement already satisfied: python-louvain==0.16 in /usr/local/lib/python3.9/dist-packages (from -r requirements.txt (line 298)) (0.16)\n",
            "Requirement already satisfied: python-slugify==8.0.1 in /usr/local/lib/python3.9/dist-packages (from -r requirements.txt (line 299)) (8.0.1)\n",
            "Requirement already satisfied: python-utils==3.5.2 in /usr/local/lib/python3.9/dist-packages (from -r requirements.txt (line 300)) (3.5.2)\n",
            "Requirement already satisfied: pytz==2022.7.1 in /usr/local/lib/python3.9/dist-packages (from -r requirements.txt (line 301)) (2022.7.1)\n",
            "Requirement already satisfied: pytz-deprecation-shim==0.1.0.post0 in /usr/local/lib/python3.9/dist-packages (from -r requirements.txt (line 302)) (0.1.0.post0)\n",
            "Requirement already satisfied: pyviz-comms==2.2.1 in /usr/local/lib/python3.9/dist-packages (from -r requirements.txt (line 303)) (2.2.1)\n",
            "Requirement already satisfied: PyWavelets==1.4.1 in /usr/local/lib/python3.9/dist-packages (from -r requirements.txt (line 304)) (1.4.1)\n",
            "Requirement already satisfied: PyYAML==6.0 in /usr/local/lib/python3.9/dist-packages (from -r requirements.txt (line 305)) (6.0)\n",
            "Requirement already satisfied: pyzmq==23.2.1 in /usr/local/lib/python3.9/dist-packages (from -r requirements.txt (line 306)) (23.2.1)\n",
            "Requirement already satisfied: qdldl==0.1.5.post3 in /usr/local/lib/python3.9/dist-packages (from -r requirements.txt (line 307)) (0.1.5.post3)\n",
            "Requirement already satisfied: qudida==0.0.4 in /usr/local/lib/python3.9/dist-packages (from -r requirements.txt (line 308)) (0.0.4)\n",
            "Requirement already satisfied: regex==2022.10.31 in /usr/local/lib/python3.9/dist-packages (from -r requirements.txt (line 309)) (2022.10.31)\n",
            "Requirement already satisfied: requests==2.27.1 in /usr/local/lib/python3.9/dist-packages (from -r requirements.txt (line 310)) (2.27.1)\n",
            "Requirement already satisfied: requests-oauthlib==1.3.1 in /usr/local/lib/python3.9/dist-packages (from -r requirements.txt (line 311)) (1.3.1)\n",
            "Requirement already satisfied: requests-unixsocket==0.2.0 in /usr/lib/python3/dist-packages (from -r requirements.txt (line 312)) (0.2.0)\n",
            "Requirement already satisfied: rich==13.3.2 in /usr/local/lib/python3.9/dist-packages (from -r requirements.txt (line 313)) (13.3.2)\n",
            "Requirement already satisfied: rpy2==3.5.5 in /usr/local/lib/python3.9/dist-packages (from -r requirements.txt (line 314)) (3.5.5)\n",
            "Requirement already satisfied: rsa==4.9 in /usr/local/lib/python3.9/dist-packages (from -r requirements.txt (line 315)) (4.9)\n",
            "Collecting s3transfer==0.6.0\n",
            "  Downloading s3transfer-0.6.0-py3-none-any.whl (79 kB)\n",
            "\u001b[2K     \u001b[90m━━━━━━━━━━━━━━━━━━━━━━━━━━━━━━━━━━━━━━━━\u001b[0m \u001b[32m79.6/79.6 KB\u001b[0m \u001b[31m9.4 MB/s\u001b[0m eta \u001b[36m0:00:00\u001b[0m\n",
            "\u001b[?25hRequirement already satisfied: scikit-image==0.19.3 in /usr/local/lib/python3.9/dist-packages (from -r requirements.txt (line 317)) (0.19.3)\n",
            "Requirement already satisfied: scikit-learn==1.2.2 in /usr/local/lib/python3.9/dist-packages (from -r requirements.txt (line 318)) (1.2.2)\n",
            "Requirement already satisfied: scipy==1.10.1 in /usr/local/lib/python3.9/dist-packages (from -r requirements.txt (line 319)) (1.10.1)\n",
            "Requirement already satisfied: screen-resolution-extra==0.0.0 in /usr/lib/python3/dist-packages (from -r requirements.txt (line 320)) (0.0.0)\n",
            "Requirement already satisfied: scs==3.2.2 in /usr/local/lib/python3.9/dist-packages (from -r requirements.txt (line 321)) (3.2.2)\n",
            "Requirement already satisfied: seaborn==0.12.2 in /usr/local/lib/python3.9/dist-packages (from -r requirements.txt (line 322)) (0.12.2)\n",
            "Requirement already satisfied: Send2Trash==1.8.0 in /usr/local/lib/python3.9/dist-packages (from -r requirements.txt (line 323)) (1.8.0)\n",
            "Requirement already satisfied: shapely==2.0.1 in /usr/local/lib/python3.9/dist-packages (from -r requirements.txt (line 324)) (2.0.1)\n",
            "Requirement already satisfied: six==1.16.0 in /usr/local/lib/python3.9/dist-packages (from -r requirements.txt (line 325)) (1.16.0)\n",
            "Requirement already satisfied: sklearn-pandas==2.2.0 in /usr/local/lib/python3.9/dist-packages (from -r requirements.txt (line 326)) (2.2.0)\n",
            "Requirement already satisfied: smart-open==6.3.0 in /usr/local/lib/python3.9/dist-packages (from -r requirements.txt (line 327)) (6.3.0)\n",
            "Requirement already satisfied: snowballstemmer==2.2.0 in /usr/local/lib/python3.9/dist-packages (from -r requirements.txt (line 328)) (2.2.0)\n",
            "Requirement already satisfied: sortedcontainers==2.4.0 in /usr/local/lib/python3.9/dist-packages (from -r requirements.txt (line 329)) (2.4.0)\n",
            "Requirement already satisfied: soundfile==0.12.1 in /usr/local/lib/python3.9/dist-packages (from -r requirements.txt (line 330)) (0.12.1)\n",
            "Requirement already satisfied: soupsieve==2.4 in /usr/local/lib/python3.9/dist-packages (from -r requirements.txt (line 331)) (2.4)\n",
            "Requirement already satisfied: soxr==0.3.4 in /usr/local/lib/python3.9/dist-packages (from -r requirements.txt (line 332)) (0.3.4)\n",
            "Requirement already satisfied: spacy==3.5.1 in /usr/local/lib/python3.9/dist-packages (from -r requirements.txt (line 333)) (3.5.1)\n",
            "Requirement already satisfied: spacy-legacy==3.0.12 in /usr/local/lib/python3.9/dist-packages (from -r requirements.txt (line 334)) (3.0.12)\n",
            "Requirement already satisfied: spacy-loggers==1.0.4 in /usr/local/lib/python3.9/dist-packages (from -r requirements.txt (line 335)) (1.0.4)\n",
            "Requirement already satisfied: Sphinx==3.5.4 in /usr/local/lib/python3.9/dist-packages (from -r requirements.txt (line 336)) (3.5.4)\n",
            "Requirement already satisfied: sphinxcontrib-applehelp==1.0.4 in /usr/local/lib/python3.9/dist-packages (from -r requirements.txt (line 337)) (1.0.4)\n",
            "Requirement already satisfied: sphinxcontrib-devhelp==1.0.2 in /usr/local/lib/python3.9/dist-packages (from -r requirements.txt (line 338)) (1.0.2)\n",
            "Requirement already satisfied: sphinxcontrib-htmlhelp==2.0.1 in /usr/local/lib/python3.9/dist-packages (from -r requirements.txt (line 339)) (2.0.1)\n",
            "Requirement already satisfied: sphinxcontrib-jsmath==1.0.1 in /usr/local/lib/python3.9/dist-packages (from -r requirements.txt (line 340)) (1.0.1)\n",
            "Requirement already satisfied: sphinxcontrib-qthelp==1.0.3 in /usr/local/lib/python3.9/dist-packages (from -r requirements.txt (line 341)) (1.0.3)\n",
            "Requirement already satisfied: sphinxcontrib-serializinghtml==1.1.5 in /usr/local/lib/python3.9/dist-packages (from -r requirements.txt (line 342)) (1.1.5)\n",
            "Requirement already satisfied: SQLAlchemy==1.4.47 in /usr/local/lib/python3.9/dist-packages (from -r requirements.txt (line 343)) (1.4.47)\n",
            "Requirement already satisfied: sqlparse==0.4.3 in /usr/local/lib/python3.9/dist-packages (from -r requirements.txt (line 344)) (0.4.3)\n",
            "Requirement already satisfied: srsly==2.4.6 in /usr/local/lib/python3.9/dist-packages (from -r requirements.txt (line 345)) (2.4.6)\n",
            "Requirement already satisfied: statsmodels==0.13.5 in /usr/local/lib/python3.9/dist-packages (from -r requirements.txt (line 346)) (0.13.5)\n",
            "Requirement already satisfied: sympy==1.11.1 in /usr/local/lib/python3.9/dist-packages (from -r requirements.txt (line 347)) (1.11.1)\n",
            "Requirement already satisfied: tables==3.7.0 in /usr/local/lib/python3.9/dist-packages (from -r requirements.txt (line 348)) (3.7.0)\n",
            "Requirement already satisfied: tabulate==0.8.10 in /usr/local/lib/python3.9/dist-packages (from -r requirements.txt (line 349)) (0.8.10)\n",
            "Requirement already satisfied: tangled-up-in-unicode==0.2.0 in /usr/local/lib/python3.9/dist-packages (from -r requirements.txt (line 350)) (0.2.0)\n",
            "Requirement already satisfied: tblib==1.7.0 in /usr/local/lib/python3.9/dist-packages (from -r requirements.txt (line 351)) (1.7.0)\n",
            "Requirement already satisfied: tenacity==8.2.2 in /usr/local/lib/python3.9/dist-packages (from -r requirements.txt (line 352)) (8.2.2)\n",
            "Requirement already satisfied: tensorboard==2.11.2 in /usr/local/lib/python3.9/dist-packages (from -r requirements.txt (line 353)) (2.11.2)\n",
            "Requirement already satisfied: tensorboard-data-server==0.6.1 in /usr/local/lib/python3.9/dist-packages (from -r requirements.txt (line 354)) (0.6.1)\n",
            "Requirement already satisfied: tensorboard-plugin-wit==1.8.1 in /usr/local/lib/python3.9/dist-packages (from -r requirements.txt (line 355)) (1.8.1)\n",
            "Requirement already satisfied: tensorflow==2.11.0 in /usr/local/lib/python3.9/dist-packages (from -r requirements.txt (line 356)) (2.11.0)\n",
            "Requirement already satisfied: tensorflow-datasets==4.8.3 in /usr/local/lib/python3.9/dist-packages (from -r requirements.txt (line 357)) (4.8.3)\n",
            "Requirement already satisfied: tensorflow-estimator==2.11.0 in /usr/local/lib/python3.9/dist-packages (from -r requirements.txt (line 358)) (2.11.0)\n",
            "Requirement already satisfied: tensorflow-gcs-config==2.11.0 in /usr/local/lib/python3.9/dist-packages (from -r requirements.txt (line 359)) (2.11.0)\n",
            "Requirement already satisfied: tensorflow-hub==0.13.0 in /usr/local/lib/python3.9/dist-packages (from -r requirements.txt (line 360)) (0.13.0)\n",
            "Requirement already satisfied: tensorflow-io-gcs-filesystem==0.31.0 in /usr/local/lib/python3.9/dist-packages (from -r requirements.txt (line 361)) (0.31.0)\n",
            "Requirement already satisfied: tensorflow-metadata==1.12.0 in /usr/local/lib/python3.9/dist-packages (from -r requirements.txt (line 362)) (1.12.0)\n",
            "Requirement already satisfied: tensorflow-probability==0.19.0 in /usr/local/lib/python3.9/dist-packages (from -r requirements.txt (line 363)) (0.19.0)\n",
            "Requirement already satisfied: tensorstore==0.1.33 in /usr/local/lib/python3.9/dist-packages (from -r requirements.txt (line 364)) (0.1.33)\n",
            "Requirement already satisfied: termcolor==2.2.0 in /usr/local/lib/python3.9/dist-packages (from -r requirements.txt (line 365)) (2.2.0)\n",
            "Requirement already satisfied: terminado==0.17.1 in /usr/local/lib/python3.9/dist-packages (from -r requirements.txt (line 366)) (0.17.1)\n",
            "Requirement already satisfied: text-unidecode==1.3 in /usr/local/lib/python3.9/dist-packages (from -r requirements.txt (line 367)) (1.3)\n",
            "Requirement already satisfied: textblob==0.17.1 in /usr/local/lib/python3.9/dist-packages (from -r requirements.txt (line 368)) (0.17.1)\n",
            "Requirement already satisfied: tf-slim==1.1.0 in /usr/local/lib/python3.9/dist-packages (from -r requirements.txt (line 369)) (1.1.0)\n",
            "Requirement already satisfied: thinc==8.1.9 in /usr/local/lib/python3.9/dist-packages (from -r requirements.txt (line 370)) (8.1.9)\n",
            "Requirement already satisfied: threadpoolctl==3.1.0 in /usr/local/lib/python3.9/dist-packages (from -r requirements.txt (line 371)) (3.1.0)\n",
            "Requirement already satisfied: tifffile==2023.3.21 in /usr/local/lib/python3.9/dist-packages (from -r requirements.txt (line 372)) (2023.3.21)\n",
            "Requirement already satisfied: tinycss2==1.2.1 in /usr/local/lib/python3.9/dist-packages (from -r requirements.txt (line 373)) (1.2.1)\n",
            "Requirement already satisfied: toml==0.10.2 in /usr/local/lib/python3.9/dist-packages (from -r requirements.txt (line 374)) (0.10.2)\n",
            "Requirement already satisfied: tomli==2.0.1 in /usr/local/lib/python3.9/dist-packages (from -r requirements.txt (line 375)) (2.0.1)\n",
            "Requirement already satisfied: toolz==0.12.0 in /usr/local/lib/python3.9/dist-packages (from -r requirements.txt (line 376)) (0.12.0)\n",
            "Requirement already satisfied: torchsummary==1.5.1 in /usr/local/lib/python3.9/dist-packages (from -r requirements.txt (line 379)) (1.5.1)\n",
            "Requirement already satisfied: torchtext==0.14.1 in /usr/local/lib/python3.9/dist-packages (from -r requirements.txt (line 380)) (0.14.1)\n",
            "Requirement already satisfied: tornado==6.2 in /usr/local/lib/python3.9/dist-packages (from -r requirements.txt (line 382)) (6.2)\n",
            "Requirement already satisfied: tqdm==4.65.0 in /usr/local/lib/python3.9/dist-packages (from -r requirements.txt (line 383)) (4.65.0)\n",
            "Requirement already satisfied: traitlets==5.7.1 in /usr/local/lib/python3.9/dist-packages (from -r requirements.txt (line 384)) (5.7.1)\n",
            "Requirement already satisfied: tweepy==4.13.0 in /usr/local/lib/python3.9/dist-packages (from -r requirements.txt (line 385)) (4.13.0)\n",
            "Requirement already satisfied: typer==0.7.0 in /usr/local/lib/python3.9/dist-packages (from -r requirements.txt (line 386)) (0.7.0)\n",
            "Requirement already satisfied: typing_extensions==4.5.0 in /usr/local/lib/python3.9/dist-packages (from -r requirements.txt (line 387)) (4.5.0)\n",
            "Requirement already satisfied: tzdata==2022.7 in /usr/local/lib/python3.9/dist-packages (from -r requirements.txt (line 388)) (2022.7)\n",
            "Requirement already satisfied: tzlocal==4.3 in /usr/local/lib/python3.9/dist-packages (from -r requirements.txt (line 389)) (4.3)\n",
            "Requirement already satisfied: uritemplate==4.1.1 in /usr/local/lib/python3.9/dist-packages (from -r requirements.txt (line 390)) (4.1.1)\n",
            "Requirement already satisfied: urllib3==1.26.15 in /usr/local/lib/python3.9/dist-packages (from -r requirements.txt (line 391)) (1.26.15)\n",
            "Requirement already satisfied: vega-datasets==0.9.0 in /usr/local/lib/python3.9/dist-packages (from -r requirements.txt (line 392)) (0.9.0)\n",
            "Requirement already satisfied: visions==0.7.4 in /usr/local/lib/python3.9/dist-packages (from -r requirements.txt (line 393)) (0.7.4)\n",
            "Requirement already satisfied: wasabi==1.1.1 in /usr/local/lib/python3.9/dist-packages (from -r requirements.txt (line 394)) (1.1.1)\n",
            "Requirement already satisfied: wcwidth==0.2.6 in /usr/local/lib/python3.9/dist-packages (from -r requirements.txt (line 395)) (0.2.6)\n",
            "Requirement already satisfied: webencodings==0.5.1 in /usr/local/lib/python3.9/dist-packages (from -r requirements.txt (line 396)) (0.5.1)\n",
            "Requirement already satisfied: Werkzeug==2.2.3 in /usr/local/lib/python3.9/dist-packages (from -r requirements.txt (line 397)) (2.2.3)\n",
            "Requirement already satisfied: widgetsnbextension==3.6.3 in /usr/local/lib/python3.9/dist-packages (from -r requirements.txt (line 398)) (3.6.3)\n",
            "Requirement already satisfied: wordcloud==1.8.2.2 in /usr/local/lib/python3.9/dist-packages (from -r requirements.txt (line 399)) (1.8.2.2)\n",
            "Requirement already satisfied: wrapt==1.15.0 in /usr/local/lib/python3.9/dist-packages (from -r requirements.txt (line 400)) (1.15.0)\n",
            "Requirement already satisfied: xarray==2022.12.0 in /usr/local/lib/python3.9/dist-packages (from -r requirements.txt (line 401)) (2022.12.0)\n",
            "Requirement already satisfied: xarray-einstats==0.5.1 in /usr/local/lib/python3.9/dist-packages (from -r requirements.txt (line 402)) (0.5.1)\n",
            "Requirement already satisfied: xgboost==1.7.4 in /usr/local/lib/python3.9/dist-packages (from -r requirements.txt (line 403)) (1.7.4)\n",
            "Requirement already satisfied: xkit==0.0.0 in /usr/lib/python3/dist-packages (from -r requirements.txt (line 404)) (0.0.0)\n",
            "Requirement already satisfied: xlrd==2.0.1 in /usr/local/lib/python3.9/dist-packages (from -r requirements.txt (line 405)) (2.0.1)\n",
            "Requirement already satisfied: yellowbrick==1.5 in /usr/local/lib/python3.9/dist-packages (from -r requirements.txt (line 406)) (1.5)\n",
            "Requirement already satisfied: yfinance==0.2.13 in /usr/local/lib/python3.9/dist-packages (from -r requirements.txt (line 407)) (0.2.13)\n",
            "Requirement already satisfied: zict==2.2.0 in /usr/local/lib/python3.9/dist-packages (from -r requirements.txt (line 408)) (2.2.0)\n",
            "Requirement already satisfied: zipp==3.15.0 in /usr/local/lib/python3.9/dist-packages (from -r requirements.txt (line 409)) (3.15.0)\n",
            "Requirement already satisfied: setuptools>=60.0.0 in /usr/local/lib/python3.9/dist-packages (from arviz==0.15.1->-r requirements.txt (line 8)) (67.6.0)\n",
            "Requirement already satisfied: wheel<1.0,>=0.23.0 in /usr/local/lib/python3.9/dist-packages (from astunparse==1.6.3->-r requirements.txt (line 10)) (0.40.0)\n",
            "Requirement already satisfied: pip in /usr/local/lib/python3.9/dist-packages (from fastai==2.7.11->-r requirements.txt (line 77)) (22.0.4)\n",
            "Collecting jedi>=0.10\n",
            "  Downloading jedi-0.18.2-py2.py3-none-any.whl (1.6 MB)\n",
            "\u001b[2K     \u001b[90m━━━━━━━━━━━━━━━━━━━━━━━━━━━━━━━━━━━━━━━━\u001b[0m \u001b[32m1.6/1.6 MB\u001b[0m \u001b[31m59.6 MB/s\u001b[0m eta \u001b[36m0:00:00\u001b[0m\n",
            "\u001b[?25hCollecting pycairo>=1.11.1\n",
            "  Downloading pycairo-1.23.0.tar.gz (344 kB)\n",
            "\u001b[2K     \u001b[90m━━━━━━━━━━━━━━━━━━━━━━━━━━━━━━━━━━━━━━\u001b[0m \u001b[32m344.6/344.6 KB\u001b[0m \u001b[31m37.1 MB/s\u001b[0m eta \u001b[36m0:00:00\u001b[0m\n",
            "\u001b[?25h  Installing build dependencies ... \u001b[?25l\u001b[?25hdone\n",
            "  Getting requirements to build wheel ... \u001b[?25l\u001b[?25hdone\n",
            "  Installing backend dependencies ... \u001b[?25l\u001b[?25hdone\n",
            "  Preparing metadata (pyproject.toml) ... \u001b[?25l\u001b[?25hdone\n",
            "Building wheels for collected packages: bokeh, gensim, pycairo\n",
            "  Building wheel for bokeh (setup.py) ... \u001b[?25l\u001b[?25hdone\n",
            "  Created wheel for bokeh: filename=bokeh-1.4.0-py3-none-any.whl size=23689210 sha256=b5b3edd1c553969aa4ecb6b017fc3f812216285079a05fd05d7c60eb2e40dadd\n",
            "  Stored in directory: /root/.cache/pip/wheels/83/d2/f3/597b854b514bac53844b5cfb86c0909076870a33ee04182318\n",
            "  Building wheel for gensim (setup.py) ... \u001b[?25l\u001b[?25hdone\n",
            "  Created wheel for gensim: filename=gensim-3.4.0-cp39-cp39-linux_x86_64.whl size=23074103 sha256=e8e40c1021d06dae3e2e8d33887e0e6bcc524244c35a8255e6cd78027d117a76\n",
            "  Stored in directory: /root/.cache/pip/wheels/67/c8/36/27bb84452fdf260de76cf8929ee7b2ae83b698c00a8da3ece1\n",
            "  \u001b[1;31merror\u001b[0m: \u001b[1msubprocess-exited-with-error\u001b[0m\n",
            "  \n",
            "  \u001b[31m×\u001b[0m \u001b[32mBuilding wheel for pycairo \u001b[0m\u001b[1;32m(\u001b[0m\u001b[32mpyproject.toml\u001b[0m\u001b[1;32m)\u001b[0m did not run successfully.\n",
            "  \u001b[31m│\u001b[0m exit code: \u001b[1;36m1\u001b[0m\n",
            "  \u001b[31m╰─>\u001b[0m See above for output.\n",
            "  \n",
            "  \u001b[1;35mnote\u001b[0m: This error originates from a subprocess, and is likely not a problem with pip.\n",
            "  Building wheel for pycairo (pyproject.toml) ... \u001b[?25l\u001b[?25herror\n",
            "\u001b[31m  ERROR: Failed building wheel for pycairo\u001b[0m\u001b[31m\n",
            "\u001b[0mSuccessfully built bokeh gensim\n",
            "Failed to build pycairo\n",
            "\u001b[31mERROR: Could not build wheels for pycairo, which is required to install pyproject.toml-based projects\u001b[0m\u001b[31m\n",
            "\u001b[0m"
          ]
        }
      ]
    },
    {
      "cell_type": "markdown",
      "source": [
        " After unzipping you'll get a csv file.  \n",
        "Before we open it, let's setup our notebook by loading all relevant modules and setting some options:"
      ],
      "metadata": {
        "id": "cxTilg_J4shn"
      }
    },
    {
      "cell_type": "code",
      "execution_count": 121,
      "metadata": {
        "id": "scQx3aSY04bd"
      },
      "outputs": [],
      "source": [
        "import re\n",
        "import pickle\n",
        "import sklearn\n",
        "import pandas as pd\n",
        "import numpy as np\n",
        "import nltk \n",
        "from pathlib import Path\n",
        "import seaborn as sns\n",
        "#hv.extension(\"bokeh\")\n",
        "from sklearn.model_selection import train_test_split\n",
        "from sklearn.feature_extraction.text import TfidfVectorizer\n",
        "from sklearn.linear_model import LogisticRegression\n",
        "from sklearn.svm import LinearSVC\n",
        "from sklearn.ensemble import RandomForestClassifier\n",
        "from sklearn.neural_network import MLPClassifier\n",
        "from sklearn.pipeline import Pipeline\n",
        "from sklearn.model_selection import GridSearchCV\n",
        "from xgboost import XGBClassifier\n",
        "from nltk.stem.snowball import SnowballStemmer\n",
        "from nltk.tokenize import word_tokenize\n",
        "from nltk.corpus import stopwords\n",
        "from sklearn.metrics import roc_curve\n",
        "import os\n",
        "import random\n",
        "import nltk\n",
        "import re\n",
        "import pickle\n",
        "import pandas as pd\n",
        "import numpy as np\n",
        "import tensorflow as tf\n",
        "import seaborn as sns\n",
        "from datetime import datetime\n",
        "from tensorflow.keras.models import Sequential\n",
        "from tensorflow.keras.layers import Input, LSTM, Bidirectional, Dense\n",
        "from tensorflow.keras.layers import Embedding, Flatten\n",
        "from tensorflow.keras.layers import MaxPooling1D, Dropout, Activation, Conv1D\n",
        "from tensorflow.keras.preprocessing.text import Tokenizer\n",
        "from tensorflow.keras.preprocessing import sequence\n",
        "from tensorflow.keras.callbacks import EarlyStopping, ModelCheckpoint\n",
        "from tensorflow.keras.models import load_model\n",
        "from sklearn import metrics\n",
        "\n",
        "import matplotlib.pyplot as plt\n",
        "import warnings\n",
        "\n",
        "\n",
        "pd.options.display.max_columns = 100\n",
        "pd.options.display.max_rows = 300\n",
        "pd.options.display.max_colwidth = 100\n",
        "np.set_printoptions(threshold=2000)"
      ]
    },
    {
      "cell_type": "markdown",
      "source": [
        "Now, we can take a look into the data:\n"
      ],
      "metadata": {
        "id": "MjZmKOE25Z4W"
      }
    },
    {
      "cell_type": "code",
      "execution_count": 47,
      "metadata": {
        "colab": {
          "base_uri": "https://localhost:8080/",
          "height": 677
        },
        "id": "Ih6WYjAR1Gg4",
        "outputId": "c1b779c0-b2f3-4d9f-ab00-734fbf399485"
      },
      "outputs": [
        {
          "output_type": "execute_result",
          "data": {
            "text/plain": [
              "      rating  \\\n",
              "0   positive   \n",
              "1   negative   \n",
              "2   negative   \n",
              "3   negative   \n",
              "4   negative   \n",
              "5   positive   \n",
              "6   positive   \n",
              "7   positive   \n",
              "8   positive   \n",
              "9   positive   \n",
              "10  negative   \n",
              "11  negative   \n",
              "12  negative   \n",
              "13  positive   \n",
              "14  positive   \n",
              "15  positive   \n",
              "16  positive   \n",
              "17  negative   \n",
              "18  positive   \n",
              "19  negative   \n",
              "\n",
              "                                                                                                comment  \n",
              "0   Ich liebe Herrn Dr. Scheeser er nimmt dich immer Zeit für seine Patienten und ist sehr geduldig....  \n",
              "1   Die Behandlungen von Dr. Brede dauern im Schnitt ca. 5-7 Minuten. Beschwerden werden nach meiner...  \n",
              "2   Hilfe bei Zahnschmerzen. <br />\\r\\nNicht diesen Zahnarzt aufsuchen. Lediglich die Mitteilung sie...  \n",
              "3                            Ich bin unzufrieden und kann Frau Dr. Frankenberger nicht weiterempfehlen.  \n",
              "4   Der arzt ist okay,aber es ist für mich offensichtlich,dass er seine arbeit nicht außerordentlich...  \n",
              "5   Nach Prostata-OP sehe ich Herrn Klunder alle 3 Monate zur Hormonentzugstherapie.Er ist stets fre...  \n",
              "6   Er ist zwar recht hektisch und muss ein paar Mal auch plötzlich in andere Sprechzimmer, aber ich...  \n",
              "7   Die telefonische Erreichbarkeit war für mich ein Problem. Terminbuchung, Erinnerung, Einhaltung,...  \n",
              "8   Moderne Praxis, sehr gute Aufklärung. Dr. Dettmer nimmt sich viel Zeit, man fühlt sich gut aufge...  \n",
              "9   gründliches Vorgehen und stellen einer fundierten Diagnose<br />\\r\\ngute Beratung<br />\\r\\nnicht...  \n",
              "10  Wir waren bei ihn in der Behandlung als wir eine Überweisung zur Logopädie haben wollten beschim...  \n",
              "11  ich musste ca 2 std trotz Termin und dann  müsste ich im Behandlungszimmer noch 1 std warten und...  \n",
              "12  Leider bin ich mit Dr. Herzog nicht zufrieden da er das MRT nicht richtig beurteilt hat und ich ...  \n",
              "13       Sehr gute und aufmerksame Ärztin. Nimmt Probleme von Patienten ernst und will wirklich helfen.  \n",
              "14  Schon mehrere Jahre da, bei Akut-Fällen immer flott Termin bekommen, nettes Praxisteam, kompeten...  \n",
              "15  Freundliche Zahnärzte. Ich habe nie was gravierendes gebraucht, wie z.B. Zahn-OP, usw. meine Zah...  \n",
              "16  Sehr Sachliches Auftreten. Fragt nach und sucht zusammen Lösungen. Hatte ein Problem, war sehr b...  \n",
              "17                                                                                     SEHR SCHLIMM!!!!  \n",
              "18  Sehr nette Praxis !!!! Sprechstundenhilfe immer sehr freundlich, nett und zuvorkommend! Dr. Hert...  \n",
              "19  Freundlichkeit?<br />\\nFehlanzeige!<br />\\nEinfühlvermögen?<br />\\nFehlanzeige!<br />\\nAusreiche...  "
            ],
            "text/html": [
              "\n",
              "  <div id=\"df-702e9280-4d42-4529-831e-1bcc794c24e3\">\n",
              "    <div class=\"colab-df-container\">\n",
              "      <div>\n",
              "<style scoped>\n",
              "    .dataframe tbody tr th:only-of-type {\n",
              "        vertical-align: middle;\n",
              "    }\n",
              "\n",
              "    .dataframe tbody tr th {\n",
              "        vertical-align: top;\n",
              "    }\n",
              "\n",
              "    .dataframe thead th {\n",
              "        text-align: right;\n",
              "    }\n",
              "</style>\n",
              "<table border=\"1\" class=\"dataframe\">\n",
              "  <thead>\n",
              "    <tr style=\"text-align: right;\">\n",
              "      <th></th>\n",
              "      <th>rating</th>\n",
              "      <th>comment</th>\n",
              "    </tr>\n",
              "  </thead>\n",
              "  <tbody>\n",
              "    <tr>\n",
              "      <th>0</th>\n",
              "      <td>positive</td>\n",
              "      <td>Ich liebe Herrn Dr. Scheeser er nimmt dich immer Zeit für seine Patienten und ist sehr geduldig....</td>\n",
              "    </tr>\n",
              "    <tr>\n",
              "      <th>1</th>\n",
              "      <td>negative</td>\n",
              "      <td>Die Behandlungen von Dr. Brede dauern im Schnitt ca. 5-7 Minuten. Beschwerden werden nach meiner...</td>\n",
              "    </tr>\n",
              "    <tr>\n",
              "      <th>2</th>\n",
              "      <td>negative</td>\n",
              "      <td>Hilfe bei Zahnschmerzen. &lt;br /&gt;\\r\\nNicht diesen Zahnarzt aufsuchen. Lediglich die Mitteilung sie...</td>\n",
              "    </tr>\n",
              "    <tr>\n",
              "      <th>3</th>\n",
              "      <td>negative</td>\n",
              "      <td>Ich bin unzufrieden und kann Frau Dr. Frankenberger nicht weiterempfehlen.</td>\n",
              "    </tr>\n",
              "    <tr>\n",
              "      <th>4</th>\n",
              "      <td>negative</td>\n",
              "      <td>Der arzt ist okay,aber es ist für mich offensichtlich,dass er seine arbeit nicht außerordentlich...</td>\n",
              "    </tr>\n",
              "    <tr>\n",
              "      <th>5</th>\n",
              "      <td>positive</td>\n",
              "      <td>Nach Prostata-OP sehe ich Herrn Klunder alle 3 Monate zur Hormonentzugstherapie.Er ist stets fre...</td>\n",
              "    </tr>\n",
              "    <tr>\n",
              "      <th>6</th>\n",
              "      <td>positive</td>\n",
              "      <td>Er ist zwar recht hektisch und muss ein paar Mal auch plötzlich in andere Sprechzimmer, aber ich...</td>\n",
              "    </tr>\n",
              "    <tr>\n",
              "      <th>7</th>\n",
              "      <td>positive</td>\n",
              "      <td>Die telefonische Erreichbarkeit war für mich ein Problem. Terminbuchung, Erinnerung, Einhaltung,...</td>\n",
              "    </tr>\n",
              "    <tr>\n",
              "      <th>8</th>\n",
              "      <td>positive</td>\n",
              "      <td>Moderne Praxis, sehr gute Aufklärung. Dr. Dettmer nimmt sich viel Zeit, man fühlt sich gut aufge...</td>\n",
              "    </tr>\n",
              "    <tr>\n",
              "      <th>9</th>\n",
              "      <td>positive</td>\n",
              "      <td>gründliches Vorgehen und stellen einer fundierten Diagnose&lt;br /&gt;\\r\\ngute Beratung&lt;br /&gt;\\r\\nnicht...</td>\n",
              "    </tr>\n",
              "    <tr>\n",
              "      <th>10</th>\n",
              "      <td>negative</td>\n",
              "      <td>Wir waren bei ihn in der Behandlung als wir eine Überweisung zur Logopädie haben wollten beschim...</td>\n",
              "    </tr>\n",
              "    <tr>\n",
              "      <th>11</th>\n",
              "      <td>negative</td>\n",
              "      <td>ich musste ca 2 std trotz Termin und dann  müsste ich im Behandlungszimmer noch 1 std warten und...</td>\n",
              "    </tr>\n",
              "    <tr>\n",
              "      <th>12</th>\n",
              "      <td>negative</td>\n",
              "      <td>Leider bin ich mit Dr. Herzog nicht zufrieden da er das MRT nicht richtig beurteilt hat und ich ...</td>\n",
              "    </tr>\n",
              "    <tr>\n",
              "      <th>13</th>\n",
              "      <td>positive</td>\n",
              "      <td>Sehr gute und aufmerksame Ärztin. Nimmt Probleme von Patienten ernst und will wirklich helfen.</td>\n",
              "    </tr>\n",
              "    <tr>\n",
              "      <th>14</th>\n",
              "      <td>positive</td>\n",
              "      <td>Schon mehrere Jahre da, bei Akut-Fällen immer flott Termin bekommen, nettes Praxisteam, kompeten...</td>\n",
              "    </tr>\n",
              "    <tr>\n",
              "      <th>15</th>\n",
              "      <td>positive</td>\n",
              "      <td>Freundliche Zahnärzte. Ich habe nie was gravierendes gebraucht, wie z.B. Zahn-OP, usw. meine Zah...</td>\n",
              "    </tr>\n",
              "    <tr>\n",
              "      <th>16</th>\n",
              "      <td>positive</td>\n",
              "      <td>Sehr Sachliches Auftreten. Fragt nach und sucht zusammen Lösungen. Hatte ein Problem, war sehr b...</td>\n",
              "    </tr>\n",
              "    <tr>\n",
              "      <th>17</th>\n",
              "      <td>negative</td>\n",
              "      <td>SEHR SCHLIMM!!!!</td>\n",
              "    </tr>\n",
              "    <tr>\n",
              "      <th>18</th>\n",
              "      <td>positive</td>\n",
              "      <td>Sehr nette Praxis !!!! Sprechstundenhilfe immer sehr freundlich, nett und zuvorkommend! Dr. Hert...</td>\n",
              "    </tr>\n",
              "    <tr>\n",
              "      <th>19</th>\n",
              "      <td>negative</td>\n",
              "      <td>Freundlichkeit?&lt;br /&gt;\\nFehlanzeige!&lt;br /&gt;\\nEinfühlvermögen?&lt;br /&gt;\\nFehlanzeige!&lt;br /&gt;\\nAusreiche...</td>\n",
              "    </tr>\n",
              "  </tbody>\n",
              "</table>\n",
              "</div>\n",
              "      <button class=\"colab-df-convert\" onclick=\"convertToInteractive('df-702e9280-4d42-4529-831e-1bcc794c24e3')\"\n",
              "              title=\"Convert this dataframe to an interactive table.\"\n",
              "              style=\"display:none;\">\n",
              "        \n",
              "  <svg xmlns=\"http://www.w3.org/2000/svg\" height=\"24px\"viewBox=\"0 0 24 24\"\n",
              "       width=\"24px\">\n",
              "    <path d=\"M0 0h24v24H0V0z\" fill=\"none\"/>\n",
              "    <path d=\"M18.56 5.44l.94 2.06.94-2.06 2.06-.94-2.06-.94-.94-2.06-.94 2.06-2.06.94zm-11 1L8.5 8.5l.94-2.06 2.06-.94-2.06-.94L8.5 2.5l-.94 2.06-2.06.94zm10 10l.94 2.06.94-2.06 2.06-.94-2.06-.94-.94-2.06-.94 2.06-2.06.94z\"/><path d=\"M17.41 7.96l-1.37-1.37c-.4-.4-.92-.59-1.43-.59-.52 0-1.04.2-1.43.59L10.3 9.45l-7.72 7.72c-.78.78-.78 2.05 0 2.83L4 21.41c.39.39.9.59 1.41.59.51 0 1.02-.2 1.41-.59l7.78-7.78 2.81-2.81c.8-.78.8-2.07 0-2.86zM5.41 20L4 18.59l7.72-7.72 1.47 1.35L5.41 20z\"/>\n",
              "  </svg>\n",
              "      </button>\n",
              "      \n",
              "  <style>\n",
              "    .colab-df-container {\n",
              "      display:flex;\n",
              "      flex-wrap:wrap;\n",
              "      gap: 12px;\n",
              "    }\n",
              "\n",
              "    .colab-df-convert {\n",
              "      background-color: #E8F0FE;\n",
              "      border: none;\n",
              "      border-radius: 50%;\n",
              "      cursor: pointer;\n",
              "      display: none;\n",
              "      fill: #1967D2;\n",
              "      height: 32px;\n",
              "      padding: 0 0 0 0;\n",
              "      width: 32px;\n",
              "    }\n",
              "\n",
              "    .colab-df-convert:hover {\n",
              "      background-color: #E2EBFA;\n",
              "      box-shadow: 0px 1px 2px rgba(60, 64, 67, 0.3), 0px 1px 3px 1px rgba(60, 64, 67, 0.15);\n",
              "      fill: #174EA6;\n",
              "    }\n",
              "\n",
              "    [theme=dark] .colab-df-convert {\n",
              "      background-color: #3B4455;\n",
              "      fill: #D2E3FC;\n",
              "    }\n",
              "\n",
              "    [theme=dark] .colab-df-convert:hover {\n",
              "      background-color: #434B5C;\n",
              "      box-shadow: 0px 1px 3px 1px rgba(0, 0, 0, 0.15);\n",
              "      filter: drop-shadow(0px 1px 2px rgba(0, 0, 0, 0.3));\n",
              "      fill: #FFFFFF;\n",
              "    }\n",
              "  </style>\n",
              "\n",
              "      <script>\n",
              "        const buttonEl =\n",
              "          document.querySelector('#df-702e9280-4d42-4529-831e-1bcc794c24e3 button.colab-df-convert');\n",
              "        buttonEl.style.display =\n",
              "          google.colab.kernel.accessAllowed ? 'block' : 'none';\n",
              "\n",
              "        async function convertToInteractive(key) {\n",
              "          const element = document.querySelector('#df-702e9280-4d42-4529-831e-1bcc794c24e3');\n",
              "          const dataTable =\n",
              "            await google.colab.kernel.invokeFunction('convertToInteractive',\n",
              "                                                     [key], {});\n",
              "          if (!dataTable) return;\n",
              "\n",
              "          const docLinkHtml = 'Like what you see? Visit the ' +\n",
              "            '<a target=\"_blank\" href=https://colab.research.google.com/notebooks/data_table.ipynb>data table notebook</a>'\n",
              "            + ' to learn more about interactive tables.';\n",
              "          element.innerHTML = '';\n",
              "          dataTable['output_type'] = 'display_data';\n",
              "          await google.colab.output.renderOutput(dataTable, element);\n",
              "          const docLink = document.createElement('div');\n",
              "          docLink.innerHTML = docLinkHtml;\n",
              "          element.appendChild(docLink);\n",
              "        }\n",
              "      </script>\n",
              "    </div>\n",
              "  </div>\n",
              "  "
            ]
          },
          "metadata": {},
          "execution_count": 47
        }
      ],
      "source": [
        "# Read raw data\n",
        "df_data = pd.read_csv('/content/reviews.csv',  delimiter=';',encoding='utf-8')\n",
        "df_data.head(20)"
      ]
    },
    {
      "cell_type": "markdown",
      "source": [
        "We'll focus on the comments and the ratings, which range from 0 to 1. The comments are mostly written in proper German using punctuation and don't include emojis. However, as with any real life text data there will be slang, grammatical mistakes, misspellings etc. Also, in some places we find html tags like <br />.  We will deal with all of that in the next step."
      ],
      "metadata": {
        "id": "CnO_3WAT5k5P"
      }
    },
    {
      "cell_type": "markdown",
      "source": [
        " ### Cleaning and pre processing\n",
        "\n",
        "\n"
      ],
      "metadata": {
        "id": "GBjDv4705yJ2"
      }
    },
    {
      "cell_type": "code",
      "execution_count": 48,
      "metadata": {
        "colab": {
          "base_uri": "https://localhost:8080/"
        },
        "id": "J9zC7OCe5oPw",
        "outputId": "2204ebd2-7e05-4af8-cbd0-83af1f9b7e03"
      },
      "outputs": [
        {
          "output_type": "stream",
          "name": "stdout",
          "text": [
            "Null values in the dataset :  rating     0\n",
            "comment    0\n",
            "dtype: int64\n"
          ]
        }
      ],
      "source": [
        "# Null values\n",
        "print (\"Null values in the dataset : \", df_data.isnull().sum(axis = 0))"
      ]
    },
    {
      "cell_type": "markdown",
      "source": [
        "We don't have any null values !."
      ],
      "metadata": {
        "id": "pdVP6Qf-6Mce"
      }
    },
    {
      "cell_type": "code",
      "source": [
        "temp = df_data.groupby('rating').count()['comment'].reset_index().sort_values(by='comment',ascending=False)\n",
        "temp.style.background_gradient(cmap='Purples')"
      ],
      "metadata": {
        "colab": {
          "base_uri": "https://localhost:8080/",
          "height": 112
        },
        "id": "fPYn6CQh6u8m",
        "outputId": "e581d59a-ab69-4279-c606-34df8081c3ae"
      },
      "execution_count": 49,
      "outputs": [
        {
          "output_type": "execute_result",
          "data": {
            "text/plain": [
              "<pandas.io.formats.style.Styler at 0x7f02a2d4d760>"
            ],
            "text/html": [
              "<style type=\"text/css\">\n",
              "#T_adf57_row0_col1, #T_adf57_row1_col1 {\n",
              "  background-color: #fcfbfd;\n",
              "  color: #000000;\n",
              "}\n",
              "</style>\n",
              "<table id=\"T_adf57\" class=\"dataframe\">\n",
              "  <thead>\n",
              "    <tr>\n",
              "      <th class=\"blank level0\" >&nbsp;</th>\n",
              "      <th id=\"T_adf57_level0_col0\" class=\"col_heading level0 col0\" >rating</th>\n",
              "      <th id=\"T_adf57_level0_col1\" class=\"col_heading level0 col1\" >comment</th>\n",
              "    </tr>\n",
              "  </thead>\n",
              "  <tbody>\n",
              "    <tr>\n",
              "      <th id=\"T_adf57_level0_row0\" class=\"row_heading level0 row0\" >0</th>\n",
              "      <td id=\"T_adf57_row0_col0\" class=\"data row0 col0\" >negative</td>\n",
              "      <td id=\"T_adf57_row0_col1\" class=\"data row0 col1\" >10000</td>\n",
              "    </tr>\n",
              "    <tr>\n",
              "      <th id=\"T_adf57_level0_row1\" class=\"row_heading level0 row1\" >1</th>\n",
              "      <td id=\"T_adf57_row1_col0\" class=\"data row1 col0\" >positive</td>\n",
              "      <td id=\"T_adf57_row1_col1\" class=\"data row1 col1\" >10000</td>\n",
              "    </tr>\n",
              "  </tbody>\n",
              "</table>\n"
            ]
          },
          "metadata": {},
          "execution_count": 49
        }
      ]
    },
    {
      "cell_type": "code",
      "execution_count": 50,
      "metadata": {
        "colab": {
          "base_uri": "https://localhost:8080/",
          "height": 378
        },
        "id": "SpCuaaZu53AG",
        "outputId": "f51dd8d0-df1e-4d85-b632-9cc71c19e431"
      },
      "outputs": [
        {
          "output_type": "execute_result",
          "data": {
            "text/plain": [
              "<Axes: xlabel='rating', ylabel='count'>"
            ]
          },
          "metadata": {},
          "execution_count": 50
        },
        {
          "output_type": "display_data",
          "data": {
            "text/plain": [
              "<Figure size 576x396 with 1 Axes>"
            ],
            "image/png": "[encoded data removed]"
          },
          "metadata": {}
        }
      ],
      "source": [
        "sns.countplot(data=df_data, x = 'rating')\n"
      ]
    },
    {
      "cell_type": "markdown",
      "source": [
        "We have balanced data!."
      ],
      "metadata": {
        "id": "FPoI4N3I6T46"
      }
    },
    {
      "cell_type": "code",
      "source": [
        "nltk.download('punkt')\n",
        "nltk.download('stopwords')\n",
        "\n",
        "stemmer = SnowballStemmer(\"german\")\n",
        "stop_words = set(stopwords.words(\"german\"))\n",
        "\n",
        "def clean_text(text, for_embedding=False):\n",
        "    \"\"\"\n",
        "        - remove any html tags (< /br> often found)\n",
        "        - Keep only ASCII + European Chars and whitespace, no digits\n",
        "        - remove single letter chars\n",
        "        - convert all whitespaces (tabs etc.) to single wspace\n",
        "        if not for embedding (but e.g. tdf-idf):\n",
        "        - all lowercase\n",
        "        - remove stopwords, punctuation and stemm\n",
        "    \"\"\"\n",
        "    RE_WSPACE = re.compile(r\"\\s+\", re.IGNORECASE)\n",
        "    RE_TAGS = re.compile(r\"<[^>]+>\")\n",
        "    RE_ASCII = re.compile(r\"[^A-Za-zÀ-ž ]\", re.IGNORECASE)\n",
        "    RE_SINGLECHAR = re.compile(r\"\\b[A-Za-zÀ-ž]\\b\", re.IGNORECASE)\n",
        "    if for_embedding:\n",
        "        # Keep punctuation\n",
        "        RE_ASCII = re.compile(r\"[^A-Za-zÀ-ž,.!? ]\", re.IGNORECASE)\n",
        "        RE_SINGLECHAR = re.compile(r\"\\b[A-Za-zÀ-ž,.!?]\\b\", re.IGNORECASE)\n",
        "\n",
        "    text = re.sub(RE_TAGS, \" \", text)\n",
        "    text = re.sub(RE_ASCII, \" \", text)\n",
        "    text = re.sub(RE_SINGLECHAR, \" \", text)\n",
        "    text = re.sub(RE_WSPACE, \" \", text)\n",
        "\n",
        "    word_tokens = word_tokenize(text)\n",
        "    words_tokens_lower = [word.lower() for word in word_tokens]\n",
        "\n",
        "    if for_embedding:\n",
        "        # no stemming, lowering and punctuation / stop words removal\n",
        "        words_filtered = word_tokens\n",
        "    else:\n",
        "        words_filtered = [\n",
        "            stemmer.stem(word) for word in words_tokens_lower if word not in stop_words\n",
        "        ]\n",
        "\n",
        "    text_clean = \" \".join(words_filtered)\n",
        "    return text_clean"
      ],
      "metadata": {
        "colab": {
          "base_uri": "https://localhost:8080/"
        },
        "id": "1cVWbQEDetsP",
        "outputId": "e148242c-8991-4ad8-a52a-bce4815ad22c"
      },
      "execution_count": 51,
      "outputs": [
        {
          "output_type": "stream",
          "name": "stderr",
          "text": [
            "[nltk_data] Downloading package punkt to /root/nltk_data...\n",
            "[nltk_data]   Package punkt is already up-to-date!\n",
            "[nltk_data] Downloading package stopwords to /root/nltk_data...\n",
            "[nltk_data]   Package stopwords is already up-to-date!\n"
          ]
        }
      ]
    },
    {
      "cell_type": "markdown",
      "source": [
        "The `clean_text` function takes a string input and applies a bunch of manipulations to it (described in the code). Check out this example:"
      ],
      "metadata": {
        "id": "KeKarhkh7lwF"
      }
    },
    {
      "cell_type": "code",
      "execution_count": 52,
      "metadata": {
        "colab": {
          "base_uri": "https://localhost:8080/",
          "height": 35
        },
        "id": "3U0pjpjb-Smk",
        "outputId": "05fc808a-8411-46d4-e918-9f4286034110"
      },
      "outputs": [
        {
          "output_type": "execute_result",
          "data": {
            "text/plain": [
              "'werkstudentenstell bereich datenwissenschaft beworb'"
            ],
            "application/vnd.google.colaboratory.intrinsic+json": {
              "type": "string"
            }
          },
          "metadata": {},
          "execution_count": 52
        }
      ],
      "source": [
        "clean_text(\"Ich habe mich für eine Werkstudentenstelle im Bereich Datenwissenschaft beworben.\")\n"
      ]
    },
    {
      "cell_type": "markdown",
      "source": [
        "There are advantages to implementing this function. Eliminating insignificant characters and words shrinks the amount of data, which can lead to better prediction results by decreasing the amount of noise in the data. This is because certain words, such as prepositions and punctuation, are not helpful for extracting additional information, particularly when using basic models. By reducing words to their root form and converting them to lowercase, we ensure that comparable words are processed uniformly. As a result, we can enhance model performance by increasing the number of meaningful data points. Let's utilize this approach on our data."
      ],
      "metadata": {
        "id": "qyur5TPr8jj-"
      }
    },
    {
      "cell_type": "code",
      "execution_count": 53,
      "metadata": {
        "id": "EbZf1t2wBep5"
      },
      "outputs": [],
      "source": [
        "df_data[\"comment_clean\"] = df_data[\"comment\"].map(\n",
        "    lambda x: clean_text(x, for_embedding=False) if isinstance(x, str) else x\n",
        ")"
      ]
    },
    {
      "cell_type": "code",
      "execution_count": 54,
      "metadata": {
        "colab": {
          "base_uri": "https://localhost:8080/",
          "height": 1000
        },
        "id": "vxr6jLj_EixB",
        "outputId": "91c7a42f-7484-40df-e211-e4ba0a2a3d88"
      },
      "outputs": [
        {
          "output_type": "execute_result",
          "data": {
            "text/plain": [
              "      rating  \\\n",
              "0   positive   \n",
              "1   negative   \n",
              "2   negative   \n",
              "3   negative   \n",
              "4   negative   \n",
              "5   positive   \n",
              "6   positive   \n",
              "7   positive   \n",
              "8   positive   \n",
              "9   positive   \n",
              "10  negative   \n",
              "11  negative   \n",
              "12  negative   \n",
              "13  positive   \n",
              "14  positive   \n",
              "15  positive   \n",
              "16  positive   \n",
              "17  negative   \n",
              "18  positive   \n",
              "19  negative   \n",
              "20  positive   \n",
              "21  positive   \n",
              "22  negative   \n",
              "23  positive   \n",
              "24  negative   \n",
              "25  positive   \n",
              "26  positive   \n",
              "27  positive   \n",
              "28  negative   \n",
              "29  positive   \n",
              "30  negative   \n",
              "31  positive   \n",
              "32  negative   \n",
              "33  negative   \n",
              "34  negative   \n",
              "35  positive   \n",
              "36  positive   \n",
              "37  negative   \n",
              "38  negative   \n",
              "39  negative   \n",
              "40  positive   \n",
              "41  positive   \n",
              "42  negative   \n",
              "43  negative   \n",
              "44  positive   \n",
              "45  negative   \n",
              "46  positive   \n",
              "47  negative   \n",
              "48  positive   \n",
              "49  negative   \n",
              "\n",
              "                                                                                                comment  \\\n",
              "0   Ich liebe Herrn Dr. Scheeser er nimmt dich immer Zeit für seine Patienten und ist sehr geduldig....   \n",
              "1   Die Behandlungen von Dr. Brede dauern im Schnitt ca. 5-7 Minuten. Beschwerden werden nach meiner...   \n",
              "2   Hilfe bei Zahnschmerzen. <br />\\r\\nNicht diesen Zahnarzt aufsuchen. Lediglich die Mitteilung sie...   \n",
              "3                            Ich bin unzufrieden und kann Frau Dr. Frankenberger nicht weiterempfehlen.   \n",
              "4   Der arzt ist okay,aber es ist für mich offensichtlich,dass er seine arbeit nicht außerordentlich...   \n",
              "5   Nach Prostata-OP sehe ich Herrn Klunder alle 3 Monate zur Hormonentzugstherapie.Er ist stets fre...   \n",
              "6   Er ist zwar recht hektisch und muss ein paar Mal auch plötzlich in andere Sprechzimmer, aber ich...   \n",
              "7   Die telefonische Erreichbarkeit war für mich ein Problem. Terminbuchung, Erinnerung, Einhaltung,...   \n",
              "8   Moderne Praxis, sehr gute Aufklärung. Dr. Dettmer nimmt sich viel Zeit, man fühlt sich gut aufge...   \n",
              "9   gründliches Vorgehen und stellen einer fundierten Diagnose<br />\\r\\ngute Beratung<br />\\r\\nnicht...   \n",
              "10  Wir waren bei ihn in der Behandlung als wir eine Überweisung zur Logopädie haben wollten beschim...   \n",
              "11  ich musste ca 2 std trotz Termin und dann  müsste ich im Behandlungszimmer noch 1 std warten und...   \n",
              "12  Leider bin ich mit Dr. Herzog nicht zufrieden da er das MRT nicht richtig beurteilt hat und ich ...   \n",
              "13       Sehr gute und aufmerksame Ärztin. Nimmt Probleme von Patienten ernst und will wirklich helfen.   \n",
              "14  Schon mehrere Jahre da, bei Akut-Fällen immer flott Termin bekommen, nettes Praxisteam, kompeten...   \n",
              "15  Freundliche Zahnärzte. Ich habe nie was gravierendes gebraucht, wie z.B. Zahn-OP, usw. meine Zah...   \n",
              "16  Sehr Sachliches Auftreten. Fragt nach und sucht zusammen Lösungen. Hatte ein Problem, war sehr b...   \n",
              "17                                                                                     SEHR SCHLIMM!!!!   \n",
              "18  Sehr nette Praxis !!!! Sprechstundenhilfe immer sehr freundlich, nett und zuvorkommend! Dr. Hert...   \n",
              "19  Freundlichkeit?<br />\\nFehlanzeige!<br />\\nEinfühlvermögen?<br />\\nFehlanzeige!<br />\\nAusreiche...   \n",
              "20  sehr schnelle Terminvergabe, kompetente fachliche Beratung und Aufklärung, freundlicher Umgang m...   \n",
              "21         Effektive Behandlung, Empfang und Arzthelferinnen könnten aber wesentlich freundlicher sein!   \n",
              "22  Ich würde diesen Arzt nicht mehr besuchen. Ihn scheint nicht zu interessieren was man hat. Diese...   \n",
              "23  Ich habe lange im net nach einer Urologin gesucht und die nach den Bewertungen geschaut, ich mus...   \n",
              "24                               ...für andere vielleicht. Ich mag es nicht, wenn ein Arzt negativiert.   \n",
              "25                          Fühle mich mit meinen Kindern gut betreut und medizinisch kompetent betreut   \n",
              "26  Kompetenter Arzt und freundliches Personal. Gerne wieder. Wiedervorstellungstermin schnell und u...   \n",
              "27                               wurde ausführlich und  gut beraten, kann dr. heile nur weiterempfehlen   \n",
              "28  Abzocke!!! Für Spirale 250 euro die angeblich nur 2 Jahre hält. Bei meinem neuen Arzt, kostet di...   \n",
              "29  trotz chronischer Krankheit Knie-OP super verlaufen! Freundlicher sowie interessierte Arzt, schn...   \n",
              "30  Wenig Erklärung, alte Befunde wurden sich nicht mal angeschaut und er hat sich keinerlei Zeit ge...   \n",
              "31  Top Arzt, bei dem man sofort merkt das er seine Arbeit liebt und sich Zeit für seine Patienten n...   \n",
              "32  Sollte mich mehr im Internet über Schwangerschaft belesen. Auf Fragen reagiert er nur sehr kurz,...   \n",
              "33  Mega unfreundlich und inkompetent sowohl die Ärztin wie auch der Rest. Nur Geld Macherrei. Es in...   \n",
              "34                                                 Absolut schlechte Behandlung. Nicht Empfehlenswert !   \n",
              "35  Ein super netter Zahnarzt!! Der Patienten wie gold behandelt, der nicht schaut was er daran verd...   \n",
              "36                                    Mein äußerliches Erscheinungsbild hat sich wesentlich verbessert.   \n",
              "37  Man ist schon total entnervt, wenn man 50x angerufen und gefaxt hat und nur besetzt ist und kein...   \n",
              "38                  Der Arzt hörte mir nicht zu - war nur auf das Verschreiben von Medikamenten fixiert   \n",
              "39  Wartebereich sehr schlecht und wenig patientenfreundlich organisiert.Die Praxis hat in Anbetrach...   \n",
              "40  Frau Dr. Markert macht einen guten Eindruck, ist freundlich und fachlich versiert. Aber ihre Hel...   \n",
              "41  Abgesehen vom etwas \"rustikalen\" Ambiente der Praxis eine sehr kompetente und freundliche Ärztin...   \n",
              "42  Sie ist sehr geld orientiert ich war die erste 5monate bei ihr und nie wieder..Sie antwortet auf...   \n",
              "43  Klare Bevorzugung von Privatpatienten ist altbekannt, einem das ins Gesicht zu sagen und ihn rau...   \n",
              "44  Herr Simon hat sich Zeit genommen, viel erfragt und verständlich erklärt. Fühlte mich im Behandl...   \n",
              "45  Arzt war eher enttäuschend! Nicht empfehlenswert! Habe bei Herrn Richter das Gefühl, das er nich...   \n",
              "46  Ich bin seit Jahren Patient bei Dr. Pettker und sehr zufrieden. Meine Anliegen werden immer spon...   \n",
              "47  Habe Termin für Hörtest tel. bekommen. Zum betreffenden Zeitpunkt die Aussage, das geht heute ni...   \n",
              "48  Mein Anliegen  wurde nicht ernst  genommen ,   bzw.wurde vergessen. <br />\\nSIE  ist bestimmt   ...   \n",
              "49             Schrecklich!  Hat überhaupt keine Ahnung und  einzige Katastrophe. Einmal und nie wieder   \n",
              "\n",
              "                                                                                          comment_clean  \n",
              "0               lieb herrn dr schees nimmt imm zeit patient geduld sprechstundenhilf total lieb empfehl  \n",
              "1                 behandl dr bred dau schnitt ca minut beschwerd erfahr ernst genomm art unverbind kuhl  \n",
              "2   hilf zahnschmerz zahnarzt aufsuch ledig mitteil jahr besuch trotz hinweis wart schlecht servic j...  \n",
              "3                                                           unzufried frau dr frankenberg weiterempfehl  \n",
              "4                                                          arzt okay offensicht arbeit ausserordent mag  \n",
              "5   prostata op seh herrn klund monat hormonentzugstherapi stet freundlich humorvoll sympath halt ko...  \n",
              "6                                 recht hektisch paar mal plotzlich sprechzimm verletz kam imm gut klar  \n",
              "7        telefon erreichbar probl terminbuch erinner einhalt gerung wartezeit gut sympat nett arzt gern  \n",
              "8                              modern praxis gut aufklar dr dettm nimmt zeit fuhlt gut aufgehob empfehl  \n",
              "9    grundlich vorgeh stell fundiert diagnos gut berat gleich op nutzung krankengymnast heilung vorbeug  \n",
              "10  behandl uberweis logopadi wollt beschimpft schlecht elt wollt arzt wechseln unterlag ging sogena...  \n",
              "11  ca std trotz termin musst behandlungszimm std wart anschliess wurd schlecht dr kord behandelt za...  \n",
              "12                             leid dr herzog zufried mrt richtig beurteilt somit lang schmerz rum renn  \n",
              "13                                      gut aufmerksam arztin nimmt problem patient ernst wirklich helf  \n",
              "14  schon mehr jahr akut fall imm flott termin bekomm nett praxisteam kompetent freundlich arzt ange...  \n",
              "15  freundlich zahnarzt nie gravier gebraucht zahn op usw zahnfleischentzund wurd praxis gut behande...  \n",
              "16         sachlich auftret fragt sucht zusamm losung probl beunruhigt bekam ganz kurzfrist termin toll  \n",
              "17                                                                                              schlimm  \n",
              "18  nett praxis sprechstundenhilf imm freundlich nett zuvorkomm dr hertel nimmt imm zeit trotzd lang...  \n",
              "19                   freundlich fehlanzeig einfuhlvermog fehlanzeig ausreich behandlungszeit fehlanzeig  \n",
              "20                      schnell terminvergab kompetent fachlich berat aufklar freundlich umgang patient  \n",
              "21                                       effektiv behandl empfang arzthelferinn konnt wesent freundlich  \n",
              "22  arzt mehr besuch scheint interessi mann mocht lieb smalltalk halt anschluss krankgeschrieb flirt...  \n",
              "23  lang net urologin gesucht bewert geschaut sag bess erwartet sup nett assistentin kompetent arzti...  \n",
              "24                                                                      vielleicht mag arzt negativiert  \n",
              "25                                                      fuhl kind gut betreut medizin kompetent betreut  \n",
              "26               kompetent arzt freundlich personal gern wiedervorstellungstermin schnell unkompliziert  \n",
              "27                                                         wurd ausfuhr gut berat dr heil weiterempfehl  \n",
              "28  abzock spiral euro angeb jahr halt neu arzt kostet selb kupferspiral euro halt jahr komisch empf...  \n",
              "29          trotz chronisch krankheit knie op sup verlauf freundlich sowi interessiert arzt schnell fit  \n",
              "30                                    wenig erklar alt befund wurd mal angeschaut keinerlei zeit genomm  \n",
              "31                                                top arzt sofort merkt arbeit liebt zeit patient nimmt  \n",
              "32                                mehr internet schwangerschaft beles frag reagiert kurz knapp ausweich  \n",
              "33  mega unfreund inkompetent sowohl arztin rest geld macherrei interessiert patient wirklich mensch...  \n",
              "34                                                              absolut schlecht behandl empfehlenswert  \n",
              "35  sup nett zahnarzt patient gold behandelt schaut daran verdient schaut patient amb helf sup nett ...  \n",
              "36                                                              auss erscheinungsbild wesent verbessert  \n",
              "37  schon total entnervt angeruf gefaxt besetzt email adress verfugbar arbeit mensch zeit koln jucke...  \n",
              "38                                                              arzt hort verschreib medikament fixiert  \n",
              "39  wartebereich schlecht wenig patientenfreund organisiert praxis anbetracht offenbar entgang fall ...  \n",
              "40  frau dr markert macht gut eindruck freundlich fachlich versiert helferinn wirk aufdring sog igel...  \n",
              "41          abgeseh rustikal ambient praxis kompetent freundlich arztin gut diagnost genug zeit patient  \n",
              "42                    geld orientiert erst monat nie antwortet frag herabakomm unfreund niemand empfehl  \n",
              "43          klar bevorzug privatpatient altbekannt gesicht sag rauszuwerf legt oben drauf nein dank nie  \n",
              "44  herr simon zeit genomm erfragt verstand erklart fuhlt behandlungszimm gut aufgehob gegenteil sch...  \n",
              "45                              arzt eher enttausch empfehlenswert herrn richt gefuhl ehrlich kompetent  \n",
              "46  seit jahr patient dr pettk zufried anlieg imm spontan kompetent sowi ausfuhr berat behandelt kur...  \n",
              "47  termin hort tel bekomm betreff zeitpunkt aussag geht heut mehr dafur test notwend erst end juli ...  \n",
              "48               anlieg wurd ernst genomm bzw wurd vergess bestimmt gut kind hal nas ohrenarztin geholf  \n",
              "49                                                   schrecklich uberhaupt ahnung einzig katastroph nie  "
            ],
            "text/html": [
              "\n",
              "  <div id=\"df-2fcaab08-be2d-4a75-ba0f-ccf9cb57a3e7\">\n",
              "    <div class=\"colab-df-container\">\n",
              "      <div>\n",
              "<style scoped>\n",
              "    .dataframe tbody tr th:only-of-type {\n",
              "        vertical-align: middle;\n",
              "    }\n",
              "\n",
              "    .dataframe tbody tr th {\n",
              "        vertical-align: top;\n",
              "    }\n",
              "\n",
              "    .dataframe thead th {\n",
              "        text-align: right;\n",
              "    }\n",
              "</style>\n",
              "<table border=\"1\" class=\"dataframe\">\n",
              "  <thead>\n",
              "    <tr style=\"text-align: right;\">\n",
              "      <th></th>\n",
              "      <th>rating</th>\n",
              "      <th>comment</th>\n",
              "      <th>comment_clean</th>\n",
              "    </tr>\n",
              "  </thead>\n",
              "  <tbody>\n",
              "    <tr>\n",
              "      <th>0</th>\n",
              "      <td>positive</td>\n",
              "      <td>Ich liebe Herrn Dr. Scheeser er nimmt dich immer Zeit für seine Patienten und ist sehr geduldig....</td>\n",
              "      <td>lieb herrn dr schees nimmt imm zeit patient geduld sprechstundenhilf total lieb empfehl</td>\n",
              "    </tr>\n",
              "    <tr>\n",
              "      <th>1</th>\n",
              "      <td>negative</td>\n",
              "      <td>Die Behandlungen von Dr. Brede dauern im Schnitt ca. 5-7 Minuten. Beschwerden werden nach meiner...</td>\n",
              "      <td>behandl dr bred dau schnitt ca minut beschwerd erfahr ernst genomm art unverbind kuhl</td>\n",
              "    </tr>\n",
              "    <tr>\n",
              "      <th>2</th>\n",
              "      <td>negative</td>\n",
              "      <td>Hilfe bei Zahnschmerzen. &lt;br /&gt;\\r\\nNicht diesen Zahnarzt aufsuchen. Lediglich die Mitteilung sie...</td>\n",
              "      <td>hilf zahnschmerz zahnarzt aufsuch ledig mitteil jahr besuch trotz hinweis wart schlecht servic j...</td>\n",
              "    </tr>\n",
              "    <tr>\n",
              "      <th>3</th>\n",
              "      <td>negative</td>\n",
              "      <td>Ich bin unzufrieden und kann Frau Dr. Frankenberger nicht weiterempfehlen.</td>\n",
              "      <td>unzufried frau dr frankenberg weiterempfehl</td>\n",
              "    </tr>\n",
              "    <tr>\n",
              "      <th>4</th>\n",
              "      <td>negative</td>\n",
              "      <td>Der arzt ist okay,aber es ist für mich offensichtlich,dass er seine arbeit nicht außerordentlich...</td>\n",
              "      <td>arzt okay offensicht arbeit ausserordent mag</td>\n",
              "    </tr>\n",
              "    <tr>\n",
              "      <th>5</th>\n",
              "      <td>positive</td>\n",
              "      <td>Nach Prostata-OP sehe ich Herrn Klunder alle 3 Monate zur Hormonentzugstherapie.Er ist stets fre...</td>\n",
              "      <td>prostata op seh herrn klund monat hormonentzugstherapi stet freundlich humorvoll sympath halt ko...</td>\n",
              "    </tr>\n",
              "    <tr>\n",
              "      <th>6</th>\n",
              "      <td>positive</td>\n",
              "      <td>Er ist zwar recht hektisch und muss ein paar Mal auch plötzlich in andere Sprechzimmer, aber ich...</td>\n",
              "      <td>recht hektisch paar mal plotzlich sprechzimm verletz kam imm gut klar</td>\n",
              "    </tr>\n",
              "    <tr>\n",
              "      <th>7</th>\n",
              "      <td>positive</td>\n",
              "      <td>Die telefonische Erreichbarkeit war für mich ein Problem. Terminbuchung, Erinnerung, Einhaltung,...</td>\n",
              "      <td>telefon erreichbar probl terminbuch erinner einhalt gerung wartezeit gut sympat nett arzt gern</td>\n",
              "    </tr>\n",
              "    <tr>\n",
              "      <th>8</th>\n",
              "      <td>positive</td>\n",
              "      <td>Moderne Praxis, sehr gute Aufklärung. Dr. Dettmer nimmt sich viel Zeit, man fühlt sich gut aufge...</td>\n",
              "      <td>modern praxis gut aufklar dr dettm nimmt zeit fuhlt gut aufgehob empfehl</td>\n",
              "    </tr>\n",
              "    <tr>\n",
              "      <th>9</th>\n",
              "      <td>positive</td>\n",
              "      <td>gründliches Vorgehen und stellen einer fundierten Diagnose&lt;br /&gt;\\r\\ngute Beratung&lt;br /&gt;\\r\\nnicht...</td>\n",
              "      <td>grundlich vorgeh stell fundiert diagnos gut berat gleich op nutzung krankengymnast heilung vorbeug</td>\n",
              "    </tr>\n",
              "    <tr>\n",
              "      <th>10</th>\n",
              "      <td>negative</td>\n",
              "      <td>Wir waren bei ihn in der Behandlung als wir eine Überweisung zur Logopädie haben wollten beschim...</td>\n",
              "      <td>behandl uberweis logopadi wollt beschimpft schlecht elt wollt arzt wechseln unterlag ging sogena...</td>\n",
              "    </tr>\n",
              "    <tr>\n",
              "      <th>11</th>\n",
              "      <td>negative</td>\n",
              "      <td>ich musste ca 2 std trotz Termin und dann  müsste ich im Behandlungszimmer noch 1 std warten und...</td>\n",
              "      <td>ca std trotz termin musst behandlungszimm std wart anschliess wurd schlecht dr kord behandelt za...</td>\n",
              "    </tr>\n",
              "    <tr>\n",
              "      <th>12</th>\n",
              "      <td>negative</td>\n",
              "      <td>Leider bin ich mit Dr. Herzog nicht zufrieden da er das MRT nicht richtig beurteilt hat und ich ...</td>\n",
              "      <td>leid dr herzog zufried mrt richtig beurteilt somit lang schmerz rum renn</td>\n",
              "    </tr>\n",
              "    <tr>\n",
              "      <th>13</th>\n",
              "      <td>positive</td>\n",
              "      <td>Sehr gute und aufmerksame Ärztin. Nimmt Probleme von Patienten ernst und will wirklich helfen.</td>\n",
              "      <td>gut aufmerksam arztin nimmt problem patient ernst wirklich helf</td>\n",
              "    </tr>\n",
              "    <tr>\n",
              "      <th>14</th>\n",
              "      <td>positive</td>\n",
              "      <td>Schon mehrere Jahre da, bei Akut-Fällen immer flott Termin bekommen, nettes Praxisteam, kompeten...</td>\n",
              "      <td>schon mehr jahr akut fall imm flott termin bekomm nett praxisteam kompetent freundlich arzt ange...</td>\n",
              "    </tr>\n",
              "    <tr>\n",
              "      <th>15</th>\n",
              "      <td>positive</td>\n",
              "      <td>Freundliche Zahnärzte. Ich habe nie was gravierendes gebraucht, wie z.B. Zahn-OP, usw. meine Zah...</td>\n",
              "      <td>freundlich zahnarzt nie gravier gebraucht zahn op usw zahnfleischentzund wurd praxis gut behande...</td>\n",
              "    </tr>\n",
              "    <tr>\n",
              "      <th>16</th>\n",
              "      <td>positive</td>\n",
              "      <td>Sehr Sachliches Auftreten. Fragt nach und sucht zusammen Lösungen. Hatte ein Problem, war sehr b...</td>\n",
              "      <td>sachlich auftret fragt sucht zusamm losung probl beunruhigt bekam ganz kurzfrist termin toll</td>\n",
              "    </tr>\n",
              "    <tr>\n",
              "      <th>17</th>\n",
              "      <td>negative</td>\n",
              "      <td>SEHR SCHLIMM!!!!</td>\n",
              "      <td>schlimm</td>\n",
              "    </tr>\n",
              "    <tr>\n",
              "      <th>18</th>\n",
              "      <td>positive</td>\n",
              "      <td>Sehr nette Praxis !!!! Sprechstundenhilfe immer sehr freundlich, nett und zuvorkommend! Dr. Hert...</td>\n",
              "      <td>nett praxis sprechstundenhilf imm freundlich nett zuvorkomm dr hertel nimmt imm zeit trotzd lang...</td>\n",
              "    </tr>\n",
              "    <tr>\n",
              "      <th>19</th>\n",
              "      <td>negative</td>\n",
              "      <td>Freundlichkeit?&lt;br /&gt;\\nFehlanzeige!&lt;br /&gt;\\nEinfühlvermögen?&lt;br /&gt;\\nFehlanzeige!&lt;br /&gt;\\nAusreiche...</td>\n",
              "      <td>freundlich fehlanzeig einfuhlvermog fehlanzeig ausreich behandlungszeit fehlanzeig</td>\n",
              "    </tr>\n",
              "    <tr>\n",
              "      <th>20</th>\n",
              "      <td>positive</td>\n",
              "      <td>sehr schnelle Terminvergabe, kompetente fachliche Beratung und Aufklärung, freundlicher Umgang m...</td>\n",
              "      <td>schnell terminvergab kompetent fachlich berat aufklar freundlich umgang patient</td>\n",
              "    </tr>\n",
              "    <tr>\n",
              "      <th>21</th>\n",
              "      <td>positive</td>\n",
              "      <td>Effektive Behandlung, Empfang und Arzthelferinnen könnten aber wesentlich freundlicher sein!</td>\n",
              "      <td>effektiv behandl empfang arzthelferinn konnt wesent freundlich</td>\n",
              "    </tr>\n",
              "    <tr>\n",
              "      <th>22</th>\n",
              "      <td>negative</td>\n",
              "      <td>Ich würde diesen Arzt nicht mehr besuchen. Ihn scheint nicht zu interessieren was man hat. Diese...</td>\n",
              "      <td>arzt mehr besuch scheint interessi mann mocht lieb smalltalk halt anschluss krankgeschrieb flirt...</td>\n",
              "    </tr>\n",
              "    <tr>\n",
              "      <th>23</th>\n",
              "      <td>positive</td>\n",
              "      <td>Ich habe lange im net nach einer Urologin gesucht und die nach den Bewertungen geschaut, ich mus...</td>\n",
              "      <td>lang net urologin gesucht bewert geschaut sag bess erwartet sup nett assistentin kompetent arzti...</td>\n",
              "    </tr>\n",
              "    <tr>\n",
              "      <th>24</th>\n",
              "      <td>negative</td>\n",
              "      <td>...für andere vielleicht. Ich mag es nicht, wenn ein Arzt negativiert.</td>\n",
              "      <td>vielleicht mag arzt negativiert</td>\n",
              "    </tr>\n",
              "    <tr>\n",
              "      <th>25</th>\n",
              "      <td>positive</td>\n",
              "      <td>Fühle mich mit meinen Kindern gut betreut und medizinisch kompetent betreut</td>\n",
              "      <td>fuhl kind gut betreut medizin kompetent betreut</td>\n",
              "    </tr>\n",
              "    <tr>\n",
              "      <th>26</th>\n",
              "      <td>positive</td>\n",
              "      <td>Kompetenter Arzt und freundliches Personal. Gerne wieder. Wiedervorstellungstermin schnell und u...</td>\n",
              "      <td>kompetent arzt freundlich personal gern wiedervorstellungstermin schnell unkompliziert</td>\n",
              "    </tr>\n",
              "    <tr>\n",
              "      <th>27</th>\n",
              "      <td>positive</td>\n",
              "      <td>wurde ausführlich und  gut beraten, kann dr. heile nur weiterempfehlen</td>\n",
              "      <td>wurd ausfuhr gut berat dr heil weiterempfehl</td>\n",
              "    </tr>\n",
              "    <tr>\n",
              "      <th>28</th>\n",
              "      <td>negative</td>\n",
              "      <td>Abzocke!!! Für Spirale 250 euro die angeblich nur 2 Jahre hält. Bei meinem neuen Arzt, kostet di...</td>\n",
              "      <td>abzock spiral euro angeb jahr halt neu arzt kostet selb kupferspiral euro halt jahr komisch empf...</td>\n",
              "    </tr>\n",
              "    <tr>\n",
              "      <th>29</th>\n",
              "      <td>positive</td>\n",
              "      <td>trotz chronischer Krankheit Knie-OP super verlaufen! Freundlicher sowie interessierte Arzt, schn...</td>\n",
              "      <td>trotz chronisch krankheit knie op sup verlauf freundlich sowi interessiert arzt schnell fit</td>\n",
              "    </tr>\n",
              "    <tr>\n",
              "      <th>30</th>\n",
              "      <td>negative</td>\n",
              "      <td>Wenig Erklärung, alte Befunde wurden sich nicht mal angeschaut und er hat sich keinerlei Zeit ge...</td>\n",
              "      <td>wenig erklar alt befund wurd mal angeschaut keinerlei zeit genomm</td>\n",
              "    </tr>\n",
              "    <tr>\n",
              "      <th>31</th>\n",
              "      <td>positive</td>\n",
              "      <td>Top Arzt, bei dem man sofort merkt das er seine Arbeit liebt und sich Zeit für seine Patienten n...</td>\n",
              "      <td>top arzt sofort merkt arbeit liebt zeit patient nimmt</td>\n",
              "    </tr>\n",
              "    <tr>\n",
              "      <th>32</th>\n",
              "      <td>negative</td>\n",
              "      <td>Sollte mich mehr im Internet über Schwangerschaft belesen. Auf Fragen reagiert er nur sehr kurz,...</td>\n",
              "      <td>mehr internet schwangerschaft beles frag reagiert kurz knapp ausweich</td>\n",
              "    </tr>\n",
              "    <tr>\n",
              "      <th>33</th>\n",
              "      <td>negative</td>\n",
              "      <td>Mega unfreundlich und inkompetent sowohl die Ärztin wie auch der Rest. Nur Geld Macherrei. Es in...</td>\n",
              "      <td>mega unfreund inkompetent sowohl arztin rest geld macherrei interessiert patient wirklich mensch...</td>\n",
              "    </tr>\n",
              "    <tr>\n",
              "      <th>34</th>\n",
              "      <td>negative</td>\n",
              "      <td>Absolut schlechte Behandlung. Nicht Empfehlenswert !</td>\n",
              "      <td>absolut schlecht behandl empfehlenswert</td>\n",
              "    </tr>\n",
              "    <tr>\n",
              "      <th>35</th>\n",
              "      <td>positive</td>\n",
              "      <td>Ein super netter Zahnarzt!! Der Patienten wie gold behandelt, der nicht schaut was er daran verd...</td>\n",
              "      <td>sup nett zahnarzt patient gold behandelt schaut daran verdient schaut patient amb helf sup nett ...</td>\n",
              "    </tr>\n",
              "    <tr>\n",
              "      <th>36</th>\n",
              "      <td>positive</td>\n",
              "      <td>Mein äußerliches Erscheinungsbild hat sich wesentlich verbessert.</td>\n",
              "      <td>auss erscheinungsbild wesent verbessert</td>\n",
              "    </tr>\n",
              "    <tr>\n",
              "      <th>37</th>\n",
              "      <td>negative</td>\n",
              "      <td>Man ist schon total entnervt, wenn man 50x angerufen und gefaxt hat und nur besetzt ist und kein...</td>\n",
              "      <td>schon total entnervt angeruf gefaxt besetzt email adress verfugbar arbeit mensch zeit koln jucke...</td>\n",
              "    </tr>\n",
              "    <tr>\n",
              "      <th>38</th>\n",
              "      <td>negative</td>\n",
              "      <td>Der Arzt hörte mir nicht zu - war nur auf das Verschreiben von Medikamenten fixiert</td>\n",
              "      <td>arzt hort verschreib medikament fixiert</td>\n",
              "    </tr>\n",
              "    <tr>\n",
              "      <th>39</th>\n",
              "      <td>negative</td>\n",
              "      <td>Wartebereich sehr schlecht und wenig patientenfreundlich organisiert.Die Praxis hat in Anbetrach...</td>\n",
              "      <td>wartebereich schlecht wenig patientenfreund organisiert praxis anbetracht offenbar entgang fall ...</td>\n",
              "    </tr>\n",
              "    <tr>\n",
              "      <th>40</th>\n",
              "      <td>positive</td>\n",
              "      <td>Frau Dr. Markert macht einen guten Eindruck, ist freundlich und fachlich versiert. Aber ihre Hel...</td>\n",
              "      <td>frau dr markert macht gut eindruck freundlich fachlich versiert helferinn wirk aufdring sog igel...</td>\n",
              "    </tr>\n",
              "    <tr>\n",
              "      <th>41</th>\n",
              "      <td>positive</td>\n",
              "      <td>Abgesehen vom etwas \"rustikalen\" Ambiente der Praxis eine sehr kompetente und freundliche Ärztin...</td>\n",
              "      <td>abgeseh rustikal ambient praxis kompetent freundlich arztin gut diagnost genug zeit patient</td>\n",
              "    </tr>\n",
              "    <tr>\n",
              "      <th>42</th>\n",
              "      <td>negative</td>\n",
              "      <td>Sie ist sehr geld orientiert ich war die erste 5monate bei ihr und nie wieder..Sie antwortet auf...</td>\n",
              "      <td>geld orientiert erst monat nie antwortet frag herabakomm unfreund niemand empfehl</td>\n",
              "    </tr>\n",
              "    <tr>\n",
              "      <th>43</th>\n",
              "      <td>negative</td>\n",
              "      <td>Klare Bevorzugung von Privatpatienten ist altbekannt, einem das ins Gesicht zu sagen und ihn rau...</td>\n",
              "      <td>klar bevorzug privatpatient altbekannt gesicht sag rauszuwerf legt oben drauf nein dank nie</td>\n",
              "    </tr>\n",
              "    <tr>\n",
              "      <th>44</th>\n",
              "      <td>positive</td>\n",
              "      <td>Herr Simon hat sich Zeit genommen, viel erfragt und verständlich erklärt. Fühlte mich im Behandl...</td>\n",
              "      <td>herr simon zeit genomm erfragt verstand erklart fuhlt behandlungszimm gut aufgehob gegenteil sch...</td>\n",
              "    </tr>\n",
              "    <tr>\n",
              "      <th>45</th>\n",
              "      <td>negative</td>\n",
              "      <td>Arzt war eher enttäuschend! Nicht empfehlenswert! Habe bei Herrn Richter das Gefühl, das er nich...</td>\n",
              "      <td>arzt eher enttausch empfehlenswert herrn richt gefuhl ehrlich kompetent</td>\n",
              "    </tr>\n",
              "    <tr>\n",
              "      <th>46</th>\n",
              "      <td>positive</td>\n",
              "      <td>Ich bin seit Jahren Patient bei Dr. Pettker und sehr zufrieden. Meine Anliegen werden immer spon...</td>\n",
              "      <td>seit jahr patient dr pettk zufried anlieg imm spontan kompetent sowi ausfuhr berat behandelt kur...</td>\n",
              "    </tr>\n",
              "    <tr>\n",
              "      <th>47</th>\n",
              "      <td>negative</td>\n",
              "      <td>Habe Termin für Hörtest tel. bekommen. Zum betreffenden Zeitpunkt die Aussage, das geht heute ni...</td>\n",
              "      <td>termin hort tel bekomm betreff zeitpunkt aussag geht heut mehr dafur test notwend erst end juli ...</td>\n",
              "    </tr>\n",
              "    <tr>\n",
              "      <th>48</th>\n",
              "      <td>positive</td>\n",
              "      <td>Mein Anliegen  wurde nicht ernst  genommen ,   bzw.wurde vergessen. &lt;br /&gt;\\nSIE  ist bestimmt   ...</td>\n",
              "      <td>anlieg wurd ernst genomm bzw wurd vergess bestimmt gut kind hal nas ohrenarztin geholf</td>\n",
              "    </tr>\n",
              "    <tr>\n",
              "      <th>49</th>\n",
              "      <td>negative</td>\n",
              "      <td>Schrecklich!  Hat überhaupt keine Ahnung und  einzige Katastrophe. Einmal und nie wieder</td>\n",
              "      <td>schrecklich uberhaupt ahnung einzig katastroph nie</td>\n",
              "    </tr>\n",
              "  </tbody>\n",
              "</table>\n",
              "</div>\n",
              "      <button class=\"colab-df-convert\" onclick=\"convertToInteractive('df-2fcaab08-be2d-4a75-ba0f-ccf9cb57a3e7')\"\n",
              "              title=\"Convert this dataframe to an interactive table.\"\n",
              "              style=\"display:none;\">\n",
              "        \n",
              "  <svg xmlns=\"http://www.w3.org/2000/svg\" height=\"24px\"viewBox=\"0 0 24 24\"\n",
              "       width=\"24px\">\n",
              "    <path d=\"M0 0h24v24H0V0z\" fill=\"none\"/>\n",
              "    <path d=\"M18.56 5.44l.94 2.06.94-2.06 2.06-.94-2.06-.94-.94-2.06-.94 2.06-2.06.94zm-11 1L8.5 8.5l.94-2.06 2.06-.94-2.06-.94L8.5 2.5l-.94 2.06-2.06.94zm10 10l.94 2.06.94-2.06 2.06-.94-2.06-.94-.94-2.06-.94 2.06-2.06.94z\"/><path d=\"M17.41 7.96l-1.37-1.37c-.4-.4-.92-.59-1.43-.59-.52 0-1.04.2-1.43.59L10.3 9.45l-7.72 7.72c-.78.78-.78 2.05 0 2.83L4 21.41c.39.39.9.59 1.41.59.51 0 1.02-.2 1.41-.59l7.78-7.78 2.81-2.81c.8-.78.8-2.07 0-2.86zM5.41 20L4 18.59l7.72-7.72 1.47 1.35L5.41 20z\"/>\n",
              "  </svg>\n",
              "      </button>\n",
              "      \n",
              "  <style>\n",
              "    .colab-df-container {\n",
              "      display:flex;\n",
              "      flex-wrap:wrap;\n",
              "      gap: 12px;\n",
              "    }\n",
              "\n",
              "    .colab-df-convert {\n",
              "      background-color: #E8F0FE;\n",
              "      border: none;\n",
              "      border-radius: 50%;\n",
              "      cursor: pointer;\n",
              "      display: none;\n",
              "      fill: #1967D2;\n",
              "      height: 32px;\n",
              "      padding: 0 0 0 0;\n",
              "      width: 32px;\n",
              "    }\n",
              "\n",
              "    .colab-df-convert:hover {\n",
              "      background-color: #E2EBFA;\n",
              "      box-shadow: 0px 1px 2px rgba(60, 64, 67, 0.3), 0px 1px 3px 1px rgba(60, 64, 67, 0.15);\n",
              "      fill: #174EA6;\n",
              "    }\n",
              "\n",
              "    [theme=dark] .colab-df-convert {\n",
              "      background-color: #3B4455;\n",
              "      fill: #D2E3FC;\n",
              "    }\n",
              "\n",
              "    [theme=dark] .colab-df-convert:hover {\n",
              "      background-color: #434B5C;\n",
              "      box-shadow: 0px 1px 3px 1px rgba(0, 0, 0, 0.15);\n",
              "      filter: drop-shadow(0px 1px 2px rgba(0, 0, 0, 0.3));\n",
              "      fill: #FFFFFF;\n",
              "    }\n",
              "  </style>\n",
              "\n",
              "      <script>\n",
              "        const buttonEl =\n",
              "          document.querySelector('#df-2fcaab08-be2d-4a75-ba0f-ccf9cb57a3e7 button.colab-df-convert');\n",
              "        buttonEl.style.display =\n",
              "          google.colab.kernel.accessAllowed ? 'block' : 'none';\n",
              "\n",
              "        async function convertToInteractive(key) {\n",
              "          const element = document.querySelector('#df-2fcaab08-be2d-4a75-ba0f-ccf9cb57a3e7');\n",
              "          const dataTable =\n",
              "            await google.colab.kernel.invokeFunction('convertToInteractive',\n",
              "                                                     [key], {});\n",
              "          if (!dataTable) return;\n",
              "\n",
              "          const docLinkHtml = 'Like what you see? Visit the ' +\n",
              "            '<a target=\"_blank\" href=https://colab.research.google.com/notebooks/data_table.ipynb>data table notebook</a>'\n",
              "            + ' to learn more about interactive tables.';\n",
              "          element.innerHTML = '';\n",
              "          dataTable['output_type'] = 'display_data';\n",
              "          await google.colab.output.renderOutput(dataTable, element);\n",
              "          const docLink = document.createElement('div');\n",
              "          docLink.innerHTML = docLinkHtml;\n",
              "          element.appendChild(docLink);\n",
              "        }\n",
              "      </script>\n",
              "    </div>\n",
              "  </div>\n",
              "  "
            ]
          },
          "metadata": {},
          "execution_count": 54
        }
      ],
      "source": [
        "df_data.head(50)"
      ]
    },
    {
      "cell_type": "code",
      "execution_count": 55,
      "metadata": {
        "id": "UimkyzjoE7u4"
      },
      "outputs": [],
      "source": [
        "# Create binary grade, class 1-2 or 5-6  = good or bad\n",
        "df_data[\"grade\"] = 0\n",
        "df_data.loc[df_data[\"rating\"] == 'positive', \"grade\"] = 1\n",
        "df_data.loc[df_data[\"rating\"] == 'negative', \"grade\"] = 0"
      ]
    },
    {
      "cell_type": "markdown",
      "source": [
        "For our classification task, we should convert categorical features into numerical features."
      ],
      "metadata": {
        "id": "jdk6wD8V8053"
      }
    },
    {
      "cell_type": "code",
      "execution_count": 56,
      "metadata": {
        "colab": {
          "base_uri": "https://localhost:8080/",
          "height": 337
        },
        "id": "yMFtZUXlFewh",
        "outputId": "b9ee54a8-9aed-4e52-a9a5-42a0bf56a1ae"
      },
      "outputs": [
        {
          "output_type": "execute_result",
          "data": {
            "text/plain": [
              "     rating  \\\n",
              "0  positive   \n",
              "1  negative   \n",
              "2  negative   \n",
              "3  negative   \n",
              "4  negative   \n",
              "\n",
              "                                                                                               comment  \\\n",
              "0  Ich liebe Herrn Dr. Scheeser er nimmt dich immer Zeit für seine Patienten und ist sehr geduldig....   \n",
              "1  Die Behandlungen von Dr. Brede dauern im Schnitt ca. 5-7 Minuten. Beschwerden werden nach meiner...   \n",
              "2  Hilfe bei Zahnschmerzen. <br />\\r\\nNicht diesen Zahnarzt aufsuchen. Lediglich die Mitteilung sie...   \n",
              "3                           Ich bin unzufrieden und kann Frau Dr. Frankenberger nicht weiterempfehlen.   \n",
              "4  Der arzt ist okay,aber es ist für mich offensichtlich,dass er seine arbeit nicht außerordentlich...   \n",
              "\n",
              "                                                                                         comment_clean  \\\n",
              "0              lieb herrn dr schees nimmt imm zeit patient geduld sprechstundenhilf total lieb empfehl   \n",
              "1                behandl dr bred dau schnitt ca minut beschwerd erfahr ernst genomm art unverbind kuhl   \n",
              "2  hilf zahnschmerz zahnarzt aufsuch ledig mitteil jahr besuch trotz hinweis wart schlecht servic j...   \n",
              "3                                                          unzufried frau dr frankenberg weiterempfehl   \n",
              "4                                                         arzt okay offensicht arbeit ausserordent mag   \n",
              "\n",
              "   grade  \n",
              "0      1  \n",
              "1      0  \n",
              "2      0  \n",
              "3      0  \n",
              "4      0  "
            ],
            "text/html": [
              "\n",
              "  <div id=\"df-96bc3591-c7ee-4f36-9d23-be915174623e\">\n",
              "    <div class=\"colab-df-container\">\n",
              "      <div>\n",
              "<style scoped>\n",
              "    .dataframe tbody tr th:only-of-type {\n",
              "        vertical-align: middle;\n",
              "    }\n",
              "\n",
              "    .dataframe tbody tr th {\n",
              "        vertical-align: top;\n",
              "    }\n",
              "\n",
              "    .dataframe thead th {\n",
              "        text-align: right;\n",
              "    }\n",
              "</style>\n",
              "<table border=\"1\" class=\"dataframe\">\n",
              "  <thead>\n",
              "    <tr style=\"text-align: right;\">\n",
              "      <th></th>\n",
              "      <th>rating</th>\n",
              "      <th>comment</th>\n",
              "      <th>comment_clean</th>\n",
              "      <th>grade</th>\n",
              "    </tr>\n",
              "  </thead>\n",
              "  <tbody>\n",
              "    <tr>\n",
              "      <th>0</th>\n",
              "      <td>positive</td>\n",
              "      <td>Ich liebe Herrn Dr. Scheeser er nimmt dich immer Zeit für seine Patienten und ist sehr geduldig....</td>\n",
              "      <td>lieb herrn dr schees nimmt imm zeit patient geduld sprechstundenhilf total lieb empfehl</td>\n",
              "      <td>1</td>\n",
              "    </tr>\n",
              "    <tr>\n",
              "      <th>1</th>\n",
              "      <td>negative</td>\n",
              "      <td>Die Behandlungen von Dr. Brede dauern im Schnitt ca. 5-7 Minuten. Beschwerden werden nach meiner...</td>\n",
              "      <td>behandl dr bred dau schnitt ca minut beschwerd erfahr ernst genomm art unverbind kuhl</td>\n",
              "      <td>0</td>\n",
              "    </tr>\n",
              "    <tr>\n",
              "      <th>2</th>\n",
              "      <td>negative</td>\n",
              "      <td>Hilfe bei Zahnschmerzen. &lt;br /&gt;\\r\\nNicht diesen Zahnarzt aufsuchen. Lediglich die Mitteilung sie...</td>\n",
              "      <td>hilf zahnschmerz zahnarzt aufsuch ledig mitteil jahr besuch trotz hinweis wart schlecht servic j...</td>\n",
              "      <td>0</td>\n",
              "    </tr>\n",
              "    <tr>\n",
              "      <th>3</th>\n",
              "      <td>negative</td>\n",
              "      <td>Ich bin unzufrieden und kann Frau Dr. Frankenberger nicht weiterempfehlen.</td>\n",
              "      <td>unzufried frau dr frankenberg weiterempfehl</td>\n",
              "      <td>0</td>\n",
              "    </tr>\n",
              "    <tr>\n",
              "      <th>4</th>\n",
              "      <td>negative</td>\n",
              "      <td>Der arzt ist okay,aber es ist für mich offensichtlich,dass er seine arbeit nicht außerordentlich...</td>\n",
              "      <td>arzt okay offensicht arbeit ausserordent mag</td>\n",
              "      <td>0</td>\n",
              "    </tr>\n",
              "  </tbody>\n",
              "</table>\n",
              "</div>\n",
              "      <button class=\"colab-df-convert\" onclick=\"convertToInteractive('df-96bc3591-c7ee-4f36-9d23-be915174623e')\"\n",
              "              title=\"Convert this dataframe to an interactive table.\"\n",
              "              style=\"display:none;\">\n",
              "        \n",
              "  <svg xmlns=\"http://www.w3.org/2000/svg\" height=\"24px\"viewBox=\"0 0 24 24\"\n",
              "       width=\"24px\">\n",
              "    <path d=\"M0 0h24v24H0V0z\" fill=\"none\"/>\n",
              "    <path d=\"M18.56 5.44l.94 2.06.94-2.06 2.06-.94-2.06-.94-.94-2.06-.94 2.06-2.06.94zm-11 1L8.5 8.5l.94-2.06 2.06-.94-2.06-.94L8.5 2.5l-.94 2.06-2.06.94zm10 10l.94 2.06.94-2.06 2.06-.94-2.06-.94-.94-2.06-.94 2.06-2.06.94z\"/><path d=\"M17.41 7.96l-1.37-1.37c-.4-.4-.92-.59-1.43-.59-.52 0-1.04.2-1.43.59L10.3 9.45l-7.72 7.72c-.78.78-.78 2.05 0 2.83L4 21.41c.39.39.9.59 1.41.59.51 0 1.02-.2 1.41-.59l7.78-7.78 2.81-2.81c.8-.78.8-2.07 0-2.86zM5.41 20L4 18.59l7.72-7.72 1.47 1.35L5.41 20z\"/>\n",
              "  </svg>\n",
              "      </button>\n",
              "      \n",
              "  <style>\n",
              "    .colab-df-container {\n",
              "      display:flex;\n",
              "      flex-wrap:wrap;\n",
              "      gap: 12px;\n",
              "    }\n",
              "\n",
              "    .colab-df-convert {\n",
              "      background-color: #E8F0FE;\n",
              "      border: none;\n",
              "      border-radius: 50%;\n",
              "      cursor: pointer;\n",
              "      display: none;\n",
              "      fill: #1967D2;\n",
              "      height: 32px;\n",
              "      padding: 0 0 0 0;\n",
              "      width: 32px;\n",
              "    }\n",
              "\n",
              "    .colab-df-convert:hover {\n",
              "      background-color: #E2EBFA;\n",
              "      box-shadow: 0px 1px 2px rgba(60, 64, 67, 0.3), 0px 1px 3px 1px rgba(60, 64, 67, 0.15);\n",
              "      fill: #174EA6;\n",
              "    }\n",
              "\n",
              "    [theme=dark] .colab-df-convert {\n",
              "      background-color: #3B4455;\n",
              "      fill: #D2E3FC;\n",
              "    }\n",
              "\n",
              "    [theme=dark] .colab-df-convert:hover {\n",
              "      background-color: #434B5C;\n",
              "      box-shadow: 0px 1px 3px 1px rgba(0, 0, 0, 0.15);\n",
              "      filter: drop-shadow(0px 1px 2px rgba(0, 0, 0, 0.3));\n",
              "      fill: #FFFFFF;\n",
              "    }\n",
              "  </style>\n",
              "\n",
              "      <script>\n",
              "        const buttonEl =\n",
              "          document.querySelector('#df-96bc3591-c7ee-4f36-9d23-be915174623e button.colab-df-convert');\n",
              "        buttonEl.style.display =\n",
              "          google.colab.kernel.accessAllowed ? 'block' : 'none';\n",
              "\n",
              "        async function convertToInteractive(key) {\n",
              "          const element = document.querySelector('#df-96bc3591-c7ee-4f36-9d23-be915174623e');\n",
              "          const dataTable =\n",
              "            await google.colab.kernel.invokeFunction('convertToInteractive',\n",
              "                                                     [key], {});\n",
              "          if (!dataTable) return;\n",
              "\n",
              "          const docLinkHtml = 'Like what you see? Visit the ' +\n",
              "            '<a target=\"_blank\" href=https://colab.research.google.com/notebooks/data_table.ipynb>data table notebook</a>'\n",
              "            + ' to learn more about interactive tables.';\n",
              "          element.innerHTML = '';\n",
              "          dataTable['output_type'] = 'display_data';\n",
              "          await google.colab.output.renderOutput(dataTable, element);\n",
              "          const docLink = document.createElement('div');\n",
              "          docLink.innerHTML = docLinkHtml;\n",
              "          element.appendChild(docLink);\n",
              "        }\n",
              "      </script>\n",
              "    </div>\n",
              "  </div>\n",
              "  "
            ]
          },
          "metadata": {},
          "execution_count": 56
        }
      ],
      "source": [
        "df_data.head()"
      ]
    },
    {
      "cell_type": "code",
      "execution_count": 57,
      "metadata": {
        "id": "ZZoH19t6FkeS"
      },
      "outputs": [],
      "source": [
        "# Drop when any of x missing\n",
        "df_data = df_data[(df_data[\"comment_clean\"] != \"\") & (df_data[\"comment_clean\"] != \"null\")]\n",
        "\n",
        "df_data = df_data.dropna(\n",
        "    axis=\"index\", subset=[\"grade\", \"comment\", \"comment_clean\"]\n",
        ").reset_index(drop=True)"
      ]
    },
    {
      "cell_type": "code",
      "execution_count": 58,
      "metadata": {
        "id": "V2_StfWmF_pT"
      },
      "outputs": [],
      "source": [
        "df_clean = df_data.copy()"
      ]
    },
    {
      "cell_type": "code",
      "execution_count": 59,
      "metadata": {
        "colab": {
          "base_uri": "https://localhost:8080/",
          "height": 337
        },
        "id": "akx7jI2SGFyj",
        "outputId": "67a3f1eb-4384-4e8d-d354-cae26d473604"
      },
      "outputs": [
        {
          "output_type": "execute_result",
          "data": {
            "text/plain": [
              "     rating  \\\n",
              "0  positive   \n",
              "1  negative   \n",
              "2  negative   \n",
              "3  negative   \n",
              "4  negative   \n",
              "\n",
              "                                                                                               comment  \\\n",
              "0  Ich liebe Herrn Dr. Scheeser er nimmt dich immer Zeit für seine Patienten und ist sehr geduldig....   \n",
              "1  Die Behandlungen von Dr. Brede dauern im Schnitt ca. 5-7 Minuten. Beschwerden werden nach meiner...   \n",
              "2  Hilfe bei Zahnschmerzen. <br />\\r\\nNicht diesen Zahnarzt aufsuchen. Lediglich die Mitteilung sie...   \n",
              "3                           Ich bin unzufrieden und kann Frau Dr. Frankenberger nicht weiterempfehlen.   \n",
              "4  Der arzt ist okay,aber es ist für mich offensichtlich,dass er seine arbeit nicht außerordentlich...   \n",
              "\n",
              "                                                                                         comment_clean  \\\n",
              "0              lieb herrn dr schees nimmt imm zeit patient geduld sprechstundenhilf total lieb empfehl   \n",
              "1                behandl dr bred dau schnitt ca minut beschwerd erfahr ernst genomm art unverbind kuhl   \n",
              "2  hilf zahnschmerz zahnarzt aufsuch ledig mitteil jahr besuch trotz hinweis wart schlecht servic j...   \n",
              "3                                                          unzufried frau dr frankenberg weiterempfehl   \n",
              "4                                                         arzt okay offensicht arbeit ausserordent mag   \n",
              "\n",
              "   grade  \n",
              "0      1  \n",
              "1      0  \n",
              "2      0  \n",
              "3      0  \n",
              "4      0  "
            ],
            "text/html": [
              "\n",
              "  <div id=\"df-e6d88e4e-f26a-49ac-9853-7bafa51913b1\">\n",
              "    <div class=\"colab-df-container\">\n",
              "      <div>\n",
              "<style scoped>\n",
              "    .dataframe tbody tr th:only-of-type {\n",
              "        vertical-align: middle;\n",
              "    }\n",
              "\n",
              "    .dataframe tbody tr th {\n",
              "        vertical-align: top;\n",
              "    }\n",
              "\n",
              "    .dataframe thead th {\n",
              "        text-align: right;\n",
              "    }\n",
              "</style>\n",
              "<table border=\"1\" class=\"dataframe\">\n",
              "  <thead>\n",
              "    <tr style=\"text-align: right;\">\n",
              "      <th></th>\n",
              "      <th>rating</th>\n",
              "      <th>comment</th>\n",
              "      <th>comment_clean</th>\n",
              "      <th>grade</th>\n",
              "    </tr>\n",
              "  </thead>\n",
              "  <tbody>\n",
              "    <tr>\n",
              "      <th>0</th>\n",
              "      <td>positive</td>\n",
              "      <td>Ich liebe Herrn Dr. Scheeser er nimmt dich immer Zeit für seine Patienten und ist sehr geduldig....</td>\n",
              "      <td>lieb herrn dr schees nimmt imm zeit patient geduld sprechstundenhilf total lieb empfehl</td>\n",
              "      <td>1</td>\n",
              "    </tr>\n",
              "    <tr>\n",
              "      <th>1</th>\n",
              "      <td>negative</td>\n",
              "      <td>Die Behandlungen von Dr. Brede dauern im Schnitt ca. 5-7 Minuten. Beschwerden werden nach meiner...</td>\n",
              "      <td>behandl dr bred dau schnitt ca minut beschwerd erfahr ernst genomm art unverbind kuhl</td>\n",
              "      <td>0</td>\n",
              "    </tr>\n",
              "    <tr>\n",
              "      <th>2</th>\n",
              "      <td>negative</td>\n",
              "      <td>Hilfe bei Zahnschmerzen. &lt;br /&gt;\\r\\nNicht diesen Zahnarzt aufsuchen. Lediglich die Mitteilung sie...</td>\n",
              "      <td>hilf zahnschmerz zahnarzt aufsuch ledig mitteil jahr besuch trotz hinweis wart schlecht servic j...</td>\n",
              "      <td>0</td>\n",
              "    </tr>\n",
              "    <tr>\n",
              "      <th>3</th>\n",
              "      <td>negative</td>\n",
              "      <td>Ich bin unzufrieden und kann Frau Dr. Frankenberger nicht weiterempfehlen.</td>\n",
              "      <td>unzufried frau dr frankenberg weiterempfehl</td>\n",
              "      <td>0</td>\n",
              "    </tr>\n",
              "    <tr>\n",
              "      <th>4</th>\n",
              "      <td>negative</td>\n",
              "      <td>Der arzt ist okay,aber es ist für mich offensichtlich,dass er seine arbeit nicht außerordentlich...</td>\n",
              "      <td>arzt okay offensicht arbeit ausserordent mag</td>\n",
              "      <td>0</td>\n",
              "    </tr>\n",
              "  </tbody>\n",
              "</table>\n",
              "</div>\n",
              "      <button class=\"colab-df-convert\" onclick=\"convertToInteractive('df-e6d88e4e-f26a-49ac-9853-7bafa51913b1')\"\n",
              "              title=\"Convert this dataframe to an interactive table.\"\n",
              "              style=\"display:none;\">\n",
              "        \n",
              "  <svg xmlns=\"http://www.w3.org/2000/svg\" height=\"24px\"viewBox=\"0 0 24 24\"\n",
              "       width=\"24px\">\n",
              "    <path d=\"M0 0h24v24H0V0z\" fill=\"none\"/>\n",
              "    <path d=\"M18.56 5.44l.94 2.06.94-2.06 2.06-.94-2.06-.94-.94-2.06-.94 2.06-2.06.94zm-11 1L8.5 8.5l.94-2.06 2.06-.94-2.06-.94L8.5 2.5l-.94 2.06-2.06.94zm10 10l.94 2.06.94-2.06 2.06-.94-2.06-.94-.94-2.06-.94 2.06-2.06.94z\"/><path d=\"M17.41 7.96l-1.37-1.37c-.4-.4-.92-.59-1.43-.59-.52 0-1.04.2-1.43.59L10.3 9.45l-7.72 7.72c-.78.78-.78 2.05 0 2.83L4 21.41c.39.39.9.59 1.41.59.51 0 1.02-.2 1.41-.59l7.78-7.78 2.81-2.81c.8-.78.8-2.07 0-2.86zM5.41 20L4 18.59l7.72-7.72 1.47 1.35L5.41 20z\"/>\n",
              "  </svg>\n",
              "      </button>\n",
              "      \n",
              "  <style>\n",
              "    .colab-df-container {\n",
              "      display:flex;\n",
              "      flex-wrap:wrap;\n",
              "      gap: 12px;\n",
              "    }\n",
              "\n",
              "    .colab-df-convert {\n",
              "      background-color: #E8F0FE;\n",
              "      border: none;\n",
              "      border-radius: 50%;\n",
              "      cursor: pointer;\n",
              "      display: none;\n",
              "      fill: #1967D2;\n",
              "      height: 32px;\n",
              "      padding: 0 0 0 0;\n",
              "      width: 32px;\n",
              "    }\n",
              "\n",
              "    .colab-df-convert:hover {\n",
              "      background-color: #E2EBFA;\n",
              "      box-shadow: 0px 1px 2px rgba(60, 64, 67, 0.3), 0px 1px 3px 1px rgba(60, 64, 67, 0.15);\n",
              "      fill: #174EA6;\n",
              "    }\n",
              "\n",
              "    [theme=dark] .colab-df-convert {\n",
              "      background-color: #3B4455;\n",
              "      fill: #D2E3FC;\n",
              "    }\n",
              "\n",
              "    [theme=dark] .colab-df-convert:hover {\n",
              "      background-color: #434B5C;\n",
              "      box-shadow: 0px 1px 3px 1px rgba(0, 0, 0, 0.15);\n",
              "      filter: drop-shadow(0px 1px 2px rgba(0, 0, 0, 0.3));\n",
              "      fill: #FFFFFF;\n",
              "    }\n",
              "  </style>\n",
              "\n",
              "      <script>\n",
              "        const buttonEl =\n",
              "          document.querySelector('#df-e6d88e4e-f26a-49ac-9853-7bafa51913b1 button.colab-df-convert');\n",
              "        buttonEl.style.display =\n",
              "          google.colab.kernel.accessAllowed ? 'block' : 'none';\n",
              "\n",
              "        async function convertToInteractive(key) {\n",
              "          const element = document.querySelector('#df-e6d88e4e-f26a-49ac-9853-7bafa51913b1');\n",
              "          const dataTable =\n",
              "            await google.colab.kernel.invokeFunction('convertToInteractive',\n",
              "                                                     [key], {});\n",
              "          if (!dataTable) return;\n",
              "\n",
              "          const docLinkHtml = 'Like what you see? Visit the ' +\n",
              "            '<a target=\"_blank\" href=https://colab.research.google.com/notebooks/data_table.ipynb>data table notebook</a>'\n",
              "            + ' to learn more about interactive tables.';\n",
              "          element.innerHTML = '';\n",
              "          dataTable['output_type'] = 'display_data';\n",
              "          await google.colab.output.renderOutput(dataTable, element);\n",
              "          const docLink = document.createElement('div');\n",
              "          docLink.innerHTML = docLinkHtml;\n",
              "          element.appendChild(docLink);\n",
              "        }\n",
              "      </script>\n",
              "    </div>\n",
              "  </div>\n",
              "  "
            ]
          },
          "metadata": {},
          "execution_count": 59
        }
      ],
      "source": [
        "df_clean.head()"
      ]
    },
    {
      "cell_type": "code",
      "execution_count": 60,
      "metadata": {
        "colab": {
          "base_uri": "https://localhost:8080/"
        },
        "id": "6-bpj9xeHB09",
        "outputId": "43b8bf3d-a9f8-4b37-afe9-da7ea4ba21c4"
      },
      "outputs": [
        {
          "output_type": "execute_result",
          "data": {
            "text/plain": [
              "arzt          5195\n",
              "gut           4542\n",
              "dr            3662\n",
              "freundlich    3329\n",
              "zeit          3260\n",
              "dtype: int64"
            ]
          },
          "metadata": {},
          "execution_count": 60
        }
      ],
      "source": [
        "from bokeh.models import NumeralTickFormatter\n",
        "import matplotlib.pyplot as plt\n",
        "# Word Frequency of most common words\n",
        "word_freq = pd.Series(\" \".join(df_clean[\"comment_clean\"]).split()).value_counts()\n",
        "word_freq.head()"
      ]
    },
    {
      "cell_type": "code",
      "source": [
        "from collections import Counter\n",
        "df_clean['temp_list'] = df_clean['comment_clean'].apply(lambda x:str(x).split())\n",
        "top = Counter([item for sublist in df_clean['temp_list'] for item in sublist])\n",
        "temp = pd.DataFrame(top.most_common(20))\n",
        "temp.columns = ['Common_words','count']\n",
        "temp.style.background_gradient(cmap='Blues')"
      ],
      "metadata": {
        "colab": {
          "base_uri": "https://localhost:8080/",
          "height": 677
        },
        "id": "buH7V6vGhiGP",
        "outputId": "bfa8d378-ecd0-49b0-b582-df27a9ea1f05"
      },
      "execution_count": 61,
      "outputs": [
        {
          "output_type": "execute_result",
          "data": {
            "text/plain": [
              "<pandas.io.formats.style.Styler at 0x7f02b31952b0>"
            ],
            "text/html": [
              "<style type=\"text/css\">\n",
              "#T_8ee52_row0_col1 {\n",
              "  background-color: #08306b;\n",
              "  color: #f1f1f1;\n",
              "}\n",
              "#T_8ee52_row1_col1 {\n",
              "  background-color: #125ea6;\n",
              "  color: #f1f1f1;\n",
              "}\n",
              "#T_8ee52_row2_col1 {\n",
              "  background-color: #519ccc;\n",
              "  color: #f1f1f1;\n",
              "}\n",
              "#T_8ee52_row3_col1 {\n",
              "  background-color: #6fb0d7;\n",
              "  color: #f1f1f1;\n",
              "}\n",
              "#T_8ee52_row4_col1 {\n",
              "  background-color: #77b5d9;\n",
              "  color: #000000;\n",
              "}\n",
              "#T_8ee52_row5_col1 {\n",
              "  background-color: #79b5d9;\n",
              "  color: #000000;\n",
              "}\n",
              "#T_8ee52_row6_col1 {\n",
              "  background-color: #97c6df;\n",
              "  color: #000000;\n",
              "}\n",
              "#T_8ee52_row7_col1 {\n",
              "  background-color: #a0cbe2;\n",
              "  color: #000000;\n",
              "}\n",
              "#T_8ee52_row8_col1, #T_8ee52_row9_col1 {\n",
              "  background-color: #b7d4ea;\n",
              "  color: #000000;\n",
              "}\n",
              "#T_8ee52_row10_col1 {\n",
              "  background-color: #c3daee;\n",
              "  color: #000000;\n",
              "}\n",
              "#T_8ee52_row11_col1 {\n",
              "  background-color: #cddff1;\n",
              "  color: #000000;\n",
              "}\n",
              "#T_8ee52_row12_col1 {\n",
              "  background-color: #cfe1f2;\n",
              "  color: #000000;\n",
              "}\n",
              "#T_8ee52_row13_col1 {\n",
              "  background-color: #d7e6f5;\n",
              "  color: #000000;\n",
              "}\n",
              "#T_8ee52_row14_col1 {\n",
              "  background-color: #dce9f6;\n",
              "  color: #000000;\n",
              "}\n",
              "#T_8ee52_row15_col1 {\n",
              "  background-color: #e6f0f9;\n",
              "  color: #000000;\n",
              "}\n",
              "#T_8ee52_row16_col1 {\n",
              "  background-color: #e7f1fa;\n",
              "  color: #000000;\n",
              "}\n",
              "#T_8ee52_row17_col1 {\n",
              "  background-color: #eaf2fb;\n",
              "  color: #000000;\n",
              "}\n",
              "#T_8ee52_row18_col1 {\n",
              "  background-color: #f3f8fe;\n",
              "  color: #000000;\n",
              "}\n",
              "#T_8ee52_row19_col1 {\n",
              "  background-color: #f7fbff;\n",
              "  color: #000000;\n",
              "}\n",
              "</style>\n",
              "<table id=\"T_8ee52\" class=\"dataframe\">\n",
              "  <thead>\n",
              "    <tr>\n",
              "      <th class=\"blank level0\" >&nbsp;</th>\n",
              "      <th id=\"T_8ee52_level0_col0\" class=\"col_heading level0 col0\" >Common_words</th>\n",
              "      <th id=\"T_8ee52_level0_col1\" class=\"col_heading level0 col1\" >count</th>\n",
              "    </tr>\n",
              "  </thead>\n",
              "  <tbody>\n",
              "    <tr>\n",
              "      <th id=\"T_8ee52_level0_row0\" class=\"row_heading level0 row0\" >0</th>\n",
              "      <td id=\"T_8ee52_row0_col0\" class=\"data row0 col0\" >arzt</td>\n",
              "      <td id=\"T_8ee52_row0_col1\" class=\"data row0 col1\" >5195</td>\n",
              "    </tr>\n",
              "    <tr>\n",
              "      <th id=\"T_8ee52_level0_row1\" class=\"row_heading level0 row1\" >1</th>\n",
              "      <td id=\"T_8ee52_row1_col0\" class=\"data row1 col0\" >gut</td>\n",
              "      <td id=\"T_8ee52_row1_col1\" class=\"data row1 col1\" >4542</td>\n",
              "    </tr>\n",
              "    <tr>\n",
              "      <th id=\"T_8ee52_level0_row2\" class=\"row_heading level0 row2\" >2</th>\n",
              "      <td id=\"T_8ee52_row2_col0\" class=\"data row2 col0\" >dr</td>\n",
              "      <td id=\"T_8ee52_row2_col1\" class=\"data row2 col1\" >3662</td>\n",
              "    </tr>\n",
              "    <tr>\n",
              "      <th id=\"T_8ee52_level0_row3\" class=\"row_heading level0 row3\" >3</th>\n",
              "      <td id=\"T_8ee52_row3_col0\" class=\"data row3 col0\" >freundlich</td>\n",
              "      <td id=\"T_8ee52_row3_col1\" class=\"data row3 col1\" >3329</td>\n",
              "    </tr>\n",
              "    <tr>\n",
              "      <th id=\"T_8ee52_level0_row4\" class=\"row_heading level0 row4\" >4</th>\n",
              "      <td id=\"T_8ee52_row4_col0\" class=\"data row4 col0\" >zeit</td>\n",
              "      <td id=\"T_8ee52_row4_col1\" class=\"data row4 col1\" >3260</td>\n",
              "    </tr>\n",
              "    <tr>\n",
              "      <th id=\"T_8ee52_level0_row5\" class=\"row_heading level0 row5\" >5</th>\n",
              "      <td id=\"T_8ee52_row5_col0\" class=\"data row5 col0\" >praxis</td>\n",
              "      <td id=\"T_8ee52_row5_col1\" class=\"data row5 col1\" >3246</td>\n",
              "    </tr>\n",
              "    <tr>\n",
              "      <th id=\"T_8ee52_level0_row6\" class=\"row_heading level0 row6\" >6</th>\n",
              "      <td id=\"T_8ee52_row6_col0\" class=\"data row6 col0\" >behandl</td>\n",
              "      <td id=\"T_8ee52_row6_col1\" class=\"data row6 col1\" >2968</td>\n",
              "    </tr>\n",
              "    <tr>\n",
              "      <th id=\"T_8ee52_level0_row7\" class=\"row_heading level0 row7\" >7</th>\n",
              "      <td id=\"T_8ee52_row7_col0\" class=\"data row7 col0\" >patient</td>\n",
              "      <td id=\"T_8ee52_row7_col1\" class=\"data row7 col1\" >2893</td>\n",
              "    </tr>\n",
              "    <tr>\n",
              "      <th id=\"T_8ee52_level0_row8\" class=\"row_heading level0 row8\" >8</th>\n",
              "      <td id=\"T_8ee52_row8_col0\" class=\"data row8 col0\" >unfreund</td>\n",
              "      <td id=\"T_8ee52_row8_col1\" class=\"data row8 col1\" >2635</td>\n",
              "    </tr>\n",
              "    <tr>\n",
              "      <th id=\"T_8ee52_level0_row9\" class=\"row_heading level0 row9\" >9</th>\n",
              "      <td id=\"T_8ee52_row9_col0\" class=\"data row9 col0\" >kompetent</td>\n",
              "      <td id=\"T_8ee52_row9_col1\" class=\"data row9 col1\" >2633</td>\n",
              "    </tr>\n",
              "    <tr>\n",
              "      <th id=\"T_8ee52_level0_row10\" class=\"row_heading level0 row10\" >10</th>\n",
              "      <td id=\"T_8ee52_row10_col0\" class=\"data row10 col0\" >termin</td>\n",
              "      <td id=\"T_8ee52_row10_col1\" class=\"data row10 col1\" >2485</td>\n",
              "    </tr>\n",
              "    <tr>\n",
              "      <th id=\"T_8ee52_level0_row11\" class=\"row_heading level0 row11\" >11</th>\n",
              "      <td id=\"T_8ee52_row11_col0\" class=\"data row11 col0\" >arztin</td>\n",
              "      <td id=\"T_8ee52_row11_col1\" class=\"data row11 col1\" >2331</td>\n",
              "    </tr>\n",
              "    <tr>\n",
              "      <th id=\"T_8ee52_level0_row12\" class=\"row_heading level0 row12\" >12</th>\n",
              "      <td id=\"T_8ee52_row12_col0\" class=\"data row12 col0\" >wurd</td>\n",
              "      <td id=\"T_8ee52_row12_col1\" class=\"data row12 col1\" >2286</td>\n",
              "    </tr>\n",
              "    <tr>\n",
              "      <th id=\"T_8ee52_level0_row13\" class=\"row_heading level0 row13\" >13</th>\n",
              "      <td id=\"T_8ee52_row13_col0\" class=\"data row13 col0\" >wartezeit</td>\n",
              "      <td id=\"T_8ee52_row13_col1\" class=\"data row13 col1\" >2125</td>\n",
              "    </tr>\n",
              "    <tr>\n",
              "      <th id=\"T_8ee52_level0_row14\" class=\"row_heading level0 row14\" >14</th>\n",
              "      <td id=\"T_8ee52_row14_col0\" class=\"data row14 col0\" >empfehl</td>\n",
              "      <td id=\"T_8ee52_row14_col1\" class=\"data row14 col1\" >2050</td>\n",
              "    </tr>\n",
              "    <tr>\n",
              "      <th id=\"T_8ee52_level0_row15\" class=\"row_heading level0 row15\" >15</th>\n",
              "      <td id=\"T_8ee52_row15_col0\" class=\"data row15 col0\" >imm</td>\n",
              "      <td id=\"T_8ee52_row15_col1\" class=\"data row15 col1\" >1858</td>\n",
              "    </tr>\n",
              "    <tr>\n",
              "      <th id=\"T_8ee52_level0_row16\" class=\"row_heading level0 row16\" >16</th>\n",
              "      <td id=\"T_8ee52_row16_col0\" class=\"data row16 col0\" >nett</td>\n",
              "      <td id=\"T_8ee52_row16_col1\" class=\"data row16 col1\" >1835</td>\n",
              "    </tr>\n",
              "    <tr>\n",
              "      <th id=\"T_8ee52_level0_row17\" class=\"row_heading level0 row17\" >17</th>\n",
              "      <td id=\"T_8ee52_row17_col0\" class=\"data row17 col0\" >nimmt</td>\n",
              "      <td id=\"T_8ee52_row17_col1\" class=\"data row17 col1\" >1788</td>\n",
              "    </tr>\n",
              "    <tr>\n",
              "      <th id=\"T_8ee52_level0_row18\" class=\"row_heading level0 row18\" >18</th>\n",
              "      <td id=\"T_8ee52_row18_col0\" class=\"data row18 col0\" >frau</td>\n",
              "      <td id=\"T_8ee52_row18_col1\" class=\"data row18 col1\" >1619</td>\n",
              "    </tr>\n",
              "    <tr>\n",
              "      <th id=\"T_8ee52_level0_row19\" class=\"row_heading level0 row19\" >19</th>\n",
              "      <td id=\"T_8ee52_row19_col0\" class=\"data row19 col0\" >lang</td>\n",
              "      <td id=\"T_8ee52_row19_col1\" class=\"data row19 col1\" >1539</td>\n",
              "    </tr>\n",
              "  </tbody>\n",
              "</table>\n"
            ]
          },
          "metadata": {},
          "execution_count": 61
        }
      ]
    },
    {
      "cell_type": "code",
      "source": [
        "sns.countplot(data=df_clean, x = 'grade')"
      ],
      "metadata": {
        "colab": {
          "base_uri": "https://localhost:8080/",
          "height": 378
        },
        "id": "RftuVasSiHYt",
        "outputId": "53556e20-564a-442a-ecaf-298b8e0ab2e7"
      },
      "execution_count": 62,
      "outputs": [
        {
          "output_type": "execute_result",
          "data": {
            "text/plain": [
              "<Axes: xlabel='grade', ylabel='count'>"
            ]
          },
          "metadata": {},
          "execution_count": 62
        },
        {
          "output_type": "display_data",
          "data": {
            "text/plain": [
              "<Figure size 576x396 with 1 Axes>"
            ],
            "image/png": "[encoded data removed]"
          },
          "metadata": {}
        }
      ]
    },
    {
      "cell_type": "code",
      "source": [
        "df_positive = df_clean[df_clean['rating']=='positive']\n",
        "df_negative = df_clean[df_clean['rating']=='negative']"
      ],
      "metadata": {
        "id": "phkKC4wLBiaQ"
      },
      "execution_count": 63,
      "outputs": []
    },
    {
      "cell_type": "markdown",
      "source": [
        "**Most frequent words in positive comments**\n",
        "\n"
      ],
      "metadata": {
        "id": "1i-pCKI3DhIV"
      }
    },
    {
      "cell_type": "code",
      "source": [
        "df_positive['temp_list_positive'] = df_positive['comment_clean'].apply(lambda x:str(x).split())\n",
        "top = Counter([item for sublist in df_positive['temp_list_positive'] for item in sublist])\n",
        "temp = pd.DataFrame(top.most_common(20))\n",
        "temp.columns = ['Common_words','count']\n",
        "temp.style.background_gradient(cmap='Reds')"
      ],
      "metadata": {
        "colab": {
          "base_uri": "https://localhost:8080/",
          "height": 801
        },
        "id": "5qD_U_reCc8H",
        "outputId": "415873cd-e835-43c2-b8c7-53d27915b7cb"
      },
      "execution_count": 64,
      "outputs": [
        {
          "output_type": "stream",
          "name": "stderr",
          "text": [
            "<ipython-input-64-583eca23ebce>:1: SettingWithCopyWarning: \n",
            "A value is trying to be set on a copy of a slice from a DataFrame.\n",
            "Try using .loc[row_indexer,col_indexer] = value instead\n",
            "\n",
            "See the caveats in the documentation: https://pandas.pydata.org/pandas-docs/stable/user_guide/indexing.html#returning-a-view-versus-a-copy\n",
            "  df_positive['temp_list_positive'] = df_positive['comment_clean'].apply(lambda x:str(x).split())\n"
          ]
        },
        {
          "output_type": "execute_result",
          "data": {
            "text/plain": [
              "<pandas.io.formats.style.Styler at 0x7f02b16bbcd0>"
            ],
            "text/html": [
              "<style type=\"text/css\">\n",
              "#T_1bab9_row0_col1 {\n",
              "  background-color: #67000d;\n",
              "  color: #f1f1f1;\n",
              "}\n",
              "#T_1bab9_row1_col1 {\n",
              "  background-color: #e22e27;\n",
              "  color: #f1f1f1;\n",
              "}\n",
              "#T_1bab9_row2_col1 {\n",
              "  background-color: #f24633;\n",
              "  color: #f1f1f1;\n",
              "}\n",
              "#T_1bab9_row3_col1 {\n",
              "  background-color: #fa6648;\n",
              "  color: #f1f1f1;\n",
              "}\n",
              "#T_1bab9_row4_col1 {\n",
              "  background-color: #fb7353;\n",
              "  color: #f1f1f1;\n",
              "}\n",
              "#T_1bab9_row5_col1 {\n",
              "  background-color: #fc9373;\n",
              "  color: #000000;\n",
              "}\n",
              "#T_1bab9_row6_col1 {\n",
              "  background-color: #fc9879;\n",
              "  color: #000000;\n",
              "}\n",
              "#T_1bab9_row7_col1 {\n",
              "  background-color: #fcae92;\n",
              "  color: #000000;\n",
              "}\n",
              "#T_1bab9_row8_col1 {\n",
              "  background-color: #fcbea5;\n",
              "  color: #000000;\n",
              "}\n",
              "#T_1bab9_row9_col1 {\n",
              "  background-color: #fdc6b0;\n",
              "  color: #000000;\n",
              "}\n",
              "#T_1bab9_row10_col1 {\n",
              "  background-color: #fdd3c1;\n",
              "  color: #000000;\n",
              "}\n",
              "#T_1bab9_row11_col1 {\n",
              "  background-color: #fedecf;\n",
              "  color: #000000;\n",
              "}\n",
              "#T_1bab9_row12_col1, #T_1bab9_row13_col1 {\n",
              "  background-color: #fee0d2;\n",
              "  color: #000000;\n",
              "}\n",
              "#T_1bab9_row14_col1 {\n",
              "  background-color: #fee3d7;\n",
              "  color: #000000;\n",
              "}\n",
              "#T_1bab9_row15_col1 {\n",
              "  background-color: #ffebe2;\n",
              "  color: #000000;\n",
              "}\n",
              "#T_1bab9_row16_col1 {\n",
              "  background-color: #ffece3;\n",
              "  color: #000000;\n",
              "}\n",
              "#T_1bab9_row17_col1 {\n",
              "  background-color: #ffece4;\n",
              "  color: #000000;\n",
              "}\n",
              "#T_1bab9_row18_col1, #T_1bab9_row19_col1 {\n",
              "  background-color: #fff5f0;\n",
              "  color: #000000;\n",
              "}\n",
              "</style>\n",
              "<table id=\"T_1bab9\" class=\"dataframe\">\n",
              "  <thead>\n",
              "    <tr>\n",
              "      <th class=\"blank level0\" >&nbsp;</th>\n",
              "      <th id=\"T_1bab9_level0_col0\" class=\"col_heading level0 col0\" >Common_words</th>\n",
              "      <th id=\"T_1bab9_level0_col1\" class=\"col_heading level0 col1\" >count</th>\n",
              "    </tr>\n",
              "  </thead>\n",
              "  <tbody>\n",
              "    <tr>\n",
              "      <th id=\"T_1bab9_level0_row0\" class=\"row_heading level0 row0\" >0</th>\n",
              "      <td id=\"T_1bab9_row0_col0\" class=\"data row0 col0\" >gut</td>\n",
              "      <td id=\"T_1bab9_row0_col1\" class=\"data row0 col1\" >3877</td>\n",
              "    </tr>\n",
              "    <tr>\n",
              "      <th id=\"T_1bab9_level0_row1\" class=\"row_heading level0 row1\" >1</th>\n",
              "      <td id=\"T_1bab9_row1_col0\" class=\"data row1 col0\" >freundlich</td>\n",
              "      <td id=\"T_1bab9_row1_col1\" class=\"data row1 col1\" >2880</td>\n",
              "    </tr>\n",
              "    <tr>\n",
              "      <th id=\"T_1bab9_level0_row2\" class=\"row_heading level0 row2\" >2</th>\n",
              "      <td id=\"T_1bab9_row2_col0\" class=\"data row2 col0\" >dr</td>\n",
              "      <td id=\"T_1bab9_row2_col1\" class=\"data row2 col1\" >2663</td>\n",
              "    </tr>\n",
              "    <tr>\n",
              "      <th id=\"T_1bab9_level0_row3\" class=\"row_heading level0 row3\" >3</th>\n",
              "      <td id=\"T_1bab9_row3_col0\" class=\"data row3 col0\" >kompetent</td>\n",
              "      <td id=\"T_1bab9_row3_col1\" class=\"data row3 col1\" >2398</td>\n",
              "    </tr>\n",
              "    <tr>\n",
              "      <th id=\"T_1bab9_level0_row4\" class=\"row_heading level0 row4\" >4</th>\n",
              "      <td id=\"T_1bab9_row4_col0\" class=\"data row4 col0\" >arzt</td>\n",
              "      <td id=\"T_1bab9_row4_col1\" class=\"data row4 col1\" >2287</td>\n",
              "    </tr>\n",
              "    <tr>\n",
              "      <th id=\"T_1bab9_level0_row5\" class=\"row_heading level0 row5\" >5</th>\n",
              "      <td id=\"T_1bab9_row5_col0\" class=\"data row5 col0\" >zeit</td>\n",
              "      <td id=\"T_1bab9_row5_col1\" class=\"data row5 col1\" >1986</td>\n",
              "    </tr>\n",
              "    <tr>\n",
              "      <th id=\"T_1bab9_level0_row6\" class=\"row_heading level0 row6\" >6</th>\n",
              "      <td id=\"T_1bab9_row6_col0\" class=\"data row6 col0\" >praxis</td>\n",
              "      <td id=\"T_1bab9_row6_col1\" class=\"data row6 col1\" >1942</td>\n",
              "    </tr>\n",
              "    <tr>\n",
              "      <th id=\"T_1bab9_level0_row7\" class=\"row_heading level0 row7\" >7</th>\n",
              "      <td id=\"T_1bab9_row7_col0\" class=\"data row7 col0\" >behandl</td>\n",
              "      <td id=\"T_1bab9_row7_col1\" class=\"data row7 col1\" >1746</td>\n",
              "    </tr>\n",
              "    <tr>\n",
              "      <th id=\"T_1bab9_level0_row8\" class=\"row_heading level0 row8\" >8</th>\n",
              "      <td id=\"T_1bab9_row8_col0\" class=\"data row8 col0\" >nett</td>\n",
              "      <td id=\"T_1bab9_row8_col1\" class=\"data row8 col1\" >1586</td>\n",
              "    </tr>\n",
              "    <tr>\n",
              "      <th id=\"T_1bab9_level0_row9\" class=\"row_heading level0 row9\" >9</th>\n",
              "      <td id=\"T_1bab9_row9_col0\" class=\"data row9 col0\" >imm</td>\n",
              "      <td id=\"T_1bab9_row9_col1\" class=\"data row9 col1\" >1503</td>\n",
              "    </tr>\n",
              "    <tr>\n",
              "      <th id=\"T_1bab9_level0_row10\" class=\"row_heading level0 row10\" >10</th>\n",
              "      <td id=\"T_1bab9_row10_col0\" class=\"data row10 col0\" >zufried</td>\n",
              "      <td id=\"T_1bab9_row10_col1\" class=\"data row10 col1\" >1377</td>\n",
              "    </tr>\n",
              "    <tr>\n",
              "      <th id=\"T_1bab9_level0_row11\" class=\"row_heading level0 row11\" >11</th>\n",
              "      <td id=\"T_1bab9_row11_col0\" class=\"data row11 col0\" >termin</td>\n",
              "      <td id=\"T_1bab9_row11_col1\" class=\"data row11 col1\" >1271</td>\n",
              "    </tr>\n",
              "    <tr>\n",
              "      <th id=\"T_1bab9_level0_row12\" class=\"row_heading level0 row12\" >12</th>\n",
              "      <td id=\"T_1bab9_row12_col0\" class=\"data row12 col0\" >wartezeit</td>\n",
              "      <td id=\"T_1bab9_row12_col1\" class=\"data row12 col1\" >1247</td>\n",
              "    </tr>\n",
              "    <tr>\n",
              "      <th id=\"T_1bab9_level0_row13\" class=\"row_heading level0 row13\" >13</th>\n",
              "      <td id=\"T_1bab9_row13_col0\" class=\"data row13 col0\" >nimmt</td>\n",
              "      <td id=\"T_1bab9_row13_col1\" class=\"data row13 col1\" >1244</td>\n",
              "    </tr>\n",
              "    <tr>\n",
              "      <th id=\"T_1bab9_level0_row14\" class=\"row_heading level0 row14\" >14</th>\n",
              "      <td id=\"T_1bab9_row14_col0\" class=\"data row14 col0\" >patient</td>\n",
              "      <td id=\"T_1bab9_row14_col1\" class=\"data row14 col1\" >1181</td>\n",
              "    </tr>\n",
              "    <tr>\n",
              "      <th id=\"T_1bab9_level0_row15\" class=\"row_heading level0 row15\" >15</th>\n",
              "      <td id=\"T_1bab9_row15_col0\" class=\"data row15 col0\" >empfehl</td>\n",
              "      <td id=\"T_1bab9_row15_col1\" class=\"data row15 col1\" >1050</td>\n",
              "    </tr>\n",
              "    <tr>\n",
              "      <th id=\"T_1bab9_level0_row16\" class=\"row_heading level0 row16\" >16</th>\n",
              "      <td id=\"T_1bab9_row16_col0\" class=\"data row16 col0\" >frau</td>\n",
              "      <td id=\"T_1bab9_row16_col1\" class=\"data row16 col1\" >1029</td>\n",
              "    </tr>\n",
              "    <tr>\n",
              "      <th id=\"T_1bab9_level0_row17\" class=\"row_heading level0 row17\" >17</th>\n",
              "      <td id=\"T_1bab9_row17_col0\" class=\"data row17 col0\" >arztin</td>\n",
              "      <td id=\"T_1bab9_row17_col1\" class=\"data row17 col1\" >1026</td>\n",
              "    </tr>\n",
              "    <tr>\n",
              "      <th id=\"T_1bab9_level0_row18\" class=\"row_heading level0 row18\" >18</th>\n",
              "      <td id=\"T_1bab9_row18_col0\" class=\"data row18 col0\" >wurd</td>\n",
              "      <td id=\"T_1bab9_row18_col1\" class=\"data row18 col1\" >867</td>\n",
              "    </tr>\n",
              "    <tr>\n",
              "      <th id=\"T_1bab9_level0_row19\" class=\"row_heading level0 row19\" >19</th>\n",
              "      <td id=\"T_1bab9_row19_col0\" class=\"data row19 col0\" >jahr</td>\n",
              "      <td id=\"T_1bab9_row19_col1\" class=\"data row19 col1\" >863</td>\n",
              "    </tr>\n",
              "  </tbody>\n",
              "</table>\n"
            ]
          },
          "metadata": {},
          "execution_count": 64
        }
      ]
    },
    {
      "cell_type": "markdown",
      "source": [
        "**Most frequent words in negative comments**"
      ],
      "metadata": {
        "id": "RS5pkkcqDxAO"
      }
    },
    {
      "cell_type": "code",
      "source": [
        "df_negative['temp_list_negative'] = df_negative['comment_clean'].apply(lambda x:str(x).split())\n",
        "top = Counter([item for sublist in df_negative['temp_list_negative'] for item in sublist])\n",
        "temp = pd.DataFrame(top.most_common(20))\n",
        "temp.columns = ['Common_words','count']\n",
        "temp.style.background_gradient(cmap='Greens')"
      ],
      "metadata": {
        "colab": {
          "base_uri": "https://localhost:8080/",
          "height": 801
        },
        "id": "0HaavsThC5i3",
        "outputId": "ddcae0cf-3e28-4446-d6f2-7a586677bef8"
      },
      "execution_count": 65,
      "outputs": [
        {
          "output_type": "stream",
          "name": "stderr",
          "text": [
            "<ipython-input-65-3bf886b2c98c>:1: SettingWithCopyWarning: \n",
            "A value is trying to be set on a copy of a slice from a DataFrame.\n",
            "Try using .loc[row_indexer,col_indexer] = value instead\n",
            "\n",
            "See the caveats in the documentation: https://pandas.pydata.org/pandas-docs/stable/user_guide/indexing.html#returning-a-view-versus-a-copy\n",
            "  df_negative['temp_list_negative'] = df_negative['comment_clean'].apply(lambda x:str(x).split())\n"
          ]
        },
        {
          "output_type": "execute_result",
          "data": {
            "text/plain": [
              "<pandas.io.formats.style.Styler at 0x7f02b31ea700>"
            ],
            "text/html": [
              "<style type=\"text/css\">\n",
              "#T_eee70_row0_col1 {\n",
              "  background-color: #00441b;\n",
              "  color: #f1f1f1;\n",
              "}\n",
              "#T_eee70_row1_col1 {\n",
              "  background-color: #16803c;\n",
              "  color: #f1f1f1;\n",
              "}\n",
              "#T_eee70_row2_col1 {\n",
              "  background-color: #80ca80;\n",
              "  color: #000000;\n",
              "}\n",
              "#T_eee70_row3_col1 {\n",
              "  background-color: #acdea6;\n",
              "  color: #000000;\n",
              "}\n",
              "#T_eee70_row4_col1, #T_eee70_row5_col1 {\n",
              "  background-color: #bce4b5;\n",
              "  color: #000000;\n",
              "}\n",
              "#T_eee70_row6_col1 {\n",
              "  background-color: #c1e6ba;\n",
              "  color: #000000;\n",
              "}\n",
              "#T_eee70_row7_col1 {\n",
              "  background-color: #c4e8bd;\n",
              "  color: #000000;\n",
              "}\n",
              "#T_eee70_row8_col1 {\n",
              "  background-color: #c7e9c0;\n",
              "  color: #000000;\n",
              "}\n",
              "#T_eee70_row9_col1 {\n",
              "  background-color: #c8e9c1;\n",
              "  color: #000000;\n",
              "}\n",
              "#T_eee70_row10_col1, #T_eee70_row11_col1 {\n",
              "  background-color: #dff3da;\n",
              "  color: #000000;\n",
              "}\n",
              "#T_eee70_row12_col1 {\n",
              "  background-color: #e9f7e5;\n",
              "  color: #000000;\n",
              "}\n",
              "#T_eee70_row13_col1, #T_eee70_row14_col1 {\n",
              "  background-color: #ecf8e8;\n",
              "  color: #000000;\n",
              "}\n",
              "#T_eee70_row15_col1 {\n",
              "  background-color: #f0f9ed;\n",
              "  color: #000000;\n",
              "}\n",
              "#T_eee70_row16_col1 {\n",
              "  background-color: #f3faf0;\n",
              "  color: #000000;\n",
              "}\n",
              "#T_eee70_row17_col1 {\n",
              "  background-color: #f4fbf1;\n",
              "  color: #000000;\n",
              "}\n",
              "#T_eee70_row18_col1, #T_eee70_row19_col1 {\n",
              "  background-color: #f7fcf5;\n",
              "  color: #000000;\n",
              "}\n",
              "</style>\n",
              "<table id=\"T_eee70\" class=\"dataframe\">\n",
              "  <thead>\n",
              "    <tr>\n",
              "      <th class=\"blank level0\" >&nbsp;</th>\n",
              "      <th id=\"T_eee70_level0_col0\" class=\"col_heading level0 col0\" >Common_words</th>\n",
              "      <th id=\"T_eee70_level0_col1\" class=\"col_heading level0 col1\" >count</th>\n",
              "    </tr>\n",
              "  </thead>\n",
              "  <tbody>\n",
              "    <tr>\n",
              "      <th id=\"T_eee70_level0_row0\" class=\"row_heading level0 row0\" >0</th>\n",
              "      <td id=\"T_eee70_row0_col0\" class=\"data row0 col0\" >arzt</td>\n",
              "      <td id=\"T_eee70_row0_col1\" class=\"data row0 col1\" >2908</td>\n",
              "    </tr>\n",
              "    <tr>\n",
              "      <th id=\"T_eee70_level0_row1\" class=\"row_heading level0 row1\" >1</th>\n",
              "      <td id=\"T_eee70_row1_col0\" class=\"data row1 col0\" >unfreund</td>\n",
              "      <td id=\"T_eee70_row1_col1\" class=\"data row1 col1\" >2449</td>\n",
              "    </tr>\n",
              "    <tr>\n",
              "      <th id=\"T_eee70_level0_row2\" class=\"row_heading level0 row2\" >2</th>\n",
              "      <td id=\"T_eee70_row2_col0\" class=\"data row2 col0\" >patient</td>\n",
              "      <td id=\"T_eee70_row2_col1\" class=\"data row2 col1\" >1712</td>\n",
              "    </tr>\n",
              "    <tr>\n",
              "      <th id=\"T_eee70_level0_row3\" class=\"row_heading level0 row3\" >3</th>\n",
              "      <td id=\"T_eee70_row3_col0\" class=\"data row3 col0\" >wurd</td>\n",
              "      <td id=\"T_eee70_row3_col1\" class=\"data row3 col1\" >1419</td>\n",
              "    </tr>\n",
              "    <tr>\n",
              "      <th id=\"T_eee70_level0_row4\" class=\"row_heading level0 row4\" >4</th>\n",
              "      <td id=\"T_eee70_row4_col0\" class=\"data row4 col0\" >arztin</td>\n",
              "      <td id=\"T_eee70_row4_col1\" class=\"data row4 col1\" >1305</td>\n",
              "    </tr>\n",
              "    <tr>\n",
              "      <th id=\"T_eee70_level0_row5\" class=\"row_heading level0 row5\" >5</th>\n",
              "      <td id=\"T_eee70_row5_col0\" class=\"data row5 col0\" >praxis</td>\n",
              "      <td id=\"T_eee70_row5_col1\" class=\"data row5 col1\" >1304</td>\n",
              "    </tr>\n",
              "    <tr>\n",
              "      <th id=\"T_eee70_level0_row6\" class=\"row_heading level0 row6\" >6</th>\n",
              "      <td id=\"T_eee70_row6_col0\" class=\"data row6 col0\" >zeit</td>\n",
              "      <td id=\"T_eee70_row6_col1\" class=\"data row6 col1\" >1274</td>\n",
              "    </tr>\n",
              "    <tr>\n",
              "      <th id=\"T_eee70_level0_row7\" class=\"row_heading level0 row7\" >7</th>\n",
              "      <td id=\"T_eee70_row7_col0\" class=\"data row7 col0\" >nie</td>\n",
              "      <td id=\"T_eee70_row7_col1\" class=\"data row7 col1\" >1247</td>\n",
              "    </tr>\n",
              "    <tr>\n",
              "      <th id=\"T_eee70_level0_row8\" class=\"row_heading level0 row8\" >8</th>\n",
              "      <td id=\"T_eee70_row8_col0\" class=\"data row8 col0\" >behandl</td>\n",
              "      <td id=\"T_eee70_row8_col1\" class=\"data row8 col1\" >1222</td>\n",
              "    </tr>\n",
              "    <tr>\n",
              "      <th id=\"T_eee70_level0_row9\" class=\"row_heading level0 row9\" >9</th>\n",
              "      <td id=\"T_eee70_row9_col0\" class=\"data row9 col0\" >termin</td>\n",
              "      <td id=\"T_eee70_row9_col1\" class=\"data row9 col1\" >1214</td>\n",
              "    </tr>\n",
              "    <tr>\n",
              "      <th id=\"T_eee70_level0_row10\" class=\"row_heading level0 row10\" >10</th>\n",
              "      <td id=\"T_eee70_row10_col0\" class=\"data row10 col0\" >empfehl</td>\n",
              "      <td id=\"T_eee70_row10_col1\" class=\"data row10 col1\" >1000</td>\n",
              "    </tr>\n",
              "    <tr>\n",
              "      <th id=\"T_eee70_level0_row11\" class=\"row_heading level0 row11\" >11</th>\n",
              "      <td id=\"T_eee70_row11_col0\" class=\"data row11 col0\" >dr</td>\n",
              "      <td id=\"T_eee70_row11_col1\" class=\"data row11 col1\" >999</td>\n",
              "    </tr>\n",
              "    <tr>\n",
              "      <th id=\"T_eee70_level0_row12\" class=\"row_heading level0 row12\" >12</th>\n",
              "      <td id=\"T_eee70_row12_col0\" class=\"data row12 col0\" >wartezeit</td>\n",
              "      <td id=\"T_eee70_row12_col1\" class=\"data row12 col1\" >878</td>\n",
              "    </tr>\n",
              "    <tr>\n",
              "      <th id=\"T_eee70_level0_row13\" class=\"row_heading level0 row13\" >13</th>\n",
              "      <td id=\"T_eee70_row13_col0\" class=\"data row13 col0\" >leid</td>\n",
              "      <td id=\"T_eee70_row13_col1\" class=\"data row13 col1\" >835</td>\n",
              "    </tr>\n",
              "    <tr>\n",
              "      <th id=\"T_eee70_level0_row14\" class=\"row_heading level0 row14\" >14</th>\n",
              "      <td id=\"T_eee70_row14_col0\" class=\"data row14 col0\" >mehr</td>\n",
              "      <td id=\"T_eee70_row14_col1\" class=\"data row14 col1\" >828</td>\n",
              "    </tr>\n",
              "    <tr>\n",
              "      <th id=\"T_eee70_level0_row15\" class=\"row_heading level0 row15\" >15</th>\n",
              "      <td id=\"T_eee70_row15_col0\" class=\"data row15 col0\" >schlecht</td>\n",
              "      <td id=\"T_eee70_row15_col1\" class=\"data row15 col1\" >766</td>\n",
              "    </tr>\n",
              "    <tr>\n",
              "      <th id=\"T_eee70_level0_row16\" class=\"row_heading level0 row16\" >16</th>\n",
              "      <td id=\"T_eee70_row16_col0\" class=\"data row16 col0\" >mal</td>\n",
              "      <td id=\"T_eee70_row16_col1\" class=\"data row16 col1\" >725</td>\n",
              "    </tr>\n",
              "    <tr>\n",
              "      <th id=\"T_eee70_level0_row17\" class=\"row_heading level0 row17\" >17</th>\n",
              "      <td id=\"T_eee70_row17_col0\" class=\"data row17 col0\" >lang</td>\n",
              "      <td id=\"T_eee70_row17_col1\" class=\"data row17 col1\" >713</td>\n",
              "    </tr>\n",
              "    <tr>\n",
              "      <th id=\"T_eee70_level0_row18\" class=\"row_heading level0 row18\" >18</th>\n",
              "      <td id=\"T_eee70_row18_col0\" class=\"data row18 col0\" >gut</td>\n",
              "      <td id=\"T_eee70_row18_col1\" class=\"data row18 col1\" >665</td>\n",
              "    </tr>\n",
              "    <tr>\n",
              "      <th id=\"T_eee70_level0_row19\" class=\"row_heading level0 row19\" >19</th>\n",
              "      <td id=\"T_eee70_row19_col0\" class=\"data row19 col0\" >untersuch</td>\n",
              "      <td id=\"T_eee70_row19_col1\" class=\"data row19 col1\" >660</td>\n",
              "    </tr>\n",
              "  </tbody>\n",
              "</table>\n"
            ]
          },
          "metadata": {},
          "execution_count": 65
        }
      ]
    },
    {
      "cell_type": "markdown",
      "source": [
        "Using the most frequent words, we can identify additional candidates for our stop word list in the pre-processing step. For example \"doctor\" (arzt) and \"miss\" (frau) are very common but probably won't help our algorithm to differentiate between sentiments. In contrast, words like \"good\" (gut) and \"competent\" (kompetent) are not only frequent but also carry a strong sentiment. They will be crucial for the performance of our model."
      ],
      "metadata": {
        "id": "XG-1YnOg-zNp"
      }
    },
    {
      "cell_type": "markdown",
      "source": [
        "### Feature creation with TF-IDF\n",
        "\n",
        "TF-IDF (Term Frequency-Inverse Document Frequency) is a commonly used technique for sentiment analysis, which involves analyzing the emotions and opinions expressed in text data. Sentiment analysis using TF-IDF involves calculating a numerical weight for each word in a text document, based on how frequently it appears in the document and how important it is in the context of the entire corpus of documents.\n",
        "\n",
        "In sentiment analysis, TF-IDF is often used to identify the most important words in a text document that contribute to the overall sentiment expressed. By weighting the importance of each word based on its frequency in the document and its relevance to the entire corpus, TF-IDF can help to identify key indicators of positive or negative sentiment."
      ],
      "metadata": {
        "id": "tvZdeOF6_rK1"
      }
    },
    {
      "cell_type": "code",
      "execution_count": 66,
      "metadata": {
        "colab": {
          "base_uri": "https://localhost:8080/",
          "height": 75
        },
        "id": "1qYndq8DH6EM",
        "outputId": "50e4ee60-5471-49f4-ee68-c3f6d2c2bcbc"
      },
      "outputs": [
        {
          "output_type": "execute_result",
          "data": {
            "text/plain": [
              "TfidfVectorizer(max_df=0.3, min_df=10, ngram_range=(1, 2))"
            ],
            "text/html": [
              "<style>#sk-container-id-2 {color: black;background-color: white;}#sk-container-id-2 pre{padding: 0;}#sk-container-id-2 div.sk-toggleable {background-color: white;}#sk-container-id-2 label.sk-toggleable__label {cursor: pointer;display: block;width: 100%;margin-bottom: 0;padding: 0.3em;box-sizing: border-box;text-align: center;}#sk-container-id-2 label.sk-toggleable__label-arrow:before {content: \"▸\";float: left;margin-right: 0.25em;color: #696969;}#sk-container-id-2 label.sk-toggleable__label-arrow:hover:before {color: black;}#sk-container-id-2 div.sk-estimator:hover label.sk-toggleable__label-arrow:before {color: black;}#sk-container-id-2 div.sk-toggleable__content {max-height: 0;max-width: 0;overflow: hidden;text-align: left;background-color: #f0f8ff;}#sk-container-id-2 div.sk-toggleable__content pre {margin: 0.2em;color: black;border-radius: 0.25em;background-color: #f0f8ff;}#sk-container-id-2 input.sk-toggleable__control:checked~div.sk-toggleable__content {max-height: 200px;max-width: 100%;overflow: auto;}#sk-container-id-2 input.sk-toggleable__control:checked~label.sk-toggleable__label-arrow:before {content: \"▾\";}#sk-container-id-2 div.sk-estimator input.sk-toggleable__control:checked~label.sk-toggleable__label {background-color: #d4ebff;}#sk-container-id-2 div.sk-label input.sk-toggleable__control:checked~label.sk-toggleable__label {background-color: #d4ebff;}#sk-container-id-2 input.sk-hidden--visually {border: 0;clip: rect(1px 1px 1px 1px);clip: rect(1px, 1px, 1px, 1px);height: 1px;margin: -1px;overflow: hidden;padding: 0;position: absolute;width: 1px;}#sk-container-id-2 div.sk-estimator {font-family: monospace;background-color: #f0f8ff;border: 1px dotted black;border-radius: 0.25em;box-sizing: border-box;margin-bottom: 0.5em;}#sk-container-id-2 div.sk-estimator:hover {background-color: #d4ebff;}#sk-container-id-2 div.sk-parallel-item::after {content: \"\";width: 100%;border-bottom: 1px solid gray;flex-grow: 1;}#sk-container-id-2 div.sk-label:hover label.sk-toggleable__label {background-color: #d4ebff;}#sk-container-id-2 div.sk-serial::before {content: \"\";position: absolute;border-left: 1px solid gray;box-sizing: border-box;top: 0;bottom: 0;left: 50%;z-index: 0;}#sk-container-id-2 div.sk-serial {display: flex;flex-direction: column;align-items: center;background-color: white;padding-right: 0.2em;padding-left: 0.2em;position: relative;}#sk-container-id-2 div.sk-item {position: relative;z-index: 1;}#sk-container-id-2 div.sk-parallel {display: flex;align-items: stretch;justify-content: center;background-color: white;position: relative;}#sk-container-id-2 div.sk-item::before, #sk-container-id-2 div.sk-parallel-item::before {content: \"\";position: absolute;border-left: 1px solid gray;box-sizing: border-box;top: 0;bottom: 0;left: 50%;z-index: -1;}#sk-container-id-2 div.sk-parallel-item {display: flex;flex-direction: column;z-index: 1;position: relative;background-color: white;}#sk-container-id-2 div.sk-parallel-item:first-child::after {align-self: flex-end;width: 50%;}#sk-container-id-2 div.sk-parallel-item:last-child::after {align-self: flex-start;width: 50%;}#sk-container-id-2 div.sk-parallel-item:only-child::after {width: 0;}#sk-container-id-2 div.sk-dashed-wrapped {border: 1px dashed gray;margin: 0 0.4em 0.5em 0.4em;box-sizing: border-box;padding-bottom: 0.4em;background-color: white;}#sk-container-id-2 div.sk-label label {font-family: monospace;font-weight: bold;display: inline-block;line-height: 1.2em;}#sk-container-id-2 div.sk-label-container {text-align: center;}#sk-container-id-2 div.sk-container {/* jupyter's `normalize.less` sets `[hidden] { display: none; }` but bootstrap.min.css set `[hidden] { display: none !important; }` so we also need the `!important` here to be able to override the default hidden behavior on the sphinx rendered scikit-learn.org. See: https://github.com/scikit-learn/scikit-learn/issues/21755 */display: inline-block !important;position: relative;}#sk-container-id-2 div.sk-text-repr-fallback {display: none;}</style><div id=\"sk-container-id-2\" class=\"sk-top-container\"><div class=\"sk-text-repr-fallback\"><pre>TfidfVectorizer(max_df=0.3, min_df=10, ngram_range=(1, 2))</pre><b>In a Jupyter environment, please rerun this cell to show the HTML representation or trust the notebook. <br />On GitHub, the HTML representation is unable to render, please try loading this page with nbviewer.org.</b></div><div class=\"sk-container\" hidden><div class=\"sk-item\"><div class=\"sk-estimator sk-toggleable\"><input class=\"sk-toggleable__control sk-hidden--visually\" id=\"sk-estimator-id-2\" type=\"checkbox\" checked><label for=\"sk-estimator-id-2\" class=\"sk-toggleable__label sk-toggleable__label-arrow\">TfidfVectorizer</label><div class=\"sk-toggleable__content\"><pre>TfidfVectorizer(max_df=0.3, min_df=10, ngram_range=(1, 2))</pre></div></div></div></div></div>"
            ]
          },
          "metadata": {},
          "execution_count": 66
        }
      ],
      "source": [
        "\"\"\"\n",
        "Compute unique word vector with frequencies\n",
        "exclude very uncommon (<10 obsv.) and common (>=30%) words\n",
        "use pairs of two words (ngram)\n",
        "\"\"\"\n",
        "vectorizer = TfidfVectorizer(\n",
        "    analyzer=\"word\", max_df=0.3, min_df=10, ngram_range=(1, 2), norm=\"l2\"\n",
        ")\n",
        "vectorizer.fit(df_clean[\"comment_clean\"])"
      ]
    },
    {
      "cell_type": "code",
      "source": [
        "# Vector representation of vocabulary\n",
        "word_vector = pd.Series(vectorizer.vocabulary_).sample(8, random_state=1)\n",
        "print(f\"Unique word (ngram) vector extract:\\n\\n {word_vector}\")"
      ],
      "metadata": {
        "colab": {
          "base_uri": "https://localhost:8080/"
        },
        "id": "kYfb15ZKiWd9",
        "outputId": "86133b5f-cc39-4688-d6e9-a278cb57b06f"
      },
      "execution_count": 67,
      "outputs": [
        {
          "output_type": "stream",
          "name": "stdout",
          "text": [
            "Unique word (ngram) vector extract:\n",
            "\n",
            " umzug                3316\n",
            "absolut kompetent      34\n",
            "spitz                3014\n",
            "ding                  796\n",
            "dabei                 714\n",
            "zeitpunkt            3891\n",
            "fehldiagnos          1114\n",
            "funf minut           1263\n",
            "dtype: int64\n"
          ]
        }
      ]
    },
    {
      "cell_type": "markdown",
      "source": [
        "We still have additional candidates for our stop word list such as funf minut, dabei and ding."
      ],
      "metadata": {
        "id": "iw3XY9IkF2oP"
      }
    },
    {
      "cell_type": "markdown",
      "source": [
        "### Modeling\n",
        "\n",
        "To test the classification performance of our model, we will perform a cross validation. For that, we split our data into a training and a testing set. The former is used to train the model and the latter to evaluate its predictions:"
      ],
      "metadata": {
        "id": "tvWzLfdeGQU3"
      }
    },
    {
      "cell_type": "code",
      "source": [
        "# Sample data - 25% of data to test set\n",
        "train, test = train_test_split(df_clean, random_state=1, test_size=0.25, shuffle=True)\n",
        "\n",
        "X_train = train[\"comment_clean\"]\n",
        "Y_train = train[\"grade\"]\n",
        "X_test = test[\"comment_clean\"]\n",
        "Y_test = test[\"grade\"]\n",
        "print(X_train.shape)\n",
        "print(X_test.shape)"
      ],
      "metadata": {
        "colab": {
          "base_uri": "https://localhost:8080/"
        },
        "id": "q8UIki52jJgk",
        "outputId": "6b5add74-521e-4f48-ec55-edcf2ae87075"
      },
      "execution_count": 68,
      "outputs": [
        {
          "output_type": "stream",
          "name": "stdout",
          "text": [
            "(14997,)\n",
            "(5000,)\n"
          ]
        }
      ]
    },
    {
      "cell_type": "code",
      "source": [
        "# transform each sentence to numeric vector with tf-idf value as elements\n",
        "X_train_vec = vectorizer.transform(X_train)\n",
        "X_test_vec = vectorizer.transform(X_test)\n",
        "X_train_vec.get_shape()"
      ],
      "metadata": {
        "colab": {
          "base_uri": "https://localhost:8080/"
        },
        "id": "xpF25-oYjSFE",
        "outputId": "146fcf84-6734-484a-beea-28470e8e97e5"
      },
      "execution_count": 69,
      "outputs": [
        {
          "output_type": "execute_result",
          "data": {
            "text/plain": [
              "(14997, 3974)"
            ]
          },
          "metadata": {},
          "execution_count": 69
        }
      ]
    },
    {
      "cell_type": "markdown",
      "source": [
        "The training set consists of more than 14k rows and the testing will be performed on more than 3k observations. Now, that we have split our data we can transform the text data into its `TF-IDF` representation:"
      ],
      "metadata": {
        "id": "3sHVzKzKGvO3"
      }
    },
    {
      "cell_type": "code",
      "source": [
        "# Compare original comment text with its numeric vector representation\n",
        "print(f\"Original sentence:\\n{X_train[1:2].values}\\n\")\n",
        "# Feature Matrix\n",
        "features = pd.DataFrame(\n",
        "    X_train_vec[1:2].toarray(), columns=vectorizer.get_feature_names_out() \n",
        ")\n",
        "nonempty_feat = features.loc[:, (features != 0).any(axis=0)]\n",
        "print(f\"Vector representation of sentence:\\n {nonempty_feat}\")"
      ],
      "metadata": {
        "colab": {
          "base_uri": "https://localhost:8080/"
        },
        "id": "HlZJnvxtjU1N",
        "outputId": "71225aca-7adb-46cb-eb22-b0e60c021a44"
      },
      "execution_count": 70,
      "outputs": [
        {
          "output_type": "stream",
          "name": "stdout",
          "text": [
            "Original sentence:\n",
            "['professionell kompetent arzt erfahr team praxisatmospar ebenfall sup']\n",
            "\n",
            "Vector representation of sentence:\n",
            "        arzt  arzt erfahr  ebenfall    erfahr  kompetent  kompetent arzt  \\\n",
            "0  0.140687     0.469541  0.370838  0.274674   0.174224        0.298868   \n",
            "\n",
            "   professionell  professionell kompetent       sup     team  \n",
            "0       0.304367                 0.473494  0.237101  0.23247  \n"
          ]
        }
      ]
    },
    {
      "cell_type": "markdown",
      "source": [
        "**For** this eight word sentence, the vector of length 3974 contains mostly zeros. However, the indices representing the used words / ngrams are non empty. They include the value that `TF-IDF` assigned to them. In this particular case, \"professionell kompetent\"  has the largest weight meaning that it is relatively frequent in our sentence while not being very common in other sentences of our dataset."
      ],
      "metadata": {
        "id": "BCA95MPEHH_G"
      }
    },
    {
      "cell_type": "markdown",
      "source": [
        "Now, that we have prepared our features, we can start to train and evaluate models. For a binary classification task there are many options to [choose from in `scikit-learn`](https://scikit-learn.org/stable/supervised_learning.html). We will focus on the ones that are most promising. In my experience they are: Logistic Regression, Support Vector Classification (SVC), Ensemble Methods (Boosting, Random Forest) and Neural Networks (i.e. Multi Layer Perceptron or MLP in sklearn). We will compare these models and chose the most promising one:"
      ],
      "metadata": {
        "id": "DychDzStHilP"
      }
    },
    {
      "cell_type": "code",
      "source": [
        "# models to test\n",
        "classifiers = [\n",
        "    LogisticRegression(solver=\"sag\", random_state=1),\n",
        "    LinearSVC(random_state=1),\n",
        "    RandomForestClassifier(random_state=1),\n",
        "    XGBClassifier(random_state=1),\n",
        "    MLPClassifier(\n",
        "        random_state=1,\n",
        "        solver=\"adam\",\n",
        "        hidden_layer_sizes=(12, 12, 12),\n",
        "        activation=\"relu\",\n",
        "        early_stopping=True,\n",
        "        n_iter_no_change=1,\n",
        "    ),\n",
        "]\n",
        "# get names of the objects in list (too lazy for c&p...)\n",
        "names = [re.match(r\"[^\\(]+\", name.__str__())[0] for name in classifiers]\n",
        "print(f\"Classifiers to test: {names}\")"
      ],
      "metadata": {
        "colab": {
          "base_uri": "https://localhost:8080/"
        },
        "id": "U3iGDSqUjf5k",
        "outputId": "f0ea6cc9-5c85-455c-f51e-f9f96555043b"
      },
      "execution_count": 71,
      "outputs": [
        {
          "output_type": "stream",
          "name": "stdout",
          "text": [
            "Classifiers to test: ['LogisticRegression', 'LinearSVC', 'RandomForestClassifier', 'XGBClassifier', 'MLPClassifier']\n"
          ]
        }
      ]
    },
    {
      "cell_type": "code",
      "source": [
        "%%time\n",
        "import time\n",
        "# test all classifiers and save pred. results on test data\n",
        "results = {}\n",
        "ROC={}\n",
        "\n",
        "for name, clf in zip(names, classifiers):\n",
        "    # Get the start time\n",
        "    start_time = time.time()\n",
        "    print(f\"Training classifier: {name}\")\n",
        "    clf.fit(X_train_vec, Y_train)\n",
        "    # Get the end time\n",
        "    end_time = time.time()\n",
        "    # Calculate the elapsed time in seconds\n",
        "    elapsed_time = end_time - start_time\n",
        "    # Print the elapsed time in seconds\n",
        "    print(\"Elapsed time (s):\", elapsed_time)\n",
        "    prediction = clf.predict(X_test_vec)\n",
        "    report = sklearn.metrics.classification_report(Y_test, prediction)\n",
        "    fpr, tpr, thresh = sklearn.metrics.roc_curve(Y_test, prediction, pos_label=1)\n",
        "    ROC[name]=fpr, tpr, thresh \n",
        "    results[name] = report"
      ],
      "metadata": {
        "colab": {
          "base_uri": "https://localhost:8080/"
        },
        "id": "A3PQjwHVjhH8",
        "outputId": "b6a0d3c8-f9dc-4835-900f-1863dfbb690b"
      },
      "execution_count": 72,
      "outputs": [
        {
          "output_type": "stream",
          "name": "stdout",
          "text": [
            "Training classifier: LogisticRegression\n",
            "Elapsed time (s): 0.08172011375427246\n",
            "Training classifier: LinearSVC\n",
            "Elapsed time (s): 0.04894232749938965\n",
            "Training classifier: RandomForestClassifier\n",
            "Elapsed time (s): 11.810861349105835\n",
            "Training classifier: XGBClassifier\n",
            "Elapsed time (s): 7.454621315002441\n",
            "Training classifier: MLPClassifier\n",
            "Elapsed time (s): 0.991823673248291\n",
            "CPU times: user 24.6 s, sys: 870 ms, total: 25.5 s\n",
            "Wall time: 20.7 s\n"
          ]
        }
      ]
    },
    {
      "cell_type": "code",
      "source": [
        "# matplotlib\n",
        "import matplotlib.pyplot as plt\n",
        "plt.style.use('seaborn')\n",
        "# Create a new figure\n",
        "plt.figure()\n",
        "# plot roc curves\n",
        "plt.plot(ROC['LogisticRegression' ][0], ROC['LogisticRegression' ][1], linestyle='--',color='orange', label='LogisticRegression' )\n",
        "plt.plot(ROC['LinearSVC' ][0], ROC['LinearSVC' ][1], linestyle='--',color='blue', label='LinearSVC' )\n",
        "plt.plot(ROC['RandomForestClassifier' ][0], ROC['RandomForestClassifier' ][1], linestyle='--',color='green', label='RandomForestClassifier' )\n",
        "plt.plot(ROC['MLPClassifier' ][0], ROC['MLPClassifier' ][1], linestyle='--',color='red', label='MLPClassifier' )\n",
        "# title\n",
        "plt.title('ROC curve')\n",
        "# x label\n",
        "plt.xlabel('False Positive Rate')\n",
        "# y label\n",
        "plt.ylabel('True Positive rate')\n",
        "\n",
        "plt.legend(loc='best')\n",
        "plt.savefig('ROC',dpi=600)\n",
        "plt.show();"
      ],
      "metadata": {
        "colab": {
          "base_uri": "https://localhost:8080/",
          "height": 431
        },
        "id": "4q2eny9sKRZv",
        "outputId": "406a44b1-cbab-4ae4-bd8a-d174335f5bb4"
      },
      "execution_count": 73,
      "outputs": [
        {
          "output_type": "stream",
          "name": "stderr",
          "text": [
            "<ipython-input-73-c61d6f80b2d4>:3: MatplotlibDeprecationWarning: The seaborn styles shipped by Matplotlib are deprecated since 3.6, as they no longer correspond to the styles shipped by seaborn. However, they will remain available as 'seaborn-v0_8-<style>'. Alternatively, directly use the seaborn API instead.\n",
            "  plt.style.use('seaborn')\n"
          ]
        },
        {
          "output_type": "display_data",
          "data": {
            "text/plain": [
              "<Figure size 576x396 with 1 Axes>"
            ],
            "image/png": "[encoded data removed]"
          },
          "metadata": {}
        }
      ]
    },
    {
      "cell_type": "code",
      "source": [
        "# Prediction results\n",
        "for k, v in results.items():\n",
        "    print(f\"Results for {k}:\")\n",
        "    print(f\"{v}\\n\")"
      ],
      "metadata": {
        "colab": {
          "base_uri": "https://localhost:8080/"
        },
        "id": "EW5hOvc9jkSN",
        "outputId": "33ac447d-9952-4a6a-a71d-7e9b6cff0da7"
      },
      "execution_count": 74,
      "outputs": [
        {
          "output_type": "stream",
          "name": "stdout",
          "text": [
            "Results for LogisticRegression:\n",
            "              precision    recall  f1-score   support\n",
            "\n",
            "           0       0.89      0.92      0.90      2492\n",
            "           1       0.91      0.88      0.90      2508\n",
            "\n",
            "    accuracy                           0.90      5000\n",
            "   macro avg       0.90      0.90      0.90      5000\n",
            "weighted avg       0.90      0.90      0.90      5000\n",
            "\n",
            "\n",
            "Results for LinearSVC:\n",
            "              precision    recall  f1-score   support\n",
            "\n",
            "           0       0.89      0.90      0.89      2492\n",
            "           1       0.90      0.89      0.89      2508\n",
            "\n",
            "    accuracy                           0.89      5000\n",
            "   macro avg       0.89      0.89      0.89      5000\n",
            "weighted avg       0.89      0.89      0.89      5000\n",
            "\n",
            "\n",
            "Results for RandomForestClassifier:\n",
            "              precision    recall  f1-score   support\n",
            "\n",
            "           0       0.88      0.88      0.88      2492\n",
            "           1       0.88      0.88      0.88      2508\n",
            "\n",
            "    accuracy                           0.88      5000\n",
            "   macro avg       0.88      0.88      0.88      5000\n",
            "weighted avg       0.88      0.88      0.88      5000\n",
            "\n",
            "\n",
            "Results for XGBClassifier:\n",
            "              precision    recall  f1-score   support\n",
            "\n",
            "           0       0.86      0.90      0.88      2492\n",
            "           1       0.89      0.86      0.87      2508\n",
            "\n",
            "    accuracy                           0.88      5000\n",
            "   macro avg       0.88      0.88      0.88      5000\n",
            "weighted avg       0.88      0.88      0.88      5000\n",
            "\n",
            "\n",
            "Results for MLPClassifier:\n",
            "              precision    recall  f1-score   support\n",
            "\n",
            "           0       0.90      0.91      0.90      2492\n",
            "           1       0.91      0.90      0.90      2508\n",
            "\n",
            "    accuracy                           0.90      5000\n",
            "   macro avg       0.90      0.90      0.90      5000\n",
            "weighted avg       0.90      0.90      0.90      5000\n",
            "\n",
            "\n"
          ]
        }
      ]
    },
    {
      "cell_type": "markdown",
      "source": [
        "The output of sci-kit's `classification_report` provides us with several metrics.\n",
        "All methods achieve impressive results predicting the good ratings class with `f1-scores` above 0.85. Furthermore, results for the bad ratings class are also the same.\n",
        "\n",
        "Training LogisticRegression and LinearSVC was very fast while the remaining classifiers were significantly slower. This has to do with their higher model complexity but can also greatly vary depending on the parameters used. \n",
        "\n",
        "The speed of the model is a significant parameter as all of them have comparable performance.\n"
      ],
      "metadata": {
        "id": "oPSMWy-CRINh"
      }
    },
    {
      "cell_type": "markdown",
      "source": [
        "### Parameter tuning\n",
        "\n",
        "We've learned that LogisticRegression is a solid model and fast choice and delivers great results out of the box. Still, we might be able to improve upon those by taking a more guided approach to choosing parameters. To do so, we will compare different parameters for feature creation as well as modeling. We can achieve this by making use of the pipeline and grid search functionality in sci-kit learn.  \n",
        "\n"
      ],
      "metadata": {
        "id": "sZ-ofNscge75"
      }
    },
    {
      "cell_type": "code",
      "source": [
        "# feature creation and modelling in a single function\n",
        "pipe = Pipeline([(\"tfidf\", TfidfVectorizer()), (\"LR\", LogisticRegression())])\n",
        "\n",
        "# define parameter space to test # runtime 35min\n",
        "params = {\n",
        "    \"tfidf__ngram_range\": [(1, 1), (1, 2), (1, 3)],\n",
        "    \"tfidf__max_df\": np.arange(0.3, 0.8, 0.2),\n",
        "    \"tfidf__min_df\": np.arange(5, 100, 45),\n",
        "}\n",
        "pipe_clf = GridSearchCV(pipe, params, n_jobs=-1, scoring=\"f1_macro\")\n",
        "pipe_clf.fit(X_train, Y_train)\n",
        "pickle.dump(pipe_clf, open(\"./clf_pipe.pck\", \"wb\"))"
      ],
      "metadata": {
        "id": "V9kP6e7At0tt"
      },
      "execution_count": 75,
      "outputs": []
    },
    {
      "cell_type": "code",
      "source": [
        "print(pipe_clf.best_params_)\n"
      ],
      "metadata": {
        "colab": {
          "base_uri": "https://localhost:8080/"
        },
        "id": "XSpKEVMGt_bn",
        "outputId": "129880fa-6c26-458f-b2a5-f00d3eea760b"
      },
      "execution_count": 31,
      "outputs": [
        {
          "output_type": "stream",
          "name": "stdout",
          "text": [
            "{'tfidf__max_df': 0.3, 'tfidf__min_df': 5, 'tfidf__ngram_range': (1, 3)}\n"
          ]
        }
      ]
    },
    {
      "cell_type": "code",
      "source": [
        "%%time\n",
        "# feature creation and modelling in a single function\n",
        "pipe = Pipeline([(\"tfidf\", TfidfVectorizer()), (\"LR\", LogisticRegression())])\n",
        "\n",
        "# define parameter space to test # runtime 19min\n",
        "params = {\n",
        "    \"tfidf__ngram_range\": [(1, 3)],\n",
        "    \"tfidf__max_df\": [0.3],\n",
        "    \"tfidf__min_df\": [5],\n",
        "}\n",
        "pipe_lr_clf = GridSearchCV(pipe, params, n_jobs=-1, scoring=\"f1_macro\")\n",
        "pipe_lr_clf.fit(X_train, Y_train)\n",
        "pickle.dump(pipe_lr_clf, open(\"./pipe_svc_clf.pck\", \"wb\"))"
      ],
      "metadata": {
        "colab": {
          "base_uri": "https://localhost:8080/"
        },
        "id": "fBrx_nP1uNIp",
        "outputId": "1a97deac-2db7-4b51-ba74-0b2a40fd7e52"
      },
      "execution_count": 76,
      "outputs": [
        {
          "output_type": "stream",
          "name": "stdout",
          "text": [
            "CPU times: user 946 ms, sys: 43.2 ms, total: 989 ms\n",
            "Wall time: 3.81 s\n"
          ]
        }
      ]
    },
    {
      "cell_type": "markdown",
      "source": [
        "Now, using this best parameters for `TF-IDF` we can search for optimal parameters for the LogisticRegression:"
      ],
      "metadata": {
        "id": "a6ieWzmWg-MR"
      }
    },
    {
      "cell_type": "code",
      "source": [
        "best_params = pipe_lr_clf.best_params_\n",
        "print(best_params)"
      ],
      "metadata": {
        "colab": {
          "base_uri": "https://localhost:8080/"
        },
        "id": "7k0AHXGzuSWd",
        "outputId": "f9a129d9-3299-44b7-b413-0734723b2da8"
      },
      "execution_count": 77,
      "outputs": [
        {
          "output_type": "stream",
          "name": "stdout",
          "text": [
            "{'tfidf__max_df': 0.3, 'tfidf__min_df': 5, 'tfidf__ngram_range': (1, 3)}\n"
          ]
        }
      ]
    },
    {
      "cell_type": "code",
      "source": [
        "# run pipe with optimized parameters\n",
        "pipe.set_params(**best_params).fit(X_train, Y_train)\n",
        "pipe_pred = pipe.predict(X_test)\n",
        "report = sklearn.metrics.classification_report(Y_test, pipe_pred)\n",
        "print(report)"
      ],
      "metadata": {
        "colab": {
          "base_uri": "https://localhost:8080/"
        },
        "id": "-MIE6PNZuVHF",
        "outputId": "03597217-a4b3-4290-fdee-bda0f9d7c0dc"
      },
      "execution_count": 78,
      "outputs": [
        {
          "output_type": "stream",
          "name": "stdout",
          "text": [
            "              precision    recall  f1-score   support\n",
            "\n",
            "           0       0.89      0.92      0.90      2492\n",
            "           1       0.91      0.88      0.90      2508\n",
            "\n",
            "    accuracy                           0.90      5000\n",
            "   macro avg       0.90      0.90      0.90      5000\n",
            "weighted avg       0.90      0.90      0.90      5000\n",
            "\n"
          ]
        }
      ]
    },
    {
      "cell_type": "markdown",
      "source": [
        "Using parameter tuning we have slightly keep the same performance of Logistic regression."
      ],
      "metadata": {
        "id": "xHWbHiUVhbqz"
      }
    },
    {
      "cell_type": "markdown",
      "source": [
        "Prediction\n",
        "Now, that we have our best performing model (so far) we can use it to make predictions. One possible application is to find contradictory reviews, i.e. reviews where the sentiment of the comment doesn't match the rating. For that, we look at cases where our model makes a prediction with high confidence which doesn't match the original rating:"
      ],
      "metadata": {
        "id": "6aniGRV4nibJ"
      }
    },
    {
      "cell_type": "code",
      "source": [
        "# Get confidence score for prediction\n",
        "conf_score = pipe.decision_function(X_test)\n",
        "# Get the Nth highest / lowest score\n",
        "# high score indicates class 1 (good), low score 0 (bad)\n",
        "score_pos = np.sort(conf_score)[-400]\n",
        "score_neg = np.sort(conf_score)[2000]\n",
        "print(\n",
        "    f\"Threshold for negative rating: {score_neg}\\nThreshold for positive rating: {score_pos}\"\n",
        ")"
      ],
      "metadata": {
        "colab": {
          "base_uri": "https://localhost:8080/"
        },
        "id": "-A5swUDeuX_V",
        "outputId": "d886d53c-8c52-432c-cee3-d3dcbaab8796"
      },
      "execution_count": 111,
      "outputs": [
        {
          "output_type": "stream",
          "name": "stdout",
          "text": [
            "Threshold for negative rating: -0.9541722939697506\n",
            "Threshold for positive rating: 3.7346216034241513\n"
          ]
        }
      ]
    },
    {
      "cell_type": "code",
      "source": [
        "pd.options.display.max_colwidth = 800\n",
        "# Predicted bad but rated good\n",
        "test[[\"grade\", \"comment\"]][(Y_test != pipe_pred) & (conf_score <= score_neg)]"
      ],
      "metadata": {
        "colab": {
          "base_uri": "https://localhost:8080/",
          "height": 1000
        },
        "id": "N6bWbnIXuuQO",
        "outputId": "181e4010-be11-4445-92aa-a6429324f871"
      },
      "execution_count": 113,
      "outputs": [
        {
          "output_type": "execute_result",
          "data": {
            "text/plain": [
              "       grade  \\\n",
              "3674       1   \n",
              "5055       1   \n",
              "8797       1   \n",
              "9909       1   \n",
              "343        1   \n",
              "5498       1   \n",
              "10804      1   \n",
              "4691       1   \n",
              "9532       1   \n",
              "19754      1   \n",
              "8431       1   \n",
              "6399       1   \n",
              "13637      1   \n",
              "19023      1   \n",
              "19616      1   \n",
              "11648      1   \n",
              "14317      1   \n",
              "14549      1   \n",
              "3561       1   \n",
              "11160      1   \n",
              "5134       1   \n",
              "11871      1   \n",
              "12358      1   \n",
              "15008      1   \n",
              "2834       1   \n",
              "1217       1   \n",
              "1475       1   \n",
              "11239      1   \n",
              "7471       1   \n",
              "6926       1   \n",
              "13610      1   \n",
              "4015       1   \n",
              "12169      1   \n",
              "1533       1   \n",
              "6483       1   \n",
              "7509       1   \n",
              "9219       1   \n",
              "15990      1   \n",
              "15166      1   \n",
              "12411      1   \n",
              "15997      1   \n",
              "4883       1   \n",
              "9770       1   \n",
              "7121       1   \n",
              "8744       1   \n",
              "14754      1   \n",
              "15441      1   \n",
              "2620       1   \n",
              "3729       1   \n",
              "10161      1   \n",
              "330        1   \n",
              "14805      1   \n",
              "3736       1   \n",
              "5185       1   \n",
              "11917      1   \n",
              "1300       1   \n",
              "15704      1   \n",
              "17175      1   \n",
              "16010      1   \n",
              "9467       1   \n",
              "394        1   \n",
              "7668       1   \n",
              "8652       1   \n",
              "8267       1   \n",
              "4698       1   \n",
              "14853      1   \n",
              "13548      1   \n",
              "13818      1   \n",
              "16075      1   \n",
              "5085       1   \n",
              "8840       1   \n",
              "17834      1   \n",
              "9214       1   \n",
              "6227       1   \n",
              "9074       1   \n",
              "1407       1   \n",
              "6394       1   \n",
              "9936       1   \n",
              "8101       1   \n",
              "17510      1   \n",
              "18805      1   \n",
              "19752      1   \n",
              "10809      1   \n",
              "2465       1   \n",
              "19101      1   \n",
              "717        1   \n",
              "6463       1   \n",
              "18541      1   \n",
              "2167       1   \n",
              "5950       1   \n",
              "11145      1   \n",
              "11183      1   \n",
              "5643       1   \n",
              "2362       1   \n",
              "6246       1   \n",
              "19200      1   \n",
              "11676      1   \n",
              "18095      1   \n",
              "7168       1   \n",
              "2941       1   \n",
              "\n",
              "                                                                                                                                                                                                                                                                                                             comment  \n",
              "3674                                                                                                                                                                           Die Ärztin war freundlich und sorgfältig. Ich hatte kein schlechtes Gefühl in der Praxis so wie die anderen Patienten es beschreiben.  \n",
              "5055                                                                   Nach längerer Zeit musste ich zur Behandlung und wurde nicht enttäuscht. So stellt man sich wirklich eine Ärztin vor, ohne \"Bauchschmerzen\" vorher zu haben. Einen kurzfristigen Termin bekam ich, war natürlich nicht die einzige Patientin.  \n",
              "8797                                           Nach langer Suche kam ich zu Fr. Dr. Buttgereit. Sie hat nicht nur die richtige Diagnose gestellt, sondern mich auch dementsprechend behandelt. Nachdem ich 3 Wochen im Krankenhaus war, behandelte sie mich noch einige Monate weiter. Sie hat mein volles Vertauen.  \n",
              "9909                        Frau Doktor Kreyer ist sehr nett und wirkt sehr kompeten aber Sie sollte sich dringenst eine neue Arztschwester suchen. So etwas unfreundliches hab ich noch nicht erlebt. Da kann die Ärztin noch so kompetent sein, wenn der erste Kontakt zur Praxis so kalt und desinteressiert ist.  \n",
              "343                                                                                                                                                                                                                                       Die Sauberkeit in der Praxis und Behandlungsräumen ist verbesserungswürdig  \n",
              "5498                                                                                                                                                                                                                 Die Sprechstundenhilfe ist bei telefonischer Terminabsprache absolut arrogant und unfreundlich.  \n",
              "10804                                                                                                                            Meine Untersuchung und das Vorgespräch wurden ohne unangenehme Nebenwirkungen durchgeführt, wer lässt sich schon gern ...... es sei denn jemand anderes steht darauf :-)<br />\\nMfG  \n",
              "4691                                                                                                                                                                                                Hier steht nicht der wirtschaftliche Erfolg des Arztes, sonder der Behandlungserfolg des Patienten an 1. Stelle!  \n",
              "9532                                                                                                                                                             Routinierte und erfahrene Praxis auch oder besonders für Kinder. Arzt operiert bei entsprechender Diagnose auch selbst, so ist alles in einer Hand.  \n",
              "19754                Ich kann mich den positiven Äußerungen meiner Vorredner nur anschließen. Allerdings behandelt die Praxis keine Kassenpatienten bzw. diese müssen die Rechnung selber bezahlen. Ist vielleicht ein nicht ganz unwichtiges Detail, zumal hier angegeben ist das Kassenpatienten behandelt werden.  \n",
              "8431                                                                                                                                                                                    mehrere Behandlungsräume;  sehr hellhörig;   hier hört man leider automatisch die Gespräche/Diagnosen zu Fremdpatienten mit.  \n",
              "6399                                   Leider fand der versprochene Rückruf der Ärztin wegen der Laborergebnisse auch nach 3 Wochen nicht statt. Der überweisende Arzt wartet darauf und ich auch. Erst mehrmalige Anrufe im Zentrum brachten per Fax die Ergebnisse , aber keine persönliche Besprechung der Werte.  \n",
              "13637                                                                                                                                                                         Telefonisch erreichbar schlecht und die Arzthelferin die meisten unfreundlich.<br />\\nDas war alles Mal besser.<br />\\nDer Arzt super.  \n",
              "19023  Nette Ärzte ( war bereits bei mehreren), manfühlt sich gut aufgehoben.<br />\\nDie Besetzung der Rezeption ist leider schlecht gewählt: unfreundlich, inkompetent und das bei Patienten, die mitunter sehr krank und sensibel sind.<br />\\nSchade! <br />\\nSonst wäre die Bewertung sicher besser ausgefallen.  \n",
              "19616                                                                                                                                                                                                                                                                        Man fühlte sich nicht als Kassenpatient  \n",
              "11648                                                                                                                                                            Telefonisch kommt man nie durch! Es geht lediglich immer nur der AB dran und die Wartezeiten variieren von 20 min bis hin zu 1,5 Std (trotz Termin)  \n",
              "14317                                                                                                                                         schnelle Feststellung der Ursache meiner Beschwerden, verordnetes Medikament hat innerhalb der angekündigten Zeit von 2-3 Tagen gewirkt und meine Beschwerden behoben.  \n",
              "14549                                   Die Arzthelferin war sehr Unmenschlich und unfreundlich  diese Unfreundlichkeit habe ich lange nicht mer erlebt gehabt finde hat sich den falschen Beruf ausgesucht war dann wegen meinem Blutbefunden bei der Frau bonitz die Ärztin war super und das Praxis Team genau so  \n",
              "3561                                                                                                                                                                                                                                                                         Aber die Schwestern sehr unkommunikativ  \n",
              "11160                                                                                                                                                                                                                                 Ich habe mir im Juli 2019 3x Leberflecke per Laserbehandlung entfernen lassen.  \n",
              "5134                                                                        ...nehmen ihre kleine Welt zu wichtig! Dass das Leben nicht immer so läuft, wie man es sich selbst wünscht, ist nun mal so. Nicht nur beim Arzt ?? und auch eine Helferin darf mal einen schlechten Tag haben.<br />\\n<br />\\nWeiter so!  \n",
              "11871                                                                                                                                                                                                            Für einen normalen Vorsorgetermin muss ich 5 (!!!) Monate warten. Sowas ist doch nicht zumutbar!!!!  \n",
              "12358                                                                                                                                                                                                                                        Eine Vertrauensperson und Arzt , wie man es sich nur wünschen kann !!!!  \n",
              "15008                                                                                                                                                            Kann mich meinen Vorrednern überhaupt nicht anschließen. Habe ausschließlich sehr positve Erfahrungen mit dieser Ärztin gemacht<br />\\r\\n<br />\\r\\n  \n",
              "2834                                                                                                   Fachlich ist gegen Ihn nichts einzuwenden, sollte aber gegenüber seinen Angestellten etwas ruhiger auftreten. Ist Ihnen gegenüber etwas aufbrausend. Sollte sie nicht im Beisein des Patienten runter machen.  \n",
              "1217                                                                                                                                                                                                                                                            Als Arzt untadelig, als Mensch Nadja etwas flappsig.  \n",
              "1475                                                                       Leider genießen privatversicherte hier große Vorteile. Ich musste in der Praxis über 2 Stunden warten und ungefähr 10-15 Leute die nach mir kamen waren vor mir dran. Es hieß auf Nachfrage ich sei der nächste, jedoch war dem nicht so.  \n",
              "11239                                                                                                                                                                                                                                                              2 Stunden warten mit einem Termin geht gar nicht!  \n",
              "7471                                                                                                                                                                                                                                                                                  Definitiv weiter zu empfehlen!  \n",
              "6926                                                                                                                  Der Arzt ist für sein Fachgebiet kompetent. Die Sprechstundenhilfen sind unfreundlich und schauen lieber in ihren Computer statt die Patienten anzunehmen oder das Telefon entgegen zu nehmen!  \n",
              "13610                                                                                                                                                                                                  Sprechstundenhilfen sind beide derart unfreundlich und die Wartezeit sind trotz festem Termin unzumutbar lang  \n",
              "4015                                                                                                                        Er hat mich wieder gesund gemacht, nachdem ich woanders 7 Monate offensichtlich falsch behandelt worden bin- Lediglich seine Abrechnungsfirma - naja, die werden nach Prozenten bezahlt!  \n",
              "12169                                                                                                                                                                                                                                                     Wirklich nicht zu empfählen. Sehr unfreundliches Personal.  \n",
              "1533                                                                                                                                                                                                                   Der Arzt kümmert sich um seine Patienten. Man wird nicht abgefertigt, sondern ernst genommen.  \n",
              "6483                                                                                                                                                                                                                         Herr Seibert hat mir Krankengymnastik verschrieben dadurch wurden die Schmerzen besser.  \n",
              "7509               Ich habe noch nie eine Praxis erlebt, welche so kompetent und effizient arbeitet. Dazu gab es keinerlei Probleme bei der Behandlung. Einen Termin bekam ich innerhalb von 4 Tagen. Gewartet habe ich 4 Minuten, für die nachkontrolle ca 30?sekunden.<br />\\nKann diese Praxis absolut empfehlen!  \n",
              "9219                                                                                          Trotz Termin über 1 Std Wartezeit, bin angeblich zu früh zum Termin erschienen, hatte mich jedoch vorher telefonisch noch über den Termin rückversichert.Auf meine Reklamation hin Empfangspersonal sehr unfreundlich.  \n",
              "15990                                                                                                                                                           Es gibt keine Termine, aber man wird auch nicht der Reihe nach drangenommen. Dazu ist die Praxis unterbesetzt und somit darf man stundenlang warten.  \n",
              "15166                                                                                                                                                                                                                                                                        Die Arzt -Helferinnen unfreundlich sind  \n",
              "12411     Obwohl ich alleine im Wartezimmer war habe ich 45 min (!!!) warten müssen. Den Termin habe ich vor 4 Wochen vereinbart. Ich finde es absolut unverschämt einen Patienten so lange warten zu lassen und bei Nachfrage wurde zickig geantwortet ich müsse mich noch gedulden... nach fast 1 Stunde warten !!  \n",
              "15997                                              Ein sehr kompetenter Arzt, jedoch seine MFA‘s sind sehr unfreundlich den Patienten gegenüber und werden sehr schnell frech. Verweigern das man den arzt sehen möchte und behauptet einfach das der Arzt da nichts machen würde. Ohne jegliche Diagnose zu wissen.  \n",
              "4883                                                                                                                                                                                                   Ich bin zeit 13-15ja.beim dem Arzt kriege ich nur ferstendnis und Hilfe, was braucht mensch wen er ist krank.  \n",
              "9770                                                                                                                                                                                                     Kümmert sich auch um Angelegenheiten, wenn es um die Krankenkasse handelt, die ich eigentlich machen müste.  \n",
              "7121                                                                                                                                                                                       Ich ahabe FRau DR Schmitz noch nie unfreundlich erlebt. Alle Fragen beantwortet sie geduldig. Erklärt was sie untersucht.  \n",
              "8744                                                                                                                                                                                           Hochzufrieden bin ich nach meinem letzten Besuch, da eine  Korrektur der überkronten Schneidezähne vorgenommen wurde.  \n",
              "14754                                                                                                                                                                                    Kenne Ihn nicht als Arzt, weiß aber das er seinen Beruf als Berufung sieht, so wie es auch sein<br />\\nEltern getan haben!!  \n",
              "15441                                                                                                                                                                                                                     nimmt meine Beschwerden ernst, hört zu und versucht alles um meine Beschwerden zu lindern.  \n",
              "2620                                                         Selbst auf Termine die vor Wochen ausgemacht wurden sind für Kassenpatienten Wartezeiten von 60 - 90 Minuten in der Praxis anscheinend die Norm. Habe zwei Termine gehabt - beide Male war das der Fall - für mich inakzeptabel auch als Kassenpatient.  \n",
              "3729                                                                                                                                                Also die Schwestern sind so unfreundlich ,so was habe ich noch NIE erlebt. Kein Guten Tag kein Tschüss. Also da würde ich mal an neue Personal Besetzung denken.  \n",
              "10161                                                                                                                                Ich bin überzeugt von ihrer Kompetenz. Habe sie b bei den Untersuchungen als etwas grob in Erinnerung. Freundiche aber kühl-distanzierte Ärztin, die ich weiterempfehlen würde.  \n",
              "330                                                                                                                                                                                               Schwestern am Empfang überhebliches Auftreten, unfreundlich und arrogant. Da sollte noch einiges verändert werden.  \n",
              "14805                                                                                                                                                   Die Wartezeit ist lang. Die Ärztin macht noch Pausen zum Frühstück und zum Kaffeetrinken zwischendurch. Nicht empfehlenswert. Ich suche mir eine neue Praxis  \n",
              "3736                                                                                                                                                               Vom ersten bis zum letzten Besuch in der Praxis hat man sich wohlgefühlt. Es wurde auf Fragen eingegangen und die Untersuchungen waren gründlich.  \n",
              "5185                                                                                                                                                                                                                                                                       Ärztin aus Berufung ,besser geht nicht...  \n",
              "11917                                                                                                                               als asthma patient starke erkältung bekommen, sofort am montag nach dem schlimmen wochenende  angerufen , aber erst 1 woche später einen termin  . da nützt das auch nichts mehr  \n",
              "1300                                                                                                                                             Es ist oft schade, dass gerade zum Quartalsende keine Termine mehr zu haben sind. Ich habe das Gefühl \"abgewimmelt\" zu werden, nur weil ich kein Privatpatient bin.  \n",
              "15704                  Obwohl der Untersuchungstermin notwendigerweise drei Monate im Voraus vereinbart wurde, hatte ich mit meinen Kindern über eine Stunde im Wartezimmer zusätzlich zu warten. Anscheinend gibt es Schwierigkeiten mit der Terminorgationsation. Zu empfehlen für Leute mit viel Zeit und Geduld.  \n",
              "17175                                                                                                                                           Habe meine Augen untersuchen lassen, es wurden Test gemacht welche professionell durchgeführt wurden.<br />\\nIm Anschluss hat die Ärztin die Ergebnisse beschrieben.  \n",
              "16010                                                                                                   Kann die Meinung nicht vertreten, daß das Personal unfreundlich und unqualifiziert ist.................habe schon lange kein netterses Arzthelferinen- Team gesehen wie dieses...................!!!!!!!!!!!  \n",
              "9467                                                                                                                                                                                                                                                                      hömeopatische Altrnativen werden angeboten  \n",
              "394                                                                                                                                                          Medizinisch/ menschlich eine absolute Vertrauensperson. Eine Praxis MA , die haupsächlich die Anmeldung macht ist sehr launisch und sehr unfreundlich .  \n",
              "7668                                                                                                                                                                                                                               Kurze aber detaillierte Befundung und Behandlungsempfehlung. Geht auf Fragen ein.  \n",
              "8652                                                                                                                                                                                                                                                                          Der Artz hat mich 2 Minuten behandelt.  \n",
              "8267                                                                                                                                                                                                                            War mit Kind da. Sehr dolle Schmerzen.Trotzdem 4!! Stunden Wartezeit. Das geht nicht  \n",
              "4698                                                                                                 Ich wurde jahrelang falsch behandelt und nicht ernst genommen. Das hat man hier geändert. Habe bereits im privaten Bereich mehrmals die Empfehlung zu dieser Praxis ausgesprochen und möchte das auch hier tun.  \n",
              "14853                                                                                                                                                                                                                                                            Personal unfreundlich , sollte besser sein !!!!!!!!  \n",
              "13548                                                                                                                                                                                                                            Hier kommt nan schnell zur Urschache des Leidens.In der Praxis ist alles vorhanden.  \n",
              "13818                                                            Total unfreundlice blonde Dame am Empfang! Man dachte, man muss sich entschuldigen, daa man eine Überweiung zum HNO bekommen hat bzw. krank ist. Obwohl der Arzt sehr nett ist, habe ich keine Lust mich wie einen Bittsteller behandeln zu lassen.  \n",
              "16075                                                                                                                                                                                                                                                           Die Erreichbarkeit der Praxis ist unsäglich schlecht  \n",
              "5085                                                                                                             Leider kann ich die Praxis nicht weiter empfehlen. Trotzdem ich dort Oatientin bin würde ich ziemlich unfreundlich abgewiesen als ich wegen starker  Shmerzen im Knie um einen baldigen Termin bat.  \n",
              "8840                                                                                                                                                                                                                                                             Ich warte nie unter 1 Std. Das ist nicht akzeptabel  \n",
              "17834                                                   Herr Hillinger ist wirklich nett, aber die Sprechstundenhilfe ist so unfreundlich und regelrecht pampig, dass ich deshalb den Arzt wechseln werde. Ich habe es wirklich nicht nötig, mich als Patient so behandeln zu lassen. Sehr schade für die Arztpraxis  \n",
              "9214                                                                                                                                                                                                                                Nach 2 falschen Diagnosen von anderen Ärzten konnte Dr. Rambeck mir weiterhelfen  \n",
              "6227                                                                                              Als Schwangere MIT Termin musste ich zusätzlich 45 min warten bis ich überhaupt ran gekommen bin... Die Aufklärung und Behandlung meiner Krankheit war gering und desinteressiert... Absolut nicht zu empfehlen!!!  \n",
              "9074                               sehr unsympathische unhöfliche arrogante Helferinnen.<br />\\nDas die Ärztin dagegen nichts macht ist sehr sehr traurig. Die Helferinnen sind unmöglich !! seit Jahren ging Sie mit Äußerungen , uns auf die Nerven aber Sie redet sich ganz schnell da raus.<br />\\nNie wieder!!!  \n",
              "1407                                                                                                                                                                                                                   Kann ich nur empfehlen. Meine Schmerzen sind weg. Genau die richtige Diagnose und Behandlung!  \n",
              "6394                                                                                                  Allerdings wird sehr wenig geredet und Antworten bekommt man erst auf Nachfrage, als angekündigter Angstpatient bekommt keine Empathie vom Personal entgegengebracht..die Behandlung verläuft sehr schweigsam.  \n",
              "9936                                                                                                                                                                             Uns Kind hatte  sehr viel hals wehe wir würden auch uns Sohn gerne da Behandlunng machen ja lassen aber Leiter nehmt keine mehr auf  \n",
              "8101                                                                                                                                                                                    habe zwei stunden versucht anzurufen wurde 3 mal aus der warteschleife nach 20 minuten wartezeit rausgewofen aus der leitung  \n",
              "17510                                                        45 Minuten habe ich gewartet - dann hieß es: der Termin ist jetzt doch nicht möglich. So was geht nur einer Artzrpraxis! Auch bei akuten Beschwerden keinerlei Verkürzung der Wartezeit. Die Ärztin war sorgfältig aber auch sparsam (mit Röntgen etc.)  \n",
              "18805                                                                                                                                                                                                                                                                       Kann ich auf jeden Fall weiter empfehlen  \n",
              "19752                                                                                           Traurig bin ich, da meine liebste Zahnfee nach Köln wechselt.<br />\\r\\nVielleicht werde ich ihr folgen, wenn mich meine Zähne an eine zarte Behandlung erinnern.<br />\\r\\n<br />\\r\\nLiebe Grüße aus Merl<br />\\r\\nWD  \n",
              "10809                                                                                                                                                Überfüllt.Obwohl ich einen termin hatte ,kam ich erst in <br />\\n2 1/2 stunden dran. Die Helferinnen interesiert das garnicht.<br />\\nIst wahrscheinlich normal  \n",
              "2465                                                                                                                                                                                            Völlig unorganisierte Praxis. Teilweise sehr unfreundliches Personal, elendig lange Wartezeiten (bis zu 4 Stunden!).  \n",
              "19101                                                                                                                                                                                                           Praxisorganisation trotz später Sprechzeiten mangelhaft. Musste trotz Termin über 60 Minuten warten.  \n",
              "717                         Herr Frömmel selber ist sehr kompetent und ein guter Operateur, ich habe mir beide Knie bei ihm operieren lassen. Die Praxis ist leider schlecht organisiert, das Personal unfreundlich. Die diversen VertretungsärztInnen überzeugen auch nicht, hier kam es zu völligen Fehldiagnosen.  \n",
              "6463                                               Echt schade das sie einen Patienten mit schmerzen 2,5 Stunden im Wartezimmer leiden lassen die Mädchen am Empfang sind sehr respektlos und unfreundlich. Leider war mein Arzt im Urlaub nochmal treibt mich nix in diese Praxis ob wohl die Ärzte sehr nett sind.  \n",
              "18541                                                                                                                                                                        ruft einfach zuhause an um sich nach meinem Befinden zu erkundigen ,,,,,<br />\\n<br />\\nhat in den letzten 50 Jahren kein Artzt gemacht  \n",
              "2167                                   Dieser Arzt  begrüßt seinen Patienten, zwar kurz, aber das ist für mich o.k. Die Untersuchungen sind gründlich und wenn ich ein Problem mit meinen Augen habe wird nachgesehen. Auch ein Kontrolltermin wird mir nahegelegt und bei Fragen bekomme ich eine korrekte Antwort.  \n",
              "5950                                                                                                                                                                             Trotz meiner angst nie schlechte erfahrungen gemacht. Ich war scgon bei vielen ärzten, hier fühle ich mich mit abstand am wohlsten.  \n",
              "11145                                          Die Wartezeit will sich einfach nicht verbessern. Es gab mal eine Zeit, da hat man recht kurz gewartet, mittlerweile ist es aber leider wieder so, dass ich für 5 bis 10 Minuten Behandlung mehr als 60 Minuten warte. Das kann es einfach nicht sein... Sehr schade.  \n",
              "11183                                                                                                                                                                                                                                                                            Bezahlt man 50 euro für ultraschall  \n",
              "5643                                                                                                                                                                                                                                                                                Versprochener Rückruf mangelhaft  \n",
              "2362                                                                                                                   Leider sind die Diagnosen und Zusagen zuletzt häufiger falsch gewesen, nur kommt es nicht genau darauf bei einem Arzt an? Habe mich daher entschieden, nach 10 Jahren die Praxis zu wechseln.  \n",
              "6246                                                                                                                                                                                                      Wartezeit in der Praxis betrug 30 Minuten.Bahandlung dauerte 10 Minuten-reichte für die Diagnose aber aus.  \n",
              "19200                                                                                                                                                                                                                                                                                 Eine absolute Empfehlung!!!!!!  \n",
              "11676                                                                                                                                                                                                                                              Leider praktiziert Herr Jaeger nicht mehr, was ich sehr bedauere.  \n",
              "18095                                                                                                                                             Ein Arzt der sich über seinen Patienten erkundigt und  seine Krankheitsgeschichte erzählen kann,da gibt es  ja nicht viele,jedenfalls bei mir nicht so vorgekommen  \n",
              "7168                                                                                                                                                                                                  ach was! Wer von seinem Doc immer persönlich gebauchpinselt werden will, ist hier falsch. Alles Andere stimmt.  \n",
              "2941                                                                                                                                                                                                                                                                 Ich war zwei mal da es ging alles reibungslos .  "
            ],
            "text/html": [
              "\n",
              "  <div id=\"df-1b99874c-dfbf-4554-9a65-27b97fa0a5de\">\n",
              "    <div class=\"colab-df-container\">\n",
              "      <div>\n",
              "<style scoped>\n",
              "    .dataframe tbody tr th:only-of-type {\n",
              "        vertical-align: middle;\n",
              "    }\n",
              "\n",
              "    .dataframe tbody tr th {\n",
              "        vertical-align: top;\n",
              "    }\n",
              "\n",
              "    .dataframe thead th {\n",
              "        text-align: right;\n",
              "    }\n",
              "</style>\n",
              "<table border=\"1\" class=\"dataframe\">\n",
              "  <thead>\n",
              "    <tr style=\"text-align: right;\">\n",
              "      <th></th>\n",
              "      <th>grade</th>\n",
              "      <th>comment</th>\n",
              "    </tr>\n",
              "  </thead>\n",
              "  <tbody>\n",
              "    <tr>\n",
              "      <th>3674</th>\n",
              "      <td>1</td>\n",
              "      <td>Die Ärztin war freundlich und sorgfältig. Ich hatte kein schlechtes Gefühl in der Praxis so wie die anderen Patienten es beschreiben.</td>\n",
              "    </tr>\n",
              "    <tr>\n",
              "      <th>5055</th>\n",
              "      <td>1</td>\n",
              "      <td>Nach längerer Zeit musste ich zur Behandlung und wurde nicht enttäuscht. So stellt man sich wirklich eine Ärztin vor, ohne \"Bauchschmerzen\" vorher zu haben. Einen kurzfristigen Termin bekam ich, war natürlich nicht die einzige Patientin.</td>\n",
              "    </tr>\n",
              "    <tr>\n",
              "      <th>8797</th>\n",
              "      <td>1</td>\n",
              "      <td>Nach langer Suche kam ich zu Fr. Dr. Buttgereit. Sie hat nicht nur die richtige Diagnose gestellt, sondern mich auch dementsprechend behandelt. Nachdem ich 3 Wochen im Krankenhaus war, behandelte sie mich noch einige Monate weiter. Sie hat mein volles Vertauen.</td>\n",
              "    </tr>\n",
              "    <tr>\n",
              "      <th>9909</th>\n",
              "      <td>1</td>\n",
              "      <td>Frau Doktor Kreyer ist sehr nett und wirkt sehr kompeten aber Sie sollte sich dringenst eine neue Arztschwester suchen. So etwas unfreundliches hab ich noch nicht erlebt. Da kann die Ärztin noch so kompetent sein, wenn der erste Kontakt zur Praxis so kalt und desinteressiert ist.</td>\n",
              "    </tr>\n",
              "    <tr>\n",
              "      <th>343</th>\n",
              "      <td>1</td>\n",
              "      <td>Die Sauberkeit in der Praxis und Behandlungsräumen ist verbesserungswürdig</td>\n",
              "    </tr>\n",
              "    <tr>\n",
              "      <th>5498</th>\n",
              "      <td>1</td>\n",
              "      <td>Die Sprechstundenhilfe ist bei telefonischer Terminabsprache absolut arrogant und unfreundlich.</td>\n",
              "    </tr>\n",
              "    <tr>\n",
              "      <th>10804</th>\n",
              "      <td>1</td>\n",
              "      <td>Meine Untersuchung und das Vorgespräch wurden ohne unangenehme Nebenwirkungen durchgeführt, wer lässt sich schon gern ...... es sei denn jemand anderes steht darauf :-)&lt;br /&gt;\\nMfG</td>\n",
              "    </tr>\n",
              "    <tr>\n",
              "      <th>4691</th>\n",
              "      <td>1</td>\n",
              "      <td>Hier steht nicht der wirtschaftliche Erfolg des Arztes, sonder der Behandlungserfolg des Patienten an 1. Stelle!</td>\n",
              "    </tr>\n",
              "    <tr>\n",
              "      <th>9532</th>\n",
              "      <td>1</td>\n",
              "      <td>Routinierte und erfahrene Praxis auch oder besonders für Kinder. Arzt operiert bei entsprechender Diagnose auch selbst, so ist alles in einer Hand.</td>\n",
              "    </tr>\n",
              "    <tr>\n",
              "      <th>19754</th>\n",
              "      <td>1</td>\n",
              "      <td>Ich kann mich den positiven Äußerungen meiner Vorredner nur anschließen. Allerdings behandelt die Praxis keine Kassenpatienten bzw. diese müssen die Rechnung selber bezahlen. Ist vielleicht ein nicht ganz unwichtiges Detail, zumal hier angegeben ist das Kassenpatienten behandelt werden.</td>\n",
              "    </tr>\n",
              "    <tr>\n",
              "      <th>8431</th>\n",
              "      <td>1</td>\n",
              "      <td>mehrere Behandlungsräume;  sehr hellhörig;   hier hört man leider automatisch die Gespräche/Diagnosen zu Fremdpatienten mit.</td>\n",
              "    </tr>\n",
              "    <tr>\n",
              "      <th>6399</th>\n",
              "      <td>1</td>\n",
              "      <td>Leider fand der versprochene Rückruf der Ärztin wegen der Laborergebnisse auch nach 3 Wochen nicht statt. Der überweisende Arzt wartet darauf und ich auch. Erst mehrmalige Anrufe im Zentrum brachten per Fax die Ergebnisse , aber keine persönliche Besprechung der Werte.</td>\n",
              "    </tr>\n",
              "    <tr>\n",
              "      <th>13637</th>\n",
              "      <td>1</td>\n",
              "      <td>Telefonisch erreichbar schlecht und die Arzthelferin die meisten unfreundlich.&lt;br /&gt;\\nDas war alles Mal besser.&lt;br /&gt;\\nDer Arzt super.</td>\n",
              "    </tr>\n",
              "    <tr>\n",
              "      <th>19023</th>\n",
              "      <td>1</td>\n",
              "      <td>Nette Ärzte ( war bereits bei mehreren), manfühlt sich gut aufgehoben.&lt;br /&gt;\\nDie Besetzung der Rezeption ist leider schlecht gewählt: unfreundlich, inkompetent und das bei Patienten, die mitunter sehr krank und sensibel sind.&lt;br /&gt;\\nSchade! &lt;br /&gt;\\nSonst wäre die Bewertung sicher besser ausgefallen.</td>\n",
              "    </tr>\n",
              "    <tr>\n",
              "      <th>19616</th>\n",
              "      <td>1</td>\n",
              "      <td>Man fühlte sich nicht als Kassenpatient</td>\n",
              "    </tr>\n",
              "    <tr>\n",
              "      <th>11648</th>\n",
              "      <td>1</td>\n",
              "      <td>Telefonisch kommt man nie durch! Es geht lediglich immer nur der AB dran und die Wartezeiten variieren von 20 min bis hin zu 1,5 Std (trotz Termin)</td>\n",
              "    </tr>\n",
              "    <tr>\n",
              "      <th>14317</th>\n",
              "      <td>1</td>\n",
              "      <td>schnelle Feststellung der Ursache meiner Beschwerden, verordnetes Medikament hat innerhalb der angekündigten Zeit von 2-3 Tagen gewirkt und meine Beschwerden behoben.</td>\n",
              "    </tr>\n",
              "    <tr>\n",
              "      <th>14549</th>\n",
              "      <td>1</td>\n",
              "      <td>Die Arzthelferin war sehr Unmenschlich und unfreundlich  diese Unfreundlichkeit habe ich lange nicht mer erlebt gehabt finde hat sich den falschen Beruf ausgesucht war dann wegen meinem Blutbefunden bei der Frau bonitz die Ärztin war super und das Praxis Team genau so</td>\n",
              "    </tr>\n",
              "    <tr>\n",
              "      <th>3561</th>\n",
              "      <td>1</td>\n",
              "      <td>Aber die Schwestern sehr unkommunikativ</td>\n",
              "    </tr>\n",
              "    <tr>\n",
              "      <th>11160</th>\n",
              "      <td>1</td>\n",
              "      <td>Ich habe mir im Juli 2019 3x Leberflecke per Laserbehandlung entfernen lassen.</td>\n",
              "    </tr>\n",
              "    <tr>\n",
              "      <th>5134</th>\n",
              "      <td>1</td>\n",
              "      <td>...nehmen ihre kleine Welt zu wichtig! Dass das Leben nicht immer so läuft, wie man es sich selbst wünscht, ist nun mal so. Nicht nur beim Arzt ?? und auch eine Helferin darf mal einen schlechten Tag haben.&lt;br /&gt;\\n&lt;br /&gt;\\nWeiter so!</td>\n",
              "    </tr>\n",
              "    <tr>\n",
              "      <th>11871</th>\n",
              "      <td>1</td>\n",
              "      <td>Für einen normalen Vorsorgetermin muss ich 5 (!!!) Monate warten. Sowas ist doch nicht zumutbar!!!!</td>\n",
              "    </tr>\n",
              "    <tr>\n",
              "      <th>12358</th>\n",
              "      <td>1</td>\n",
              "      <td>Eine Vertrauensperson und Arzt , wie man es sich nur wünschen kann !!!!</td>\n",
              "    </tr>\n",
              "    <tr>\n",
              "      <th>15008</th>\n",
              "      <td>1</td>\n",
              "      <td>Kann mich meinen Vorrednern überhaupt nicht anschließen. Habe ausschließlich sehr positve Erfahrungen mit dieser Ärztin gemacht&lt;br /&gt;\\r\\n&lt;br /&gt;\\r\\n</td>\n",
              "    </tr>\n",
              "    <tr>\n",
              "      <th>2834</th>\n",
              "      <td>1</td>\n",
              "      <td>Fachlich ist gegen Ihn nichts einzuwenden, sollte aber gegenüber seinen Angestellten etwas ruhiger auftreten. Ist Ihnen gegenüber etwas aufbrausend. Sollte sie nicht im Beisein des Patienten runter machen.</td>\n",
              "    </tr>\n",
              "    <tr>\n",
              "      <th>1217</th>\n",
              "      <td>1</td>\n",
              "      <td>Als Arzt untadelig, als Mensch Nadja etwas flappsig.</td>\n",
              "    </tr>\n",
              "    <tr>\n",
              "      <th>1475</th>\n",
              "      <td>1</td>\n",
              "      <td>Leider genießen privatversicherte hier große Vorteile. Ich musste in der Praxis über 2 Stunden warten und ungefähr 10-15 Leute die nach mir kamen waren vor mir dran. Es hieß auf Nachfrage ich sei der nächste, jedoch war dem nicht so.</td>\n",
              "    </tr>\n",
              "    <tr>\n",
              "      <th>11239</th>\n",
              "      <td>1</td>\n",
              "      <td>2 Stunden warten mit einem Termin geht gar nicht!</td>\n",
              "    </tr>\n",
              "    <tr>\n",
              "      <th>7471</th>\n",
              "      <td>1</td>\n",
              "      <td>Definitiv weiter zu empfehlen!</td>\n",
              "    </tr>\n",
              "    <tr>\n",
              "      <th>6926</th>\n",
              "      <td>1</td>\n",
              "      <td>Der Arzt ist für sein Fachgebiet kompetent. Die Sprechstundenhilfen sind unfreundlich und schauen lieber in ihren Computer statt die Patienten anzunehmen oder das Telefon entgegen zu nehmen!</td>\n",
              "    </tr>\n",
              "    <tr>\n",
              "      <th>13610</th>\n",
              "      <td>1</td>\n",
              "      <td>Sprechstundenhilfen sind beide derart unfreundlich und die Wartezeit sind trotz festem Termin unzumutbar lang</td>\n",
              "    </tr>\n",
              "    <tr>\n",
              "      <th>4015</th>\n",
              "      <td>1</td>\n",
              "      <td>Er hat mich wieder gesund gemacht, nachdem ich woanders 7 Monate offensichtlich falsch behandelt worden bin- Lediglich seine Abrechnungsfirma - naja, die werden nach Prozenten bezahlt!</td>\n",
              "    </tr>\n",
              "    <tr>\n",
              "      <th>12169</th>\n",
              "      <td>1</td>\n",
              "      <td>Wirklich nicht zu empfählen. Sehr unfreundliches Personal.</td>\n",
              "    </tr>\n",
              "    <tr>\n",
              "      <th>1533</th>\n",
              "      <td>1</td>\n",
              "      <td>Der Arzt kümmert sich um seine Patienten. Man wird nicht abgefertigt, sondern ernst genommen.</td>\n",
              "    </tr>\n",
              "    <tr>\n",
              "      <th>6483</th>\n",
              "      <td>1</td>\n",
              "      <td>Herr Seibert hat mir Krankengymnastik verschrieben dadurch wurden die Schmerzen besser.</td>\n",
              "    </tr>\n",
              "    <tr>\n",
              "      <th>7509</th>\n",
              "      <td>1</td>\n",
              "      <td>Ich habe noch nie eine Praxis erlebt, welche so kompetent und effizient arbeitet. Dazu gab es keinerlei Probleme bei der Behandlung. Einen Termin bekam ich innerhalb von 4 Tagen. Gewartet habe ich 4 Minuten, für die nachkontrolle ca 30?sekunden.&lt;br /&gt;\\nKann diese Praxis absolut empfehlen!</td>\n",
              "    </tr>\n",
              "    <tr>\n",
              "      <th>9219</th>\n",
              "      <td>1</td>\n",
              "      <td>Trotz Termin über 1 Std Wartezeit, bin angeblich zu früh zum Termin erschienen, hatte mich jedoch vorher telefonisch noch über den Termin rückversichert.Auf meine Reklamation hin Empfangspersonal sehr unfreundlich.</td>\n",
              "    </tr>\n",
              "    <tr>\n",
              "      <th>15990</th>\n",
              "      <td>1</td>\n",
              "      <td>Es gibt keine Termine, aber man wird auch nicht der Reihe nach drangenommen. Dazu ist die Praxis unterbesetzt und somit darf man stundenlang warten.</td>\n",
              "    </tr>\n",
              "    <tr>\n",
              "      <th>15166</th>\n",
              "      <td>1</td>\n",
              "      <td>Die Arzt -Helferinnen unfreundlich sind</td>\n",
              "    </tr>\n",
              "    <tr>\n",
              "      <th>12411</th>\n",
              "      <td>1</td>\n",
              "      <td>Obwohl ich alleine im Wartezimmer war habe ich 45 min (!!!) warten müssen. Den Termin habe ich vor 4 Wochen vereinbart. Ich finde es absolut unverschämt einen Patienten so lange warten zu lassen und bei Nachfrage wurde zickig geantwortet ich müsse mich noch gedulden... nach fast 1 Stunde warten !!</td>\n",
              "    </tr>\n",
              "    <tr>\n",
              "      <th>15997</th>\n",
              "      <td>1</td>\n",
              "      <td>Ein sehr kompetenter Arzt, jedoch seine MFA‘s sind sehr unfreundlich den Patienten gegenüber und werden sehr schnell frech. Verweigern das man den arzt sehen möchte und behauptet einfach das der Arzt da nichts machen würde. Ohne jegliche Diagnose zu wissen.</td>\n",
              "    </tr>\n",
              "    <tr>\n",
              "      <th>4883</th>\n",
              "      <td>1</td>\n",
              "      <td>Ich bin zeit 13-15ja.beim dem Arzt kriege ich nur ferstendnis und Hilfe, was braucht mensch wen er ist krank.</td>\n",
              "    </tr>\n",
              "    <tr>\n",
              "      <th>9770</th>\n",
              "      <td>1</td>\n",
              "      <td>Kümmert sich auch um Angelegenheiten, wenn es um die Krankenkasse handelt, die ich eigentlich machen müste.</td>\n",
              "    </tr>\n",
              "    <tr>\n",
              "      <th>7121</th>\n",
              "      <td>1</td>\n",
              "      <td>Ich ahabe FRau DR Schmitz noch nie unfreundlich erlebt. Alle Fragen beantwortet sie geduldig. Erklärt was sie untersucht.</td>\n",
              "    </tr>\n",
              "    <tr>\n",
              "      <th>8744</th>\n",
              "      <td>1</td>\n",
              "      <td>Hochzufrieden bin ich nach meinem letzten Besuch, da eine  Korrektur der überkronten Schneidezähne vorgenommen wurde.</td>\n",
              "    </tr>\n",
              "    <tr>\n",
              "      <th>14754</th>\n",
              "      <td>1</td>\n",
              "      <td>Kenne Ihn nicht als Arzt, weiß aber das er seinen Beruf als Berufung sieht, so wie es auch sein&lt;br /&gt;\\nEltern getan haben!!</td>\n",
              "    </tr>\n",
              "    <tr>\n",
              "      <th>15441</th>\n",
              "      <td>1</td>\n",
              "      <td>nimmt meine Beschwerden ernst, hört zu und versucht alles um meine Beschwerden zu lindern.</td>\n",
              "    </tr>\n",
              "    <tr>\n",
              "      <th>2620</th>\n",
              "      <td>1</td>\n",
              "      <td>Selbst auf Termine die vor Wochen ausgemacht wurden sind für Kassenpatienten Wartezeiten von 60 - 90 Minuten in der Praxis anscheinend die Norm. Habe zwei Termine gehabt - beide Male war das der Fall - für mich inakzeptabel auch als Kassenpatient.</td>\n",
              "    </tr>\n",
              "    <tr>\n",
              "      <th>3729</th>\n",
              "      <td>1</td>\n",
              "      <td>Also die Schwestern sind so unfreundlich ,so was habe ich noch NIE erlebt. Kein Guten Tag kein Tschüss. Also da würde ich mal an neue Personal Besetzung denken.</td>\n",
              "    </tr>\n",
              "    <tr>\n",
              "      <th>10161</th>\n",
              "      <td>1</td>\n",
              "      <td>Ich bin überzeugt von ihrer Kompetenz. Habe sie b bei den Untersuchungen als etwas grob in Erinnerung. Freundiche aber kühl-distanzierte Ärztin, die ich weiterempfehlen würde.</td>\n",
              "    </tr>\n",
              "    <tr>\n",
              "      <th>330</th>\n",
              "      <td>1</td>\n",
              "      <td>Schwestern am Empfang überhebliches Auftreten, unfreundlich und arrogant. Da sollte noch einiges verändert werden.</td>\n",
              "    </tr>\n",
              "    <tr>\n",
              "      <th>14805</th>\n",
              "      <td>1</td>\n",
              "      <td>Die Wartezeit ist lang. Die Ärztin macht noch Pausen zum Frühstück und zum Kaffeetrinken zwischendurch. Nicht empfehlenswert. Ich suche mir eine neue Praxis</td>\n",
              "    </tr>\n",
              "    <tr>\n",
              "      <th>3736</th>\n",
              "      <td>1</td>\n",
              "      <td>Vom ersten bis zum letzten Besuch in der Praxis hat man sich wohlgefühlt. Es wurde auf Fragen eingegangen und die Untersuchungen waren gründlich.</td>\n",
              "    </tr>\n",
              "    <tr>\n",
              "      <th>5185</th>\n",
              "      <td>1</td>\n",
              "      <td>Ärztin aus Berufung ,besser geht nicht...</td>\n",
              "    </tr>\n",
              "    <tr>\n",
              "      <th>11917</th>\n",
              "      <td>1</td>\n",
              "      <td>als asthma patient starke erkältung bekommen, sofort am montag nach dem schlimmen wochenende  angerufen , aber erst 1 woche später einen termin  . da nützt das auch nichts mehr</td>\n",
              "    </tr>\n",
              "    <tr>\n",
              "      <th>1300</th>\n",
              "      <td>1</td>\n",
              "      <td>Es ist oft schade, dass gerade zum Quartalsende keine Termine mehr zu haben sind. Ich habe das Gefühl \"abgewimmelt\" zu werden, nur weil ich kein Privatpatient bin.</td>\n",
              "    </tr>\n",
              "    <tr>\n",
              "      <th>15704</th>\n",
              "      <td>1</td>\n",
              "      <td>Obwohl der Untersuchungstermin notwendigerweise drei Monate im Voraus vereinbart wurde, hatte ich mit meinen Kindern über eine Stunde im Wartezimmer zusätzlich zu warten. Anscheinend gibt es Schwierigkeiten mit der Terminorgationsation. Zu empfehlen für Leute mit viel Zeit und Geduld.</td>\n",
              "    </tr>\n",
              "    <tr>\n",
              "      <th>17175</th>\n",
              "      <td>1</td>\n",
              "      <td>Habe meine Augen untersuchen lassen, es wurden Test gemacht welche professionell durchgeführt wurden.&lt;br /&gt;\\nIm Anschluss hat die Ärztin die Ergebnisse beschrieben.</td>\n",
              "    </tr>\n",
              "    <tr>\n",
              "      <th>16010</th>\n",
              "      <td>1</td>\n",
              "      <td>Kann die Meinung nicht vertreten, daß das Personal unfreundlich und unqualifiziert ist.................habe schon lange kein netterses Arzthelferinen- Team gesehen wie dieses...................!!!!!!!!!!!</td>\n",
              "    </tr>\n",
              "    <tr>\n",
              "      <th>9467</th>\n",
              "      <td>1</td>\n",
              "      <td>hömeopatische Altrnativen werden angeboten</td>\n",
              "    </tr>\n",
              "    <tr>\n",
              "      <th>394</th>\n",
              "      <td>1</td>\n",
              "      <td>Medizinisch/ menschlich eine absolute Vertrauensperson. Eine Praxis MA , die haupsächlich die Anmeldung macht ist sehr launisch und sehr unfreundlich .</td>\n",
              "    </tr>\n",
              "    <tr>\n",
              "      <th>7668</th>\n",
              "      <td>1</td>\n",
              "      <td>Kurze aber detaillierte Befundung und Behandlungsempfehlung. Geht auf Fragen ein.</td>\n",
              "    </tr>\n",
              "    <tr>\n",
              "      <th>8652</th>\n",
              "      <td>1</td>\n",
              "      <td>Der Artz hat mich 2 Minuten behandelt.</td>\n",
              "    </tr>\n",
              "    <tr>\n",
              "      <th>8267</th>\n",
              "      <td>1</td>\n",
              "      <td>War mit Kind da. Sehr dolle Schmerzen.Trotzdem 4!! Stunden Wartezeit. Das geht nicht</td>\n",
              "    </tr>\n",
              "    <tr>\n",
              "      <th>4698</th>\n",
              "      <td>1</td>\n",
              "      <td>Ich wurde jahrelang falsch behandelt und nicht ernst genommen. Das hat man hier geändert. Habe bereits im privaten Bereich mehrmals die Empfehlung zu dieser Praxis ausgesprochen und möchte das auch hier tun.</td>\n",
              "    </tr>\n",
              "    <tr>\n",
              "      <th>14853</th>\n",
              "      <td>1</td>\n",
              "      <td>Personal unfreundlich , sollte besser sein !!!!!!!!</td>\n",
              "    </tr>\n",
              "    <tr>\n",
              "      <th>13548</th>\n",
              "      <td>1</td>\n",
              "      <td>Hier kommt nan schnell zur Urschache des Leidens.In der Praxis ist alles vorhanden.</td>\n",
              "    </tr>\n",
              "    <tr>\n",
              "      <th>13818</th>\n",
              "      <td>1</td>\n",
              "      <td>Total unfreundlice blonde Dame am Empfang! Man dachte, man muss sich entschuldigen, daa man eine Überweiung zum HNO bekommen hat bzw. krank ist. Obwohl der Arzt sehr nett ist, habe ich keine Lust mich wie einen Bittsteller behandeln zu lassen.</td>\n",
              "    </tr>\n",
              "    <tr>\n",
              "      <th>16075</th>\n",
              "      <td>1</td>\n",
              "      <td>Die Erreichbarkeit der Praxis ist unsäglich schlecht</td>\n",
              "    </tr>\n",
              "    <tr>\n",
              "      <th>5085</th>\n",
              "      <td>1</td>\n",
              "      <td>Leider kann ich die Praxis nicht weiter empfehlen. Trotzdem ich dort Oatientin bin würde ich ziemlich unfreundlich abgewiesen als ich wegen starker  Shmerzen im Knie um einen baldigen Termin bat.</td>\n",
              "    </tr>\n",
              "    <tr>\n",
              "      <th>8840</th>\n",
              "      <td>1</td>\n",
              "      <td>Ich warte nie unter 1 Std. Das ist nicht akzeptabel</td>\n",
              "    </tr>\n",
              "    <tr>\n",
              "      <th>17834</th>\n",
              "      <td>1</td>\n",
              "      <td>Herr Hillinger ist wirklich nett, aber die Sprechstundenhilfe ist so unfreundlich und regelrecht pampig, dass ich deshalb den Arzt wechseln werde. Ich habe es wirklich nicht nötig, mich als Patient so behandeln zu lassen. Sehr schade für die Arztpraxis</td>\n",
              "    </tr>\n",
              "    <tr>\n",
              "      <th>9214</th>\n",
              "      <td>1</td>\n",
              "      <td>Nach 2 falschen Diagnosen von anderen Ärzten konnte Dr. Rambeck mir weiterhelfen</td>\n",
              "    </tr>\n",
              "    <tr>\n",
              "      <th>6227</th>\n",
              "      <td>1</td>\n",
              "      <td>Als Schwangere MIT Termin musste ich zusätzlich 45 min warten bis ich überhaupt ran gekommen bin... Die Aufklärung und Behandlung meiner Krankheit war gering und desinteressiert... Absolut nicht zu empfehlen!!!</td>\n",
              "    </tr>\n",
              "    <tr>\n",
              "      <th>9074</th>\n",
              "      <td>1</td>\n",
              "      <td>sehr unsympathische unhöfliche arrogante Helferinnen.&lt;br /&gt;\\nDas die Ärztin dagegen nichts macht ist sehr sehr traurig. Die Helferinnen sind unmöglich !! seit Jahren ging Sie mit Äußerungen , uns auf die Nerven aber Sie redet sich ganz schnell da raus.&lt;br /&gt;\\nNie wieder!!!</td>\n",
              "    </tr>\n",
              "    <tr>\n",
              "      <th>1407</th>\n",
              "      <td>1</td>\n",
              "      <td>Kann ich nur empfehlen. Meine Schmerzen sind weg. Genau die richtige Diagnose und Behandlung!</td>\n",
              "    </tr>\n",
              "    <tr>\n",
              "      <th>6394</th>\n",
              "      <td>1</td>\n",
              "      <td>Allerdings wird sehr wenig geredet und Antworten bekommt man erst auf Nachfrage, als angekündigter Angstpatient bekommt keine Empathie vom Personal entgegengebracht..die Behandlung verläuft sehr schweigsam.</td>\n",
              "    </tr>\n",
              "    <tr>\n",
              "      <th>9936</th>\n",
              "      <td>1</td>\n",
              "      <td>Uns Kind hatte  sehr viel hals wehe wir würden auch uns Sohn gerne da Behandlunng machen ja lassen aber Leiter nehmt keine mehr auf</td>\n",
              "    </tr>\n",
              "    <tr>\n",
              "      <th>8101</th>\n",
              "      <td>1</td>\n",
              "      <td>habe zwei stunden versucht anzurufen wurde 3 mal aus der warteschleife nach 20 minuten wartezeit rausgewofen aus der leitung</td>\n",
              "    </tr>\n",
              "    <tr>\n",
              "      <th>17510</th>\n",
              "      <td>1</td>\n",
              "      <td>45 Minuten habe ich gewartet - dann hieß es: der Termin ist jetzt doch nicht möglich. So was geht nur einer Artzrpraxis! Auch bei akuten Beschwerden keinerlei Verkürzung der Wartezeit. Die Ärztin war sorgfältig aber auch sparsam (mit Röntgen etc.)</td>\n",
              "    </tr>\n",
              "    <tr>\n",
              "      <th>18805</th>\n",
              "      <td>1</td>\n",
              "      <td>Kann ich auf jeden Fall weiter empfehlen</td>\n",
              "    </tr>\n",
              "    <tr>\n",
              "      <th>19752</th>\n",
              "      <td>1</td>\n",
              "      <td>Traurig bin ich, da meine liebste Zahnfee nach Köln wechselt.&lt;br /&gt;\\r\\nVielleicht werde ich ihr folgen, wenn mich meine Zähne an eine zarte Behandlung erinnern.&lt;br /&gt;\\r\\n&lt;br /&gt;\\r\\nLiebe Grüße aus Merl&lt;br /&gt;\\r\\nWD</td>\n",
              "    </tr>\n",
              "    <tr>\n",
              "      <th>10809</th>\n",
              "      <td>1</td>\n",
              "      <td>Überfüllt.Obwohl ich einen termin hatte ,kam ich erst in &lt;br /&gt;\\n2 1/2 stunden dran. Die Helferinnen interesiert das garnicht.&lt;br /&gt;\\nIst wahrscheinlich normal</td>\n",
              "    </tr>\n",
              "    <tr>\n",
              "      <th>2465</th>\n",
              "      <td>1</td>\n",
              "      <td>Völlig unorganisierte Praxis. Teilweise sehr unfreundliches Personal, elendig lange Wartezeiten (bis zu 4 Stunden!).</td>\n",
              "    </tr>\n",
              "    <tr>\n",
              "      <th>19101</th>\n",
              "      <td>1</td>\n",
              "      <td>Praxisorganisation trotz später Sprechzeiten mangelhaft. Musste trotz Termin über 60 Minuten warten.</td>\n",
              "    </tr>\n",
              "    <tr>\n",
              "      <th>717</th>\n",
              "      <td>1</td>\n",
              "      <td>Herr Frömmel selber ist sehr kompetent und ein guter Operateur, ich habe mir beide Knie bei ihm operieren lassen. Die Praxis ist leider schlecht organisiert, das Personal unfreundlich. Die diversen VertretungsärztInnen überzeugen auch nicht, hier kam es zu völligen Fehldiagnosen.</td>\n",
              "    </tr>\n",
              "    <tr>\n",
              "      <th>6463</th>\n",
              "      <td>1</td>\n",
              "      <td>Echt schade das sie einen Patienten mit schmerzen 2,5 Stunden im Wartezimmer leiden lassen die Mädchen am Empfang sind sehr respektlos und unfreundlich. Leider war mein Arzt im Urlaub nochmal treibt mich nix in diese Praxis ob wohl die Ärzte sehr nett sind.</td>\n",
              "    </tr>\n",
              "    <tr>\n",
              "      <th>18541</th>\n",
              "      <td>1</td>\n",
              "      <td>ruft einfach zuhause an um sich nach meinem Befinden zu erkundigen ,,,,,&lt;br /&gt;\\n&lt;br /&gt;\\nhat in den letzten 50 Jahren kein Artzt gemacht</td>\n",
              "    </tr>\n",
              "    <tr>\n",
              "      <th>2167</th>\n",
              "      <td>1</td>\n",
              "      <td>Dieser Arzt  begrüßt seinen Patienten, zwar kurz, aber das ist für mich o.k. Die Untersuchungen sind gründlich und wenn ich ein Problem mit meinen Augen habe wird nachgesehen. Auch ein Kontrolltermin wird mir nahegelegt und bei Fragen bekomme ich eine korrekte Antwort.</td>\n",
              "    </tr>\n",
              "    <tr>\n",
              "      <th>5950</th>\n",
              "      <td>1</td>\n",
              "      <td>Trotz meiner angst nie schlechte erfahrungen gemacht. Ich war scgon bei vielen ärzten, hier fühle ich mich mit abstand am wohlsten.</td>\n",
              "    </tr>\n",
              "    <tr>\n",
              "      <th>11145</th>\n",
              "      <td>1</td>\n",
              "      <td>Die Wartezeit will sich einfach nicht verbessern. Es gab mal eine Zeit, da hat man recht kurz gewartet, mittlerweile ist es aber leider wieder so, dass ich für 5 bis 10 Minuten Behandlung mehr als 60 Minuten warte. Das kann es einfach nicht sein... Sehr schade.</td>\n",
              "    </tr>\n",
              "    <tr>\n",
              "      <th>11183</th>\n",
              "      <td>1</td>\n",
              "      <td>Bezahlt man 50 euro für ultraschall</td>\n",
              "    </tr>\n",
              "    <tr>\n",
              "      <th>5643</th>\n",
              "      <td>1</td>\n",
              "      <td>Versprochener Rückruf mangelhaft</td>\n",
              "    </tr>\n",
              "    <tr>\n",
              "      <th>2362</th>\n",
              "      <td>1</td>\n",
              "      <td>Leider sind die Diagnosen und Zusagen zuletzt häufiger falsch gewesen, nur kommt es nicht genau darauf bei einem Arzt an? Habe mich daher entschieden, nach 10 Jahren die Praxis zu wechseln.</td>\n",
              "    </tr>\n",
              "    <tr>\n",
              "      <th>6246</th>\n",
              "      <td>1</td>\n",
              "      <td>Wartezeit in der Praxis betrug 30 Minuten.Bahandlung dauerte 10 Minuten-reichte für die Diagnose aber aus.</td>\n",
              "    </tr>\n",
              "    <tr>\n",
              "      <th>19200</th>\n",
              "      <td>1</td>\n",
              "      <td>Eine absolute Empfehlung!!!!!!</td>\n",
              "    </tr>\n",
              "    <tr>\n",
              "      <th>11676</th>\n",
              "      <td>1</td>\n",
              "      <td>Leider praktiziert Herr Jaeger nicht mehr, was ich sehr bedauere.</td>\n",
              "    </tr>\n",
              "    <tr>\n",
              "      <th>18095</th>\n",
              "      <td>1</td>\n",
              "      <td>Ein Arzt der sich über seinen Patienten erkundigt und  seine Krankheitsgeschichte erzählen kann,da gibt es  ja nicht viele,jedenfalls bei mir nicht so vorgekommen</td>\n",
              "    </tr>\n",
              "    <tr>\n",
              "      <th>7168</th>\n",
              "      <td>1</td>\n",
              "      <td>ach was! Wer von seinem Doc immer persönlich gebauchpinselt werden will, ist hier falsch. Alles Andere stimmt.</td>\n",
              "    </tr>\n",
              "    <tr>\n",
              "      <th>2941</th>\n",
              "      <td>1</td>\n",
              "      <td>Ich war zwei mal da es ging alles reibungslos .</td>\n",
              "    </tr>\n",
              "  </tbody>\n",
              "</table>\n",
              "</div>\n",
              "      <button class=\"colab-df-convert\" onclick=\"convertToInteractive('df-1b99874c-dfbf-4554-9a65-27b97fa0a5de')\"\n",
              "              title=\"Convert this dataframe to an interactive table.\"\n",
              "              style=\"display:none;\">\n",
              "        \n",
              "  <svg xmlns=\"http://www.w3.org/2000/svg\" height=\"24px\"viewBox=\"0 0 24 24\"\n",
              "       width=\"24px\">\n",
              "    <path d=\"M0 0h24v24H0V0z\" fill=\"none\"/>\n",
              "    <path d=\"M18.56 5.44l.94 2.06.94-2.06 2.06-.94-2.06-.94-.94-2.06-.94 2.06-2.06.94zm-11 1L8.5 8.5l.94-2.06 2.06-.94-2.06-.94L8.5 2.5l-.94 2.06-2.06.94zm10 10l.94 2.06.94-2.06 2.06-.94-2.06-.94-.94-2.06-.94 2.06-2.06.94z\"/><path d=\"M17.41 7.96l-1.37-1.37c-.4-.4-.92-.59-1.43-.59-.52 0-1.04.2-1.43.59L10.3 9.45l-7.72 7.72c-.78.78-.78 2.05 0 2.83L4 21.41c.39.39.9.59 1.41.59.51 0 1.02-.2 1.41-.59l7.78-7.78 2.81-2.81c.8-.78.8-2.07 0-2.86zM5.41 20L4 18.59l7.72-7.72 1.47 1.35L5.41 20z\"/>\n",
              "  </svg>\n",
              "      </button>\n",
              "      \n",
              "  <style>\n",
              "    .colab-df-container {\n",
              "      display:flex;\n",
              "      flex-wrap:wrap;\n",
              "      gap: 12px;\n",
              "    }\n",
              "\n",
              "    .colab-df-convert {\n",
              "      background-color: #E8F0FE;\n",
              "      border: none;\n",
              "      border-radius: 50%;\n",
              "      cursor: pointer;\n",
              "      display: none;\n",
              "      fill: #1967D2;\n",
              "      height: 32px;\n",
              "      padding: 0 0 0 0;\n",
              "      width: 32px;\n",
              "    }\n",
              "\n",
              "    .colab-df-convert:hover {\n",
              "      background-color: #E2EBFA;\n",
              "      box-shadow: 0px 1px 2px rgba(60, 64, 67, 0.3), 0px 1px 3px 1px rgba(60, 64, 67, 0.15);\n",
              "      fill: #174EA6;\n",
              "    }\n",
              "\n",
              "    [theme=dark] .colab-df-convert {\n",
              "      background-color: #3B4455;\n",
              "      fill: #D2E3FC;\n",
              "    }\n",
              "\n",
              "    [theme=dark] .colab-df-convert:hover {\n",
              "      background-color: #434B5C;\n",
              "      box-shadow: 0px 1px 3px 1px rgba(0, 0, 0, 0.15);\n",
              "      filter: drop-shadow(0px 1px 2px rgba(0, 0, 0, 0.3));\n",
              "      fill: #FFFFFF;\n",
              "    }\n",
              "  </style>\n",
              "\n",
              "      <script>\n",
              "        const buttonEl =\n",
              "          document.querySelector('#df-1b99874c-dfbf-4554-9a65-27b97fa0a5de button.colab-df-convert');\n",
              "        buttonEl.style.display =\n",
              "          google.colab.kernel.accessAllowed ? 'block' : 'none';\n",
              "\n",
              "        async function convertToInteractive(key) {\n",
              "          const element = document.querySelector('#df-1b99874c-dfbf-4554-9a65-27b97fa0a5de');\n",
              "          const dataTable =\n",
              "            await google.colab.kernel.invokeFunction('convertToInteractive',\n",
              "                                                     [key], {});\n",
              "          if (!dataTable) return;\n",
              "\n",
              "          const docLinkHtml = 'Like what you see? Visit the ' +\n",
              "            '<a target=\"_blank\" href=https://colab.research.google.com/notebooks/data_table.ipynb>data table notebook</a>'\n",
              "            + ' to learn more about interactive tables.';\n",
              "          element.innerHTML = '';\n",
              "          dataTable['output_type'] = 'display_data';\n",
              "          await google.colab.output.renderOutput(dataTable, element);\n",
              "          const docLink = document.createElement('div');\n",
              "          docLink.innerHTML = docLinkHtml;\n",
              "          element.appendChild(docLink);\n",
              "        }\n",
              "      </script>\n",
              "    </div>\n",
              "  </div>\n",
              "  "
            ]
          },
          "metadata": {},
          "execution_count": 113
        }
      ]
    },
    {
      "cell_type": "code",
      "source": [
        "# Predicted good but rated bad\n",
        "test[[\"grade\", \"comment\"]][(Y_test != pipe_pred) & ((conf_score >= score_pos))]"
      ],
      "metadata": {
        "colab": {
          "base_uri": "https://localhost:8080/",
          "height": 288
        },
        "id": "KXypmY3ooOJ3",
        "outputId": "1eabb5e4-f18c-4c3e-badc-f43e7d221bf9"
      },
      "execution_count": 117,
      "outputs": [
        {
          "output_type": "execute_result",
          "data": {
            "text/plain": [
              "       grade  \\\n",
              "19024      0   \n",
              "2702       0   \n",
              "2319       0   \n",
              "16818      0   \n",
              "\n",
              "                                                                                                                                                                                                                                                                                                   comment  \n",
              "19024  Eigentlich bin ich immer bei Frau Dr.med. Wolff, war aber auch schon bei beiden Ärzten. Ich finde sie beide super nett und kompetent. Sie sagen mir genau was ich habe und erklären es mir immer gut. Die Mädels am Empfang waren auch immer sehr nett.  Ich fühle mich sehr gut aufgehoben. Danke!  \n",
              "2702         Bin durch Zufall vor 2, 5 Jahren in die Praxis gekommen. Ich wurde und werde sehr gut betreut .<br />\\nSehr gute Diagnostik, es gibt kein Diskusion bei Verordnungen wegen Budgetüberschreitung und Diagnosen werden gut erklärt.<br />\\nDas gesamte Praxisteam ist sehr nett und freundlich.  \n",
              "2319                                                                                                                                                                                                                                                                  Er ist nicht nett und ihre Team auch  \n",
              "16818                                                                                                                                                                                                                Sehr guter Artz super praxis nette mit arbetarin nur voll dankschön von ganzem Herzen  "
            ],
            "text/html": [
              "\n",
              "  <div id=\"df-71c7e33c-1e62-4355-82fc-fda48ba4905d\">\n",
              "    <div class=\"colab-df-container\">\n",
              "      <div>\n",
              "<style scoped>\n",
              "    .dataframe tbody tr th:only-of-type {\n",
              "        vertical-align: middle;\n",
              "    }\n",
              "\n",
              "    .dataframe tbody tr th {\n",
              "        vertical-align: top;\n",
              "    }\n",
              "\n",
              "    .dataframe thead th {\n",
              "        text-align: right;\n",
              "    }\n",
              "</style>\n",
              "<table border=\"1\" class=\"dataframe\">\n",
              "  <thead>\n",
              "    <tr style=\"text-align: right;\">\n",
              "      <th></th>\n",
              "      <th>grade</th>\n",
              "      <th>comment</th>\n",
              "    </tr>\n",
              "  </thead>\n",
              "  <tbody>\n",
              "    <tr>\n",
              "      <th>19024</th>\n",
              "      <td>0</td>\n",
              "      <td>Eigentlich bin ich immer bei Frau Dr.med. Wolff, war aber auch schon bei beiden Ärzten. Ich finde sie beide super nett und kompetent. Sie sagen mir genau was ich habe und erklären es mir immer gut. Die Mädels am Empfang waren auch immer sehr nett.  Ich fühle mich sehr gut aufgehoben. Danke!</td>\n",
              "    </tr>\n",
              "    <tr>\n",
              "      <th>2702</th>\n",
              "      <td>0</td>\n",
              "      <td>Bin durch Zufall vor 2, 5 Jahren in die Praxis gekommen. Ich wurde und werde sehr gut betreut .&lt;br /&gt;\\nSehr gute Diagnostik, es gibt kein Diskusion bei Verordnungen wegen Budgetüberschreitung und Diagnosen werden gut erklärt.&lt;br /&gt;\\nDas gesamte Praxisteam ist sehr nett und freundlich.</td>\n",
              "    </tr>\n",
              "    <tr>\n",
              "      <th>2319</th>\n",
              "      <td>0</td>\n",
              "      <td>Er ist nicht nett und ihre Team auch</td>\n",
              "    </tr>\n",
              "    <tr>\n",
              "      <th>16818</th>\n",
              "      <td>0</td>\n",
              "      <td>Sehr guter Artz super praxis nette mit arbetarin nur voll dankschön von ganzem Herzen</td>\n",
              "    </tr>\n",
              "  </tbody>\n",
              "</table>\n",
              "</div>\n",
              "      <button class=\"colab-df-convert\" onclick=\"convertToInteractive('df-71c7e33c-1e62-4355-82fc-fda48ba4905d')\"\n",
              "              title=\"Convert this dataframe to an interactive table.\"\n",
              "              style=\"display:none;\">\n",
              "        \n",
              "  <svg xmlns=\"http://www.w3.org/2000/svg\" height=\"24px\"viewBox=\"0 0 24 24\"\n",
              "       width=\"24px\">\n",
              "    <path d=\"M0 0h24v24H0V0z\" fill=\"none\"/>\n",
              "    <path d=\"M18.56 5.44l.94 2.06.94-2.06 2.06-.94-2.06-.94-.94-2.06-.94 2.06-2.06.94zm-11 1L8.5 8.5l.94-2.06 2.06-.94-2.06-.94L8.5 2.5l-.94 2.06-2.06.94zm10 10l.94 2.06.94-2.06 2.06-.94-2.06-.94-.94-2.06-.94 2.06-2.06.94z\"/><path d=\"M17.41 7.96l-1.37-1.37c-.4-.4-.92-.59-1.43-.59-.52 0-1.04.2-1.43.59L10.3 9.45l-7.72 7.72c-.78.78-.78 2.05 0 2.83L4 21.41c.39.39.9.59 1.41.59.51 0 1.02-.2 1.41-.59l7.78-7.78 2.81-2.81c.8-.78.8-2.07 0-2.86zM5.41 20L4 18.59l7.72-7.72 1.47 1.35L5.41 20z\"/>\n",
              "  </svg>\n",
              "      </button>\n",
              "      \n",
              "  <style>\n",
              "    .colab-df-container {\n",
              "      display:flex;\n",
              "      flex-wrap:wrap;\n",
              "      gap: 12px;\n",
              "    }\n",
              "\n",
              "    .colab-df-convert {\n",
              "      background-color: #E8F0FE;\n",
              "      border: none;\n",
              "      border-radius: 50%;\n",
              "      cursor: pointer;\n",
              "      display: none;\n",
              "      fill: #1967D2;\n",
              "      height: 32px;\n",
              "      padding: 0 0 0 0;\n",
              "      width: 32px;\n",
              "    }\n",
              "\n",
              "    .colab-df-convert:hover {\n",
              "      background-color: #E2EBFA;\n",
              "      box-shadow: 0px 1px 2px rgba(60, 64, 67, 0.3), 0px 1px 3px 1px rgba(60, 64, 67, 0.15);\n",
              "      fill: #174EA6;\n",
              "    }\n",
              "\n",
              "    [theme=dark] .colab-df-convert {\n",
              "      background-color: #3B4455;\n",
              "      fill: #D2E3FC;\n",
              "    }\n",
              "\n",
              "    [theme=dark] .colab-df-convert:hover {\n",
              "      background-color: #434B5C;\n",
              "      box-shadow: 0px 1px 3px 1px rgba(0, 0, 0, 0.15);\n",
              "      filter: drop-shadow(0px 1px 2px rgba(0, 0, 0, 0.3));\n",
              "      fill: #FFFFFF;\n",
              "    }\n",
              "  </style>\n",
              "\n",
              "      <script>\n",
              "        const buttonEl =\n",
              "          document.querySelector('#df-71c7e33c-1e62-4355-82fc-fda48ba4905d button.colab-df-convert');\n",
              "        buttonEl.style.display =\n",
              "          google.colab.kernel.accessAllowed ? 'block' : 'none';\n",
              "\n",
              "        async function convertToInteractive(key) {\n",
              "          const element = document.querySelector('#df-71c7e33c-1e62-4355-82fc-fda48ba4905d');\n",
              "          const dataTable =\n",
              "            await google.colab.kernel.invokeFunction('convertToInteractive',\n",
              "                                                     [key], {});\n",
              "          if (!dataTable) return;\n",
              "\n",
              "          const docLinkHtml = 'Like what you see? Visit the ' +\n",
              "            '<a target=\"_blank\" href=https://colab.research.google.com/notebooks/data_table.ipynb>data table notebook</a>'\n",
              "            + ' to learn more about interactive tables.';\n",
              "          element.innerHTML = '';\n",
              "          dataTable['output_type'] = 'display_data';\n",
              "          await google.colab.output.renderOutput(dataTable, element);\n",
              "          const docLink = document.createElement('div');\n",
              "          docLink.innerHTML = docLinkHtml;\n",
              "          element.appendChild(docLink);\n",
              "        }\n",
              "      </script>\n",
              "    </div>\n",
              "  </div>\n",
              "  "
            ]
          },
          "metadata": {},
          "execution_count": 117
        }
      ]
    },
    {
      "cell_type": "markdown",
      "source": [
        "Our model is really good at classifying the positive class. It's able to correctly recognize that most comments above are positive even though they have a negative rating.However, it makes some mistakes in predicting the negative class."
      ],
      "metadata": {
        "id": "YcYDHa_epmJQ"
      }
    },
    {
      "cell_type": "markdown",
      "source": [
        "**As** a last test of our model's performance, let's see how it copes with data that was never seen before. For that, we use some new comments as input. Then, we apply the same pre processing and cleaning as in our model preparation. Finally, we convert the text to its numeric representations and feed it to our model for the binary prediction:"
      ],
      "metadata": {
        "id": "u9O_LkV1tNfg"
      }
    },
    {
      "cell_type": "code",
      "source": [
        "# Get new comments from website that were not included in original data\n",
        "INPUT = [\n",
        "    \"Super sympathische Ärztin, fühle mich bei ihr bestens aufgehoben.\"\n",
        "    \"Sprechstundenhilfe war super nett man fühlt sich wohl.\",\n",
        "    \"Frau Doktor Merz nimmt sich richtig Zeit für mich. Hilft wo sie kann.\"\n",
        "    \"Hört wirklich einen zu. Sehr nett und freundlich. Sie ist sehr kompetent,\"\n",
        "    \"zuverlässig und vertrauenswürdig.\",\n",
        "    \"Nach meiner Beobachtung hat diese Praxis eine schlechte Hygiene. \",\n",
        "    \"Mangels akriebischer Behandlung musste mehrmals nachgebessert werden.\",\n",
        "]"
      ],
      "metadata": {
        "id": "QjIbmAAWfBto"
      },
      "execution_count": 118,
      "outputs": []
    },
    {
      "cell_type": "code",
      "source": [
        "# Pre-Process comments as we did with train data\n",
        "text = [clean_text(comment) for comment in INPUT]\n",
        "text_out = \" \\n\".join(text)\n",
        "print(f\"Input after pre-processing / cleaning:\\n\\n{text_out}\")\n",
        "# run comments through pipe: predict using our best model from above\n",
        "predictions = pipe.predict(text)"
      ],
      "metadata": {
        "colab": {
          "base_uri": "https://localhost:8080/"
        },
        "id": "aTCrW29nfNSJ",
        "outputId": "e0a007a1-bd94-4628-8f5b-8d747ca05d3f"
      },
      "execution_count": 119,
      "outputs": [
        {
          "output_type": "stream",
          "name": "stdout",
          "text": [
            "Input after pre-processing / cleaning:\n",
            "\n",
            "sup sympath arztin fuhl best aufgehob sprechstundenhilf sup nett fuhlt wohl \n",
            "frau doktor merz nimmt richtig zeit hilft hort wirklich nett freundlich kompetent zuverlass vertrauenswurd \n",
            "beobacht praxis schlecht hygi \n",
            "mangel akrieb behandl mehrmal nachgebessert\n"
          ]
        }
      ]
    },
    {
      "cell_type": "code",
      "source": [
        "# Show comment and predicted Labels\n",
        "predictions = pd.Series(predictions)\n",
        "predictions = predictions.replace(0, \"bad\").replace(1, \"good\")\n",
        "\n",
        "pd.concat(\n",
        "    [pd.Series(INPUT), predictions], axis=\"columns\", keys=[\"comment\", \"prediction\"]\n",
        ")"
      ],
      "metadata": {
        "colab": {
          "base_uri": "https://localhost:8080/",
          "height": 236
        },
        "id": "8Linl6dZfP8R",
        "outputId": "afa88dc0-f91d-4183-bc42-60b89aa9541c"
      },
      "execution_count": 120,
      "outputs": [
        {
          "output_type": "execute_result",
          "data": {
            "text/plain": [
              "                                                                                                                                                                           comment  \\\n",
              "0                                                          Super sympathische Ärztin, fühle mich bei ihr bestens aufgehoben.Sprechstundenhilfe war super nett man fühlt sich wohl.   \n",
              "1  Frau Doktor Merz nimmt sich richtig Zeit für mich. Hilft wo sie kann.Hört wirklich einen zu. Sehr nett und freundlich. Sie ist sehr kompetent,zuverlässig und vertrauenswürdig.   \n",
              "2                                                                                                                Nach meiner Beobachtung hat diese Praxis eine schlechte Hygiene.    \n",
              "3                                                                                                            Mangels akriebischer Behandlung musste mehrmals nachgebessert werden.   \n",
              "\n",
              "  prediction  \n",
              "0       good  \n",
              "1       good  \n",
              "2        bad  \n",
              "3        bad  "
            ],
            "text/html": [
              "\n",
              "  <div id=\"df-791c26ba-32fe-44b1-a41a-c4a308865ad1\">\n",
              "    <div class=\"colab-df-container\">\n",
              "      <div>\n",
              "<style scoped>\n",
              "    .dataframe tbody tr th:only-of-type {\n",
              "        vertical-align: middle;\n",
              "    }\n",
              "\n",
              "    .dataframe tbody tr th {\n",
              "        vertical-align: top;\n",
              "    }\n",
              "\n",
              "    .dataframe thead th {\n",
              "        text-align: right;\n",
              "    }\n",
              "</style>\n",
              "<table border=\"1\" class=\"dataframe\">\n",
              "  <thead>\n",
              "    <tr style=\"text-align: right;\">\n",
              "      <th></th>\n",
              "      <th>comment</th>\n",
              "      <th>prediction</th>\n",
              "    </tr>\n",
              "  </thead>\n",
              "  <tbody>\n",
              "    <tr>\n",
              "      <th>0</th>\n",
              "      <td>Super sympathische Ärztin, fühle mich bei ihr bestens aufgehoben.Sprechstundenhilfe war super nett man fühlt sich wohl.</td>\n",
              "      <td>good</td>\n",
              "    </tr>\n",
              "    <tr>\n",
              "      <th>1</th>\n",
              "      <td>Frau Doktor Merz nimmt sich richtig Zeit für mich. Hilft wo sie kann.Hört wirklich einen zu. Sehr nett und freundlich. Sie ist sehr kompetent,zuverlässig und vertrauenswürdig.</td>\n",
              "      <td>good</td>\n",
              "    </tr>\n",
              "    <tr>\n",
              "      <th>2</th>\n",
              "      <td>Nach meiner Beobachtung hat diese Praxis eine schlechte Hygiene.</td>\n",
              "      <td>bad</td>\n",
              "    </tr>\n",
              "    <tr>\n",
              "      <th>3</th>\n",
              "      <td>Mangels akriebischer Behandlung musste mehrmals nachgebessert werden.</td>\n",
              "      <td>bad</td>\n",
              "    </tr>\n",
              "  </tbody>\n",
              "</table>\n",
              "</div>\n",
              "      <button class=\"colab-df-convert\" onclick=\"convertToInteractive('df-791c26ba-32fe-44b1-a41a-c4a308865ad1')\"\n",
              "              title=\"Convert this dataframe to an interactive table.\"\n",
              "              style=\"display:none;\">\n",
              "        \n",
              "  <svg xmlns=\"http://www.w3.org/2000/svg\" height=\"24px\"viewBox=\"0 0 24 24\"\n",
              "       width=\"24px\">\n",
              "    <path d=\"M0 0h24v24H0V0z\" fill=\"none\"/>\n",
              "    <path d=\"M18.56 5.44l.94 2.06.94-2.06 2.06-.94-2.06-.94-.94-2.06-.94 2.06-2.06.94zm-11 1L8.5 8.5l.94-2.06 2.06-.94-2.06-.94L8.5 2.5l-.94 2.06-2.06.94zm10 10l.94 2.06.94-2.06 2.06-.94-2.06-.94-.94-2.06-.94 2.06-2.06.94z\"/><path d=\"M17.41 7.96l-1.37-1.37c-.4-.4-.92-.59-1.43-.59-.52 0-1.04.2-1.43.59L10.3 9.45l-7.72 7.72c-.78.78-.78 2.05 0 2.83L4 21.41c.39.39.9.59 1.41.59.51 0 1.02-.2 1.41-.59l7.78-7.78 2.81-2.81c.8-.78.8-2.07 0-2.86zM5.41 20L4 18.59l7.72-7.72 1.47 1.35L5.41 20z\"/>\n",
              "  </svg>\n",
              "      </button>\n",
              "      \n",
              "  <style>\n",
              "    .colab-df-container {\n",
              "      display:flex;\n",
              "      flex-wrap:wrap;\n",
              "      gap: 12px;\n",
              "    }\n",
              "\n",
              "    .colab-df-convert {\n",
              "      background-color: #E8F0FE;\n",
              "      border: none;\n",
              "      border-radius: 50%;\n",
              "      cursor: pointer;\n",
              "      display: none;\n",
              "      fill: #1967D2;\n",
              "      height: 32px;\n",
              "      padding: 0 0 0 0;\n",
              "      width: 32px;\n",
              "    }\n",
              "\n",
              "    .colab-df-convert:hover {\n",
              "      background-color: #E2EBFA;\n",
              "      box-shadow: 0px 1px 2px rgba(60, 64, 67, 0.3), 0px 1px 3px 1px rgba(60, 64, 67, 0.15);\n",
              "      fill: #174EA6;\n",
              "    }\n",
              "\n",
              "    [theme=dark] .colab-df-convert {\n",
              "      background-color: #3B4455;\n",
              "      fill: #D2E3FC;\n",
              "    }\n",
              "\n",
              "    [theme=dark] .colab-df-convert:hover {\n",
              "      background-color: #434B5C;\n",
              "      box-shadow: 0px 1px 3px 1px rgba(0, 0, 0, 0.15);\n",
              "      filter: drop-shadow(0px 1px 2px rgba(0, 0, 0, 0.3));\n",
              "      fill: #FFFFFF;\n",
              "    }\n",
              "  </style>\n",
              "\n",
              "      <script>\n",
              "        const buttonEl =\n",
              "          document.querySelector('#df-791c26ba-32fe-44b1-a41a-c4a308865ad1 button.colab-df-convert');\n",
              "        buttonEl.style.display =\n",
              "          google.colab.kernel.accessAllowed ? 'block' : 'none';\n",
              "\n",
              "        async function convertToInteractive(key) {\n",
              "          const element = document.querySelector('#df-791c26ba-32fe-44b1-a41a-c4a308865ad1');\n",
              "          const dataTable =\n",
              "            await google.colab.kernel.invokeFunction('convertToInteractive',\n",
              "                                                     [key], {});\n",
              "          if (!dataTable) return;\n",
              "\n",
              "          const docLinkHtml = 'Like what you see? Visit the ' +\n",
              "            '<a target=\"_blank\" href=https://colab.research.google.com/notebooks/data_table.ipynb>data table notebook</a>'\n",
              "            + ' to learn more about interactive tables.';\n",
              "          element.innerHTML = '';\n",
              "          dataTable['output_type'] = 'display_data';\n",
              "          await google.colab.output.renderOutput(dataTable, element);\n",
              "          const docLink = document.createElement('div');\n",
              "          docLink.innerHTML = docLinkHtml;\n",
              "          element.appendChild(docLink);\n",
              "        }\n",
              "      </script>\n",
              "    </div>\n",
              "  </div>\n",
              "  "
            ]
          },
          "metadata": {},
          "execution_count": 120
        }
      ]
    },
    {
      "cell_type": "markdown",
      "source": [
        "The result is very promising. Our model correctly classifies the first two comments as positive and the last two as negative. We can conclude that our predictions are pretty accurate even when dealing with unknown data!."
      ],
      "metadata": {
        "id": "1W3nGxSZt84Y"
      }
    },
    {
      "cell_type": "code",
      "source": [
        "# Needed on Google Colab\n",
        "if os.environ.get('COLAB_GPU', False):\n",
        "    !pip install -U holoviews hvplot panel==0.8.1"
      ],
      "metadata": {
        "colab": {
          "base_uri": "https://localhost:8080/",
          "height": 1000
        },
        "id": "t0_EDhZ7hOb6",
        "outputId": "1fff4f0d-93e1-47ef-db58-1f5e8a9bd645"
      },
      "execution_count": 122,
      "outputs": [
        {
          "output_type": "stream",
          "name": "stdout",
          "text": [
            "Looking in indexes: https://pypi.org/simple, https://us-python.pkg.dev/colab-wheels/public/simple/\n",
            "Requirement already satisfied: holoviews in /usr/local/lib/python3.9/dist-packages (1.15.4)\n",
            "Collecting hvplot\n",
            "  Downloading hvplot-0.8.3-py2.py3-none-any.whl (3.2 MB)\n",
            "\u001b[2K     \u001b[90m━━━━━━━━━━━━━━━━━━━━━━━━━━━━━━━━━━━━━━━━\u001b[0m \u001b[32m3.2/3.2 MB\u001b[0m \u001b[31m31.4 MB/s\u001b[0m eta \u001b[36m0:00:00\u001b[0m\n",
            "\u001b[?25hCollecting panel==0.8.1\n",
            "  Downloading panel-0.8.1-py2.py3-none-any.whl (1.3 MB)\n",
            "\u001b[2K     \u001b[90m━━━━━━━━━━━━━━━━━━━━━━━━━━━━━━━━━━━━━━━━\u001b[0m \u001b[32m1.3/1.3 MB\u001b[0m \u001b[31m83.9 MB/s\u001b[0m eta \u001b[36m0:00:00\u001b[0m\n",
            "\u001b[?25hRequirement already satisfied: param>=1.9.2 in /usr/local/lib/python3.9/dist-packages (from panel==0.8.1) (1.13.0)\n",
            "Collecting bokeh<2.0,>=1.4.0\n",
            "  Downloading bokeh-1.4.0.tar.gz (32.4 MB)\n",
            "\u001b[2K     \u001b[90m━━━━━━━━━━━━━━━━━━━━━━━━━━━━━━━━━━━━━━━━\u001b[0m \u001b[32m32.4/32.4 MB\u001b[0m \u001b[31m47.6 MB/s\u001b[0m eta \u001b[36m0:00:00\u001b[0m\n",
            "\u001b[?25h  Preparing metadata (setup.py) ... \u001b[?25l\u001b[?25hdone\n",
            "Requirement already satisfied: pyct>=0.4.4 in /usr/local/lib/python3.9/dist-packages (from panel==0.8.1) (0.5.0)\n",
            "Requirement already satisfied: tqdm in /usr/local/lib/python3.9/dist-packages (from panel==0.8.1) (4.65.0)\n",
            "Requirement already satisfied: markdown in /usr/local/lib/python3.9/dist-packages (from panel==0.8.1) (3.4.3)\n",
            "Requirement already satisfied: pyviz-comms>=0.7.3 in /usr/local/lib/python3.9/dist-packages (from panel==0.8.1) (2.2.1)\n",
            "Requirement already satisfied: colorcet in /usr/local/lib/python3.9/dist-packages (from holoviews) (3.0.1)\n",
            "Collecting holoviews\n",
            "  Downloading holoviews-1.15.4-py2.py3-none-any.whl (4.3 MB)\n",
            "\u001b[2K     \u001b[90m━━━━━━━━━━━━━━━━━━━━━━━━━━━━━━━━━━━━━━━━\u001b[0m \u001b[32m4.3/4.3 MB\u001b[0m \u001b[31m63.9 MB/s\u001b[0m eta \u001b[36m0:00:00\u001b[0m\n",
            "\u001b[?25h  Downloading holoviews-1.15.3-py2.py3-none-any.whl (4.3 MB)\n",
            "\u001b[2K     \u001b[90m━━━━━━━━━━━━━━━━━━━━━━━━━━━━━━━━━━━━━━━━\u001b[0m \u001b[32m4.3/4.3 MB\u001b[0m \u001b[31m81.0 MB/s\u001b[0m eta \u001b[36m0:00:00\u001b[0m\n",
            "\u001b[?25h  Downloading holoviews-1.15.2-py2.py3-none-any.whl (4.3 MB)\n",
            "\u001b[2K     \u001b[90m━━━━━━━━━━━━━━━━━━━━━━━━━━━━━━━━━━━━━━━━\u001b[0m \u001b[32m4.3/4.3 MB\u001b[0m \u001b[31m88.1 MB/s\u001b[0m eta \u001b[36m0:00:00\u001b[0m\n",
            "\u001b[?25h  Downloading holoviews-1.15.1-py2.py3-none-any.whl (4.3 MB)\n",
            "\u001b[2K     \u001b[90m━━━━━━━━━━━━━━━━━━━━━━━━━━━━━━━━━━━━━━━━\u001b[0m \u001b[32m4.3/4.3 MB\u001b[0m \u001b[31m78.0 MB/s\u001b[0m eta \u001b[36m0:00:00\u001b[0m\n",
            "\u001b[?25h  Downloading holoviews-1.15.0-py2.py3-none-any.whl (4.3 MB)\n",
            "\u001b[2K     \u001b[90m━━━━━━━━━━━━━━━━━━━━━━━━━━━━━━━━━━━━━━━━\u001b[0m \u001b[32m4.3/4.3 MB\u001b[0m \u001b[31m26.8 MB/s\u001b[0m eta \u001b[36m0:00:00\u001b[0m\n",
            "\u001b[?25h  Downloading holoviews-1.14.9-py2.py3-none-any.whl (4.3 MB)\n",
            "\u001b[2K     \u001b[90m━━━━━━━━━━━━━━━━━━━━━━━━━━━━━━━━━━━━━━━━\u001b[0m \u001b[32m4.3/4.3 MB\u001b[0m \u001b[31m71.7 MB/s\u001b[0m eta \u001b[36m0:00:00\u001b[0m\n",
            "\u001b[?25hRequirement already satisfied: packaging in /usr/local/lib/python3.9/dist-packages (from holoviews) (23.0)\n",
            "Requirement already satisfied: pandas>=0.20.0 in /usr/local/lib/python3.9/dist-packages (from holoviews) (1.4.4)\n",
            "Requirement already satisfied: numpy>=1.0 in /usr/local/lib/python3.9/dist-packages (from holoviews) (1.22.4)\n",
            "Collecting hvplot\n",
            "  Downloading hvplot-0.8.2-py2.py3-none-any.whl (3.2 MB)\n",
            "\u001b[2K     \u001b[90m━━━━━━━━━━━━━━━━━━━━━━━━━━━━━━━━━━━━━━━━\u001b[0m \u001b[32m3.2/3.2 MB\u001b[0m \u001b[31m88.2 MB/s\u001b[0m eta \u001b[36m0:00:00\u001b[0m\n",
            "\u001b[?25h  Downloading hvplot-0.8.1-py2.py3-none-any.whl (3.2 MB)\n",
            "\u001b[2K     \u001b[90m━━━━━━━━━━━━━━━━━━━━━━━━━━━━━━━━━━━━━━━━\u001b[0m \u001b[32m3.2/3.2 MB\u001b[0m \u001b[31m98.7 MB/s\u001b[0m eta \u001b[36m0:00:00\u001b[0m\n",
            "\u001b[?25hRequirement already satisfied: six>=1.5.2 in /usr/local/lib/python3.9/dist-packages (from bokeh<2.0,>=1.4.0->panel==0.8.1) (1.16.0)\n",
            "Requirement already satisfied: PyYAML>=3.10 in /usr/local/lib/python3.9/dist-packages (from bokeh<2.0,>=1.4.0->panel==0.8.1) (6.0)\n",
            "Requirement already satisfied: python-dateutil>=2.1 in /usr/local/lib/python3.9/dist-packages (from bokeh<2.0,>=1.4.0->panel==0.8.1) (2.8.2)\n",
            "Requirement already satisfied: Jinja2>=2.7 in /usr/local/lib/python3.9/dist-packages (from bokeh<2.0,>=1.4.0->panel==0.8.1) (3.1.2)\n",
            "Requirement already satisfied: pillow>=4.0 in /usr/local/lib/python3.9/dist-packages (from bokeh<2.0,>=1.4.0->panel==0.8.1) (8.4.0)\n",
            "Requirement already satisfied: tornado>=4.3 in /usr/local/lib/python3.9/dist-packages (from bokeh<2.0,>=1.4.0->panel==0.8.1) (6.2)\n",
            "Requirement already satisfied: pytz>=2020.1 in /usr/local/lib/python3.9/dist-packages (from pandas>=0.20.0->holoviews) (2022.7.1)\n",
            "Requirement already satisfied: importlib-metadata>=4.4 in /usr/local/lib/python3.9/dist-packages (from markdown->panel==0.8.1) (6.1.0)\n",
            "Requirement already satisfied: zipp>=0.5 in /usr/local/lib/python3.9/dist-packages (from importlib-metadata>=4.4->markdown->panel==0.8.1) (3.15.0)\n",
            "Requirement already satisfied: MarkupSafe>=2.0 in /usr/local/lib/python3.9/dist-packages (from Jinja2>=2.7->bokeh<2.0,>=1.4.0->panel==0.8.1) (2.1.2)\n",
            "Building wheels for collected packages: bokeh\n",
            "  Building wheel for bokeh (setup.py) ... \u001b[?25l\u001b[?25hdone\n",
            "  Created wheel for bokeh: filename=bokeh-1.4.0-py3-none-any.whl size=23689210 sha256=2150028127139cde72eceaf884f19872c86b63a0a29a99e109a5347388ba68cb\n",
            "  Stored in directory: /root/.cache/pip/wheels/83/d2/f3/597b854b514bac53844b5cfb86c0909076870a33ee04182318\n",
            "Successfully built bokeh\n",
            "Installing collected packages: bokeh, panel, holoviews, hvplot\n",
            "  Attempting uninstall: bokeh\n",
            "    Found existing installation: bokeh 2.4.3\n",
            "    Uninstalling bokeh-2.4.3:\n",
            "      Successfully uninstalled bokeh-2.4.3\n",
            "  Attempting uninstall: panel\n",
            "    Found existing installation: panel 0.14.4\n",
            "    Uninstalling panel-0.14.4:\n",
            "      Successfully uninstalled panel-0.14.4\n",
            "  Attempting uninstall: holoviews\n",
            "    Found existing installation: holoviews 1.15.4\n",
            "    Uninstalling holoviews-1.15.4:\n",
            "      Successfully uninstalled holoviews-1.15.4\n",
            "Successfully installed bokeh-1.4.0 holoviews-1.14.9 hvplot-0.8.1 panel-0.8.1\n"
          ]
        },
        {
          "output_type": "display_data",
          "data": {
            "application/vnd.colab-display-data+json": {
              "pip_warning": {
                "packages": [
                  "bokeh"
                ]
              }
            }
          },
          "metadata": {}
        }
      ]
    },
    {
      "cell_type": "markdown",
      "source": [
        "While the first part heavily relied on scikit-learn, here we will use Tensorflow and more specifically Keras for implementing our model. Neural Networks are much more computationally demanding compared to other machine-learning methods"
      ],
      "metadata": {
        "id": "rJas4VGsuV7k"
      }
    },
    {
      "cell_type": "markdown",
      "source": [
        "Executing this on Colab will make sure that our model runs on a TPU if available and falls back to GPU / CPU otherwise:"
      ],
      "metadata": {
        "id": "HkiyzzOnucrN"
      }
    },
    {
      "cell_type": "code",
      "source": [
        "# Try to run on TPU\n",
        "# Detect hardware, return appropriate distribution strategy\n",
        "try:\n",
        "    tpu = tf.distribute.cluster_resolver.TPUClusterResolver()  # TPU detection\n",
        "    print(\"Running on TPU \", tpu.cluster_spec().as_dict()[\"worker\"])\n",
        "except ValueError:\n",
        "    tpu = None\n",
        "\n",
        "if tpu:\n",
        "    tf.config.experimental_connect_to_cluster(tpu)\n",
        "    tf.tpu.experimental.initialize_tpu_system(tpu)\n",
        "    strategy = tf.distribute.experimental.TPUStrategy(tpu)\n",
        "else:\n",
        "    strategy = tf.distribute.get_strategy()\n",
        "print(\"REPLICAS: \", strategy.num_replicas_in_sync)"
      ],
      "metadata": {
        "colab": {
          "base_uri": "https://localhost:8080/"
        },
        "id": "tdTeyZ7Ops7H",
        "outputId": "e8c308bf-180f-4c14-df15-67d59e434d69"
      },
      "execution_count": 123,
      "outputs": [
        {
          "output_type": "stream",
          "name": "stdout",
          "text": [
            "REPLICAS:  1\n"
          ]
        }
      ]
    },
    {
      "cell_type": "markdown",
      "source": [
        "Here we set the parameters that we will use for embedding and the neural network. The batch size will depend on the number of available cores."
      ],
      "metadata": {
        "id": "r3F4WQUtulXe"
      }
    },
    {
      "cell_type": "code",
      "source": [
        "# Text Vectors\n",
        "MAX_FEATURES = 30000\n",
        "EMBED_DIM = 100\n",
        "MAXLEN = 400\n",
        "\n",
        "# Convolution\n",
        "KERNEL_SIZE = 5\n",
        "FILTERS = 64\n",
        "POOL_SIZE = 4\n",
        "\n",
        "# LSTM\n",
        "LSTM_OUTPUT_SIZE = 100\n",
        "\n",
        "# Training\n",
        "BATCH_SIZE = 32 * strategy.num_replicas_in_sync\n",
        "EPOCHS = 10"
      ],
      "metadata": {
        "id": "R1TRX5NIhc-D"
      },
      "execution_count": 125,
      "outputs": []
    },
    {
      "cell_type": "markdown",
      "source": [
        "### Feature Creation\n",
        "\n",
        "When dealing with text data, we need to convert text to a numeric representation first. For that, we use the `Tokenizer` function in Keras. After splitting the text into tokens (i.e. words or punctuation) the function assigns each unique token a number, i.e. it builds a token <-> integer dictionary. Using this, each comment is transformed to a vector of integers in which each element represents a token. Here, we also transform all tokens to lowercase and limit the maximum number of used unique tokens to `MAX_FEATURES`:"
      ],
      "metadata": {
        "id": "SKdupFhmuus8"
      }
    },
    {
      "cell_type": "code",
      "source": [
        "%%time\n",
        "# create numerical vector representation of comments\n",
        "# comment to list of indices representing words in dict\n",
        "tokenizer = Tokenizer(lower=True, split=\" \", num_words=MAX_FEATURES)\n",
        "tokenizer.fit_on_texts(X_train)\n",
        "X_train_vec = tokenizer.texts_to_sequences(X_train)\n",
        "X_test_vec = tokenizer.texts_to_sequences(X_test)\n",
        "MAXLEN = max([len(x) for x in X_train_vec])\n",
        "print(f\"Max vector length: {MAXLEN}\")"
      ],
      "metadata": {
        "colab": {
          "base_uri": "https://localhost:8080/"
        },
        "id": "lzLLCZL2pvQ-",
        "outputId": "88bb10d3-89f2-46fe-e414-36e94985c1f6"
      },
      "execution_count": 126,
      "outputs": [
        {
          "output_type": "stream",
          "name": "stdout",
          "text": [
            "Max vector length: 40\n",
            "CPU times: user 488 ms, sys: 11 ms, total: 499 ms\n",
            "Wall time: 501 ms\n"
          ]
        }
      ]
    },
    {
      "cell_type": "markdown",
      "source": [
        "Next, we make sure that our vectors have a fixed length equal to the maximal comment length. Shorter vectors will be padded with zeros:"
      ],
      "metadata": {
        "id": "lArLFwbKu-Wm"
      }
    },
    {
      "cell_type": "code",
      "source": [
        "# pad with zeros for same vector length\n",
        "X_train_vec = sequence.pad_sequences(X_train_vec, maxlen=MAXLEN, padding=\"post\")\n",
        "X_test_vec = sequence.pad_sequences(X_test_vec, maxlen=MAXLEN, padding=\"post\")"
      ],
      "metadata": {
        "id": "G37RUO21p5Fq"
      },
      "execution_count": 127,
      "outputs": []
    },
    {
      "cell_type": "markdown",
      "source": [
        "Now, we take a look at the results of the transformation:\n"
      ],
      "metadata": {
        "id": "O2w1jqQwvDi-"
      }
    },
    {
      "cell_type": "code",
      "source": [
        "tmp = train[0:1].copy()\n",
        "tmp[\"vector\"] = list(X_train_vec[0:1])\n",
        "tmp"
      ],
      "metadata": {
        "colab": {
          "base_uri": "https://localhost:8080/",
          "height": 177
        },
        "id": "Yf-URCt7jUeO",
        "outputId": "9105eac2-12da-4523-935b-9cf32cebeec8"
      },
      "execution_count": 128,
      "outputs": [
        {
          "output_type": "execute_result",
          "data": {
            "text/plain": [
              "        rating  \\\n",
              "1566  negative   \n",
              "\n",
              "                                                                                                  comment  \\\n",
              "1566  Obwohl mir von ihr abgeraten wurde bin ich aus der Not dennoch zu ihr. Letztlich wurden meine Sy...   \n",
              "\n",
              "                                                                                            comment_clean  \\\n",
              "1566  obwohl abgerat wurd not dennoch letztlich wurd symptom aug gegoogelt dabei normal gerstenkorn sc...   \n",
              "\n",
              "      grade  \\\n",
              "1566      0   \n",
              "\n",
              "                                                                                                temp_list  \\\n",
              "1566  [obwohl, abgerat, wurd, not, dennoch, letztlich, wurd, symptom, aug, gegoogelt, dabei, normal, g...   \n",
              "\n",
              "                                                                                                   vector  \n",
              "1566  [100, 2665, 13, 435, 591, 1996, 13, 397, 225, 4556, 260, 421, 2174, 1444, 13, 118, 1852, 108, 0,...  "
            ],
            "text/html": [
              "\n",
              "  <div id=\"df-3c1fcc1b-3b12-4b72-b1f6-9558836213f1\">\n",
              "    <div class=\"colab-df-container\">\n",
              "      <div>\n",
              "<style scoped>\n",
              "    .dataframe tbody tr th:only-of-type {\n",
              "        vertical-align: middle;\n",
              "    }\n",
              "\n",
              "    .dataframe tbody tr th {\n",
              "        vertical-align: top;\n",
              "    }\n",
              "\n",
              "    .dataframe thead th {\n",
              "        text-align: right;\n",
              "    }\n",
              "</style>\n",
              "<table border=\"1\" class=\"dataframe\">\n",
              "  <thead>\n",
              "    <tr style=\"text-align: right;\">\n",
              "      <th></th>\n",
              "      <th>rating</th>\n",
              "      <th>comment</th>\n",
              "      <th>comment_clean</th>\n",
              "      <th>grade</th>\n",
              "      <th>temp_list</th>\n",
              "      <th>vector</th>\n",
              "    </tr>\n",
              "  </thead>\n",
              "  <tbody>\n",
              "    <tr>\n",
              "      <th>1566</th>\n",
              "      <td>negative</td>\n",
              "      <td>Obwohl mir von ihr abgeraten wurde bin ich aus der Not dennoch zu ihr. Letztlich wurden meine Sy...</td>\n",
              "      <td>obwohl abgerat wurd not dennoch letztlich wurd symptom aug gegoogelt dabei normal gerstenkorn sc...</td>\n",
              "      <td>0</td>\n",
              "      <td>[obwohl, abgerat, wurd, not, dennoch, letztlich, wurd, symptom, aug, gegoogelt, dabei, normal, g...</td>\n",
              "      <td>[100, 2665, 13, 435, 591, 1996, 13, 397, 225, 4556, 260, 421, 2174, 1444, 13, 118, 1852, 108, 0,...</td>\n",
              "    </tr>\n",
              "  </tbody>\n",
              "</table>\n",
              "</div>\n",
              "      <button class=\"colab-df-convert\" onclick=\"convertToInteractive('df-3c1fcc1b-3b12-4b72-b1f6-9558836213f1')\"\n",
              "              title=\"Convert this dataframe to an interactive table.\"\n",
              "              style=\"display:none;\">\n",
              "        \n",
              "  <svg xmlns=\"http://www.w3.org/2000/svg\" height=\"24px\"viewBox=\"0 0 24 24\"\n",
              "       width=\"24px\">\n",
              "    <path d=\"M0 0h24v24H0V0z\" fill=\"none\"/>\n",
              "    <path d=\"M18.56 5.44l.94 2.06.94-2.06 2.06-.94-2.06-.94-.94-2.06-.94 2.06-2.06.94zm-11 1L8.5 8.5l.94-2.06 2.06-.94-2.06-.94L8.5 2.5l-.94 2.06-2.06.94zm10 10l.94 2.06.94-2.06 2.06-.94-2.06-.94-.94-2.06-.94 2.06-2.06.94z\"/><path d=\"M17.41 7.96l-1.37-1.37c-.4-.4-.92-.59-1.43-.59-.52 0-1.04.2-1.43.59L10.3 9.45l-7.72 7.72c-.78.78-.78 2.05 0 2.83L4 21.41c.39.39.9.59 1.41.59.51 0 1.02-.2 1.41-.59l7.78-7.78 2.81-2.81c.8-.78.8-2.07 0-2.86zM5.41 20L4 18.59l7.72-7.72 1.47 1.35L5.41 20z\"/>\n",
              "  </svg>\n",
              "      </button>\n",
              "      \n",
              "  <style>\n",
              "    .colab-df-container {\n",
              "      display:flex;\n",
              "      flex-wrap:wrap;\n",
              "      gap: 12px;\n",
              "    }\n",
              "\n",
              "    .colab-df-convert {\n",
              "      background-color: #E8F0FE;\n",
              "      border: none;\n",
              "      border-radius: 50%;\n",
              "      cursor: pointer;\n",
              "      display: none;\n",
              "      fill: #1967D2;\n",
              "      height: 32px;\n",
              "      padding: 0 0 0 0;\n",
              "      width: 32px;\n",
              "    }\n",
              "\n",
              "    .colab-df-convert:hover {\n",
              "      background-color: #E2EBFA;\n",
              "      box-shadow: 0px 1px 2px rgba(60, 64, 67, 0.3), 0px 1px 3px 1px rgba(60, 64, 67, 0.15);\n",
              "      fill: #174EA6;\n",
              "    }\n",
              "\n",
              "    [theme=dark] .colab-df-convert {\n",
              "      background-color: #3B4455;\n",
              "      fill: #D2E3FC;\n",
              "    }\n",
              "\n",
              "    [theme=dark] .colab-df-convert:hover {\n",
              "      background-color: #434B5C;\n",
              "      box-shadow: 0px 1px 3px 1px rgba(0, 0, 0, 0.15);\n",
              "      filter: drop-shadow(0px 1px 2px rgba(0, 0, 0, 0.3));\n",
              "      fill: #FFFFFF;\n",
              "    }\n",
              "  </style>\n",
              "\n",
              "      <script>\n",
              "        const buttonEl =\n",
              "          document.querySelector('#df-3c1fcc1b-3b12-4b72-b1f6-9558836213f1 button.colab-df-convert');\n",
              "        buttonEl.style.display =\n",
              "          google.colab.kernel.accessAllowed ? 'block' : 'none';\n",
              "\n",
              "        async function convertToInteractive(key) {\n",
              "          const element = document.querySelector('#df-3c1fcc1b-3b12-4b72-b1f6-9558836213f1');\n",
              "          const dataTable =\n",
              "            await google.colab.kernel.invokeFunction('convertToInteractive',\n",
              "                                                     [key], {});\n",
              "          if (!dataTable) return;\n",
              "\n",
              "          const docLinkHtml = 'Like what you see? Visit the ' +\n",
              "            '<a target=\"_blank\" href=https://colab.research.google.com/notebooks/data_table.ipynb>data table notebook</a>'\n",
              "            + ' to learn more about interactive tables.';\n",
              "          element.innerHTML = '';\n",
              "          dataTable['output_type'] = 'display_data';\n",
              "          await google.colab.output.renderOutput(dataTable, element);\n",
              "          const docLink = document.createElement('div');\n",
              "          docLink.innerHTML = docLinkHtml;\n",
              "          element.appendChild(docLink);\n",
              "        }\n",
              "      </script>\n",
              "    </div>\n",
              "  </div>\n",
              "  "
            ]
          },
          "metadata": {},
          "execution_count": 128
        }
      ]
    },
    {
      "cell_type": "code",
      "source": [
        "print(\n",
        "    f\"The comment is transformed to a vector whose first element is \\\"{tmp['vector'].iloc[0][0]}\\\". This integer translates to: \\\"{tokenizer.index_word[tmp['vector'].iloc[0][0]]}\\\" which is the token representing the original word.\"\n",
        ")"
      ],
      "metadata": {
        "colab": {
          "base_uri": "https://localhost:8080/"
        },
        "id": "CW-FxVzlqBFm",
        "outputId": "8af8a78e-c5fd-4ccf-ba1e-5dbd73ba7ec1"
      },
      "execution_count": 129,
      "outputs": [
        {
          "output_type": "stream",
          "name": "stdout",
          "text": [
            "The comment is transformed to a vector whose first element is \"100\". This integer translates to: \"obwohl\" which is the token representing the original word.\n"
          ]
        }
      ]
    },
    {
      "cell_type": "markdown",
      "source": [
        "### Defining the predictive model\n",
        "\n",
        "\n",
        "We start by defining our neural network layer by layer. First, we use an [embedding layer](https://keras.io/api/layers/core_layers/embedding/). Its aim is to learn a dense vector representation for each token which maximizes the objective function of the network. \n",
        "On top of the embedding layer we stack a dropout layer. This is supposed to reduce overfitting by randomly dropping nodes of the network while training.  \n",
        "Next, we add a [convolutional layer](http://www.wildml.com/2015/11/understanding-convolutional-neural-networks-for-nlp/). This might sound familiar from an image recognition context but has also found its way into NLP. By passing filters over it, this layer calculates a higher dimensionality of the data. Doing this, it can detect the most prominent patterns in the data while reducing the computational demand.  \n",
        "The pooling layer further reduces the dimensionality of the data and helps extract the most dominant patterns. Its side effect is that it helps with overfitting as well.  \n",
        "Next, we add the [Long Short Term Memory (LSTM) layer](https://colah.github.io/posts/2015-08-Understanding-LSTMs/). LSTM is a form of Recurrent Neural Network (RNN). RNNs have been terrfic in solving all kinds of problems by adding the ability to persist information over longer input sequences to traditional networks. Thus, they can take context into consideration which beautifully fits the demands of text understanding. In addition to that, LSTMs enable models to even take long term dependencies into account. \n"
      ],
      "metadata": {
        "id": "YVFm3tHJvMai"
      }
    },
    {
      "cell_type": "code",
      "source": [
        "# Define NN architecture\n",
        "print(MAXLEN)\n",
        "print(EMBED_DIM)\n",
        "with strategy.scope():\n",
        "    model = Sequential()\n",
        "    model.add(\n",
        "        Embedding(input_dim=MAX_FEATURES, output_dim=EMBED_DIM, input_length=MAXLEN)\n",
        "    )\n",
        "    model.add(Dropout(0.3))\n",
        "    model.add(\n",
        "        Conv1D(FILTERS, KERNEL_SIZE, padding=\"valid\", activation=\"relu\", strides=1)\n",
        "    )\n",
        "    model.add(MaxPooling1D(pool_size=POOL_SIZE))\n",
        "    model.add(LSTM(LSTM_OUTPUT_SIZE))\n",
        "    model.add(Dense(1, activation=\"sigmoid\"))\n",
        "    model.compile(\n",
        "        loss=\"binary_crossentropy\",\n",
        "        optimizer=tf.keras.optimizers.RMSprop(),\n",
        "        metrics=[\"accuracy\"],\n",
        "    )"
      ],
      "metadata": {
        "id": "OMhj233iqHU-",
        "colab": {
          "base_uri": "https://localhost:8080/"
        },
        "outputId": "b77735be-44fe-42b0-9bf5-4b5f494bfb7b"
      },
      "execution_count": 130,
      "outputs": [
        {
          "output_type": "stream",
          "name": "stdout",
          "text": [
            "40\n",
            "100\n"
          ]
        }
      ]
    },
    {
      "cell_type": "code",
      "source": [
        "model.summary()"
      ],
      "metadata": {
        "colab": {
          "base_uri": "https://localhost:8080/"
        },
        "id": "xycKs6W_qKo6",
        "outputId": "32cc0f75-cb5e-4b8c-facd-d518c5dba862"
      },
      "execution_count": 131,
      "outputs": [
        {
          "output_type": "stream",
          "name": "stdout",
          "text": [
            "Model: \"sequential\"\n",
            "_________________________________________________________________\n",
            " Layer (type)                Output Shape              Param #   \n",
            "=================================================================\n",
            " embedding (Embedding)       (None, 40, 100)           3000000   \n",
            "                                                                 \n",
            " dropout (Dropout)           (None, 40, 100)           0         \n",
            "                                                                 \n",
            " conv1d (Conv1D)             (None, 36, 64)            32064     \n",
            "                                                                 \n",
            " max_pooling1d (MaxPooling1D  (None, 9, 64)            0         \n",
            " )                                                               \n",
            "                                                                 \n",
            " lstm (LSTM)                 (None, 100)               66000     \n",
            "                                                                 \n",
            " dense (Dense)               (None, 1)                 101       \n",
            "                                                                 \n",
            "=================================================================\n",
            "Total params: 3,098,165\n",
            "Trainable params: 3,098,165\n",
            "Non-trainable params: 0\n",
            "_________________________________________________________________\n"
          ]
        }
      ]
    },
    {
      "cell_type": "code",
      "source": [
        "CURR_PATH = !pwd\n",
        "PATH_DATA = CURR_PATH[0]\n",
        "PATH_MODELS = PATH_DATA + \"models/\"\n",
        "PATH_CHECKPOINTS = PATH_MODELS + \"checkpoints/\"\n"
      ],
      "metadata": {
        "id": "slBeRUN2qZs4"
      },
      "execution_count": 132,
      "outputs": []
    },
    {
      "cell_type": "code",
      "source": [
        "import locale\n",
        "locale.getpreferredencoding = lambda: \"UTF-8\"\n"
      ],
      "metadata": {
        "id": "JsnpL8BWUb4Y"
      },
      "execution_count": 133,
      "outputs": []
    },
    {
      "cell_type": "markdown",
      "source": [
        "Here, we define a callback function that is getting called during training. It does two things. First, it stops the training if there is no more improvement. Second, it saves model checkpoints after each iteration (epoch): "
      ],
      "metadata": {
        "id": "8zfDWQFXv7CF"
      }
    },
    {
      "cell_type": "code",
      "source": [
        "# Stop training when validation acc starts dropping\n",
        "# Save checkpoint of model each period\n",
        "now = datetime.now().strftime(\"%Y-%m-%d_%H%M\")\n",
        "# Create callbacks\n",
        "callbacks = [\n",
        "    EarlyStopping(monitor=\"val_loss\", verbose=1, patience=2),\n",
        "    ModelCheckpoint(\n",
        "        PATH_CHECKPOINTS + now + \"_Model_{epoch:02d}_{val_loss:.4f}.h5\",\n",
        "        monitor=\"val_loss\",\n",
        "        save_best_only=True,\n",
        "        verbose=1,\n",
        "    ),\n",
        "]"
      ],
      "metadata": {
        "id": "XOyUQCqDqMxw"
      },
      "execution_count": 134,
      "outputs": []
    },
    {
      "cell_type": "code",
      "source": [
        "%%time\n",
        "# Fit the model\n",
        "steps_per_epoch = int(np.floor((len(X_train_vec) / BATCH_SIZE)))\n",
        "print(\n",
        "    f\"Model Params.\\nbatch_size: {BATCH_SIZE}\\nEpochs: {EPOCHS}\\n\"\n",
        "    f\"Step p. Epoch: {steps_per_epoch}\\n\"\n",
        ")\n",
        "\n",
        "hist = model.fit(\n",
        "    X_train_vec,\n",
        "    Y_train,\n",
        "    batch_size=BATCH_SIZE,\n",
        "    epochs=EPOCHS,\n",
        "    steps_per_epoch=steps_per_epoch,\n",
        "    callbacks=callbacks,\n",
        "    validation_data=(X_test_vec, Y_test),\n",
        ")"
      ],
      "metadata": {
        "colab": {
          "base_uri": "https://localhost:8080/"
        },
        "id": "nzhEk50VqgSK",
        "outputId": "280fa280-1ff6-4a6c-ebca-83af850c675f"
      },
      "execution_count": 135,
      "outputs": [
        {
          "output_type": "stream",
          "name": "stdout",
          "text": [
            "Model Params.\n",
            "batch_size: 32\n",
            "Epochs: 10\n",
            "Step p. Epoch: 468\n",
            "\n",
            "Epoch 1/10\n",
            "463/468 [============================>.] - ETA: 0s - loss: 0.3965 - accuracy: 0.7959\n",
            "Epoch 1: val_loss improved from inf to 0.27838, saving model to /contentmodels/checkpoints/2023-03-27_2026_Model_01_0.2784.h5\n",
            "468/468 [==============================] - 38s 55ms/step - loss: 0.3955 - accuracy: 0.7967 - val_loss: 0.2784 - val_accuracy: 0.8944\n",
            "Epoch 2/10\n",
            "461/468 [============================>.] - ETA: 0s - loss: 0.2359 - accuracy: 0.9107\n",
            "Epoch 2: val_loss improved from 0.27838 to 0.26215, saving model to /contentmodels/checkpoints/2023-03-27_2026_Model_02_0.2621.h5\n",
            "468/468 [==============================] - 6s 12ms/step - loss: 0.2370 - accuracy: 0.9101 - val_loss: 0.2621 - val_accuracy: 0.8994\n",
            "Epoch 3/10\n",
            "463/468 [============================>.] - ETA: 0s - loss: 0.1986 - accuracy: 0.9287\n",
            "Epoch 3: val_loss did not improve from 0.26215\n",
            "468/468 [==============================] - 5s 10ms/step - loss: 0.1982 - accuracy: 0.9288 - val_loss: 0.2633 - val_accuracy: 0.9018\n",
            "Epoch 4/10\n",
            "468/468 [==============================] - ETA: 0s - loss: 0.1592 - accuracy: 0.9449\n",
            "Epoch 4: val_loss improved from 0.26215 to 0.25820, saving model to /contentmodels/checkpoints/2023-03-27_2026_Model_04_0.2582.h5\n",
            "468/468 [==============================] - 5s 10ms/step - loss: 0.1592 - accuracy: 0.9449 - val_loss: 0.2582 - val_accuracy: 0.9030\n",
            "Epoch 5/10\n",
            "463/468 [============================>.] - ETA: 0s - loss: 0.1254 - accuracy: 0.9572\n",
            "Epoch 5: val_loss did not improve from 0.25820\n",
            "468/468 [==============================] - 4s 8ms/step - loss: 0.1260 - accuracy: 0.9568 - val_loss: 0.2875 - val_accuracy: 0.8892\n",
            "Epoch 6/10\n",
            "464/468 [============================>.] - ETA: 0s - loss: 0.0978 - accuracy: 0.9684\n",
            "Epoch 6: val_loss did not improve from 0.25820\n",
            "468/468 [==============================] - 4s 8ms/step - loss: 0.0983 - accuracy: 0.9683 - val_loss: 0.3200 - val_accuracy: 0.8906\n",
            "Epoch 6: early stopping\n",
            "CPU times: user 44.6 s, sys: 3.29 s, total: 47.9 s\n",
            "Wall time: 1min\n"
          ]
        }
      ]
    },
    {
      "cell_type": "markdown",
      "source": [
        "After six epochs the training reaches its best performance. The validation accuracy is around 0.97. We can depict the training and test loss of the model, to get a sense for how well and fast our model has been learning:"
      ],
      "metadata": {
        "id": "TB_cIsglwFzb"
      }
    },
    {
      "cell_type": "code",
      "source": [
        "loss = pd.DataFrame(\n",
        "    {\"train loss\": hist.history[\"loss\"], \"test loss\": hist.history[\"val_loss\"]}\n",
        ").melt()\n",
        "loss[\"epoch\"] = loss.groupby(\"variable\").cumcount() + 1\n",
        "sns.lineplot(x=\"epoch\", y=\"value\", hue=\"variable\", data=loss).set(\n",
        "    title=\"Model loss\", ylabel=\"\"\n",
        ")"
      ],
      "metadata": {
        "colab": {
          "base_uri": "https://localhost:8080/",
          "height": 312
        },
        "id": "NGYTpSfes4cO",
        "outputId": "71f5a4da-b7bc-418e-9211-8d6b9de998ba"
      },
      "execution_count": null,
      "outputs": [
        {
          "output_type": "execute_result",
          "data": {
            "text/plain": [
              "[Text(0.5, 1.0, 'Model loss'), Text(0, 0.5, '')]"
            ]
          },
          "metadata": {},
          "execution_count": 60
        },
        {
          "output_type": "display_data",
          "data": {
            "text/plain": [
              "<Figure size 432x288 with 1 Axes>"
            ],
            "image/png": "[encoded data removed]"
          },
          "metadata": {
            "needs_background": "light"
          }
        }
      ]
    },
    {
      "cell_type": "markdown",
      "source": [
        "### A look at learned embeddings\n",
        "\n",
        "Following, we take a look at the embeddings that our network has learned. The embedding vectors correspond to the weights of the embedding layer. We use them to get the embeddings for the 8k most used words in the comments:"
      ],
      "metadata": {
        "id": "QgUEz9lvwfNF"
      }
    },
    {
      "cell_type": "code",
      "source": [
        "# get trained embeddings\n",
        "embeddings = model.layers[0].get_weights()[0]\n",
        "# get token <-> integer dictionary\n",
        "word_index = tokenizer.word_index.items()\n",
        "# for each word in dict get embedding\n",
        "words_embeddings = {w: embeddings[idx] for w, idx in word_index if idx < 8000}\n",
        "# show embedding vector for the word\n",
        "words_embeddings.get(\"arzt\")\n",
        "print(len(words_embeddings.get(\"arzt\")))"
      ],
      "metadata": {
        "colab": {
          "base_uri": "https://localhost:8080/"
        },
        "id": "lApZK9sGtRF5",
        "outputId": "bc304218-0daf-45f8-9493-c898972d998e"
      },
      "execution_count": 137,
      "outputs": [
        {
          "output_type": "stream",
          "name": "stdout",
          "text": [
            "100\n"
          ]
        }
      ]
    },
    {
      "cell_type": "markdown",
      "source": [
        "Using PCA we can reduce the dimensionality of each word's vector from 100 to only two. This enables us to plot the points and learn how their position on the plot and the distances between each other corresponds to their meaning:"
      ],
      "metadata": {
        "id": "3tTgN7IZwsO0"
      }
    },
    {
      "cell_type": "code",
      "source": [
        "# reduce vectors to two dimensions\n",
        "from sklearn.manifold import TSNE\n",
        "from sklearn.decomposition import PCA\n",
        "tsne = PCA(n_components=2, random_state=1)\n",
        "emb_val = list(words_embeddings.values())\n",
        "emb_name = list(words_embeddings.keys())\n",
        "X_2d = tsne.fit_transform(emb_val)\n",
        "pca_df = pd.DataFrame({\"X\": X_2d[:, 0], \"Y\": X_2d[:, 1], \"word\": emb_name})\n",
        "pca_df.head(3)"
      ],
      "metadata": {
        "colab": {
          "base_uri": "https://localhost:8080/",
          "height": 143
        },
        "id": "jEpSfGy6th4A",
        "outputId": "7b700237-7f85-4021-cd20-35ce9447e808"
      },
      "execution_count": 138,
      "outputs": [
        {
          "output_type": "execute_result",
          "data": {
            "text/plain": [
              "          X         Y  word\n",
              "0 -0.052666 -0.273827  arzt\n",
              "1  0.393840  0.074682   gut\n",
              "2  0.209959 -0.184990    dr"
            ],
            "text/html": [
              "\n",
              "  <div id=\"df-45e3c357-28d4-4075-a675-661e0df66516\">\n",
              "    <div class=\"colab-df-container\">\n",
              "      <div>\n",
              "<style scoped>\n",
              "    .dataframe tbody tr th:only-of-type {\n",
              "        vertical-align: middle;\n",
              "    }\n",
              "\n",
              "    .dataframe tbody tr th {\n",
              "        vertical-align: top;\n",
              "    }\n",
              "\n",
              "    .dataframe thead th {\n",
              "        text-align: right;\n",
              "    }\n",
              "</style>\n",
              "<table border=\"1\" class=\"dataframe\">\n",
              "  <thead>\n",
              "    <tr style=\"text-align: right;\">\n",
              "      <th></th>\n",
              "      <th>X</th>\n",
              "      <th>Y</th>\n",
              "      <th>word</th>\n",
              "    </tr>\n",
              "  </thead>\n",
              "  <tbody>\n",
              "    <tr>\n",
              "      <th>0</th>\n",
              "      <td>-0.052666</td>\n",
              "      <td>-0.273827</td>\n",
              "      <td>arzt</td>\n",
              "    </tr>\n",
              "    <tr>\n",
              "      <th>1</th>\n",
              "      <td>0.393840</td>\n",
              "      <td>0.074682</td>\n",
              "      <td>gut</td>\n",
              "    </tr>\n",
              "    <tr>\n",
              "      <th>2</th>\n",
              "      <td>0.209959</td>\n",
              "      <td>-0.184990</td>\n",
              "      <td>dr</td>\n",
              "    </tr>\n",
              "  </tbody>\n",
              "</table>\n",
              "</div>\n",
              "      <button class=\"colab-df-convert\" onclick=\"convertToInteractive('df-45e3c357-28d4-4075-a675-661e0df66516')\"\n",
              "              title=\"Convert this dataframe to an interactive table.\"\n",
              "              style=\"display:none;\">\n",
              "        \n",
              "  <svg xmlns=\"http://www.w3.org/2000/svg\" height=\"24px\"viewBox=\"0 0 24 24\"\n",
              "       width=\"24px\">\n",
              "    <path d=\"M0 0h24v24H0V0z\" fill=\"none\"/>\n",
              "    <path d=\"M18.56 5.44l.94 2.06.94-2.06 2.06-.94-2.06-.94-.94-2.06-.94 2.06-2.06.94zm-11 1L8.5 8.5l.94-2.06 2.06-.94-2.06-.94L8.5 2.5l-.94 2.06-2.06.94zm10 10l.94 2.06.94-2.06 2.06-.94-2.06-.94-.94-2.06-.94 2.06-2.06.94z\"/><path d=\"M17.41 7.96l-1.37-1.37c-.4-.4-.92-.59-1.43-.59-.52 0-1.04.2-1.43.59L10.3 9.45l-7.72 7.72c-.78.78-.78 2.05 0 2.83L4 21.41c.39.39.9.59 1.41.59.51 0 1.02-.2 1.41-.59l7.78-7.78 2.81-2.81c.8-.78.8-2.07 0-2.86zM5.41 20L4 18.59l7.72-7.72 1.47 1.35L5.41 20z\"/>\n",
              "  </svg>\n",
              "      </button>\n",
              "      \n",
              "  <style>\n",
              "    .colab-df-container {\n",
              "      display:flex;\n",
              "      flex-wrap:wrap;\n",
              "      gap: 12px;\n",
              "    }\n",
              "\n",
              "    .colab-df-convert {\n",
              "      background-color: #E8F0FE;\n",
              "      border: none;\n",
              "      border-radius: 50%;\n",
              "      cursor: pointer;\n",
              "      display: none;\n",
              "      fill: #1967D2;\n",
              "      height: 32px;\n",
              "      padding: 0 0 0 0;\n",
              "      width: 32px;\n",
              "    }\n",
              "\n",
              "    .colab-df-convert:hover {\n",
              "      background-color: #E2EBFA;\n",
              "      box-shadow: 0px 1px 2px rgba(60, 64, 67, 0.3), 0px 1px 3px 1px rgba(60, 64, 67, 0.15);\n",
              "      fill: #174EA6;\n",
              "    }\n",
              "\n",
              "    [theme=dark] .colab-df-convert {\n",
              "      background-color: #3B4455;\n",
              "      fill: #D2E3FC;\n",
              "    }\n",
              "\n",
              "    [theme=dark] .colab-df-convert:hover {\n",
              "      background-color: #434B5C;\n",
              "      box-shadow: 0px 1px 3px 1px rgba(0, 0, 0, 0.15);\n",
              "      filter: drop-shadow(0px 1px 2px rgba(0, 0, 0, 0.3));\n",
              "      fill: #FFFFFF;\n",
              "    }\n",
              "  </style>\n",
              "\n",
              "      <script>\n",
              "        const buttonEl =\n",
              "          document.querySelector('#df-45e3c357-28d4-4075-a675-661e0df66516 button.colab-df-convert');\n",
              "        buttonEl.style.display =\n",
              "          google.colab.kernel.accessAllowed ? 'block' : 'none';\n",
              "\n",
              "        async function convertToInteractive(key) {\n",
              "          const element = document.querySelector('#df-45e3c357-28d4-4075-a675-661e0df66516');\n",
              "          const dataTable =\n",
              "            await google.colab.kernel.invokeFunction('convertToInteractive',\n",
              "                                                     [key], {});\n",
              "          if (!dataTable) return;\n",
              "\n",
              "          const docLinkHtml = 'Like what you see? Visit the ' +\n",
              "            '<a target=\"_blank\" href=https://colab.research.google.com/notebooks/data_table.ipynb>data table notebook</a>'\n",
              "            + ' to learn more about interactive tables.';\n",
              "          element.innerHTML = '';\n",
              "          dataTable['output_type'] = 'display_data';\n",
              "          await google.colab.output.renderOutput(dataTable, element);\n",
              "          const docLink = document.createElement('div');\n",
              "          docLink.innerHTML = docLinkHtml;\n",
              "          element.appendChild(docLink);\n",
              "        }\n",
              "      </script>\n",
              "    </div>\n",
              "  </div>\n",
              "  "
            ]
          },
          "metadata": {},
          "execution_count": 138
        }
      ]
    },
    {
      "cell_type": "code",
      "source": [
        "plt.figure(figsize=(10,7))\n",
        "sns.scatterplot(data=pca_df,x='X',y=\"Y\")"
      ],
      "metadata": {
        "colab": {
          "base_uri": "https://localhost:8080/",
          "height": 459
        },
        "id": "AHhUKcBAcHq1",
        "outputId": "ba453897-5ebc-42b9-ed63-e36c0eaa1c21"
      },
      "execution_count": 139,
      "outputs": [
        {
          "output_type": "execute_result",
          "data": {
            "text/plain": [
              "<Axes: xlabel='X', ylabel='Y'>"
            ]
          },
          "metadata": {},
          "execution_count": 139
        },
        {
          "output_type": "display_data",
          "data": {
            "text/plain": [
              "<Figure size 720x504 with 1 Axes>"
            ],
            "image/png": "[encoded data removed]"
          },
          "metadata": {}
        }
      ]
    },
    {
      "cell_type": "markdown",
      "source": [
        "We can also calculate which word vectors are very close to each other by using the `KDTree` algorithm. Then, we look for words that are most similar to \"schlecht\" (bad):"
      ],
      "metadata": {
        "id": "w3PY1VqFxCBu"
      }
    },
    {
      "cell_type": "code",
      "source": [
        "from sklearn.neighbors import KDTree\n",
        "\n",
        "tree = KDTree(pca_df[[\"X\", \"Y\"]])\n",
        "# get most similar vectors\n",
        "nearest = tree.query(pca_df.loc[pca_df[\"word\"] == \"unfreund\", [\"X\", \"Y\"]], k=6)\n",
        "pca_df.iloc[nearest[1][0], :]"
      ],
      "metadata": {
        "colab": {
          "base_uri": "https://localhost:8080/",
          "height": 238
        },
        "id": "oN8_Cc_4hIyK",
        "outputId": "778438ba-ab0d-405c-ea2d-288dd588f8bb"
      },
      "execution_count": 140,
      "outputs": [
        {
          "output_type": "execute_result",
          "data": {
            "text/plain": [
              "            X         Y         word\n",
              "9   -0.528989  0.382685     unfreund\n",
              "675 -0.577301  0.275094  fehldiagnos\n",
              "311 -0.650322  0.387078          wed\n",
              "204 -0.446050  0.257710     gewartet\n",
              "287 -0.550314  0.212801  uberfordert\n",
              "237 -0.605977  0.222625   enttauscht"
            ],
            "text/html": [
              "\n",
              "  <div id=\"df-7b201a39-3224-4b4e-ab45-57ea03e4b106\">\n",
              "    <div class=\"colab-df-container\">\n",
              "      <div>\n",
              "<style scoped>\n",
              "    .dataframe tbody tr th:only-of-type {\n",
              "        vertical-align: middle;\n",
              "    }\n",
              "\n",
              "    .dataframe tbody tr th {\n",
              "        vertical-align: top;\n",
              "    }\n",
              "\n",
              "    .dataframe thead th {\n",
              "        text-align: right;\n",
              "    }\n",
              "</style>\n",
              "<table border=\"1\" class=\"dataframe\">\n",
              "  <thead>\n",
              "    <tr style=\"text-align: right;\">\n",
              "      <th></th>\n",
              "      <th>X</th>\n",
              "      <th>Y</th>\n",
              "      <th>word</th>\n",
              "    </tr>\n",
              "  </thead>\n",
              "  <tbody>\n",
              "    <tr>\n",
              "      <th>9</th>\n",
              "      <td>-0.528989</td>\n",
              "      <td>0.382685</td>\n",
              "      <td>unfreund</td>\n",
              "    </tr>\n",
              "    <tr>\n",
              "      <th>675</th>\n",
              "      <td>-0.577301</td>\n",
              "      <td>0.275094</td>\n",
              "      <td>fehldiagnos</td>\n",
              "    </tr>\n",
              "    <tr>\n",
              "      <th>311</th>\n",
              "      <td>-0.650322</td>\n",
              "      <td>0.387078</td>\n",
              "      <td>wed</td>\n",
              "    </tr>\n",
              "    <tr>\n",
              "      <th>204</th>\n",
              "      <td>-0.446050</td>\n",
              "      <td>0.257710</td>\n",
              "      <td>gewartet</td>\n",
              "    </tr>\n",
              "    <tr>\n",
              "      <th>287</th>\n",
              "      <td>-0.550314</td>\n",
              "      <td>0.212801</td>\n",
              "      <td>uberfordert</td>\n",
              "    </tr>\n",
              "    <tr>\n",
              "      <th>237</th>\n",
              "      <td>-0.605977</td>\n",
              "      <td>0.222625</td>\n",
              "      <td>enttauscht</td>\n",
              "    </tr>\n",
              "  </tbody>\n",
              "</table>\n",
              "</div>\n",
              "      <button class=\"colab-df-convert\" onclick=\"convertToInteractive('df-7b201a39-3224-4b4e-ab45-57ea03e4b106')\"\n",
              "              title=\"Convert this dataframe to an interactive table.\"\n",
              "              style=\"display:none;\">\n",
              "        \n",
              "  <svg xmlns=\"http://www.w3.org/2000/svg\" height=\"24px\"viewBox=\"0 0 24 24\"\n",
              "       width=\"24px\">\n",
              "    <path d=\"M0 0h24v24H0V0z\" fill=\"none\"/>\n",
              "    <path d=\"M18.56 5.44l.94 2.06.94-2.06 2.06-.94-2.06-.94-.94-2.06-.94 2.06-2.06.94zm-11 1L8.5 8.5l.94-2.06 2.06-.94-2.06-.94L8.5 2.5l-.94 2.06-2.06.94zm10 10l.94 2.06.94-2.06 2.06-.94-2.06-.94-.94-2.06-.94 2.06-2.06.94z\"/><path d=\"M17.41 7.96l-1.37-1.37c-.4-.4-.92-.59-1.43-.59-.52 0-1.04.2-1.43.59L10.3 9.45l-7.72 7.72c-.78.78-.78 2.05 0 2.83L4 21.41c.39.39.9.59 1.41.59.51 0 1.02-.2 1.41-.59l7.78-7.78 2.81-2.81c.8-.78.8-2.07 0-2.86zM5.41 20L4 18.59l7.72-7.72 1.47 1.35L5.41 20z\"/>\n",
              "  </svg>\n",
              "      </button>\n",
              "      \n",
              "  <style>\n",
              "    .colab-df-container {\n",
              "      display:flex;\n",
              "      flex-wrap:wrap;\n",
              "      gap: 12px;\n",
              "    }\n",
              "\n",
              "    .colab-df-convert {\n",
              "      background-color: #E8F0FE;\n",
              "      border: none;\n",
              "      border-radius: 50%;\n",
              "      cursor: pointer;\n",
              "      display: none;\n",
              "      fill: #1967D2;\n",
              "      height: 32px;\n",
              "      padding: 0 0 0 0;\n",
              "      width: 32px;\n",
              "    }\n",
              "\n",
              "    .colab-df-convert:hover {\n",
              "      background-color: #E2EBFA;\n",
              "      box-shadow: 0px 1px 2px rgba(60, 64, 67, 0.3), 0px 1px 3px 1px rgba(60, 64, 67, 0.15);\n",
              "      fill: #174EA6;\n",
              "    }\n",
              "\n",
              "    [theme=dark] .colab-df-convert {\n",
              "      background-color: #3B4455;\n",
              "      fill: #D2E3FC;\n",
              "    }\n",
              "\n",
              "    [theme=dark] .colab-df-convert:hover {\n",
              "      background-color: #434B5C;\n",
              "      box-shadow: 0px 1px 3px 1px rgba(0, 0, 0, 0.15);\n",
              "      filter: drop-shadow(0px 1px 2px rgba(0, 0, 0, 0.3));\n",
              "      fill: #FFFFFF;\n",
              "    }\n",
              "  </style>\n",
              "\n",
              "      <script>\n",
              "        const buttonEl =\n",
              "          document.querySelector('#df-7b201a39-3224-4b4e-ab45-57ea03e4b106 button.colab-df-convert');\n",
              "        buttonEl.style.display =\n",
              "          google.colab.kernel.accessAllowed ? 'block' : 'none';\n",
              "\n",
              "        async function convertToInteractive(key) {\n",
              "          const element = document.querySelector('#df-7b201a39-3224-4b4e-ab45-57ea03e4b106');\n",
              "          const dataTable =\n",
              "            await google.colab.kernel.invokeFunction('convertToInteractive',\n",
              "                                                     [key], {});\n",
              "          if (!dataTable) return;\n",
              "\n",
              "          const docLinkHtml = 'Like what you see? Visit the ' +\n",
              "            '<a target=\"_blank\" href=https://colab.research.google.com/notebooks/data_table.ipynb>data table notebook</a>'\n",
              "            + ' to learn more about interactive tables.';\n",
              "          element.innerHTML = '';\n",
              "          dataTable['output_type'] = 'display_data';\n",
              "          await google.colab.output.renderOutput(dataTable, element);\n",
              "          const docLink = document.createElement('div');\n",
              "          docLink.innerHTML = docLinkHtml;\n",
              "          element.appendChild(docLink);\n",
              "        }\n",
              "      </script>\n",
              "    </div>\n",
              "  </div>\n",
              "  "
            ]
          },
          "metadata": {},
          "execution_count": 140
        }
      ]
    },
    {
      "cell_type": "code",
      "source": [
        "# get most similar vectors\n",
        "nearest = tree.query(pca_df.loc[pca_df[\"word\"] == \"nett\", [\"X\", \"Y\"]], k=6)\n",
        "pca_df.iloc[nearest[1][0], :]"
      ],
      "metadata": {
        "colab": {
          "base_uri": "https://localhost:8080/",
          "height": 238
        },
        "id": "S5Jh_jRghaX7",
        "outputId": "d2dcc657-8c04-471f-a20b-cbf3688d5299"
      },
      "execution_count": 145,
      "outputs": [
        {
          "output_type": "execute_result",
          "data": {
            "text/plain": [
              "            X         Y      word\n",
              "16   0.628830  0.088819      nett\n",
              "369  0.628387  0.105024      froh\n",
              "212  0.648259  0.119887      stet\n",
              "132  0.603416  0.062062  verstand\n",
              "215  0.591453  0.110800   endlich\n",
              "228  0.578291  0.077115      bish"
            ],
            "text/html": [
              "\n",
              "  <div id=\"df-f2776716-0d33-4818-9446-2dfa872ef0f1\">\n",
              "    <div class=\"colab-df-container\">\n",
              "      <div>\n",
              "<style scoped>\n",
              "    .dataframe tbody tr th:only-of-type {\n",
              "        vertical-align: middle;\n",
              "    }\n",
              "\n",
              "    .dataframe tbody tr th {\n",
              "        vertical-align: top;\n",
              "    }\n",
              "\n",
              "    .dataframe thead th {\n",
              "        text-align: right;\n",
              "    }\n",
              "</style>\n",
              "<table border=\"1\" class=\"dataframe\">\n",
              "  <thead>\n",
              "    <tr style=\"text-align: right;\">\n",
              "      <th></th>\n",
              "      <th>X</th>\n",
              "      <th>Y</th>\n",
              "      <th>word</th>\n",
              "    </tr>\n",
              "  </thead>\n",
              "  <tbody>\n",
              "    <tr>\n",
              "      <th>16</th>\n",
              "      <td>0.628830</td>\n",
              "      <td>0.088819</td>\n",
              "      <td>nett</td>\n",
              "    </tr>\n",
              "    <tr>\n",
              "      <th>369</th>\n",
              "      <td>0.628387</td>\n",
              "      <td>0.105024</td>\n",
              "      <td>froh</td>\n",
              "    </tr>\n",
              "    <tr>\n",
              "      <th>212</th>\n",
              "      <td>0.648259</td>\n",
              "      <td>0.119887</td>\n",
              "      <td>stet</td>\n",
              "    </tr>\n",
              "    <tr>\n",
              "      <th>132</th>\n",
              "      <td>0.603416</td>\n",
              "      <td>0.062062</td>\n",
              "      <td>verstand</td>\n",
              "    </tr>\n",
              "    <tr>\n",
              "      <th>215</th>\n",
              "      <td>0.591453</td>\n",
              "      <td>0.110800</td>\n",
              "      <td>endlich</td>\n",
              "    </tr>\n",
              "    <tr>\n",
              "      <th>228</th>\n",
              "      <td>0.578291</td>\n",
              "      <td>0.077115</td>\n",
              "      <td>bish</td>\n",
              "    </tr>\n",
              "  </tbody>\n",
              "</table>\n",
              "</div>\n",
              "      <button class=\"colab-df-convert\" onclick=\"convertToInteractive('df-f2776716-0d33-4818-9446-2dfa872ef0f1')\"\n",
              "              title=\"Convert this dataframe to an interactive table.\"\n",
              "              style=\"display:none;\">\n",
              "        \n",
              "  <svg xmlns=\"http://www.w3.org/2000/svg\" height=\"24px\"viewBox=\"0 0 24 24\"\n",
              "       width=\"24px\">\n",
              "    <path d=\"M0 0h24v24H0V0z\" fill=\"none\"/>\n",
              "    <path d=\"M18.56 5.44l.94 2.06.94-2.06 2.06-.94-2.06-.94-.94-2.06-.94 2.06-2.06.94zm-11 1L8.5 8.5l.94-2.06 2.06-.94-2.06-.94L8.5 2.5l-.94 2.06-2.06.94zm10 10l.94 2.06.94-2.06 2.06-.94-2.06-.94-.94-2.06-.94 2.06-2.06.94z\"/><path d=\"M17.41 7.96l-1.37-1.37c-.4-.4-.92-.59-1.43-.59-.52 0-1.04.2-1.43.59L10.3 9.45l-7.72 7.72c-.78.78-.78 2.05 0 2.83L4 21.41c.39.39.9.59 1.41.59.51 0 1.02-.2 1.41-.59l7.78-7.78 2.81-2.81c.8-.78.8-2.07 0-2.86zM5.41 20L4 18.59l7.72-7.72 1.47 1.35L5.41 20z\"/>\n",
              "  </svg>\n",
              "      </button>\n",
              "      \n",
              "  <style>\n",
              "    .colab-df-container {\n",
              "      display:flex;\n",
              "      flex-wrap:wrap;\n",
              "      gap: 12px;\n",
              "    }\n",
              "\n",
              "    .colab-df-convert {\n",
              "      background-color: #E8F0FE;\n",
              "      border: none;\n",
              "      border-radius: 50%;\n",
              "      cursor: pointer;\n",
              "      display: none;\n",
              "      fill: #1967D2;\n",
              "      height: 32px;\n",
              "      padding: 0 0 0 0;\n",
              "      width: 32px;\n",
              "    }\n",
              "\n",
              "    .colab-df-convert:hover {\n",
              "      background-color: #E2EBFA;\n",
              "      box-shadow: 0px 1px 2px rgba(60, 64, 67, 0.3), 0px 1px 3px 1px rgba(60, 64, 67, 0.15);\n",
              "      fill: #174EA6;\n",
              "    }\n",
              "\n",
              "    [theme=dark] .colab-df-convert {\n",
              "      background-color: #3B4455;\n",
              "      fill: #D2E3FC;\n",
              "    }\n",
              "\n",
              "    [theme=dark] .colab-df-convert:hover {\n",
              "      background-color: #434B5C;\n",
              "      box-shadow: 0px 1px 3px 1px rgba(0, 0, 0, 0.15);\n",
              "      filter: drop-shadow(0px 1px 2px rgba(0, 0, 0, 0.3));\n",
              "      fill: #FFFFFF;\n",
              "    }\n",
              "  </style>\n",
              "\n",
              "      <script>\n",
              "        const buttonEl =\n",
              "          document.querySelector('#df-f2776716-0d33-4818-9446-2dfa872ef0f1 button.colab-df-convert');\n",
              "        buttonEl.style.display =\n",
              "          google.colab.kernel.accessAllowed ? 'block' : 'none';\n",
              "\n",
              "        async function convertToInteractive(key) {\n",
              "          const element = document.querySelector('#df-f2776716-0d33-4818-9446-2dfa872ef0f1');\n",
              "          const dataTable =\n",
              "            await google.colab.kernel.invokeFunction('convertToInteractive',\n",
              "                                                     [key], {});\n",
              "          if (!dataTable) return;\n",
              "\n",
              "          const docLinkHtml = 'Like what you see? Visit the ' +\n",
              "            '<a target=\"_blank\" href=https://colab.research.google.com/notebooks/data_table.ipynb>data table notebook</a>'\n",
              "            + ' to learn more about interactive tables.';\n",
              "          element.innerHTML = '';\n",
              "          dataTable['output_type'] = 'display_data';\n",
              "          await google.colab.output.renderOutput(dataTable, element);\n",
              "          const docLink = document.createElement('div');\n",
              "          docLink.innerHTML = docLinkHtml;\n",
              "          element.appendChild(docLink);\n",
              "        }\n",
              "      </script>\n",
              "    </div>\n",
              "  </div>\n",
              "  "
            ]
          },
          "metadata": {},
          "execution_count": 145
        }
      ]
    },
    {
      "cell_type": "markdown",
      "source": [
        "### Evaluation\n",
        "\n",
        "Finally, we're excited to see how well our model performs. "
      ],
      "metadata": {
        "id": "Y64lX9ggxzEu"
      }
    },
    {
      "cell_type": "code",
      "source": [
        "# Load best model from Checkpoint\n",
        "# model = load_model(PATH_CHECKPOINTS+\"lstm-no-embed/Model_300emb_06_0.0757.h5\",\n",
        "#                    compile=False)\n",
        "# Predict on test data\n",
        "pred = model.predict(X_test_vec)\n",
        "pred_class = (pred > 0.5).astype(int)\n",
        "pred_len = X_test_vec.shape[0]"
      ],
      "metadata": {
        "colab": {
          "base_uri": "https://localhost:8080/"
        },
        "id": "nG3kLFyuhy_8",
        "outputId": "fb494f6f-2ddd-4ecb-8eec-fc53b2b577ed"
      },
      "execution_count": 141,
      "outputs": [
        {
          "output_type": "stream",
          "name": "stdout",
          "text": [
            "157/157 [==============================] - 1s 3ms/step\n"
          ]
        }
      ]
    },
    {
      "cell_type": "code",
      "source": [
        "report = metrics.classification_report(Y_test, pred_class[0:pred_len])\n",
        "print(report)"
      ],
      "metadata": {
        "colab": {
          "base_uri": "https://localhost:8080/"
        },
        "id": "GNAKRq-bh4aY",
        "outputId": "205d0963-300c-4e7b-f1a6-fe579d9d821d"
      },
      "execution_count": 142,
      "outputs": [
        {
          "output_type": "stream",
          "name": "stdout",
          "text": [
            "              precision    recall  f1-score   support\n",
            "\n",
            "           0       0.87      0.91      0.89      2492\n",
            "           1       0.91      0.87      0.89      2508\n",
            "\n",
            "    accuracy                           0.89      5000\n",
            "   macro avg       0.89      0.89      0.89      5000\n",
            "weighted avg       0.89      0.89      0.89      5000\n",
            "\n"
          ]
        }
      ]
    },
    {
      "cell_type": "markdown",
      "source": [
        "The LSTM model has a comparable performance to other traditional models,but it performs less than logistic regression (f1-score = 0,89 < 0,9)\n",
        "\n",
        "Let's try LSTM model with Pre-trained embeddings."
      ],
      "metadata": {
        "id": "wdJgxrKcx-hE"
      }
    },
    {
      "cell_type": "markdown",
      "source": [
        "### Using Pre-trained embeddings\n",
        "\n",
        "Instead of creating embeddings from scratch as part of a neural network for a specific task, it is also possible to use pre trained embeddings. These have been generated using huge models and data sets and contain large dictionaries. Usually, the vectors of pre trained embeddings capture semantic meaning. For example, two words that are semantic substitues will also have very similar vectors.\n",
        "Popular choices for embeddings include Word2Vec, GloVe and FastText.  \n",
        "In my case study , I will use FastText. I could also use the other choices."
      ],
      "metadata": {
        "id": "re6GGk_zymXk"
      }
    },
    {
      "cell_type": "code",
      "source": [
        "!wget \"https://dl.fbaipublicfiles.com/fasttext/vectors-crawl/cc.de.300.vec.gz\"\n",
        "!gzip -d cc.de.300.vec.gz"
      ],
      "metadata": {
        "colab": {
          "base_uri": "https://localhost:8080/"
        },
        "id": "n6aDMLjgjYAT",
        "outputId": "46eef214-9866-4981-efe8-21d51659f2d0"
      },
      "execution_count": 2,
      "outputs": [
        {
          "output_type": "stream",
          "name": "stdout",
          "text": [
            "--2023-03-27 20:46:46--  https://dl.fbaipublicfiles.com/fasttext/vectors-crawl/cc.de.300.vec.gz\n",
            "Resolving dl.fbaipublicfiles.com (dl.fbaipublicfiles.com)... 13.227.219.10, 13.227.219.59, 13.227.219.33, ...\n",
            "Connecting to dl.fbaipublicfiles.com (dl.fbaipublicfiles.com)|13.227.219.10|:443... connected.\n",
            "HTTP request sent, awaiting response... 200 OK\n",
            "Length: 1278030050 (1.2G) [binary/octet-stream]\n",
            "Saving to: ‘cc.de.300.vec.gz’\n",
            "\n",
            "cc.de.300.vec.gz    100%[===================>]   1.19G   212MB/s    in 6.5s    \n",
            "\n",
            "2023-03-27 20:46:53 (188 MB/s) - ‘cc.de.300.vec.gz’ saved [1278030050/1278030050]\n",
            "\n"
          ]
        }
      ]
    },
    {
      "cell_type": "markdown",
      "source": [
        "An easy way to use the vectors is the [gensim library](https://radimrehurek.com/gensim/):"
      ],
      "metadata": {
        "id": "5a12N0Asy-Z9"
      }
    },
    {
      "cell_type": "code",
      "source": [
        "%%time\n",
        "# Load Fasttext vector embeddings - takes some time 10min\n",
        "# use pickle to dump loaded model -> load that = 12s\n",
        "import smart_open\n",
        "import gensim\n",
        "from gensim.models import KeyedVectors\n",
        "\n",
        "de_model = KeyedVectors.load_word2vec_format('/content/cc.de.300.vec', unicode_errors='ignore')"
      ],
      "metadata": {
        "colab": {
          "base_uri": "https://localhost:8080/"
        },
        "id": "MLuT6CWcjYGR",
        "outputId": "eb72fdc3-d6ea-451c-94ba-32bd70becc14"
      },
      "execution_count": 3,
      "outputs": [
        {
          "output_type": "stream",
          "name": "stdout",
          "text": [
            "CPU times: user 6min 50s, sys: 13 s, total: 7min 3s\n",
            "Wall time: 7min 34s\n"
          ]
        }
      ]
    },
    {
      "cell_type": "code",
      "source": [
        "!pip uninstall smart_open\n",
        "!pip install smart_open"
      ],
      "metadata": {
        "colab": {
          "base_uri": "https://localhost:8080/",
          "height": 311
        },
        "id": "-aqgc_LEUecc",
        "outputId": "77a0ad97-d8d7-4748-fd02-9295f3b8e963"
      },
      "execution_count": 156,
      "outputs": [
        {
          "output_type": "stream",
          "name": "stdout",
          "text": [
            "Found existing installation: smart-open 1.9.0\n",
            "Uninstalling smart-open-1.9.0:\n",
            "  Would remove:\n",
            "    /usr/local/lib/python3.9/dist-packages/smart_open-1.9.0.dist-info/*\n",
            "    /usr/local/lib/python3.9/dist-packages/smart_open/*\n",
            "Proceed (Y/n)? Y\n",
            "  Successfully uninstalled smart-open-1.9.0\n",
            "Looking in indexes: https://pypi.org/simple, https://us-python.pkg.dev/colab-wheels/public/simple/\n",
            "Collecting smart_open\n",
            "  Using cached smart_open-6.3.0-py3-none-any.whl (56 kB)\n",
            "Installing collected packages: smart_open\n",
            "Successfully installed smart_open-6.3.0\n"
          ]
        },
        {
          "output_type": "display_data",
          "data": {
            "application/vnd.colab-display-data+json": {
              "pip_warning": {
                "packages": [
                  "smart_open"
                ]
              }
            }
          },
          "metadata": {}
        }
      ]
    },
    {
      "cell_type": "code",
      "source": [
        "!pip install gensim==3.4.0\n",
        "!pip install smart_open==1.9.0"
      ],
      "metadata": {
        "colab": {
          "base_uri": "https://localhost:8080/"
        },
        "id": "4VQ0GkuZP2oe",
        "outputId": "7b4459ec-7ea4-4195-824b-2aab91914be9"
      },
      "execution_count": 154,
      "outputs": [
        {
          "output_type": "stream",
          "name": "stdout",
          "text": [
            "Looking in indexes: https://pypi.org/simple, https://us-python.pkg.dev/colab-wheels/public/simple/\n",
            "Requirement already satisfied: gensim==3.4.0 in /usr/local/lib/python3.9/dist-packages (3.4.0)\n",
            "Requirement already satisfied: scipy>=0.18.1 in /usr/local/lib/python3.9/dist-packages (from gensim==3.4.0) (1.10.1)\n",
            "Requirement already satisfied: numpy>=1.11.3 in /usr/local/lib/python3.9/dist-packages (from gensim==3.4.0) (1.22.4)\n",
            "Requirement already satisfied: smart-open>=1.2.1 in /usr/local/lib/python3.9/dist-packages (from gensim==3.4.0) (5.2.1)\n",
            "Requirement already satisfied: six>=1.5.0 in /usr/local/lib/python3.9/dist-packages (from gensim==3.4.0) (1.16.0)\n",
            "Looking in indexes: https://pypi.org/simple, https://us-python.pkg.dev/colab-wheels/public/simple/\n",
            "Collecting smart_open==1.9.0\n",
            "  Downloading smart_open-1.9.0.tar.gz (70 kB)\n",
            "\u001b[2K     \u001b[90m━━━━━━━━━━━━━━━━━━━━━━━━━━━━━━━━━━━━━━━━\u001b[0m \u001b[32m70.6/70.6 KB\u001b[0m \u001b[31m3.4 MB/s\u001b[0m eta \u001b[36m0:00:00\u001b[0m\n",
            "\u001b[?25h  Preparing metadata (setup.py) ... \u001b[?25l\u001b[?25hdone\n",
            "Collecting boto>=2.32\n",
            "  Downloading boto-2.49.0-py2.py3-none-any.whl (1.4 MB)\n",
            "\u001b[2K     \u001b[90m━━━━━━━━━━━━━━━━━━━━━━━━━━━━━━━━━━━━━━━━\u001b[0m \u001b[32m1.4/1.4 MB\u001b[0m \u001b[31m27.0 MB/s\u001b[0m eta \u001b[36m0:00:00\u001b[0m\n",
            "\u001b[?25hRequirement already satisfied: requests in /usr/local/lib/python3.9/dist-packages (from smart_open==1.9.0) (2.27.1)\n",
            "Collecting boto3\n",
            "  Downloading boto3-1.26.100-py3-none-any.whl (135 kB)\n",
            "\u001b[2K     \u001b[90m━━━━━━━━━━━━━━━━━━━━━━━━━━━━━━━━━━━━━━\u001b[0m \u001b[32m135.5/135.5 KB\u001b[0m \u001b[31m19.5 MB/s\u001b[0m eta \u001b[36m0:00:00\u001b[0m\n",
            "\u001b[?25hCollecting jmespath<2.0.0,>=0.7.1\n",
            "  Downloading jmespath-1.0.1-py3-none-any.whl (20 kB)\n",
            "Collecting botocore<1.30.0,>=1.29.100\n",
            "  Downloading botocore-1.29.100-py3-none-any.whl (10.6 MB)\n",
            "\u001b[2K     \u001b[90m━━━━━━━━━━━━━━━━━━━━━━━━━━━━━━━━━━━━━━━\u001b[0m \u001b[32m10.6/10.6 MB\u001b[0m \u001b[31m100.9 MB/s\u001b[0m eta \u001b[36m0:00:00\u001b[0m\n",
            "\u001b[?25hCollecting s3transfer<0.7.0,>=0.6.0\n",
            "  Downloading s3transfer-0.6.0-py3-none-any.whl (79 kB)\n",
            "\u001b[2K     \u001b[90m━━━━━━━━━━━━━━━━━━━━━━━━━━━━━━━━━━━━━━━━\u001b[0m \u001b[32m79.6/79.6 KB\u001b[0m \u001b[31m12.2 MB/s\u001b[0m eta \u001b[36m0:00:00\u001b[0m\n",
            "\u001b[?25hRequirement already satisfied: certifi>=2017.4.17 in /usr/local/lib/python3.9/dist-packages (from requests->smart_open==1.9.0) (2022.12.7)\n",
            "Requirement already satisfied: charset-normalizer~=2.0.0 in /usr/local/lib/python3.9/dist-packages (from requests->smart_open==1.9.0) (2.0.12)\n",
            "Requirement already satisfied: idna<4,>=2.5 in /usr/local/lib/python3.9/dist-packages (from requests->smart_open==1.9.0) (3.4)\n",
            "Requirement already satisfied: urllib3<1.27,>=1.21.1 in /usr/local/lib/python3.9/dist-packages (from requests->smart_open==1.9.0) (1.26.15)\n",
            "Requirement already satisfied: python-dateutil<3.0.0,>=2.1 in /usr/local/lib/python3.9/dist-packages (from botocore<1.30.0,>=1.29.100->boto3->smart_open==1.9.0) (2.8.2)\n",
            "Requirement already satisfied: six>=1.5 in /usr/local/lib/python3.9/dist-packages (from python-dateutil<3.0.0,>=2.1->botocore<1.30.0,>=1.29.100->boto3->smart_open==1.9.0) (1.16.0)\n",
            "Building wheels for collected packages: smart_open\n",
            "  Building wheel for smart_open (setup.py) ... \u001b[?25l\u001b[?25hdone\n",
            "  Created wheel for smart_open: filename=smart_open-1.9.0-py3-none-any.whl size=73093 sha256=8848dfb2f1b5d09baab262b1888a7fc838fc2577cf3f822579662aedca314ed5\n",
            "  Stored in directory: /root/.cache/pip/wheels/cc/b9/00/26ff8c7601415a2dcd6a1e20ad003c32cda3b720bc3b9c0ead\n",
            "Successfully built smart_open\n",
            "Installing collected packages: boto, jmespath, botocore, s3transfer, boto3, smart_open\n",
            "  Attempting uninstall: smart_open\n",
            "    Found existing installation: smart-open 5.2.1\n",
            "    Uninstalling smart-open-5.2.1:\n",
            "      Successfully uninstalled smart-open-5.2.1\n",
            "\u001b[31mERROR: pip's dependency resolver does not currently take into account all the packages that are installed. This behaviour is the source of the following dependency conflicts.\n",
            "spacy 3.5.1 requires smart-open<7.0.0,>=5.2.1, but you have smart-open 1.9.0 which is incompatible.\n",
            "pathy 0.10.1 requires smart-open<7.0.0,>=5.2.1, but you have smart-open 1.9.0 which is incompatible.\u001b[0m\u001b[31m\n",
            "\u001b[0mSuccessfully installed boto-2.49.0 boto3-1.26.100 botocore-1.29.100 jmespath-1.0.1 s3transfer-0.6.0 smart_open-1.9.0\n"
          ]
        }
      ]
    },
    {
      "cell_type": "markdown",
      "source": [
        "I've mentioned before that similar words are represented by similar vectors. \n",
        "Let's look at the work \"arzt\" :"
      ],
      "metadata": {
        "id": "rbissyqg0_9l"
      }
    },
    {
      "cell_type": "code",
      "source": [
        "de_model.similar_by_word(\"arzt\")[0:5]\n"
      ],
      "metadata": {
        "colab": {
          "base_uri": "https://localhost:8080/"
        },
        "id": "WbJ6nO-Vebp6",
        "outputId": "ea684405-b21f-4373-ec2b-bd1b68d30120"
      },
      "execution_count": null,
      "outputs": [
        {
          "output_type": "execute_result",
          "data": {
            "text/plain": [
              "[('hausarzt', 0.8440093994140625),\n",
              " ('artzt', 0.8014777302742004),\n",
              " ('arzt.', 0.7992661595344543),\n",
              " ('kinderarzt', 0.7868670225143433),\n",
              " ('frauenarzt', 0.7781710624694824)]"
            ]
          },
          "metadata": {},
          "execution_count": 44
        }
      ]
    },
    {
      "cell_type": "markdown",
      "source": [
        "Another astonishing quality of the embeddings is that vector calculations represent semantic relationships. Let's try this out:"
      ],
      "metadata": {
        "id": "CgVfXiUO1FAu"
      }
    },
    {
      "cell_type": "code",
      "source": [
        "# get vectors for the words\n",
        "woman = de_model.get_vector(\"frau\")\n",
        "doctor = de_model.get_vector(\"arzt\")\n",
        "# calculate and get closest match for resulting vector\n",
        "de_model.similar_by_vector(doctor + woman)"
      ],
      "metadata": {
        "colab": {
          "base_uri": "https://localhost:8080/"
        },
        "id": "3NOzVNNDeofL",
        "outputId": "215995b5-b4e8-4172-c3ca-65b1706b48cc"
      },
      "execution_count": null,
      "outputs": [
        {
          "output_type": "execute_result",
          "data": {
            "text/plain": [
              "[('arzt', 0.8891544938087463),\n",
              " ('frau', 0.7991741895675659),\n",
              " ('frauenarzt', 0.7820956707000732),\n",
              " ('hausarzt', 0.7763659954071045),\n",
              " ('ärztin', 0.7679202556610107),\n",
              " ('frauenärztin', 0.7507506608963013),\n",
              " ('arzthelferin', 0.7356253862380981),\n",
              " ('kinderärztin', 0.7130227088928223),\n",
              " ('hausärztin', 0.7106521129608154),\n",
              " ('kinderarzt', 0.7027797698974609)]"
            ]
          },
          "metadata": {},
          "execution_count": 45
        }
      ]
    },
    {
      "cell_type": "markdown",
      "source": [
        "Wee add the vector of woman to the vector of doctor. Then, we look for words whose vector is close to the resulting vector. Remarkably, amongst the results we find \"ärztin\" (female doctor) and \"frauenarzt\" (gynaecologist)!  \n"
      ],
      "metadata": {
        "id": "daqPB_6W1Kxc"
      }
    },
    {
      "cell_type": "markdown",
      "source": [
        "#### Preparing the embeddings\n",
        "\n",
        "Now, let's see if these properties will help out with our model performance. To get started, we need to assign the correct vector to each of the unique tokens in our comment texts:"
      ],
      "metadata": {
        "id": "4tpi_1mV1Pl-"
      }
    },
    {
      "cell_type": "code",
      "source": [
        "EMBED_DIM =300\n",
        "# Create embedding matrix\n",
        "print(\"preparing embedding matrix...\")\n",
        "words_not_found = []\n",
        "# all words from the comments\n",
        "word_index = tokenizer.word_index\n",
        "# max unique words to keep\n",
        "nb_words = min(MAX_FEATURES, len(word_index))\n",
        "# define matrix dimensions\n",
        "embedding_matrix = np.zeros((nb_words, EMBED_DIM))\n",
        "for word, i in word_index.items():\n",
        "    if i >= nb_words:\n",
        "        continue\n",
        "    try:\n",
        "        embedding_vector = de_model.get_vector(word)\n",
        "    except KeyError:\n",
        "        embedding_vector = None\n",
        "    if (embedding_vector is not None) and len(embedding_vector) > 0:\n",
        "        # words not found in embedding index will be all-zeros.\n",
        "        embedding_matrix[i] = embedding_vector\n",
        "    else:\n",
        "        words_not_found.append(word)\n",
        "print(f\"Null word embeddings: {np.sum(np.sum(embedding_matrix, axis=1) == 0)}\")\n",
        "print(\n",
        "    f\"Some of the words not found:\\n\"\n",
        "    f\"{' '.join([random.choice(words_not_found) for x in range(0,10)])}\"\n",
        ")"
      ],
      "metadata": {
        "colab": {
          "base_uri": "https://localhost:8080/"
        },
        "id": "EGoKRQzMesqP",
        "outputId": "02727329-2c52-42f4-b12f-e4661fa95f00"
      },
      "execution_count": null,
      "outputs": [
        {
          "output_type": "stream",
          "name": "stdout",
          "text": [
            "preparing embedding matrix...\n",
            "Null word embeddings: 8461\n",
            "Some of the words not found:\n",
            "wellingsbuttel fursorg troeb heuschnupfenallergi kompetetenz gehub kampnagelfabr wirtschaftsunternehm auswahlbar sepsisgefahr\n"
          ]
        }
      ]
    },
    {
      "cell_type": "markdown",
      "source": [
        "While the FastText embeddings include a lot of words, some of the words in our comments are still missing. However, its only a small fraction and you can see that those are mostly surnames or very special medical terms. Hence, we can ignore this for now. We can now use this embedding matrix in our neural network. We use it to specify the weights of the embedding layer:"
      ],
      "metadata": {
        "id": "SDOlX_Ds1Vdt"
      }
    },
    {
      "cell_type": "code",
      "source": [
        "MAX_FEATURES=15394\n",
        "# Define NN architecture\n",
        "with strategy.scope():\n",
        "    model = Sequential()\n",
        "    model.add(\n",
        "        Embedding(\n",
        "            input_dim=MAX_FEATURES,\n",
        "            output_dim=EMBED_DIM,\n",
        "            input_length=MAXLEN,\n",
        "            weights=[embedding_matrix],\n",
        "            trainable=False,\n",
        "        )\n",
        "    )\n",
        "    model.add(Dropout(0.3))\n",
        "    model.add(\n",
        "        Conv1D(FILTERS, KERNEL_SIZE, padding=\"valid\", activation=\"relu\", strides=1)\n",
        "    )\n",
        "    model.add(MaxPooling1D(pool_size=POOL_SIZE))\n",
        "    model.add(LSTM(LSTM_OUTPUT_SIZE))\n",
        "    model.add(Dense(1, activation=\"sigmoid\"))\n",
        "    model.compile(\n",
        "        loss=\"binary_crossentropy\",\n",
        "        optimizer=tf.keras.optimizers.RMSprop(),\n",
        "        metrics=[\"accuracy\"],\n",
        "    )"
      ],
      "metadata": {
        "id": "TE-t_jg6YSuK"
      },
      "execution_count": null,
      "outputs": []
    },
    {
      "cell_type": "code",
      "source": [
        "model.summary()\n"
      ],
      "metadata": {
        "colab": {
          "base_uri": "https://localhost:8080/"
        },
        "id": "xaYSJaq8Yh-C",
        "outputId": "c2b1866d-953e-483b-9a97-404c56a9ec43"
      },
      "execution_count": null,
      "outputs": [
        {
          "output_type": "stream",
          "name": "stdout",
          "text": [
            "Model: \"sequential_2\"\n",
            "_________________________________________________________________\n",
            " Layer (type)                Output Shape              Param #   \n",
            "=================================================================\n",
            " embedding_2 (Embedding)     (None, 40, 300)           4618200   \n",
            "                                                                 \n",
            " dropout_1 (Dropout)         (None, 40, 300)           0         \n",
            "                                                                 \n",
            " conv1d_1 (Conv1D)           (None, 36, 64)            96064     \n",
            "                                                                 \n",
            " max_pooling1d_1 (MaxPooling  (None, 9, 64)            0         \n",
            " 1D)                                                             \n",
            "                                                                 \n",
            " lstm_1 (LSTM)               (None, 100)               66000     \n",
            "                                                                 \n",
            " dense_1 (Dense)             (None, 1)                 101       \n",
            "                                                                 \n",
            "=================================================================\n",
            "Total params: 4,780,365\n",
            "Trainable params: 162,165\n",
            "Non-trainable params: 4,618,200\n",
            "_________________________________________________________________\n"
          ]
        }
      ]
    },
    {
      "cell_type": "markdown",
      "source": [
        "Because we specified the weights and set `trainable = False` for the embedding layer the model won't need to learn new embeddings but just use the ones we provided. Hence, the number of trainable parameters of the model is greatly reduced compared to our first model.  \n",
        "That was all we needed to change, so let's fit this new model:"
      ],
      "metadata": {
        "id": "mrbCJnug1eaq"
      }
    },
    {
      "cell_type": "code",
      "source": [
        "%%time\n",
        "# Stop training when validation acc starts dropping\n",
        "# Save checkpoint of model each period\n",
        "now = datetime.now().strftime(\"%Y-%m-%d_%H%M\")\n",
        "# Create callbacks\n",
        "callbacks = [\n",
        "    EarlyStopping(monitor=\"val_loss\", verbose=1, patience=2),\n",
        "    ModelCheckpoint(\n",
        "        PATH_CHECKPOINTS + now + \"_Model_FT-Embed_{epoch:02d}_{val_loss:.4f}.h5\",\n",
        "        monitor=\"val_loss\",\n",
        "        save_best_only=True,\n",
        "        verbose=1,\n",
        "    ),\n",
        "]\n",
        "\n",
        "# Fit the model\n",
        "steps_per_epoch = int(np.floor((len(X_train_vec) / BATCH_SIZE)))\n",
        "print(\n",
        "    f\"Model Params.\\nbatch_size: {BATCH_SIZE}\\nEpochs: {EPOCHS}\\n\"\n",
        "    f\"Step p. Epoch: {steps_per_epoch}\\n\"\n",
        ")\n",
        "\n",
        "hist = model.fit(\n",
        "    X_train_vec,\n",
        "    Y_train,\n",
        "    batch_size=BATCH_SIZE,\n",
        "    epochs=EPOCHS,\n",
        "    steps_per_epoch=steps_per_epoch,\n",
        "    callbacks=callbacks,\n",
        "    validation_data=(X_test_vec, Y_test),\n",
        ")"
      ],
      "metadata": {
        "colab": {
          "base_uri": "https://localhost:8080/"
        },
        "id": "WrN1_6GtXYSe",
        "outputId": "dc0abd96-1602-4090-99f4-cb22693280bb"
      },
      "execution_count": null,
      "outputs": [
        {
          "output_type": "stream",
          "name": "stdout",
          "text": [
            "Model Params.\n",
            "batch_size: 32\n",
            "Epochs: 10\n",
            "Step p. Epoch: 468\n",
            "\n",
            "Epoch 1/10\n",
            "464/468 [============================>.] - ETA: 0s - loss: 0.4497 - accuracy: 0.7893\n",
            "Epoch 1: val_loss improved from inf to 0.37332, saving model to /contentmodels/checkpoints/2023-03-26_1926_Model_FT-Embed_01_0.3733.h5\n",
            "468/468 [==============================] - 13s 14ms/step - loss: 0.4496 - accuracy: 0.7896 - val_loss: 0.3733 - val_accuracy: 0.8346\n",
            "Epoch 2/10\n",
            "467/468 [============================>.] - ETA: 0s - loss: 0.3546 - accuracy: 0.8509\n",
            "Epoch 2: val_loss improved from 0.37332 to 0.35979, saving model to /contentmodels/checkpoints/2023-03-26_1926_Model_FT-Embed_02_0.3598.h5\n",
            "468/468 [==============================] - 3s 7ms/step - loss: 0.3545 - accuracy: 0.8511 - val_loss: 0.3598 - val_accuracy: 0.8464\n",
            "Epoch 3/10\n",
            "464/468 [============================>.] - ETA: 0s - loss: 0.3264 - accuracy: 0.8647\n",
            "Epoch 3: val_loss improved from 0.35979 to 0.35547, saving model to /contentmodels/checkpoints/2023-03-26_1926_Model_FT-Embed_03_0.3555.h5\n",
            "468/468 [==============================] - 4s 8ms/step - loss: 0.3267 - accuracy: 0.8647 - val_loss: 0.3555 - val_accuracy: 0.8446\n",
            "Epoch 4/10\n",
            "468/468 [==============================] - ETA: 0s - loss: 0.3013 - accuracy: 0.8771\n",
            "Epoch 4: val_loss did not improve from 0.35547\n",
            "468/468 [==============================] - 4s 8ms/step - loss: 0.3013 - accuracy: 0.8771 - val_loss: 0.3634 - val_accuracy: 0.8548\n",
            "Epoch 5/10\n",
            "461/468 [============================>.] - ETA: 0s - loss: 0.2773 - accuracy: 0.8891\n",
            "Epoch 5: val_loss improved from 0.35547 to 0.33371, saving model to /contentmodels/checkpoints/2023-03-26_1926_Model_FT-Embed_05_0.3337.h5\n",
            "468/468 [==============================] - 3s 7ms/step - loss: 0.2774 - accuracy: 0.8892 - val_loss: 0.3337 - val_accuracy: 0.8606\n",
            "Epoch 6/10\n",
            "463/468 [============================>.] - ETA: 0s - loss: 0.2543 - accuracy: 0.8997\n",
            "Epoch 6: val_loss did not improve from 0.33371\n",
            "468/468 [==============================] - 4s 9ms/step - loss: 0.2543 - accuracy: 0.8996 - val_loss: 0.3536 - val_accuracy: 0.8496\n",
            "Epoch 7/10\n",
            "464/468 [============================>.] - ETA: 0s - loss: 0.2378 - accuracy: 0.9054\n",
            "Epoch 7: val_loss did not improve from 0.33371\n",
            "468/468 [==============================] - 5s 11ms/step - loss: 0.2381 - accuracy: 0.9053 - val_loss: 0.3369 - val_accuracy: 0.8562\n",
            "Epoch 7: early stopping\n",
            "CPU times: user 30.7 s, sys: 1.91 s, total: 32.6 s\n",
            "Wall time: 36.2 s\n"
          ]
        }
      ]
    },
    {
      "cell_type": "markdown",
      "source": [
        "We can now check the prediction results:"
      ],
      "metadata": {
        "id": "1HG1qu_d1pL6"
      }
    },
    {
      "cell_type": "code",
      "source": [
        "# Predict on test data\n",
        "pred = model.predict(X_test_vec)\n",
        "pred_class = (pred > 0.5).astype(int)\n",
        "pred_len = X_test_vec.shape[0]"
      ],
      "metadata": {
        "colab": {
          "base_uri": "https://localhost:8080/"
        },
        "id": "V5yLD8RBYrXi",
        "outputId": "e006099b-ab3b-4e8f-ae00-efc92fd8592e"
      },
      "execution_count": null,
      "outputs": [
        {
          "output_type": "stream",
          "name": "stdout",
          "text": [
            "157/157 [==============================] - 1s 3ms/step\n"
          ]
        }
      ]
    },
    {
      "cell_type": "code",
      "source": [
        "report = metrics.classification_report(Y_test, pred_class[0:pred_len])\n",
        "print(report)"
      ],
      "metadata": {
        "colab": {
          "base_uri": "https://localhost:8080/"
        },
        "id": "MF9uK4qXXNww",
        "outputId": "46a3a4e8-1c25-468a-bbb2-605d0223acaa"
      },
      "execution_count": null,
      "outputs": [
        {
          "output_type": "stream",
          "name": "stdout",
          "text": [
            "              precision    recall  f1-score   support\n",
            "\n",
            "           0       0.85      0.87      0.86      2492\n",
            "           1       0.86      0.85      0.86      2508\n",
            "\n",
            "    accuracy                           0.86      5000\n",
            "   macro avg       0.86      0.86      0.86      5000\n",
            "weighted avg       0.86      0.86      0.86      5000\n",
            "\n"
          ]
        }
      ]
    },
    {
      "cell_type": "markdown",
      "source": [
        "The resulting model performs significantly worse than the original LSTM neural network and other models."
      ],
      "metadata": {
        "id": "Hmkjtn8C1300"
      }
    },
    {
      "cell_type": "markdown",
      "source": [
        "Now we specified the weights and set `trainable = True` for the embedding layer the model will  learn new embeddings for our specific tasks."
      ],
      "metadata": {
        "id": "Ysp4hjo42qLN"
      }
    },
    {
      "cell_type": "code",
      "source": [
        "# Define NN architecture\n",
        "with strategy.scope():\n",
        "    model = Sequential()\n",
        "    model.add(\n",
        "        Embedding(\n",
        "            input_dim=MAX_FEATURES,\n",
        "            output_dim=EMBED_DIM,\n",
        "            input_length=MAXLEN,\n",
        "            weights=[embedding_matrix],\n",
        "            trainable=True,\n",
        "        )\n",
        "    )\n",
        "    model.add(Dropout(0.3))\n",
        "    model.add(\n",
        "        Conv1D(FILTERS, KERNEL_SIZE, padding=\"valid\", activation=\"relu\", strides=1)\n",
        "    )\n",
        "    model.add(MaxPooling1D(pool_size=POOL_SIZE))\n",
        "    model.add(LSTM(LSTM_OUTPUT_SIZE))\n",
        "    model.add(Dense(1, activation=\"sigmoid\"))\n",
        "    model.compile(\n",
        "        loss=\"binary_crossentropy\",\n",
        "        optimizer=tf.keras.optimizers.RMSprop(),\n",
        "        metrics=[\"accuracy\"],\n",
        "    )\n",
        "model.summary()"
      ],
      "metadata": {
        "colab": {
          "base_uri": "https://localhost:8080/"
        },
        "id": "xrCxc5MeY8Ei",
        "outputId": "070d2241-666c-4a7b-9e0f-accc49d7c9c2"
      },
      "execution_count": null,
      "outputs": [
        {
          "output_type": "stream",
          "name": "stdout",
          "text": [
            "Model: \"sequential_3\"\n",
            "_________________________________________________________________\n",
            " Layer (type)                Output Shape              Param #   \n",
            "=================================================================\n",
            " embedding_3 (Embedding)     (None, 40, 300)           4618200   \n",
            "                                                                 \n",
            " dropout_2 (Dropout)         (None, 40, 300)           0         \n",
            "                                                                 \n",
            " conv1d_2 (Conv1D)           (None, 36, 64)            96064     \n",
            "                                                                 \n",
            " max_pooling1d_2 (MaxPooling  (None, 9, 64)            0         \n",
            " 1D)                                                             \n",
            "                                                                 \n",
            " lstm_2 (LSTM)               (None, 100)               66000     \n",
            "                                                                 \n",
            " dense_2 (Dense)             (None, 1)                 101       \n",
            "                                                                 \n",
            "=================================================================\n",
            "Total params: 4,780,365\n",
            "Trainable params: 4,780,365\n",
            "Non-trainable params: 0\n",
            "_________________________________________________________________\n"
          ]
        }
      ]
    },
    {
      "cell_type": "code",
      "source": [
        "%%time\n",
        "# Stop training when validation acc starts dropping\n",
        "# Save checkpoint of model each period\n",
        "now = datetime.now().strftime(\"%Y-%m-%d_%H%M\")\n",
        "# Create callbacks\n",
        "callbacks = [\n",
        "    EarlyStopping(monitor=\"val_loss\", verbose=1, patience=2),\n",
        "    ModelCheckpoint(\n",
        "        PATH_CHECKPOINTS\n",
        "        + now\n",
        "        + \"_Model_FT-Embed-trainable_{epoch:02d}_{val_loss:.4f}.h5\",\n",
        "        monitor=\"val_loss\",\n",
        "        save_best_only=True,\n",
        "        verbose=1,\n",
        "    ),\n",
        "]\n",
        "\n",
        "# Fit the model\n",
        "steps_per_epoch = int(np.floor((len(X_train_vec) / BATCH_SIZE)))\n",
        "print(\n",
        "    f\"Model Params.\\nbatch_size: {BATCH_SIZE}\\nEpochs: {EPOCHS}\\n\"\n",
        "    f\"Step p. Epoch: {steps_per_epoch}\\n\"\n",
        ")\n",
        "\n",
        "hist = model.fit(\n",
        "    X_train_vec,\n",
        "    Y_train,\n",
        "    batch_size=BATCH_SIZE,\n",
        "    epochs=EPOCHS,\n",
        "    steps_per_epoch=steps_per_epoch,\n",
        "    callbacks=callbacks,\n",
        "    validation_data=(X_test_vec, Y_test),\n",
        ")"
      ],
      "metadata": {
        "colab": {
          "base_uri": "https://localhost:8080/"
        },
        "id": "JtxhDzCiY8x0",
        "outputId": "82aa7fe4-69bc-498c-e6db-26e9f1d89f46"
      },
      "execution_count": null,
      "outputs": [
        {
          "output_type": "stream",
          "name": "stdout",
          "text": [
            "Model Params.\n",
            "batch_size: 32\n",
            "Epochs: 10\n",
            "Step p. Epoch: 468\n",
            "\n",
            "Epoch 1/10\n",
            "464/468 [============================>.] - ETA: 0s - loss: 0.3491 - accuracy: 0.8421\n",
            "Epoch 1: val_loss improved from inf to 0.28931, saving model to /contentmodels/checkpoints/2023-03-26_1927_Model_FT-Embed-trainable_01_0.2893.h5\n",
            "468/468 [==============================] - 21s 38ms/step - loss: 0.3483 - accuracy: 0.8425 - val_loss: 0.2893 - val_accuracy: 0.8848\n",
            "Epoch 2/10\n",
            "465/468 [============================>.] - ETA: 0s - loss: 0.2311 - accuracy: 0.9146\n",
            "Epoch 2: val_loss improved from 0.28931 to 0.28124, saving model to /contentmodels/checkpoints/2023-03-26_1927_Model_FT-Embed-trainable_02_0.2812.h5\n",
            "468/468 [==============================] - 7s 14ms/step - loss: 0.2307 - accuracy: 0.9148 - val_loss: 0.2812 - val_accuracy: 0.8958\n",
            "Epoch 3/10\n",
            "467/468 [============================>.] - ETA: 0s - loss: 0.1880 - accuracy: 0.9315\n",
            "Epoch 3: val_loss improved from 0.28124 to 0.25930, saving model to /contentmodels/checkpoints/2023-03-26_1927_Model_FT-Embed-trainable_03_0.2593.h5\n",
            "468/468 [==============================] - 8s 18ms/step - loss: 0.1879 - accuracy: 0.9316 - val_loss: 0.2593 - val_accuracy: 0.9010\n",
            "Epoch 4/10\n",
            "468/468 [==============================] - ETA: 0s - loss: 0.1494 - accuracy: 0.9486\n",
            "Epoch 4: val_loss did not improve from 0.25930\n",
            "468/468 [==============================] - 9s 20ms/step - loss: 0.1494 - accuracy: 0.9486 - val_loss: 0.3123 - val_accuracy: 0.8938\n",
            "Epoch 5/10\n",
            "460/468 [============================>.] - ETA: 0s - loss: 0.1116 - accuracy: 0.9640\n",
            "Epoch 5: val_loss did not improve from 0.25930\n",
            "468/468 [==============================] - 4s 8ms/step - loss: 0.1116 - accuracy: 0.9637 - val_loss: 0.3097 - val_accuracy: 0.8966\n",
            "Epoch 5: early stopping\n",
            "CPU times: user 37.6 s, sys: 1.78 s, total: 39.4 s\n",
            "Wall time: 48.7 s\n"
          ]
        }
      ]
    },
    {
      "cell_type": "code",
      "source": [
        "# Predict on test data\n",
        "pred = model.predict(X_test_vec)\n",
        "pred_class = (pred > 0.5).astype(int)\n",
        "pred_len = X_test_vec.shape[0]\n",
        "# Show prediction metrics\n",
        "report = metrics.classification_report(Y_test, pred_class[0:pred_len])\n",
        "print(report)"
      ],
      "metadata": {
        "colab": {
          "base_uri": "https://localhost:8080/"
        },
        "id": "-DkZnLWiZK0O",
        "outputId": "25b81d88-29f1-4698-f712-0083c3c6d841"
      },
      "execution_count": null,
      "outputs": [
        {
          "output_type": "stream",
          "name": "stdout",
          "text": [
            "157/157 [==============================] - 1s 2ms/step\n",
            "              precision    recall  f1-score   support\n",
            "\n",
            "           0       0.92      0.87      0.89      2492\n",
            "           1       0.88      0.92      0.90      2508\n",
            "\n",
            "    accuracy                           0.90      5000\n",
            "   macro avg       0.90      0.90      0.90      5000\n",
            "weighted avg       0.90      0.90      0.90      5000\n",
            "\n"
          ]
        }
      ]
    },
    {
      "cell_type": "markdown",
      "source": [
        "This model performs way better than the previous one and the original LSTM in terms of f1-score. It has a macro f1-score of 0.90."
      ],
      "metadata": {
        "id": "s40_0s_q25R4"
      }
    },
    {
      "cell_type": "markdown",
      "source": [
        " ### Transformer-based models (Bert)"
      ],
      "metadata": {
        "id": "AtB_3Cog44tA"
      }
    },
    {
      "cell_type": "markdown",
      "source": [
        "BERT comes with its own Tokenizer. As with the model itself, we will use a pre trained version of the tokenizer. Here, we use a variant that has been specifically trained on German texts and made public. Hence, it already comes with a huge German vocabulary:"
      ],
      "metadata": {
        "id": "J4FlKjPF5HJ8"
      }
    },
    {
      "cell_type": "code",
      "source": [
        "!pip install transformers"
      ],
      "metadata": {
        "colab": {
          "base_uri": "https://localhost:8080/"
        },
        "id": "x6H0SHTqZnFh",
        "outputId": "fa86cd4b-29e9-4e2b-9d94-a8bd1d8bc46e"
      },
      "execution_count": null,
      "outputs": [
        {
          "output_type": "stream",
          "name": "stdout",
          "text": [
            "Looking in indexes: https://pypi.org/simple, https://us-python.pkg.dev/colab-wheels/public/simple/\n",
            "Collecting transformers\n",
            "  Downloading transformers-4.27.3-py3-none-any.whl (6.8 MB)\n",
            "\u001b[2K     \u001b[90m━━━━━━━━━━━━━━━━━━━━━━━━━━━━━━━━━━━━━━━━\u001b[0m \u001b[32m6.8/6.8 MB\u001b[0m \u001b[31m44.5 MB/s\u001b[0m eta \u001b[36m0:00:00\u001b[0m\n",
            "\u001b[?25hRequirement already satisfied: requests in /usr/local/lib/python3.9/dist-packages (from transformers) (2.27.1)\n",
            "Requirement already satisfied: pyyaml>=5.1 in /usr/local/lib/python3.9/dist-packages (from transformers) (6.0)\n",
            "Collecting tokenizers!=0.11.3,<0.14,>=0.11.1\n",
            "  Downloading tokenizers-0.13.2-cp39-cp39-manylinux_2_17_x86_64.manylinux2014_x86_64.whl (7.6 MB)\n",
            "\u001b[2K     \u001b[90m━━━━━━━━━━━━━━━━━━━━━━━━━━━━━━━━━━━━━━━━\u001b[0m \u001b[32m7.6/7.6 MB\u001b[0m \u001b[31m105.0 MB/s\u001b[0m eta \u001b[36m0:00:00\u001b[0m\n",
            "\u001b[?25hRequirement already satisfied: packaging>=20.0 in /usr/local/lib/python3.9/dist-packages (from transformers) (23.0)\n",
            "Requirement already satisfied: numpy>=1.17 in /usr/local/lib/python3.9/dist-packages (from transformers) (1.22.4)\n",
            "Requirement already satisfied: filelock in /usr/local/lib/python3.9/dist-packages (from transformers) (3.10.1)\n",
            "Requirement already satisfied: tqdm>=4.27 in /usr/local/lib/python3.9/dist-packages (from transformers) (4.65.0)\n",
            "Requirement already satisfied: regex!=2019.12.17 in /usr/local/lib/python3.9/dist-packages (from transformers) (2022.10.31)\n",
            "Collecting huggingface-hub<1.0,>=0.11.0\n",
            "  Downloading huggingface_hub-0.13.3-py3-none-any.whl (199 kB)\n",
            "\u001b[2K     \u001b[90m━━━━━━━━━━━━━━━━━━━━━━━━━━━━━━━━━━━━━━\u001b[0m \u001b[32m199.8/199.8 KB\u001b[0m \u001b[31m28.2 MB/s\u001b[0m eta \u001b[36m0:00:00\u001b[0m\n",
            "\u001b[?25hRequirement already satisfied: typing-extensions>=3.7.4.3 in /usr/local/lib/python3.9/dist-packages (from huggingface-hub<1.0,>=0.11.0->transformers) (4.5.0)\n",
            "Requirement already satisfied: certifi>=2017.4.17 in /usr/local/lib/python3.9/dist-packages (from requests->transformers) (2022.12.7)\n",
            "Requirement already satisfied: idna<4,>=2.5 in /usr/local/lib/python3.9/dist-packages (from requests->transformers) (3.4)\n",
            "Requirement already satisfied: charset-normalizer~=2.0.0 in /usr/local/lib/python3.9/dist-packages (from requests->transformers) (2.0.12)\n",
            "Requirement already satisfied: urllib3<1.27,>=1.21.1 in /usr/local/lib/python3.9/dist-packages (from requests->transformers) (1.26.15)\n",
            "Installing collected packages: tokenizers, huggingface-hub, transformers\n",
            "Successfully installed huggingface-hub-0.13.3 tokenizers-0.13.2 transformers-4.27.3\n"
          ]
        }
      ]
    },
    {
      "cell_type": "code",
      "source": [
        "# this will download and initialize the pre trained tokenizer\n",
        "from transformers import BertTokenizer, TFBertModel\n",
        "\n",
        "tokenizer = BertTokenizer.from_pretrained(\"bert-base-german-cased\")"
      ],
      "metadata": {
        "colab": {
          "base_uri": "https://localhost:8080/",
          "height": 113,
          "referenced_widgets": [
            "a8c33c9f41f84c9b9db53089a1dbac45",
            "8e4ca8c020f049c9986a09ed557ce1d7",
            "3199e725ab184db39e6356f4e7c74b8f",
            "ccb40fc05cc047c0bd2cc3e84470585c",
            "0034af26a324435bbb10c6641a8afb90",
            "d45a30858085492b81914ffcb1213cb3",
            "a88a3091cf1347ab92311e6e236c34e4",
            "8390b302255a4b58810563de63062fa7",
            "d60851b3ebb64b6e8af3e8abfb46b852",
            "ec0bf81d064d4ea3868b610c7ceb2321",
            "7ba153be72bb4af2be3d3d16efeb7e0e",
            "396ca804f2c940638edb0daa5f00301a",
            "7f5d0613a48f4d0e8caec612e1c52d0a",
            "a02ec2b25d294602b5229c13d0d0ac0c",
            "9f93c8d97251477eb970ac35c2116d93",
            "896086ca7f1e427190395355dc4cbf52",
            "8f47fff872e94e7a8418808a7ac7add2",
            "8acafe2457e44ba88e89e8c13d398744",
            "af4e03153c75450f8262c318caf651ff",
            "0de47d7df76e4c9e83276356e240bd0b",
            "a3030f303a6c47b1900015d49236fcbd",
            "784a548a2396419cba6b36fe9c4d7c7e",
            "cf802807354341c98f642f697b696dcf",
            "2d2366b154a34b23a1d50456f1f6004f",
            "b5edcd68d044449cb47de2e1d8f375d2",
            "286c59bce6c746d5836025be7a4f4cbe",
            "9cf3baa68b354ceaa6a002477a835f37",
            "702d1ecfe6204462af023941c00422a4",
            "32b4b2ae043d442db438b3fe3a7a76bb",
            "e435bf4a4d6144d2a52e80bf54373cb3",
            "894a595eb8b948ee8b70907593ccfd01",
            "f8890f8152fc42f18102cb8dd71868fc",
            "99fface0993341a1a52d261bd2e0374c"
          ]
        },
        "id": "SecaDYnTZj0b",
        "outputId": "400f7e90-e19a-44c2-eb49-ee4e4483e2ae"
      },
      "execution_count": null,
      "outputs": [
        {
          "output_type": "display_data",
          "data": {
            "text/plain": [
              "Downloading (…)solve/main/vocab.txt:   0%|          | 0.00/255k [00:00<?, ?B/s]"
            ],
            "application/vnd.jupyter.widget-view+json": {
              "version_major": 2,
              "version_minor": 0,
              "model_id": "a8c33c9f41f84c9b9db53089a1dbac45"
            }
          },
          "metadata": {}
        },
        {
          "output_type": "display_data",
          "data": {
            "text/plain": [
              "Downloading (…)okenizer_config.json:   0%|          | 0.00/29.0 [00:00<?, ?B/s]"
            ],
            "application/vnd.jupyter.widget-view+json": {
              "version_major": 2,
              "version_minor": 0,
              "model_id": "396ca804f2c940638edb0daa5f00301a"
            }
          },
          "metadata": {}
        },
        {
          "output_type": "display_data",
          "data": {
            "text/plain": [
              "Downloading (…)lve/main/config.json:   0%|          | 0.00/433 [00:00<?, ?B/s]"
            ],
            "application/vnd.jupyter.widget-view+json": {
              "version_major": 2,
              "version_minor": 0,
              "model_id": "cf802807354341c98f642f697b696dcf"
            }
          },
          "metadata": {}
        }
      ]
    },
    {
      "cell_type": "markdown",
      "source": [
        "The inputs expected by BERT are very similar to the ones we've used before: they are just vectors containing integers which can be mapped to tokens by using a dictionary. The only difference is that BERT expects several \"special\" tokens. `[CLS]` stands for classification and marks the beginning of a new input to be classified. `[SEP]` marks the separation between sentences. Finally, `[PAD]` is used as a placeholder in order to pad all vectors to the same fixed length. The helper method `encode_plus` of the `Tokenizer` object deals with creating the numeric vectors while taking care of the extra tokens: "
      ],
      "metadata": {
        "id": "qx7rH_lI5ROs"
      }
    },
    {
      "cell_type": "code",
      "source": [
        "MAXLEN = 192\n",
        "\n",
        "def preprocess_text(data):\n",
        "    \"\"\" take texts and prepare as input features for BERT \n",
        "    \"\"\"\n",
        "    input_ids = []\n",
        "    # For every sentence...\n",
        "    for comment in data:\n",
        "        encoded_sent = tokenizer.encode_plus(\n",
        "            text=comment,\n",
        "            add_special_tokens=True,  # Add `[CLS]` and `[SEP]`\n",
        "            max_length=MAXLEN,  # Max length to truncate/pad\n",
        "            pad_to_max_length=True,  # Pad sentence to max length\n",
        "            return_attention_mask=False,  # attention mask not needed for our task\n",
        "        )\n",
        "        # Add the outputs to the lists\n",
        "        input_ids.append(encoded_sent.get(\"input_ids\"))\n",
        "    return input_ids"
      ],
      "metadata": {
        "id": "tfkNDTJfa5ZB"
      },
      "execution_count": null,
      "outputs": []
    },
    {
      "cell_type": "markdown",
      "source": [
        "Before creating our features, let's check out the workings of the tokenizer with an example:"
      ],
      "metadata": {
        "id": "6u4aaVVF5he-"
      }
    },
    {
      "cell_type": "code",
      "source": [
        "# Original Comment and encoding outputs\n",
        "comment = [\"Ich liebe data-dive.com und meine Katze.\"]\n",
        "input_ids = preprocess_text(comment)\n",
        "print(\"Comment: \", comment)\n",
        "print(\"Tokenized Comment: \", tokenizer.convert_ids_to_tokens(input_ids[0])[0:20])\n",
        "print(\"Token IDs: \", input_ids[0][0:20])"
      ],
      "metadata": {
        "colab": {
          "base_uri": "https://localhost:8080/"
        },
        "id": "CDYdk-cBbEDI",
        "outputId": "27778826-3ffd-4e4f-a09b-8349fead3f9d"
      },
      "execution_count": null,
      "outputs": [
        {
          "output_type": "stream",
          "name": "stderr",
          "text": [
            "Truncation was not explicitly activated but `max_length` is provided a specific value, please use `truncation=True` to explicitly truncate examples to max length. Defaulting to 'longest_first' truncation strategy. If you encode pairs of sequences (GLUE-style) with the tokenizer you can select this strategy more precisely by providing a specific strategy to `truncation`.\n"
          ]
        },
        {
          "output_type": "stream",
          "name": "stdout",
          "text": [
            "Comment:  ['Ich liebe data-dive.com und meine Katze.']\n",
            "Tokenized Comment:  ['[CLS]', 'Ich', 'liebe', 'dat', '##a', '-', 'di', '##ve', '.', 'c', '##om', 'und', 'meine', 'Katze', '.', '[SEP]', '[PAD]', '[PAD]', '[PAD]', '[PAD]']\n",
            "Token IDs:  [3, 1671, 16619, 10453, 26903, 26935, 4616, 2304, 26914, 1350, 101, 42, 6667, 25285, 26914, 4, 0, 0, 0, 0]\n"
          ]
        }
      ]
    },
    {
      "cell_type": "code",
      "source": [
        "# Create binary grade, class 1-2 or 5-6  = good or bad\n",
        "df_transform[\"grade_bad\"] = 0\n",
        "df_transform.loc[df_transform[\"rating\"] == 'positive', \"grade_bad\"] = 1\n",
        "df_transform.loc[df_transform[\"rating\"] == 'negative', \"grade_bad\"] = 0"
      ],
      "metadata": {
        "id": "ifaXoyHEW-GH"
      },
      "execution_count": null,
      "outputs": []
    },
    {
      "cell_type": "code",
      "source": [
        "df_transform = pd.read_csv('/content/reviews.csv',  delimiter=';',encoding='utf-8')\n",
        "\n",
        "df_transform [\"input_id \"] = df_data[\"comment\"].map(\n",
        "    lambda x: preprocess_text(x) if isinstance(x, str) else x\n",
        ")\n",
        "df_transform.head(5)\n",
        "# input_ids = pickle.load(open(PATH_GDRIVE_TMP+\"/input_ids.pkl\", \"rb\"))"
      ],
      "metadata": {
        "colab": {
          "base_uri": "https://localhost:8080/",
          "height": 1000
        },
        "id": "eHNbHLQtUxlH",
        "outputId": "e9007a3f-c939-4c58-d3a1-4200b2072017"
      },
      "execution_count": null,
      "outputs": [
        {
          "output_type": "execute_result",
          "data": {
            "text/plain": [
              "     rating  \\\n",
              "0  positive   \n",
              "1  negative   \n",
              "2  negative   \n",
              "3  negative   \n",
              "4  negative   \n",
              "\n",
              "                                                                                                                                                                                                                                                                         comment  \\\n",
              "0                                                                                                  Ich liebe Herrn Dr. Scheeser er nimmt dich immer Zeit für seine Patienten und ist sehr geduldig. Auch seine Sprechstundenhilfe ist total lieb! Kann ich nur weiter empfehlen!   \n",
              "1                                                                                                     Die Behandlungen von Dr. Brede dauern im Schnitt ca. 5-7 Minuten. Beschwerden werden nach meiner Erfahrung nicht für ernst genommen. Seine Art ist unverbindlich und kühl.   \n",
              "2  Hilfe bei Zahnschmerzen. <br />\\r\\nNicht diesen Zahnarzt aufsuchen. Lediglich die Mitteilung sie waren 6 Jahre nicht bei uns und jetzt wollen sie uns besuchen. Trotz Hinweis, dass ich warten würde.<br />\\r\\nSchlechtester Service, den ich jemals beim Arzt erfahren habe.   \n",
              "3                                                                                                                                                                                                     Ich bin unzufrieden und kann Frau Dr. Frankenberger nicht weiterempfehlen.   \n",
              "4                                                                                                                                                                          Der arzt ist okay,aber es ist für mich offensichtlich,dass er seine arbeit nicht außerordentlich mag.   \n",
              "\n",
              "                                                                                                                                                                                                                                                                                                                                                                                                                                                                                                                                                                                                                                                                                                                                                                                                                                                                                                                                                                                                                                                                                                                                                                                                                                                                                                                                                                                                                                                                                                                                                                                                                                                                                                                                                                                                                                                                                                                                                                                                                                                                                                                                                                                                                                                                                                                                                                                                                                                                                                                                                                                                                                                                                                                                                                                                                                                                                                                                                                                                                                                                                                                                                                                                                                                                                                                                                                                                                                                                                                                                                                                                                                                                                                                                                                                                                                                                                                                                                                                                                                                                                                                                                                                                                                                                                                                                                                                                                                                                                                                                                                                                                                                                                                                                                                                                                                                                                                                                                                                                                                                                                                                                                                                                                                                                                                                                                                                                                                                                                                                                                                                                                                                                                                                                                                                                                                                                                                                                                                                                                                                                                                                                                                                                                                         input_id   \n",
              "0  [[3, 103, 4, 0, 0, 0, 0, 0, 0, 0, 0, 0, 0, 0, 0, 0, 0, 0, 0, 0, 0, 0, 0, 0, 0, 0, 0, 0, 0, 0, 0, 0, 0, 0, 0, 0, 0, 0, 0, 0, 0, 0, 0, 0, 0, 0, 0, 0, 0, 0, 0, 0, 0, 0, 0, 0, 0, 0, 0, 0, 0, 0, 0, 0, 0, 0, 0, 0, 0, 0, 0, 0, 0, 0, 0, 0, 0, 0, 0, 0, 0, 0, 0, 0, 0, 0, 0, 0, 0, 0, 0, 0, 0, 0, 0, 0, 0, 0, 0, 0, ...], [3, 1350, 4, 0, 0, 0, 0, 0, 0, 0, 0, 0, 0, 0, 0, 0, 0, 0, 0, 0, 0, 0, 0, 0, 0, 0, 0, 0, 0, 0, 0, 0, 0, 0, 0, 0, 0, 0, 0, 0, 0, 0, 0, 0, 0, 0, 0, 0, 0, 0, 0, 0, 0, 0, 0, 0, 0, 0, 0, 0, 0, 0, 0, 0, 0, 0, 0, 0, 0, 0, 0, 0, 0, 0, 0, 0, 0, 0, 0, 0, 0, 0, 0, 0, 0, 0, 0, 0, 0, 0, 0, 0, 0, 0, 0, 0, 0, 0, 0, 0, ...], [3, 70, 4, 0, 0, 0, 0, 0, 0, 0, 0, 0, 0, 0, 0, 0, 0, 0, 0, 0, 0, 0, 0, 0, 0, 0, 0, 0, 0, 0, 0, 0, 0, 0, 0, 0, 0, 0, 0, 0, 0, 0, 0, 0, 0, 0, 0, 0, 0, 0, 0, 0, 0, 0, 0, 0, 0, 0, 0, 0, 0, 0, 0, 0, 0, 0, 0, 0, 0, 0, 0, 0, 0, 0, 0, 0, 0, 0, 0, 0, 0, 0, 0, 0, 0, 0, 0, 0, 0, 0, 0, 0, 0, 0, 0, 0, 0, 0, 0, 0, ...], [3, 4, 0, 0, 0, 0, 0, 0, 0, 0, 0, 0, 0, 0, 0, 0, 0, 0, 0, 0, 0, 0, 0, 0, 0, 0, 0, 0, 0, 0, 0, 0, 0, 0, 0, 0, 0, 0, 0, 0, 0, 0, 0, 0, 0, 0, 0, 0, 0, 0, 0, 0, 0, 0, 0, 0, 0, 0, 0, 0, 0, 0, 0, 0, 0, 0, 0, 0, 0, 0, 0, 0, 0, 0, 0, 0, 0, 0, 0, 0, 0, 0, 0, 0, 0, 0, 0, 0, 0, 0, 0, 0, 0, 0, 0, 0, 0, 0, 0, 0, ...], [3, 180, 4, 0, 0, 0, 0, 0, 0, 0, 0, 0, 0, 0, 0, 0, 0, 0, 0, 0, 0, 0, 0, 0, 0, 0, 0, 0, 0, 0, 0, 0, 0, 0, 0, 0, 0, 0, 0, 0, 0, 0, 0, 0, 0, 0, 0, 0, 0, 0, 0, 0, 0, 0, 0, 0, 0, 0, 0, 0, 0, 0, 0, 0, 0, 0, 0, 0, 0, 0, 0, 0, 0, 0, 0, 0, 0, 0, 0, 0, 0, 0, 0, 0, 0, 0, 0, 0, 0, 0, 0, 0, 0, 0, 0, 0, 0, 0, 0, 0, ...], [3, 46, 4, 0, 0, 0, 0, 0, 0, 0, 0, 0, 0, 0, 0, 0, 0, 0, 0, 0, 0, 0, 0, 0, 0, 0, 0, 0, 0, 0, 0, 0, 0, 0, 0, 0, 0, 0, 0, 0, 0, 0, 0, 0, 0, 0, 0, 0, 0, 0, 0, 0, 0, 0, 0, 0, 0, 0, 0, 0, 0, 0, 0, 0, 0, 0, 0, 0, 0, 0, 0, 0, 0, 0, 0, 0, 0, 0, 0, 0, 0, 0, 0, 0, 0, 0, 0, 0, 0, 0, 0, 0, 0, 0, 0, 0, 0, 0, 0, 0, ...], [3, 454, 4, 0, 0, 0, 0, 0, 0, 0, 0, 0, 0, 0, 0, 0, 0, 0, 0, 0, 0, 0, 0, 0, 0, 0, 0, 0, 0, 0, 0, 0, 0, 0, 0, 0, 0, 0, 0, 0, 0, 0, 0, 0, 0, 0, 0, 0, 0, 0, 0, 0, 0, 0, 0, 0, 0, 0, 0, 0, 0, 0, 0, 0, 0, 0, 0, 0, 0, 0, 0, 0, 0, 0, 0, 0, 0, 0, 0, 0, 0, 0, 0, 0, 0, 0, 0, 0, 0, 0, 0, 0, 0, 0, 0, 0, 0, 0, 0, 0, ...], [3, 40, 4, 0, 0, 0, 0, 0, 0, 0, 0, 0, 0, 0, 0, 0, 0, 0, 0, 0, 0, 0, 0, 0, 0, 0, 0, 0, 0, 0, 0, 0, 0, 0, 0, 0, 0, 0, 0, 0, 0, 0, 0, 0, 0, 0, 0, 0, 0, 0, 0, 0, 0, 0, 0, 0, 0, 0, 0, 0, 0, 0, 0, 0, 0, 0, 0, 0, 0, 0, 0, 0, 0, 0, 0, 0, 0, 0, 0, 0, 0, 0, 0, 0, 0, 0, 0, 0, 0, 0, 0, 0, 0, 0, 0, 0, 0, 0, 0, 0, ...], [3, 454, 4, 0, 0, 0, 0, 0, 0, 0, 0, 0, 0, 0, 0, 0, 0, 0, 0, 0, 0, 0, 0, 0, 0, 0, 0, 0, 0, 0, 0, 0, 0, 0, 0, 0, 0, 0, 0, 0, 0, 0, 0, 0, 0, 0, 0, 0, 0, 0, 0, 0, 0, 0, 0, 0, 0, 0, 0, 0, 0, 0, 0, 0, 0, 0, 0, 0, 0, 0, 0, 0, 0, 0, 0, 0, 0, 0, 0, 0, 0, 0, 0, 0, 0, 0, 0, 0, 0, 0, 0, 0, 0, 0, 0, 0, 0, 0, 0, 0, ...], [3, 4, 0, 0, 0, 0, 0, 0, 0, 0, 0, 0, 0, 0, 0, 0, 0, 0, 0, 0, 0, 0, 0, 0, 0, 0, 0, 0, 0, 0, 0, 0, 0, 0, 0, 0, 0, 0, 0, 0, 0, 0, 0, 0, 0, 0, 0, 0, 0, 0, 0, 0, 0, 0, 0, 0, 0, 0, 0, 0, 0, 0, 0, 0, 0, 0, 0, 0, 0, 0, 0, 0, 0, 0, 0, 0, 0, 0, 0, 0, 0, 0, 0, 0, 0, 0, 0, 0, 0, 0, 0, 0, 0, 0, 0, 0, 0, 0, 0, 0, ...], [3, 84, 4, 0, 0, 0, 0, 0, 0, 0, 0, 0, 0, 0, 0, 0, 0, 0, 0, 0, 0, 0, 0, 0, 0, 0, 0, 0, 0, 0, 0, 0, 0, 0, 0, 0, 0, 0, 0, 0, 0, 0, 0, 0, 0, 0, 0, 0, 0, 0, 0, 0, 0, 0, 0, 0, 0, 0, 0, 0, 0, 0, 0, 0, 0, 0, 0, 0, 0, 0, 0, 0, 0, 0, 0, 0, 0, 0, 0, 0, 0, 0, 0, 0, 0, 0, 0, 0, 0, 0, 0, 0, 0, 0, 0, 0, 0, 0, 0, 0, ...], [3, 454, 4, 0, 0, 0, 0, 0, 0, 0, 0, 0, 0, 0, 0, 0, 0, 0, 0, 0, 0, 0, 0, 0, 0, 0, 0, 0, 0, 0, 0, 0, 0, 0, 0, 0, 0, 0, 0, 0, 0, 0, 0, 0, 0, 0, 0, 0, 0, 0, 0, 0, 0, 0, 0, 0, 0, 0, 0, 0, 0, 0, 0, 0, 0, 0, 0, 0, 0, 0, 0, 0, 0, 0, 0, 0, 0, 0, 0, 0, 0, 0, 0, 0, 0, 0, 0, 0, 0, 0, 0, 0, 0, 0, 0, 0, 0, 0, 0, 0, ...], [3, 496, 4, 0, 0, 0, 0, 0, 0, 0, 0, 0, 0, 0, 0, 0, 0, 0, 0, 0, 0, 0, 0, 0, 0, 0, 0, 0, 0, 0, 0, 0, 0, 0, 0, 0, 0, 0, 0, 0, 0, 0, 0, 0, 0, 0, 0, 0, 0, 0, 0, 0, 0, 0, 0, 0, 0, 0, 0, 0, 0, 0, 0, 0, 0, 0, 0, 0, 0, 0, 0, 0, 0, 0, 0, 0, 0, 0, 0, 0, 0, 0, 0, 0, 0, 0, 0, 0, 0, 0, 0, 0, 0, 0, 0, 0, 0, 0, 0, 0, ...], [3, 496, 4, 0, 0, 0, 0, 0, 0, 0, 0, 0, 0, 0, 0, 0, 0, 0, 0, 0, 0, 0, 0, 0, 0, 0, 0, 0, 0, 0, 0, 0, 0, 0, 0, 0, 0, 0, 0, 0, 0, 0, 0, 0, 0, 0, 0, 0, 0, 0, 0, 0, 0, 0, 0, 0, 0, 0, 0, 0, 0, 0, 0, 0, 0, 0, 0, 0, 0, 0, 0, 0, 0, 0, 0, 0, 0, 0, 0, 0, 0, 0, 0, 0, 0, 0, 0, 0, 0, 0, 0, 0, 0, 0, 0, 0, 0, 0, 0, 0, ...], [3, 53, 4, 0, 0, 0, 0, 0, 0, 0, 0, 0, 0, 0, 0, 0, 0, 0, 0, 0, 0, 0, 0, 0, 0, 0, 0, 0, 0, 0, 0, 0, 0, 0, 0, 0, 0, 0, 0, 0, 0, 0, 0, 0, 0, 0, 0, 0, 0, 0, 0, 0, 0, 0, 0, 0, 0, 0, 0, 0, 0, 0, 0, 0, 0, 0, 0, 0, 0, 0, 0, 0, 0, 0, 0, 0, 0, 0, 0, 0, 0, 0, 0, 0, 0, 0, 0, 0, 0, 0, 0, 0, 0, 0, 0, 0, 0, 0, 0, 0, ...], [3, 4, 0, 0, 0, 0, 0, 0, 0, 0, 0, 0, 0, 0, 0, 0, 0, 0, 0, 0, 0, 0, 0, 0, 0, 0, 0, 0, 0, 0, 0, 0, 0, 0, 0, 0, 0, 0, 0, 0, 0, 0, 0, 0, 0, 0, 0, 0, 0, 0, 0, 0, 0, 0, 0, 0, 0, 0, 0, 0, 0, 0, 0, 0, 0, 0, 0, 0, 0, 0, 0, 0, 0, 0, 0, 0, 0, 0, 0, 0, 0, 0, 0, 0, 0, 0, 0, 0, 0, 0, 0, 0, 0, 0, 0, 0, 0, 0, 0, 0, ...], [3, 36, 4, 0, 0, 0, 0, 0, 0, 0, 0, 0, 0, 0, 0, 0, 0, 0, 0, 0, 0, 0, 0, 0, 0, 0, 0, 0, 0, 0, 0, 0, 0, 0, 0, 0, 0, 0, 0, 0, 0, 0, 0, 0, 0, 0, 0, 0, 0, 0, 0, 0, 0, 0, 0, 0, 0, 0, 0, 0, 0, 0, 0, 0, 0, 0, 0, 0, 0, 0, 0, 0, 0, 0, 0, 0, 0, 0, 0, 0, 0, 0, 0, 0, 0, 0, 0, 0, 0, 0, 0, 0, 0, 0, 0, 0, 0, 0, 0, 0, ...], [3, 496, 4, 0, 0, 0, 0, 0, 0, 0, 0, 0, 0, 0, 0, 0, 0, 0, 0, 0, 0, 0, 0, 0, 0, 0, 0, 0, 0, 0, 0, 0, 0, 0, 0, 0, 0, 0, 0, 0, 0, 0, 0, 0, 0, 0, 0, 0, 0, 0, 0, 0, 0, 0, 0, 0, 0, 0, 0, 0, 0, 0, 0, 0, 0, 0, 0, 0, 0, 0, 0, 0, 0, 0, 0, 0, 0, 0, 0, 0, 0, 0, 0, 0, 0, 0, 0, 0, 0, 0, 0, 0, 0, 0, 0, 0, 0, 0, 0, 0, ...], [3, 26914, 4, 0, 0, 0, 0, 0, 0, 0, 0, 0, 0, 0, 0, 0, 0, 0, 0, 0, 0, 0, 0, 0, 0, 0, 0, 0, 0, 0, 0, 0, 0, 0, 0, 0, 0, 0, 0, 0, 0, 0, 0, 0, 0, 0, 0, 0, 0, 0, 0, 0, 0, 0, 0, 0, 0, 0, 0, 0, 0, 0, 0, 0, 0, 0, 0, 0, 0, 0, 0, 0, 0, 0, 0, 0, 0, 0, 0, 0, 0, 0, 0, 0, 0, 0, 0, 0, 0, 0, 0, 0, 0, 0, 0, 0, 0, 0, 0, 0, ...], [3, 4, 0, 0, 0, 0, 0, 0, 0, 0, 0, 0, 0, 0, 0, 0, 0, 0, 0, 0, 0, 0, 0, 0, 0, 0, 0, 0, 0, 0, 0, 0, 0, 0, 0, 0, 0, 0, 0, 0, 0, 0, 0, 0, ...  \n",
              "1  [[3, 36, 4, 0, 0, 0, 0, 0, 0, 0, 0, 0, 0, 0, 0, 0, 0, 0, 0, 0, 0, 0, 0, 0, 0, 0, 0, 0, 0, 0, 0, 0, 0, 0, 0, 0, 0, 0, 0, 0, 0, 0, 0, 0, 0, 0, 0, 0, 0, 0, 0, 0, 0, 0, 0, 0, 0, 0, 0, 0, 0, 0, 0, 0, 0, 0, 0, 0, 0, 0, 0, 0, 0, 0, 0, 0, 0, 0, 0, 0, 0, 0, 0, 0, 0, 0, 0, 0, 0, 0, 0, 0, 0, 0, 0, 0, 0, 0, 0, 0, ...], [3, 46, 4, 0, 0, 0, 0, 0, 0, 0, 0, 0, 0, 0, 0, 0, 0, 0, 0, 0, 0, 0, 0, 0, 0, 0, 0, 0, 0, 0, 0, 0, 0, 0, 0, 0, 0, 0, 0, 0, 0, 0, 0, 0, 0, 0, 0, 0, 0, 0, 0, 0, 0, 0, 0, 0, 0, 0, 0, 0, 0, 0, 0, 0, 0, 0, 0, 0, 0, 0, 0, 0, 0, 0, 0, 0, 0, 0, 0, 0, 0, 0, 0, 0, 0, 0, 0, 0, 0, 0, 0, 0, 0, 0, 0, 0, 0, 0, 0, 0, ...], [3, 454, 4, 0, 0, 0, 0, 0, 0, 0, 0, 0, 0, 0, 0, 0, 0, 0, 0, 0, 0, 0, 0, 0, 0, 0, 0, 0, 0, 0, 0, 0, 0, 0, 0, 0, 0, 0, 0, 0, 0, 0, 0, 0, 0, 0, 0, 0, 0, 0, 0, 0, 0, 0, 0, 0, 0, 0, 0, 0, 0, 0, 0, 0, 0, 0, 0, 0, 0, 0, 0, 0, 0, 0, 0, 0, 0, 0, 0, 0, 0, 0, 0, 0, 0, 0, 0, 0, 0, 0, 0, 0, 0, 0, 0, 0, 0, 0, 0, 0, ...], [3, 4, 0, 0, 0, 0, 0, 0, 0, 0, 0, 0, 0, 0, 0, 0, 0, 0, 0, 0, 0, 0, 0, 0, 0, 0, 0, 0, 0, 0, 0, 0, 0, 0, 0, 0, 0, 0, 0, 0, 0, 0, 0, 0, 0, 0, 0, 0, 0, 0, 0, 0, 0, 0, 0, 0, 0, 0, 0, 0, 0, 0, 0, 0, 0, 0, 0, 0, 0, 0, 0, 0, 0, 0, 0, 0, 0, 0, 0, 0, 0, 0, 0, 0, 0, 0, 0, 0, 0, 0, 0, 0, 0, 0, 0, 0, 0, 0, 0, 0, ...], [3, 35, 4, 0, 0, 0, 0, 0, 0, 0, 0, 0, 0, 0, 0, 0, 0, 0, 0, 0, 0, 0, 0, 0, 0, 0, 0, 0, 0, 0, 0, 0, 0, 0, 0, 0, 0, 0, 0, 0, 0, 0, 0, 0, 0, 0, 0, 0, 0, 0, 0, 0, 0, 0, 0, 0, 0, 0, 0, 0, 0, 0, 0, 0, 0, 0, 0, 0, 0, 0, 0, 0, 0, 0, 0, 0, 0, 0, 0, 0, 0, 0, 0, 0, 0, 0, 0, 0, 0, 0, 0, 0, 0, 0, 0, 0, 0, 0, 0, 0, ...], [3, 454, 4, 0, 0, 0, 0, 0, 0, 0, 0, 0, 0, 0, 0, 0, 0, 0, 0, 0, 0, 0, 0, 0, 0, 0, 0, 0, 0, 0, 0, 0, 0, 0, 0, 0, 0, 0, 0, 0, 0, 0, 0, 0, 0, 0, 0, 0, 0, 0, 0, 0, 0, 0, 0, 0, 0, 0, 0, 0, 0, 0, 0, 0, 0, 0, 0, 0, 0, 0, 0, 0, 0, 0, 0, 0, 0, 0, 0, 0, 0, 0, 0, 0, 0, 0, 0, 0, 0, 0, 0, 0, 0, 0, 0, 0, 0, 0, 0, 0, ...], [3, 70, 4, 0, 0, 0, 0, 0, 0, 0, 0, 0, 0, 0, 0, 0, 0, 0, 0, 0, 0, 0, 0, 0, 0, 0, 0, 0, 0, 0, 0, 0, 0, 0, 0, 0, 0, 0, 0, 0, 0, 0, 0, 0, 0, 0, 0, 0, 0, 0, 0, 0, 0, 0, 0, 0, 0, 0, 0, 0, 0, 0, 0, 0, 0, 0, 0, 0, 0, 0, 0, 0, 0, 0, 0, 0, 0, 0, 0, 0, 0, 0, 0, 0, 0, 0, 0, 0, 0, 0, 0, 0, 0, 0, 0, 0, 0, 0, 0, 0, ...], [3, 18, 4, 0, 0, 0, 0, 0, 0, 0, 0, 0, 0, 0, 0, 0, 0, 0, 0, 0, 0, 0, 0, 0, 0, 0, 0, 0, 0, 0, 0, 0, 0, 0, 0, 0, 0, 0, 0, 0, 0, 0, 0, 0, 0, 0, 0, 0, 0, 0, 0, 0, 0, 0, 0, 0, 0, 0, 0, 0, 0, 0, 0, 0, 0, 0, 0, 0, 0, 0, 0, 0, 0, 0, 0, 0, 0, 0, 0, 0, 0, 0, 0, 0, 0, 0, 0, 0, 0, 0, 0, 0, 0, 0, 0, 0, 0, 0, 0, 0, ...], [3, 53, 4, 0, 0, 0, 0, 0, 0, 0, 0, 0, 0, 0, 0, 0, 0, 0, 0, 0, 0, 0, 0, 0, 0, 0, 0, 0, 0, 0, 0, 0, 0, 0, 0, 0, 0, 0, 0, 0, 0, 0, 0, 0, 0, 0, 0, 0, 0, 0, 0, 0, 0, 0, 0, 0, 0, 0, 0, 0, 0, 0, 0, 0, 0, 0, 0, 0, 0, 0, 0, 0, 0, 0, 0, 0, 0, 0, 0, 0, 0, 0, 0, 0, 0, 0, 0, 0, 0, 0, 0, 0, 0, 0, 0, 0, 0, 0, 0, 0, ...], [3, 9, 4, 0, 0, 0, 0, 0, 0, 0, 0, 0, 0, 0, 0, 0, 0, 0, 0, 0, 0, 0, 0, 0, 0, 0, 0, 0, 0, 0, 0, 0, 0, 0, 0, 0, 0, 0, 0, 0, 0, 0, 0, 0, 0, 0, 0, 0, 0, 0, 0, 0, 0, 0, 0, 0, 0, 0, 0, 0, 0, 0, 0, 0, 0, 0, 0, 0, 0, 0, 0, 0, 0, 0, 0, 0, 0, 0, 0, 0, 0, 0, 0, 0, 0, 0, 0, 0, 0, 0, 0, 0, 0, 0, 0, 0, 0, 0, 0, 0, ...], [3, 180, 4, 0, 0, 0, 0, 0, 0, 0, 0, 0, 0, 0, 0, 0, 0, 0, 0, 0, 0, 0, 0, 0, 0, 0, 0, 0, 0, 0, 0, 0, 0, 0, 0, 0, 0, 0, 0, 0, 0, 0, 0, 0, 0, 0, 0, 0, 0, 0, 0, 0, 0, 0, 0, 0, 0, 0, 0, 0, 0, 0, 0, 0, 0, 0, 0, 0, 0, 0, 0, 0, 0, 0, 0, 0, 0, 0, 0, 0, 0, 0, 0, 0, 0, 0, 0, 0, 0, 0, 0, 0, 0, 0, 0, 0, 0, 0, 0, 0, ...], [3, 2118, 4, 0, 0, 0, 0, 0, 0, 0, 0, 0, 0, 0, 0, 0, 0, 0, 0, 0, 0, 0, 0, 0, 0, 0, 0, 0, 0, 0, 0, 0, 0, 0, 0, 0, 0, 0, 0, 0, 0, 0, 0, 0, 0, 0, 0, 0, 0, 0, 0, 0, 0, 0, 0, 0, 0, 0, 0, 0, 0, 0, 0, 0, 0, 0, 0, 0, 0, 0, 0, 0, 0, 0, 0, 0, 0, 0, 0, 0, 0, 0, 0, 0, 0, 0, 0, 0, 0, 0, 0, 0, 0, 0, 0, 0, 0, 0, 0, 0, ...], [3, 53, 4, 0, 0, 0, 0, 0, 0, 0, 0, 0, 0, 0, 0, 0, 0, 0, 0, 0, 0, 0, 0, 0, 0, 0, 0, 0, 0, 0, 0, 0, 0, 0, 0, 0, 0, 0, 0, 0, 0, 0, 0, 0, 0, 0, 0, 0, 0, 0, 0, 0, 0, 0, 0, 0, 0, 0, 0, 0, 0, 0, 0, 0, 0, 0, 0, 0, 0, 0, 0, 0, 0, 0, 0, 0, 0, 0, 0, 0, 0, 0, 0, 0, 0, 0, 0, 0, 0, 0, 0, 0, 0, 0, 0, 0, 0, 0, 0, 0, ...], [3, 111, 4, 0, 0, 0, 0, 0, 0, 0, 0, 0, 0, 0, 0, 0, 0, 0, 0, 0, 0, 0, 0, 0, 0, 0, 0, 0, 0, 0, 0, 0, 0, 0, 0, 0, 0, 0, 0, 0, 0, 0, 0, 0, 0, 0, 0, 0, 0, 0, 0, 0, 0, 0, 0, 0, 0, 0, 0, 0, 0, 0, 0, 0, 0, 0, 0, 0, 0, 0, 0, 0, 0, 0, 0, 0, 0, 0, 0, 0, 0, 0, 0, 0, 0, 0, 0, 0, 0, 0, 0, 0, 0, 0, 0, 0, 0, 0, 0, 0, ...], [3, 454, 4, 0, 0, 0, 0, 0, 0, 0, 0, 0, 0, 0, 0, 0, 0, 0, 0, 0, 0, 0, 0, 0, 0, 0, 0, 0, 0, 0, 0, 0, 0, 0, 0, 0, 0, 0, 0, 0, 0, 0, 0, 0, 0, 0, 0, 0, 0, 0, 0, 0, 0, 0, 0, 0, 0, 0, 0, 0, 0, 0, 0, 0, 0, 0, 0, 0, 0, 0, 0, 0, 0, 0, 0, 0, 0, 0, 0, 0, 0, 0, 0, 0, 0, 0, 0, 0, 0, 0, 0, 0, 0, 0, 0, 0, 0, 0, 0, 0, ...], [3, 53, 4, 0, 0, 0, 0, 0, 0, 0, 0, 0, 0, 0, 0, 0, 0, 0, 0, 0, 0, 0, 0, 0, 0, 0, 0, 0, 0, 0, 0, 0, 0, 0, 0, 0, 0, 0, 0, 0, 0, 0, 0, 0, 0, 0, 0, 0, 0, 0, 0, 0, 0, 0, 0, 0, 0, 0, 0, 0, 0, 0, 0, 0, 0, 0, 0, 0, 0, 0, 0, 0, 0, 0, 0, 0, 0, 0, 0, 0, 0, 0, 0, 0, 0, 0, 0, 0, 0, 0, 0, 0, 0, 0, 0, 0, 0, 0, 0, 0, ...], [3, 4, 0, 0, 0, 0, 0, 0, 0, 0, 0, 0, 0, 0, 0, 0, 0, 0, 0, 0, 0, 0, 0, 0, 0, 0, 0, 0, 0, 0, 0, 0, 0, 0, 0, 0, 0, 0, 0, 0, 0, 0, 0, 0, 0, 0, 0, 0, 0, 0, 0, 0, 0, 0, 0, 0, 0, 0, 0, 0, 0, 0, 0, 0, 0, 0, 0, 0, 0, 0, 0, 0, 0, 0, 0, 0, 0, 0, 0, 0, 0, 0, 0, 0, 0, 0, 0, 0, 0, 0, 0, 0, 0, 0, 0, 0, 0, 0, 0, 0, ...], [3, 31, 4, 0, 0, 0, 0, 0, 0, 0, 0, 0, 0, 0, 0, 0, 0, 0, 0, 0, 0, 0, 0, 0, 0, 0, 0, 0, 0, 0, 0, 0, 0, 0, 0, 0, 0, 0, 0, 0, 0, 0, 0, 0, 0, 0, 0, 0, 0, 0, 0, 0, 0, 0, 0, 0, 0, 0, 0, 0, 0, 0, 0, 0, 0, 0, 0, 0, 0, 0, 0, 0, 0, 0, 0, 0, 0, 0, 0, 0, 0, 0, 0, 0, 0, 0, 0, 0, 0, 0, 0, 0, 0, 0, 0, 0, 0, 0, 0, 0, ...], [3, 170, 4, 0, 0, 0, 0, 0, 0, 0, 0, 0, 0, 0, 0, 0, 0, 0, 0, 0, 0, 0, 0, 0, 0, 0, 0, 0, 0, 0, 0, 0, 0, 0, 0, 0, 0, 0, 0, 0, 0, 0, 0, 0, 0, 0, 0, 0, 0, 0, 0, 0, 0, 0, 0, 0, 0, 0, 0, 0, 0, 0, 0, 0, 0, 0, 0, 0, 0, 0, 0, 0, 0, 0, 0, 0, 0, 0, 0, 0, 0, 0, 0, 0, 0, 0, 0, 0, 0, 0, 0, 0, 0, 0, 0, 0, 0, 0, 0, 0, ...], [3, 53, 4, 0, 0, 0, 0, 0, 0, 0, 0, 0, 0, 0, 0, 0, 0, 0, 0, 0, 0, 0, 0, 0, 0, 0, 0, 0, 0, 0, 0, 0, 0, 0, 0, 0, 0, 0, 0, 0, 0, 0, 0, 0, 0, 0...  \n",
              "2  [[3, 84, 4, 0, 0, 0, 0, 0, 0, 0, 0, 0, 0, 0, 0, 0, 0, 0, 0, 0, 0, 0, 0, 0, 0, 0, 0, 0, 0, 0, 0, 0, 0, 0, 0, 0, 0, 0, 0, 0, 0, 0, 0, 0, 0, 0, 0, 0, 0, 0, 0, 0, 0, 0, 0, 0, 0, 0, 0, 0, 0, 0, 0, 0, 0, 0, 0, 0, 0, 0, 0, 0, 0, 0, 0, 0, 0, 0, 0, 0, 0, 0, 0, 0, 0, 0, 0, 0, 0, 0, 0, 0, 0, 0, 0, 0, 0, 0, 0, 0, ...], [3, 46, 4, 0, 0, 0, 0, 0, 0, 0, 0, 0, 0, 0, 0, 0, 0, 0, 0, 0, 0, 0, 0, 0, 0, 0, 0, 0, 0, 0, 0, 0, 0, 0, 0, 0, 0, 0, 0, 0, 0, 0, 0, 0, 0, 0, 0, 0, 0, 0, 0, 0, 0, 0, 0, 0, 0, 0, 0, 0, 0, 0, 0, 0, 0, 0, 0, 0, 0, 0, 0, 0, 0, 0, 0, 0, 0, 0, 0, 0, 0, 0, 0, 0, 0, 0, 0, 0, 0, 0, 0, 0, 0, 0, 0, 0, 0, 0, 0, 0, ...], [3, 180, 4, 0, 0, 0, 0, 0, 0, 0, 0, 0, 0, 0, 0, 0, 0, 0, 0, 0, 0, 0, 0, 0, 0, 0, 0, 0, 0, 0, 0, 0, 0, 0, 0, 0, 0, 0, 0, 0, 0, 0, 0, 0, 0, 0, 0, 0, 0, 0, 0, 0, 0, 0, 0, 0, 0, 0, 0, 0, 0, 0, 0, 0, 0, 0, 0, 0, 0, 0, 0, 0, 0, 0, 0, 0, 0, 0, 0, 0, 0, 0, 0, 0, 0, 0, 0, 0, 0, 0, 0, 0, 0, 0, 0, 0, 0, 0, 0, 0, ...], [3, 69, 4, 0, 0, 0, 0, 0, 0, 0, 0, 0, 0, 0, 0, 0, 0, 0, 0, 0, 0, 0, 0, 0, 0, 0, 0, 0, 0, 0, 0, 0, 0, 0, 0, 0, 0, 0, 0, 0, 0, 0, 0, 0, 0, 0, 0, 0, 0, 0, 0, 0, 0, 0, 0, 0, 0, 0, 0, 0, 0, 0, 0, 0, 0, 0, 0, 0, 0, 0, 0, 0, 0, 0, 0, 0, 0, 0, 0, 0, 0, 0, 0, 0, 0, 0, 0, 0, 0, 0, 0, 0, 0, 0, 0, 0, 0, 0, 0, 0, ...], [3, 454, 4, 0, 0, 0, 0, 0, 0, 0, 0, 0, 0, 0, 0, 0, 0, 0, 0, 0, 0, 0, 0, 0, 0, 0, 0, 0, 0, 0, 0, 0, 0, 0, 0, 0, 0, 0, 0, 0, 0, 0, 0, 0, 0, 0, 0, 0, 0, 0, 0, 0, 0, 0, 0, 0, 0, 0, 0, 0, 0, 0, 0, 0, 0, 0, 0, 0, 0, 0, 0, 0, 0, 0, 0, 0, 0, 0, 0, 0, 0, 0, 0, 0, 0, 0, 0, 0, 0, 0, 0, 0, 0, 0, 0, 0, 0, 0, 0, 0, ...], [3, 4, 0, 0, 0, 0, 0, 0, 0, 0, 0, 0, 0, 0, 0, 0, 0, 0, 0, 0, 0, 0, 0, 0, 0, 0, 0, 0, 0, 0, 0, 0, 0, 0, 0, 0, 0, 0, 0, 0, 0, 0, 0, 0, 0, 0, 0, 0, 0, 0, 0, 0, 0, 0, 0, 0, 0, 0, 0, 0, 0, 0, 0, 0, 0, 0, 0, 0, 0, 0, 0, 0, 0, 0, 0, 0, 0, 0, 0, 0, 0, 0, 0, 0, 0, 0, 0, 0, 0, 0, 0, 0, 0, 0, 0, 0, 0, 0, 0, 0, ...], [3, 40, 4, 0, 0, 0, 0, 0, 0, 0, 0, 0, 0, 0, 0, 0, 0, 0, 0, 0, 0, 0, 0, 0, 0, 0, 0, 0, 0, 0, 0, 0, 0, 0, 0, 0, 0, 0, 0, 0, 0, 0, 0, 0, 0, 0, 0, 0, 0, 0, 0, 0, 0, 0, 0, 0, 0, 0, 0, 0, 0, 0, 0, 0, 0, 0, 0, 0, 0, 0, 0, 0, 0, 0, 0, 0, 0, 0, 0, 0, 0, 0, 0, 0, 0, 0, 0, 0, 0, 0, 0, 0, 0, 0, 0, 0, 0, 0, 0, 0, ...], [3, 454, 4, 0, 0, 0, 0, 0, 0, 0, 0, 0, 0, 0, 0, 0, 0, 0, 0, 0, 0, 0, 0, 0, 0, 0, 0, 0, 0, 0, 0, 0, 0, 0, 0, 0, 0, 0, 0, 0, 0, 0, 0, 0, 0, 0, 0, 0, 0, 0, 0, 0, 0, 0, 0, 0, 0, 0, 0, 0, 0, 0, 0, 0, 0, 0, 0, 0, 0, 0, 0, 0, 0, 0, 0, 0, 0, 0, 0, 0, 0, 0, 0, 0, 0, 0, 0, 0, 0, 0, 0, 0, 0, 0, 0, 0, 0, 0, 0, 0, ...], [3, 46, 4, 0, 0, 0, 0, 0, 0, 0, 0, 0, 0, 0, 0, 0, 0, 0, 0, 0, 0, 0, 0, 0, 0, 0, 0, 0, 0, 0, 0, 0, 0, 0, 0, 0, 0, 0, 0, 0, 0, 0, 0, 0, 0, 0, 0, 0, 0, 0, 0, 0, 0, 0, 0, 0, 0, 0, 0, 0, 0, 0, 0, 0, 0, 0, 0, 0, 0, 0, 0, 0, 0, 0, 0, 0, 0, 0, 0, 0, 0, 0, 0, 0, 0, 0, 0, 0, 0, 0, 0, 0, 0, 0, 0, 0, 0, 0, 0, 0, ...], [3, 4, 0, 0, 0, 0, 0, 0, 0, 0, 0, 0, 0, 0, 0, 0, 0, 0, 0, 0, 0, 0, 0, 0, 0, 0, 0, 0, 0, 0, 0, 0, 0, 0, 0, 0, 0, 0, 0, 0, 0, 0, 0, 0, 0, 0, 0, 0, 0, 0, 0, 0, 0, 0, 0, 0, 0, 0, 0, 0, 0, 0, 0, 0, 0, 0, 0, 0, 0, 0, 0, 0, 0, 0, 0, 0, 0, 0, 0, 0, 0, 0, 0, 0, 0, 0, 0, 0, 0, 0, 0, 0, 0, 0, 0, 0, 0, 0, 0, 0, ...], [3, 122, 4, 0, 0, 0, 0, 0, 0, 0, 0, 0, 0, 0, 0, 0, 0, 0, 0, 0, 0, 0, 0, 0, 0, 0, 0, 0, 0, 0, 0, 0, 0, 0, 0, 0, 0, 0, 0, 0, 0, 0, 0, 0, 0, 0, 0, 0, 0, 0, 0, 0, 0, 0, 0, 0, 0, 0, 0, 0, 0, 0, 0, 0, 0, 0, 0, 0, 0, 0, 0, 0, 0, 0, 0, 0, 0, 0, 0, 0, 0, 0, 0, 0, 0, 0, 0, 0, 0, 0, 0, 0, 0, 0, 0, 0, 0, 0, 0, 0, ...], [3, 18, 4, 0, 0, 0, 0, 0, 0, 0, 0, 0, 0, 0, 0, 0, 0, 0, 0, 0, 0, 0, 0, 0, 0, 0, 0, 0, 0, 0, 0, 0, 0, 0, 0, 0, 0, 0, 0, 0, 0, 0, 0, 0, 0, 0, 0, 0, 0, 0, 0, 0, 0, 0, 0, 0, 0, 0, 0, 0, 0, 0, 0, 0, 0, 0, 0, 0, 0, 0, 0, 0, 0, 0, 0, 0, 0, 0, 0, 0, 0, 0, 0, 0, 0, 0, 0, 0, 0, 0, 0, 0, 0, 0, 0, 0, 0, 0, 0, 0, ...], [3, 70, 4, 0, 0, 0, 0, 0, 0, 0, 0, 0, 0, 0, 0, 0, 0, 0, 0, 0, 0, 0, 0, 0, 0, 0, 0, 0, 0, 0, 0, 0, 0, 0, 0, 0, 0, 0, 0, 0, 0, 0, 0, 0, 0, 0, 0, 0, 0, 0, 0, 0, 0, 0, 0, 0, 0, 0, 0, 0, 0, 0, 0, 0, 0, 0, 0, 0, 0, 0, 0, 0, 0, 0, 0, 0, 0, 0, 0, 0, 0, 0, 0, 0, 0, 0, 0, 0, 0, 0, 0, 0, 0, 0, 0, 0, 0, 0, 0, 0, ...], [3, 53, 4, 0, 0, 0, 0, 0, 0, 0, 0, 0, 0, 0, 0, 0, 0, 0, 0, 0, 0, 0, 0, 0, 0, 0, 0, 0, 0, 0, 0, 0, 0, 0, 0, 0, 0, 0, 0, 0, 0, 0, 0, 0, 0, 0, 0, 0, 0, 0, 0, 0, 0, 0, 0, 0, 0, 0, 0, 0, 0, 0, 0, 0, 0, 0, 0, 0, 0, 0, 0, 0, 0, 0, 0, 0, 0, 0, 0, 0, 0, 0, 0, 0, 0, 0, 0, 0, 0, 0, 0, 0, 0, 0, 0, 0, 0, 0, 0, 0, ...], [3, 19, 4, 0, 0, 0, 0, 0, 0, 0, 0, 0, 0, 0, 0, 0, 0, 0, 0, 0, 0, 0, 0, 0, 0, 0, 0, 0, 0, 0, 0, 0, 0, 0, 0, 0, 0, 0, 0, 0, 0, 0, 0, 0, 0, 0, 0, 0, 0, 0, 0, 0, 0, 0, 0, 0, 0, 0, 0, 0, 0, 0, 0, 0, 0, 0, 0, 0, 0, 0, 0, 0, 0, 0, 0, 0, 0, 0, 0, 0, 0, 0, 0, 0, 0, 0, 0, 0, 0, 0, 0, 0, 0, 0, 0, 0, 0, 0, 0, 0, ...], [3, 1350, 4, 0, 0, 0, 0, 0, 0, 0, 0, 0, 0, 0, 0, 0, 0, 0, 0, 0, 0, 0, 0, 0, 0, 0, 0, 0, 0, 0, 0, 0, 0, 0, 0, 0, 0, 0, 0, 0, 0, 0, 0, 0, 0, 0, 0, 0, 0, 0, 0, 0, 0, 0, 0, 0, 0, 0, 0, 0, 0, 0, 0, 0, 0, 0, 0, 0, 0, 0, 0, 0, 0, 0, 0, 0, 0, 0, 0, 0, 0, 0, 0, 0, 0, 0, 0, 0, 0, 0, 0, 0, 0, 0, 0, 0, 0, 0, 0, 0, ...], [3, 70, 4, 0, 0, 0, 0, 0, 0, 0, 0, 0, 0, 0, 0, 0, 0, 0, 0, 0, 0, 0, 0, 0, 0, 0, 0, 0, 0, 0, 0, 0, 0, 0, 0, 0, 0, 0, 0, 0, 0, 0, 0, 0, 0, 0, 0, 0, 0, 0, 0, 0, 0, 0, 0, 0, 0, 0, 0, 0, 0, 0, 0, 0, 0, 0, 0, 0, 0, 0, 0, 0, 0, 0, 0, 0, 0, 0, 0, 0, 0, 0, 0, 0, 0, 0, 0, 0, 0, 0, 0, 0, 0, 0, 0, 0, 0, 0, 0, 0, ...], [3, 59, 4, 0, 0, 0, 0, 0, 0, 0, 0, 0, 0, 0, 0, 0, 0, 0, 0, 0, 0, 0, 0, 0, 0, 0, 0, 0, 0, 0, 0, 0, 0, 0, 0, 0, 0, 0, 0, 0, 0, 0, 0, 0, 0, 0, 0, 0, 0, 0, 0, 0, 0, 0, 0, 0, 0, 0, 0, 0, 0, 0, 0, 0, 0, 0, 0, 0, 0, 0, 0, 0, 0, 0, 0, 0, 0, 0, 0, 0, 0, 0, 0, 0, 0, 0, 0, 0, 0, 0, 0, 0, 0, 0, 0, 0, 0, 0, 0, 0, ...], [3, 454, 4, 0, 0, 0, 0, 0, 0, 0, 0, 0, 0, 0, 0, 0, 0, 0, 0, 0, 0, 0, 0, 0, 0, 0, 0, 0, 0, 0, 0, 0, 0, 0, 0, 0, 0, 0, 0, 0, 0, 0, 0, 0, 0, 0, 0, 0, 0, 0, 0, 0, 0, 0, 0, 0, 0, 0, 0, 0, 0, 0, 0, 0, 0, 0, 0, 0, 0, 0, 0, 0, 0, 0, 0, 0, 0, 0, 0, 0, 0, 0, 0, 0, 0, 0, 0, 0, 0, 0, 0, 0, 0, 0, 0, 0, 0, 0, 0, 0, ...], [3, 496, 4, 0, 0, 0, 0, 0, 0, 0, 0, 0, 0, 0, 0, 0, 0, 0, 0, 0, 0, 0, 0, 0, 0, 0, 0, 0, 0, 0, 0, 0, 0, 0, 0, 0, 0, 0, 0, 0, 0, 0, 0, 0, 0, ...  \n",
              "3  [[3, 103, 4, 0, 0, 0, 0, 0, 0, 0, 0, 0, 0, 0, 0, 0, 0, 0, 0, 0, 0, 0, 0, 0, 0, 0, 0, 0, 0, 0, 0, 0, 0, 0, 0, 0, 0, 0, 0, 0, 0, 0, 0, 0, 0, 0, 0, 0, 0, 0, 0, 0, 0, 0, 0, 0, 0, 0, 0, 0, 0, 0, 0, 0, 0, 0, 0, 0, 0, 0, 0, 0, 0, 0, 0, 0, 0, 0, 0, 0, 0, 0, 0, 0, 0, 0, 0, 0, 0, 0, 0, 0, 0, 0, 0, 0, 0, 0, 0, 0, ...], [3, 1350, 4, 0, 0, 0, 0, 0, 0, 0, 0, 0, 0, 0, 0, 0, 0, 0, 0, 0, 0, 0, 0, 0, 0, 0, 0, 0, 0, 0, 0, 0, 0, 0, 0, 0, 0, 0, 0, 0, 0, 0, 0, 0, 0, 0, 0, 0, 0, 0, 0, 0, 0, 0, 0, 0, 0, 0, 0, 0, 0, 0, 0, 0, 0, 0, 0, 0, 0, 0, 0, 0, 0, 0, 0, 0, 0, 0, 0, 0, 0, 0, 0, 0, 0, 0, 0, 0, 0, 0, 0, 0, 0, 0, 0, 0, 0, 0, 0, 0, ...], [3, 70, 4, 0, 0, 0, 0, 0, 0, 0, 0, 0, 0, 0, 0, 0, 0, 0, 0, 0, 0, 0, 0, 0, 0, 0, 0, 0, 0, 0, 0, 0, 0, 0, 0, 0, 0, 0, 0, 0, 0, 0, 0, 0, 0, 0, 0, 0, 0, 0, 0, 0, 0, 0, 0, 0, 0, 0, 0, 0, 0, 0, 0, 0, 0, 0, 0, 0, 0, 0, 0, 0, 0, 0, 0, 0, 0, 0, 0, 0, 0, 0, 0, 0, 0, 0, 0, 0, 0, 0, 0, 0, 0, 0, 0, 0, 0, 0, 0, 0, ...], [3, 4, 0, 0, 0, 0, 0, 0, 0, 0, 0, 0, 0, 0, 0, 0, 0, 0, 0, 0, 0, 0, 0, 0, 0, 0, 0, 0, 0, 0, 0, 0, 0, 0, 0, 0, 0, 0, 0, 0, 0, 0, 0, 0, 0, 0, 0, 0, 0, 0, 0, 0, 0, 0, 0, 0, 0, 0, 0, 0, 0, 0, 0, 0, 0, 0, 0, 0, 0, 0, 0, 0, 0, 0, 0, 0, 0, 0, 0, 0, 0, 0, 0, 0, 0, 0, 0, 0, 0, 0, 0, 0, 0, 0, 0, 0, 0, 0, 0, 0, ...], [3, 40, 4, 0, 0, 0, 0, 0, 0, 0, 0, 0, 0, 0, 0, 0, 0, 0, 0, 0, 0, 0, 0, 0, 0, 0, 0, 0, 0, 0, 0, 0, 0, 0, 0, 0, 0, 0, 0, 0, 0, 0, 0, 0, 0, 0, 0, 0, 0, 0, 0, 0, 0, 0, 0, 0, 0, 0, 0, 0, 0, 0, 0, 0, 0, 0, 0, 0, 0, 0, 0, 0, 0, 0, 0, 0, 0, 0, 0, 0, 0, 0, 0, 0, 0, 0, 0, 0, 0, 0, 0, 0, 0, 0, 0, 0, 0, 0, 0, 0, ...], [3, 46, 4, 0, 0, 0, 0, 0, 0, 0, 0, 0, 0, 0, 0, 0, 0, 0, 0, 0, 0, 0, 0, 0, 0, 0, 0, 0, 0, 0, 0, 0, 0, 0, 0, 0, 0, 0, 0, 0, 0, 0, 0, 0, 0, 0, 0, 0, 0, 0, 0, 0, 0, 0, 0, 0, 0, 0, 0, 0, 0, 0, 0, 0, 0, 0, 0, 0, 0, 0, 0, 0, 0, 0, 0, 0, 0, 0, 0, 0, 0, 0, 0, 0, 0, 0, 0, 0, 0, 0, 0, 0, 0, 0, 0, 0, 0, 0, 0, 0, ...], [3, 53, 4, 0, 0, 0, 0, 0, 0, 0, 0, 0, 0, 0, 0, 0, 0, 0, 0, 0, 0, 0, 0, 0, 0, 0, 0, 0, 0, 0, 0, 0, 0, 0, 0, 0, 0, 0, 0, 0, 0, 0, 0, 0, 0, 0, 0, 0, 0, 0, 0, 0, 0, 0, 0, 0, 0, 0, 0, 0, 0, 0, 0, 0, 0, 0, 0, 0, 0, 0, 0, 0, 0, 0, 0, 0, 0, 0, 0, 0, 0, 0, 0, 0, 0, 0, 0, 0, 0, 0, 0, 0, 0, 0, 0, 0, 0, 0, 0, 0, ...], [3, 4, 0, 0, 0, 0, 0, 0, 0, 0, 0, 0, 0, 0, 0, 0, 0, 0, 0, 0, 0, 0, 0, 0, 0, 0, 0, 0, 0, 0, 0, 0, 0, 0, 0, 0, 0, 0, 0, 0, 0, 0, 0, 0, 0, 0, 0, 0, 0, 0, 0, 0, 0, 0, 0, 0, 0, 0, 0, 0, 0, 0, 0, 0, 0, 0, 0, 0, 0, 0, 0, 0, 0, 0, 0, 0, 0, 0, 0, 0, 0, 0, 0, 0, 0, 0, 0, 0, 0, 0, 0, 0, 0, 0, 0, 0, 0, 0, 0, 0, ...], [3, 2118, 4, 0, 0, 0, 0, 0, 0, 0, 0, 0, 0, 0, 0, 0, 0, 0, 0, 0, 0, 0, 0, 0, 0, 0, 0, 0, 0, 0, 0, 0, 0, 0, 0, 0, 0, 0, 0, 0, 0, 0, 0, 0, 0, 0, 0, 0, 0, 0, 0, 0, 0, 0, 0, 0, 0, 0, 0, 0, 0, 0, 0, 0, 0, 0, 0, 0, 0, 0, 0, 0, 0, 0, 0, 0, 0, 0, 0, 0, 0, 0, 0, 0, 0, 0, 0, 0, 0, 0, 0, 0, 0, 0, 0, 0, 0, 0, 0, 0, ...], [3, 53, 4, 0, 0, 0, 0, 0, 0, 0, 0, 0, 0, 0, 0, 0, 0, 0, 0, 0, 0, 0, 0, 0, 0, 0, 0, 0, 0, 0, 0, 0, 0, 0, 0, 0, 0, 0, 0, 0, 0, 0, 0, 0, 0, 0, 0, 0, 0, 0, 0, 0, 0, 0, 0, 0, 0, 0, 0, 0, 0, 0, 0, 0, 0, 0, 0, 0, 0, 0, 0, 0, 0, 0, 0, 0, 0, 0, 0, 0, 0, 0, 0, 0, 0, 0, 0, 0, 0, 0, 0, 0, 0, 0, 0, 0, 0, 0, 0, 0, ...], [3, 44, 4, 0, 0, 0, 0, 0, 0, 0, 0, 0, 0, 0, 0, 0, 0, 0, 0, 0, 0, 0, 0, 0, 0, 0, 0, 0, 0, 0, 0, 0, 0, 0, 0, 0, 0, 0, 0, 0, 0, 0, 0, 0, 0, 0, 0, 0, 0, 0, 0, 0, 0, 0, 0, 0, 0, 0, 0, 0, 0, 0, 0, 0, 0, 0, 0, 0, 0, 0, 0, 0, 0, 0, 0, 0, 0, 0, 0, 0, 0, 0, 0, 0, 0, 0, 0, 0, 0, 0, 0, 0, 0, 0, 0, 0, 0, 0, 0, 0, ...], [3, 2118, 4, 0, 0, 0, 0, 0, 0, 0, 0, 0, 0, 0, 0, 0, 0, 0, 0, 0, 0, 0, 0, 0, 0, 0, 0, 0, 0, 0, 0, 0, 0, 0, 0, 0, 0, 0, 0, 0, 0, 0, 0, 0, 0, 0, 0, 0, 0, 0, 0, 0, 0, 0, 0, 0, 0, 0, 0, 0, 0, 0, 0, 0, 0, 0, 0, 0, 0, 0, 0, 0, 0, 0, 0, 0, 0, 0, 0, 0, 0, 0, 0, 0, 0, 0, 0, 0, 0, 0, 0, 0, 0, 0, 0, 0, 0, 0, 0, 0, ...], [3, 69, 4, 0, 0, 0, 0, 0, 0, 0, 0, 0, 0, 0, 0, 0, 0, 0, 0, 0, 0, 0, 0, 0, 0, 0, 0, 0, 0, 0, 0, 0, 0, 0, 0, 0, 0, 0, 0, 0, 0, 0, 0, 0, 0, 0, 0, 0, 0, 0, 0, 0, 0, 0, 0, 0, 0, 0, 0, 0, 0, 0, 0, 0, 0, 0, 0, 0, 0, 0, 0, 0, 0, 0, 0, 0, 0, 0, 0, 0, 0, 0, 0, 0, 0, 0, 0, 0, 0, 0, 0, 0, 0, 0, 0, 0, 0, 0, 0, 0, ...], [3, 496, 4, 0, 0, 0, 0, 0, 0, 0, 0, 0, 0, 0, 0, 0, 0, 0, 0, 0, 0, 0, 0, 0, 0, 0, 0, 0, 0, 0, 0, 0, 0, 0, 0, 0, 0, 0, 0, 0, 0, 0, 0, 0, 0, 0, 0, 0, 0, 0, 0, 0, 0, 0, 0, 0, 0, 0, 0, 0, 0, 0, 0, 0, 0, 0, 0, 0, 0, 0, 0, 0, 0, 0, 0, 0, 0, 0, 0, 0, 0, 0, 0, 0, 0, 0, 0, 0, 0, 0, 0, 0, 0, 0, 0, 0, 0, 0, 0, 0, ...], [3, 46, 4, 0, 0, 0, 0, 0, 0, 0, 0, 0, 0, 0, 0, 0, 0, 0, 0, 0, 0, 0, 0, 0, 0, 0, 0, 0, 0, 0, 0, 0, 0, 0, 0, 0, 0, 0, 0, 0, 0, 0, 0, 0, 0, 0, 0, 0, 0, 0, 0, 0, 0, 0, 0, 0, 0, 0, 0, 0, 0, 0, 0, 0, 0, 0, 0, 0, 0, 0, 0, 0, 0, 0, 0, 0, 0, 0, 0, 0, 0, 0, 0, 0, 0, 0, 0, 0, 0, 0, 0, 0, 0, 0, 0, 0, 0, 0, 0, 0, ...], [3, 454, 4, 0, 0, 0, 0, 0, 0, 0, 0, 0, 0, 0, 0, 0, 0, 0, 0, 0, 0, 0, 0, 0, 0, 0, 0, 0, 0, 0, 0, 0, 0, 0, 0, 0, 0, 0, 0, 0, 0, 0, 0, 0, 0, 0, 0, 0, 0, 0, 0, 0, 0, 0, 0, 0, 0, 0, 0, 0, 0, 0, 0, 0, 0, 0, 0, 0, 0, 0, 0, 0, 0, 0, 0, 0, 0, 0, 0, 0, 0, 0, 0, 0, 0, 0, 0, 0, 0, 0, 0, 0, 0, 0, 0, 0, 0, 0, 0, 0, ...], [3, 9, 4, 0, 0, 0, 0, 0, 0, 0, 0, 0, 0, 0, 0, 0, 0, 0, 0, 0, 0, 0, 0, 0, 0, 0, 0, 0, 0, 0, 0, 0, 0, 0, 0, 0, 0, 0, 0, 0, 0, 0, 0, 0, 0, 0, 0, 0, 0, 0, 0, 0, 0, 0, 0, 0, 0, 0, 0, 0, 0, 0, 0, 0, 0, 0, 0, 0, 0, 0, 0, 0, 0, 0, 0, 0, 0, 0, 0, 0, 0, 0, 0, 0, 0, 0, 0, 0, 0, 0, 0, 0, 0, 0, 0, 0, 0, 0, 0, 0, ...], [3, 454, 4, 0, 0, 0, 0, 0, 0, 0, 0, 0, 0, 0, 0, 0, 0, 0, 0, 0, 0, 0, 0, 0, 0, 0, 0, 0, 0, 0, 0, 0, 0, 0, 0, 0, 0, 0, 0, 0, 0, 0, 0, 0, 0, 0, 0, 0, 0, 0, 0, 0, 0, 0, 0, 0, 0, 0, 0, 0, 0, 0, 0, 0, 0, 0, 0, 0, 0, 0, 0, 0, 0, 0, 0, 0, 0, 0, 0, 0, 0, 0, 0, 0, 0, 0, 0, 0, 0, 0, 0, 0, 0, 0, 0, 0, 0, 0, 0, 0, ...], [3, 53, 4, 0, 0, 0, 0, 0, 0, 0, 0, 0, 0, 0, 0, 0, 0, 0, 0, 0, 0, 0, 0, 0, 0, 0, 0, 0, 0, 0, 0, 0, 0, 0, 0, 0, 0, 0, 0, 0, 0, 0, 0, 0, 0, 0, 0, 0, 0, 0, 0, 0, 0, 0, 0, 0, 0, 0, 0, 0, 0, 0, 0, 0, 0, 0, 0, 0, 0, 0, 0, 0, 0, 0, 0, 0, 0, 0, 0, 0, 0, 0, 0, 0, 0, 0, 0, 0, 0, 0, 0, 0, 0, 0, 0, 0, 0, 0, 0, 0, ...], [3, 4, 0, 0, 0, 0, 0, 0, 0, 0, 0, 0, 0, 0, 0, 0, 0, 0, 0, 0, 0, 0, 0, 0, 0, 0, 0, 0, 0, 0, 0, 0, 0, 0, 0, 0, 0, 0, 0, 0, 0, 0, 0, 0, 0, ...  \n",
              "4  [[3, 36, 4, 0, 0, 0, 0, 0, 0, 0, 0, 0, 0, 0, 0, 0, 0, 0, 0, 0, 0, 0, 0, 0, 0, 0, 0, 0, 0, 0, 0, 0, 0, 0, 0, 0, 0, 0, 0, 0, 0, 0, 0, 0, 0, 0, 0, 0, 0, 0, 0, 0, 0, 0, 0, 0, 0, 0, 0, 0, 0, 0, 0, 0, 0, 0, 0, 0, 0, 0, 0, 0, 0, 0, 0, 0, 0, 0, 0, 0, 0, 0, 0, 0, 0, 0, 0, 0, 0, 0, 0, 0, 0, 0, 0, 0, 0, 0, 0, 0, ...], [3, 454, 4, 0, 0, 0, 0, 0, 0, 0, 0, 0, 0, 0, 0, 0, 0, 0, 0, 0, 0, 0, 0, 0, 0, 0, 0, 0, 0, 0, 0, 0, 0, 0, 0, 0, 0, 0, 0, 0, 0, 0, 0, 0, 0, 0, 0, 0, 0, 0, 0, 0, 0, 0, 0, 0, 0, 0, 0, 0, 0, 0, 0, 0, 0, 0, 0, 0, 0, 0, 0, 0, 0, 0, 0, 0, 0, 0, 0, 0, 0, 0, 0, 0, 0, 0, 0, 0, 0, 0, 0, 0, 0, 0, 0, 0, 0, 0, 0, 0, ...], [3, 496, 4, 0, 0, 0, 0, 0, 0, 0, 0, 0, 0, 0, 0, 0, 0, 0, 0, 0, 0, 0, 0, 0, 0, 0, 0, 0, 0, 0, 0, 0, 0, 0, 0, 0, 0, 0, 0, 0, 0, 0, 0, 0, 0, 0, 0, 0, 0, 0, 0, 0, 0, 0, 0, 0, 0, 0, 0, 0, 0, 0, 0, 0, 0, 0, 0, 0, 0, 0, 0, 0, 0, 0, 0, 0, 0, 0, 0, 0, 0, 0, 0, 0, 0, 0, 0, 0, 0, 0, 0, 0, 0, 0, 0, 0, 0, 0, 0, 0, ...], [3, 4, 0, 0, 0, 0, 0, 0, 0, 0, 0, 0, 0, 0, 0, 0, 0, 0, 0, 0, 0, 0, 0, 0, 0, 0, 0, 0, 0, 0, 0, 0, 0, 0, 0, 0, 0, 0, 0, 0, 0, 0, 0, 0, 0, 0, 0, 0, 0, 0, 0, 0, 0, 0, 0, 0, 0, 0, 0, 0, 0, 0, 0, 0, 0, 0, 0, 0, 0, 0, 0, 0, 0, 0, 0, 0, 0, 0, 0, 0, 0, 0, 0, 0, 0, 0, 0, 0, 0, 0, 0, 0, 0, 0, 0, 0, 0, 0, 0, 0, ...], [3, 18, 4, 0, 0, 0, 0, 0, 0, 0, 0, 0, 0, 0, 0, 0, 0, 0, 0, 0, 0, 0, 0, 0, 0, 0, 0, 0, 0, 0, 0, 0, 0, 0, 0, 0, 0, 0, 0, 0, 0, 0, 0, 0, 0, 0, 0, 0, 0, 0, 0, 0, 0, 0, 0, 0, 0, 0, 0, 0, 0, 0, 0, 0, 0, 0, 0, 0, 0, 0, 0, 0, 0, 0, 0, 0, 0, 0, 0, 0, 0, 0, 0, 0, 0, 0, 0, 0, 0, 0, 0, 0, 0, 0, 0, 0, 0, 0, 0, 0, ...], [3, 496, 4, 0, 0, 0, 0, 0, 0, 0, 0, 0, 0, 0, 0, 0, 0, 0, 0, 0, 0, 0, 0, 0, 0, 0, 0, 0, 0, 0, 0, 0, 0, 0, 0, 0, 0, 0, 0, 0, 0, 0, 0, 0, 0, 0, 0, 0, 0, 0, 0, 0, 0, 0, 0, 0, 0, 0, 0, 0, 0, 0, 0, 0, 0, 0, 0, 0, 0, 0, 0, 0, 0, 0, 0, 0, 0, 0, 0, 0, 0, 0, 0, 0, 0, 0, 0, 0, 0, 0, 0, 0, 0, 0, 0, 0, 0, 0, 0, 0, ...], [3, 44, 4, 0, 0, 0, 0, 0, 0, 0, 0, 0, 0, 0, 0, 0, 0, 0, 0, 0, 0, 0, 0, 0, 0, 0, 0, 0, 0, 0, 0, 0, 0, 0, 0, 0, 0, 0, 0, 0, 0, 0, 0, 0, 0, 0, 0, 0, 0, 0, 0, 0, 0, 0, 0, 0, 0, 0, 0, 0, 0, 0, 0, 0, 0, 0, 0, 0, 0, 0, 0, 0, 0, 0, 0, 0, 0, 0, 0, 0, 0, 0, 0, 0, 0, 0, 0, 0, 0, 0, 0, 0, 0, 0, 0, 0, 0, 0, 0, 0, ...], [3, 209, 4, 0, 0, 0, 0, 0, 0, 0, 0, 0, 0, 0, 0, 0, 0, 0, 0, 0, 0, 0, 0, 0, 0, 0, 0, 0, 0, 0, 0, 0, 0, 0, 0, 0, 0, 0, 0, 0, 0, 0, 0, 0, 0, 0, 0, 0, 0, 0, 0, 0, 0, 0, 0, 0, 0, 0, 0, 0, 0, 0, 0, 0, 0, 0, 0, 0, 0, 0, 0, 0, 0, 0, 0, 0, 0, 0, 0, 0, 0, 0, 0, 0, 0, 0, 0, 0, 0, 0, 0, 0, 0, 0, 0, 0, 0, 0, 0, 0, ...], [3, 4, 0, 0, 0, 0, 0, 0, 0, 0, 0, 0, 0, 0, 0, 0, 0, 0, 0, 0, 0, 0, 0, 0, 0, 0, 0, 0, 0, 0, 0, 0, 0, 0, 0, 0, 0, 0, 0, 0, 0, 0, 0, 0, 0, 0, 0, 0, 0, 0, 0, 0, 0, 0, 0, 0, 0, 0, 0, 0, 0, 0, 0, 0, 0, 0, 0, 0, 0, 0, 0, 0, 0, 0, 0, 0, 0, 0, 0, 0, 0, 0, 0, 0, 0, 0, 0, 0, 0, 0, 0, 0, 0, 0, 0, 0, 0, 0, 0, 0, ...], [3, 46, 4, 0, 0, 0, 0, 0, 0, 0, 0, 0, 0, 0, 0, 0, 0, 0, 0, 0, 0, 0, 0, 0, 0, 0, 0, 0, 0, 0, 0, 0, 0, 0, 0, 0, 0, 0, 0, 0, 0, 0, 0, 0, 0, 0, 0, 0, 0, 0, 0, 0, 0, 0, 0, 0, 0, 0, 0, 0, 0, 0, 0, 0, 0, 0, 0, 0, 0, 0, 0, 0, 0, 0, 0, 0, 0, 0, 0, 0, 0, 0, 0, 0, 0, 0, 0, 0, 0, 0, 0, 0, 0, 0, 0, 0, 0, 0, 0, 0, ...], [3, 19, 4, 0, 0, 0, 0, 0, 0, 0, 0, 0, 0, 0, 0, 0, 0, 0, 0, 0, 0, 0, 0, 0, 0, 0, 0, 0, 0, 0, 0, 0, 0, 0, 0, 0, 0, 0, 0, 0, 0, 0, 0, 0, 0, 0, 0, 0, 0, 0, 0, 0, 0, 0, 0, 0, 0, 0, 0, 0, 0, 0, 0, 0, 0, 0, 0, 0, 0, 0, 0, 0, 0, 0, 0, 0, 0, 0, 0, 0, 0, 0, 0, 0, 0, 0, 0, 0, 0, 0, 0, 0, 0, 0, 0, 0, 0, 0, 0, 0, ...], [3, 209, 4, 0, 0, 0, 0, 0, 0, 0, 0, 0, 0, 0, 0, 0, 0, 0, 0, 0, 0, 0, 0, 0, 0, 0, 0, 0, 0, 0, 0, 0, 0, 0, 0, 0, 0, 0, 0, 0, 0, 0, 0, 0, 0, 0, 0, 0, 0, 0, 0, 0, 0, 0, 0, 0, 0, 0, 0, 0, 0, 0, 0, 0, 0, 0, 0, 0, 0, 0, 0, 0, 0, 0, 0, 0, 0, 0, 0, 0, 0, 0, 0, 0, 0, 0, 0, 0, 0, 0, 0, 0, 0, 0, 0, 0, 0, 0, 0, 0, ...], [3, 4, 0, 0, 0, 0, 0, 0, 0, 0, 0, 0, 0, 0, 0, 0, 0, 0, 0, 0, 0, 0, 0, 0, 0, 0, 0, 0, 0, 0, 0, 0, 0, 0, 0, 0, 0, 0, 0, 0, 0, 0, 0, 0, 0, 0, 0, 0, 0, 0, 0, 0, 0, 0, 0, 0, 0, 0, 0, 0, 0, 0, 0, 0, 0, 0, 0, 0, 0, 0, 0, 0, 0, 0, 0, 0, 0, 0, 0, 0, 0, 0, 0, 0, 0, 0, 0, 0, 0, 0, 0, 0, 0, 0, 0, 0, 0, 0, 0, 0, ...], [3, 170, 4, 0, 0, 0, 0, 0, 0, 0, 0, 0, 0, 0, 0, 0, 0, 0, 0, 0, 0, 0, 0, 0, 0, 0, 0, 0, 0, 0, 0, 0, 0, 0, 0, 0, 0, 0, 0, 0, 0, 0, 0, 0, 0, 0, 0, 0, 0, 0, 0, 0, 0, 0, 0, 0, 0, 0, 0, 0, 0, 0, 0, 0, 0, 0, 0, 0, 0, 0, 0, 0, 0, 0, 0, 0, 0, 0, 0, 0, 0, 0, 0, 0, 0, 0, 0, 0, 0, 0, 0, 0, 0, 0, 0, 0, 0, 0, 0, 0, ...], [3, 96, 4, 0, 0, 0, 0, 0, 0, 0, 0, 0, 0, 0, 0, 0, 0, 0, 0, 0, 0, 0, 0, 0, 0, 0, 0, 0, 0, 0, 0, 0, 0, 0, 0, 0, 0, 0, 0, 0, 0, 0, 0, 0, 0, 0, 0, 0, 0, 0, 0, 0, 0, 0, 0, 0, 0, 0, 0, 0, 0, 0, 0, 0, 0, 0, 0, 0, 0, 0, 0, 0, 0, 0, 0, 0, 0, 0, 0, 0, 0, 0, 0, 0, 0, 0, 0, 0, 0, 0, 0, 0, 0, 0, 0, 0, 0, 0, 0, 0, ...], [3, 18, 4, 0, 0, 0, 0, 0, 0, 0, 0, 0, 0, 0, 0, 0, 0, 0, 0, 0, 0, 0, 0, 0, 0, 0, 0, 0, 0, 0, 0, 0, 0, 0, 0, 0, 0, 0, 0, 0, 0, 0, 0, 0, 0, 0, 0, 0, 0, 0, 0, 0, 0, 0, 0, 0, 0, 0, 0, 0, 0, 0, 0, 0, 0, 0, 0, 0, 0, 0, 0, 0, 0, 0, 0, 0, 0, 0, 0, 0, 0, 0, 0, 0, 0, 0, 0, 0, 0, 0, 0, 0, 0, 0, 0, 0, 0, 0, 0, 0, ...], [3, 9560, 4, 0, 0, 0, 0, 0, 0, 0, 0, 0, 0, 0, 0, 0, 0, 0, 0, 0, 0, 0, 0, 0, 0, 0, 0, 0, 0, 0, 0, 0, 0, 0, 0, 0, 0, 0, 0, 0, 0, 0, 0, 0, 0, 0, 0, 0, 0, 0, 0, 0, 0, 0, 0, 0, 0, 0, 0, 0, 0, 0, 0, 0, 0, 0, 0, 0, 0, 0, 0, 0, 0, 0, 0, 0, 0, 0, 0, 0, 0, 0, 0, 0, 0, 0, 0, 0, 0, 0, 0, 0, 0, 0, 0, 0, 0, 0, 0, 0, ...], [3, 26918, 4, 0, 0, 0, 0, 0, 0, 0, 0, 0, 0, 0, 0, 0, 0, 0, 0, 0, 0, 0, 0, 0, 0, 0, 0, 0, 0, 0, 0, 0, 0, 0, 0, 0, 0, 0, 0, 0, 0, 0, 0, 0, 0, 0, 0, 0, 0, 0, 0, 0, 0, 0, 0, 0, 0, 0, 0, 0, 0, 0, 0, 0, 0, 0, 0, 0, 0, 0, 0, 0, 0, 0, 0, 0, 0, 0, 0, 0, 0, 0, 0, 0, 0, 0, 0, 0, 0, 0, 0, 0, 0, 0, 0, 0, 0, 0, 0, 0, ...], [3, 18, 4, 0, 0, 0, 0, 0, 0, 0, 0, 0, 0, 0, 0, 0, 0, 0, 0, 0, 0, 0, 0, 0, 0, 0, 0, 0, 0, 0, 0, 0, 0, 0, 0, 0, 0, 0, 0, 0, 0, 0, 0, 0, 0, 0, 0, 0, 0, 0, 0, 0, 0, 0, 0, 0, 0, 0, 0, 0, 0, 0, 0, 0, 0, 0, 0, 0, 0, 0, 0, 0, 0, 0, 0, 0, 0, 0, 0, 0, 0, 0, 0, 0, 0, 0, 0, 0, 0, 0, 0, 0, 0, 0, 0, 0, 0, 0, 0, 0, ...], [3, 40, 4, 0, 0, 0, 0, 0, 0, 0, 0, 0, 0, 0, 0, 0, 0, 0, 0, 0, 0, 0, 0, 0, 0, 0, 0, 0, 0, 0, 0, 0, 0, 0, 0, 0, 0, 0, 0, 0, 0, 0, 0, 0, 0...  "
            ],
            "text/html": [
              "\n",
              "  <div id=\"df-272cfa28-0a25-445b-8617-d2cc9ed3f748\">\n",
              "    <div class=\"colab-df-container\">\n",
              "      <div>\n",
              "<style scoped>\n",
              "    .dataframe tbody tr th:only-of-type {\n",
              "        vertical-align: middle;\n",
              "    }\n",
              "\n",
              "    .dataframe tbody tr th {\n",
              "        vertical-align: top;\n",
              "    }\n",
              "\n",
              "    .dataframe thead th {\n",
              "        text-align: right;\n",
              "    }\n",
              "</style>\n",
              "<table border=\"1\" class=\"dataframe\">\n",
              "  <thead>\n",
              "    <tr style=\"text-align: right;\">\n",
              "      <th></th>\n",
              "      <th>rating</th>\n",
              "      <th>comment</th>\n",
              "      <th>input_id</th>\n",
              "    </tr>\n",
              "  </thead>\n",
              "  <tbody>\n",
              "    <tr>\n",
              "      <th>0</th>\n",
              "      <td>positive</td>\n",
              "      <td>Ich liebe Herrn Dr. Scheeser er nimmt dich immer Zeit für seine Patienten und ist sehr geduldig. Auch seine Sprechstundenhilfe ist total lieb! Kann ich nur weiter empfehlen!</td>\n",
              "      <td>[[3, 103, 4, 0, 0, 0, 0, 0, 0, 0, 0, 0, 0, 0, 0, 0, 0, 0, 0, 0, 0, 0, 0, 0, 0, 0, 0, 0, 0, 0, 0, 0, 0, 0, 0, 0, 0, 0, 0, 0, 0, 0, 0, 0, 0, 0, 0, 0, 0, 0, 0, 0, 0, 0, 0, 0, 0, 0, 0, 0, 0, 0, 0, 0, 0, 0, 0, 0, 0, 0, 0, 0, 0, 0, 0, 0, 0, 0, 0, 0, 0, 0, 0, 0, 0, 0, 0, 0, 0, 0, 0, 0, 0, 0, 0, 0, 0, 0, 0, 0, ...], [3, 1350, 4, 0, 0, 0, 0, 0, 0, 0, 0, 0, 0, 0, 0, 0, 0, 0, 0, 0, 0, 0, 0, 0, 0, 0, 0, 0, 0, 0, 0, 0, 0, 0, 0, 0, 0, 0, 0, 0, 0, 0, 0, 0, 0, 0, 0, 0, 0, 0, 0, 0, 0, 0, 0, 0, 0, 0, 0, 0, 0, 0, 0, 0, 0, 0, 0, 0, 0, 0, 0, 0, 0, 0, 0, 0, 0, 0, 0, 0, 0, 0, 0, 0, 0, 0, 0, 0, 0, 0, 0, 0, 0, 0, 0, 0, 0, 0, 0, 0, ...], [3, 70, 4, 0, 0, 0, 0, 0, 0, 0, 0, 0, 0, 0, 0, 0, 0, 0, 0, 0, 0, 0, 0, 0, 0, 0, 0, 0, 0, 0, 0, 0, 0, 0, 0, 0, 0, 0, 0, 0, 0, 0, 0, 0, 0, 0, 0, 0, 0, 0, 0, 0, 0, 0, 0, 0, 0, 0, 0, 0, 0, 0, 0, 0, 0, 0, 0, 0, 0, 0, 0, 0, 0, 0, 0, 0, 0, 0, 0, 0, 0, 0, 0, 0, 0, 0, 0, 0, 0, 0, 0, 0, 0, 0, 0, 0, 0, 0, 0, 0, ...], [3, 4, 0, 0, 0, 0, 0, 0, 0, 0, 0, 0, 0, 0, 0, 0, 0, 0, 0, 0, 0, 0, 0, 0, 0, 0, 0, 0, 0, 0, 0, 0, 0, 0, 0, 0, 0, 0, 0, 0, 0, 0, 0, 0, 0, 0, 0, 0, 0, 0, 0, 0, 0, 0, 0, 0, 0, 0, 0, 0, 0, 0, 0, 0, 0, 0, 0, 0, 0, 0, 0, 0, 0, 0, 0, 0, 0, 0, 0, 0, 0, 0, 0, 0, 0, 0, 0, 0, 0, 0, 0, 0, 0, 0, 0, 0, 0, 0, 0, 0, ...], [3, 180, 4, 0, 0, 0, 0, 0, 0, 0, 0, 0, 0, 0, 0, 0, 0, 0, 0, 0, 0, 0, 0, 0, 0, 0, 0, 0, 0, 0, 0, 0, 0, 0, 0, 0, 0, 0, 0, 0, 0, 0, 0, 0, 0, 0, 0, 0, 0, 0, 0, 0, 0, 0, 0, 0, 0, 0, 0, 0, 0, 0, 0, 0, 0, 0, 0, 0, 0, 0, 0, 0, 0, 0, 0, 0, 0, 0, 0, 0, 0, 0, 0, 0, 0, 0, 0, 0, 0, 0, 0, 0, 0, 0, 0, 0, 0, 0, 0, 0, ...], [3, 46, 4, 0, 0, 0, 0, 0, 0, 0, 0, 0, 0, 0, 0, 0, 0, 0, 0, 0, 0, 0, 0, 0, 0, 0, 0, 0, 0, 0, 0, 0, 0, 0, 0, 0, 0, 0, 0, 0, 0, 0, 0, 0, 0, 0, 0, 0, 0, 0, 0, 0, 0, 0, 0, 0, 0, 0, 0, 0, 0, 0, 0, 0, 0, 0, 0, 0, 0, 0, 0, 0, 0, 0, 0, 0, 0, 0, 0, 0, 0, 0, 0, 0, 0, 0, 0, 0, 0, 0, 0, 0, 0, 0, 0, 0, 0, 0, 0, 0, ...], [3, 454, 4, 0, 0, 0, 0, 0, 0, 0, 0, 0, 0, 0, 0, 0, 0, 0, 0, 0, 0, 0, 0, 0, 0, 0, 0, 0, 0, 0, 0, 0, 0, 0, 0, 0, 0, 0, 0, 0, 0, 0, 0, 0, 0, 0, 0, 0, 0, 0, 0, 0, 0, 0, 0, 0, 0, 0, 0, 0, 0, 0, 0, 0, 0, 0, 0, 0, 0, 0, 0, 0, 0, 0, 0, 0, 0, 0, 0, 0, 0, 0, 0, 0, 0, 0, 0, 0, 0, 0, 0, 0, 0, 0, 0, 0, 0, 0, 0, 0, ...], [3, 40, 4, 0, 0, 0, 0, 0, 0, 0, 0, 0, 0, 0, 0, 0, 0, 0, 0, 0, 0, 0, 0, 0, 0, 0, 0, 0, 0, 0, 0, 0, 0, 0, 0, 0, 0, 0, 0, 0, 0, 0, 0, 0, 0, 0, 0, 0, 0, 0, 0, 0, 0, 0, 0, 0, 0, 0, 0, 0, 0, 0, 0, 0, 0, 0, 0, 0, 0, 0, 0, 0, 0, 0, 0, 0, 0, 0, 0, 0, 0, 0, 0, 0, 0, 0, 0, 0, 0, 0, 0, 0, 0, 0, 0, 0, 0, 0, 0, 0, ...], [3, 454, 4, 0, 0, 0, 0, 0, 0, 0, 0, 0, 0, 0, 0, 0, 0, 0, 0, 0, 0, 0, 0, 0, 0, 0, 0, 0, 0, 0, 0, 0, 0, 0, 0, 0, 0, 0, 0, 0, 0, 0, 0, 0, 0, 0, 0, 0, 0, 0, 0, 0, 0, 0, 0, 0, 0, 0, 0, 0, 0, 0, 0, 0, 0, 0, 0, 0, 0, 0, 0, 0, 0, 0, 0, 0, 0, 0, 0, 0, 0, 0, 0, 0, 0, 0, 0, 0, 0, 0, 0, 0, 0, 0, 0, 0, 0, 0, 0, 0, ...], [3, 4, 0, 0, 0, 0, 0, 0, 0, 0, 0, 0, 0, 0, 0, 0, 0, 0, 0, 0, 0, 0, 0, 0, 0, 0, 0, 0, 0, 0, 0, 0, 0, 0, 0, 0, 0, 0, 0, 0, 0, 0, 0, 0, 0, 0, 0, 0, 0, 0, 0, 0, 0, 0, 0, 0, 0, 0, 0, 0, 0, 0, 0, 0, 0, 0, 0, 0, 0, 0, 0, 0, 0, 0, 0, 0, 0, 0, 0, 0, 0, 0, 0, 0, 0, 0, 0, 0, 0, 0, 0, 0, 0, 0, 0, 0, 0, 0, 0, 0, ...], [3, 84, 4, 0, 0, 0, 0, 0, 0, 0, 0, 0, 0, 0, 0, 0, 0, 0, 0, 0, 0, 0, 0, 0, 0, 0, 0, 0, 0, 0, 0, 0, 0, 0, 0, 0, 0, 0, 0, 0, 0, 0, 0, 0, 0, 0, 0, 0, 0, 0, 0, 0, 0, 0, 0, 0, 0, 0, 0, 0, 0, 0, 0, 0, 0, 0, 0, 0, 0, 0, 0, 0, 0, 0, 0, 0, 0, 0, 0, 0, 0, 0, 0, 0, 0, 0, 0, 0, 0, 0, 0, 0, 0, 0, 0, 0, 0, 0, 0, 0, ...], [3, 454, 4, 0, 0, 0, 0, 0, 0, 0, 0, 0, 0, 0, 0, 0, 0, 0, 0, 0, 0, 0, 0, 0, 0, 0, 0, 0, 0, 0, 0, 0, 0, 0, 0, 0, 0, 0, 0, 0, 0, 0, 0, 0, 0, 0, 0, 0, 0, 0, 0, 0, 0, 0, 0, 0, 0, 0, 0, 0, 0, 0, 0, 0, 0, 0, 0, 0, 0, 0, 0, 0, 0, 0, 0, 0, 0, 0, 0, 0, 0, 0, 0, 0, 0, 0, 0, 0, 0, 0, 0, 0, 0, 0, 0, 0, 0, 0, 0, 0, ...], [3, 496, 4, 0, 0, 0, 0, 0, 0, 0, 0, 0, 0, 0, 0, 0, 0, 0, 0, 0, 0, 0, 0, 0, 0, 0, 0, 0, 0, 0, 0, 0, 0, 0, 0, 0, 0, 0, 0, 0, 0, 0, 0, 0, 0, 0, 0, 0, 0, 0, 0, 0, 0, 0, 0, 0, 0, 0, 0, 0, 0, 0, 0, 0, 0, 0, 0, 0, 0, 0, 0, 0, 0, 0, 0, 0, 0, 0, 0, 0, 0, 0, 0, 0, 0, 0, 0, 0, 0, 0, 0, 0, 0, 0, 0, 0, 0, 0, 0, 0, ...], [3, 496, 4, 0, 0, 0, 0, 0, 0, 0, 0, 0, 0, 0, 0, 0, 0, 0, 0, 0, 0, 0, 0, 0, 0, 0, 0, 0, 0, 0, 0, 0, 0, 0, 0, 0, 0, 0, 0, 0, 0, 0, 0, 0, 0, 0, 0, 0, 0, 0, 0, 0, 0, 0, 0, 0, 0, 0, 0, 0, 0, 0, 0, 0, 0, 0, 0, 0, 0, 0, 0, 0, 0, 0, 0, 0, 0, 0, 0, 0, 0, 0, 0, 0, 0, 0, 0, 0, 0, 0, 0, 0, 0, 0, 0, 0, 0, 0, 0, 0, ...], [3, 53, 4, 0, 0, 0, 0, 0, 0, 0, 0, 0, 0, 0, 0, 0, 0, 0, 0, 0, 0, 0, 0, 0, 0, 0, 0, 0, 0, 0, 0, 0, 0, 0, 0, 0, 0, 0, 0, 0, 0, 0, 0, 0, 0, 0, 0, 0, 0, 0, 0, 0, 0, 0, 0, 0, 0, 0, 0, 0, 0, 0, 0, 0, 0, 0, 0, 0, 0, 0, 0, 0, 0, 0, 0, 0, 0, 0, 0, 0, 0, 0, 0, 0, 0, 0, 0, 0, 0, 0, 0, 0, 0, 0, 0, 0, 0, 0, 0, 0, ...], [3, 4, 0, 0, 0, 0, 0, 0, 0, 0, 0, 0, 0, 0, 0, 0, 0, 0, 0, 0, 0, 0, 0, 0, 0, 0, 0, 0, 0, 0, 0, 0, 0, 0, 0, 0, 0, 0, 0, 0, 0, 0, 0, 0, 0, 0, 0, 0, 0, 0, 0, 0, 0, 0, 0, 0, 0, 0, 0, 0, 0, 0, 0, 0, 0, 0, 0, 0, 0, 0, 0, 0, 0, 0, 0, 0, 0, 0, 0, 0, 0, 0, 0, 0, 0, 0, 0, 0, 0, 0, 0, 0, 0, 0, 0, 0, 0, 0, 0, 0, ...], [3, 36, 4, 0, 0, 0, 0, 0, 0, 0, 0, 0, 0, 0, 0, 0, 0, 0, 0, 0, 0, 0, 0, 0, 0, 0, 0, 0, 0, 0, 0, 0, 0, 0, 0, 0, 0, 0, 0, 0, 0, 0, 0, 0, 0, 0, 0, 0, 0, 0, 0, 0, 0, 0, 0, 0, 0, 0, 0, 0, 0, 0, 0, 0, 0, 0, 0, 0, 0, 0, 0, 0, 0, 0, 0, 0, 0, 0, 0, 0, 0, 0, 0, 0, 0, 0, 0, 0, 0, 0, 0, 0, 0, 0, 0, 0, 0, 0, 0, 0, ...], [3, 496, 4, 0, 0, 0, 0, 0, 0, 0, 0, 0, 0, 0, 0, 0, 0, 0, 0, 0, 0, 0, 0, 0, 0, 0, 0, 0, 0, 0, 0, 0, 0, 0, 0, 0, 0, 0, 0, 0, 0, 0, 0, 0, 0, 0, 0, 0, 0, 0, 0, 0, 0, 0, 0, 0, 0, 0, 0, 0, 0, 0, 0, 0, 0, 0, 0, 0, 0, 0, 0, 0, 0, 0, 0, 0, 0, 0, 0, 0, 0, 0, 0, 0, 0, 0, 0, 0, 0, 0, 0, 0, 0, 0, 0, 0, 0, 0, 0, 0, ...], [3, 26914, 4, 0, 0, 0, 0, 0, 0, 0, 0, 0, 0, 0, 0, 0, 0, 0, 0, 0, 0, 0, 0, 0, 0, 0, 0, 0, 0, 0, 0, 0, 0, 0, 0, 0, 0, 0, 0, 0, 0, 0, 0, 0, 0, 0, 0, 0, 0, 0, 0, 0, 0, 0, 0, 0, 0, 0, 0, 0, 0, 0, 0, 0, 0, 0, 0, 0, 0, 0, 0, 0, 0, 0, 0, 0, 0, 0, 0, 0, 0, 0, 0, 0, 0, 0, 0, 0, 0, 0, 0, 0, 0, 0, 0, 0, 0, 0, 0, 0, ...], [3, 4, 0, 0, 0, 0, 0, 0, 0, 0, 0, 0, 0, 0, 0, 0, 0, 0, 0, 0, 0, 0, 0, 0, 0, 0, 0, 0, 0, 0, 0, 0, 0, 0, 0, 0, 0, 0, 0, 0, 0, 0, 0, 0, ...</td>\n",
              "    </tr>\n",
              "    <tr>\n",
              "      <th>1</th>\n",
              "      <td>negative</td>\n",
              "      <td>Die Behandlungen von Dr. Brede dauern im Schnitt ca. 5-7 Minuten. Beschwerden werden nach meiner Erfahrung nicht für ernst genommen. Seine Art ist unverbindlich und kühl.</td>\n",
              "      <td>[[3, 36, 4, 0, 0, 0, 0, 0, 0, 0, 0, 0, 0, 0, 0, 0, 0, 0, 0, 0, 0, 0, 0, 0, 0, 0, 0, 0, 0, 0, 0, 0, 0, 0, 0, 0, 0, 0, 0, 0, 0, 0, 0, 0, 0, 0, 0, 0, 0, 0, 0, 0, 0, 0, 0, 0, 0, 0, 0, 0, 0, 0, 0, 0, 0, 0, 0, 0, 0, 0, 0, 0, 0, 0, 0, 0, 0, 0, 0, 0, 0, 0, 0, 0, 0, 0, 0, 0, 0, 0, 0, 0, 0, 0, 0, 0, 0, 0, 0, 0, ...], [3, 46, 4, 0, 0, 0, 0, 0, 0, 0, 0, 0, 0, 0, 0, 0, 0, 0, 0, 0, 0, 0, 0, 0, 0, 0, 0, 0, 0, 0, 0, 0, 0, 0, 0, 0, 0, 0, 0, 0, 0, 0, 0, 0, 0, 0, 0, 0, 0, 0, 0, 0, 0, 0, 0, 0, 0, 0, 0, 0, 0, 0, 0, 0, 0, 0, 0, 0, 0, 0, 0, 0, 0, 0, 0, 0, 0, 0, 0, 0, 0, 0, 0, 0, 0, 0, 0, 0, 0, 0, 0, 0, 0, 0, 0, 0, 0, 0, 0, 0, ...], [3, 454, 4, 0, 0, 0, 0, 0, 0, 0, 0, 0, 0, 0, 0, 0, 0, 0, 0, 0, 0, 0, 0, 0, 0, 0, 0, 0, 0, 0, 0, 0, 0, 0, 0, 0, 0, 0, 0, 0, 0, 0, 0, 0, 0, 0, 0, 0, 0, 0, 0, 0, 0, 0, 0, 0, 0, 0, 0, 0, 0, 0, 0, 0, 0, 0, 0, 0, 0, 0, 0, 0, 0, 0, 0, 0, 0, 0, 0, 0, 0, 0, 0, 0, 0, 0, 0, 0, 0, 0, 0, 0, 0, 0, 0, 0, 0, 0, 0, 0, ...], [3, 4, 0, 0, 0, 0, 0, 0, 0, 0, 0, 0, 0, 0, 0, 0, 0, 0, 0, 0, 0, 0, 0, 0, 0, 0, 0, 0, 0, 0, 0, 0, 0, 0, 0, 0, 0, 0, 0, 0, 0, 0, 0, 0, 0, 0, 0, 0, 0, 0, 0, 0, 0, 0, 0, 0, 0, 0, 0, 0, 0, 0, 0, 0, 0, 0, 0, 0, 0, 0, 0, 0, 0, 0, 0, 0, 0, 0, 0, 0, 0, 0, 0, 0, 0, 0, 0, 0, 0, 0, 0, 0, 0, 0, 0, 0, 0, 0, 0, 0, ...], [3, 35, 4, 0, 0, 0, 0, 0, 0, 0, 0, 0, 0, 0, 0, 0, 0, 0, 0, 0, 0, 0, 0, 0, 0, 0, 0, 0, 0, 0, 0, 0, 0, 0, 0, 0, 0, 0, 0, 0, 0, 0, 0, 0, 0, 0, 0, 0, 0, 0, 0, 0, 0, 0, 0, 0, 0, 0, 0, 0, 0, 0, 0, 0, 0, 0, 0, 0, 0, 0, 0, 0, 0, 0, 0, 0, 0, 0, 0, 0, 0, 0, 0, 0, 0, 0, 0, 0, 0, 0, 0, 0, 0, 0, 0, 0, 0, 0, 0, 0, ...], [3, 454, 4, 0, 0, 0, 0, 0, 0, 0, 0, 0, 0, 0, 0, 0, 0, 0, 0, 0, 0, 0, 0, 0, 0, 0, 0, 0, 0, 0, 0, 0, 0, 0, 0, 0, 0, 0, 0, 0, 0, 0, 0, 0, 0, 0, 0, 0, 0, 0, 0, 0, 0, 0, 0, 0, 0, 0, 0, 0, 0, 0, 0, 0, 0, 0, 0, 0, 0, 0, 0, 0, 0, 0, 0, 0, 0, 0, 0, 0, 0, 0, 0, 0, 0, 0, 0, 0, 0, 0, 0, 0, 0, 0, 0, 0, 0, 0, 0, 0, ...], [3, 70, 4, 0, 0, 0, 0, 0, 0, 0, 0, 0, 0, 0, 0, 0, 0, 0, 0, 0, 0, 0, 0, 0, 0, 0, 0, 0, 0, 0, 0, 0, 0, 0, 0, 0, 0, 0, 0, 0, 0, 0, 0, 0, 0, 0, 0, 0, 0, 0, 0, 0, 0, 0, 0, 0, 0, 0, 0, 0, 0, 0, 0, 0, 0, 0, 0, 0, 0, 0, 0, 0, 0, 0, 0, 0, 0, 0, 0, 0, 0, 0, 0, 0, 0, 0, 0, 0, 0, 0, 0, 0, 0, 0, 0, 0, 0, 0, 0, 0, ...], [3, 18, 4, 0, 0, 0, 0, 0, 0, 0, 0, 0, 0, 0, 0, 0, 0, 0, 0, 0, 0, 0, 0, 0, 0, 0, 0, 0, 0, 0, 0, 0, 0, 0, 0, 0, 0, 0, 0, 0, 0, 0, 0, 0, 0, 0, 0, 0, 0, 0, 0, 0, 0, 0, 0, 0, 0, 0, 0, 0, 0, 0, 0, 0, 0, 0, 0, 0, 0, 0, 0, 0, 0, 0, 0, 0, 0, 0, 0, 0, 0, 0, 0, 0, 0, 0, 0, 0, 0, 0, 0, 0, 0, 0, 0, 0, 0, 0, 0, 0, ...], [3, 53, 4, 0, 0, 0, 0, 0, 0, 0, 0, 0, 0, 0, 0, 0, 0, 0, 0, 0, 0, 0, 0, 0, 0, 0, 0, 0, 0, 0, 0, 0, 0, 0, 0, 0, 0, 0, 0, 0, 0, 0, 0, 0, 0, 0, 0, 0, 0, 0, 0, 0, 0, 0, 0, 0, 0, 0, 0, 0, 0, 0, 0, 0, 0, 0, 0, 0, 0, 0, 0, 0, 0, 0, 0, 0, 0, 0, 0, 0, 0, 0, 0, 0, 0, 0, 0, 0, 0, 0, 0, 0, 0, 0, 0, 0, 0, 0, 0, 0, ...], [3, 9, 4, 0, 0, 0, 0, 0, 0, 0, 0, 0, 0, 0, 0, 0, 0, 0, 0, 0, 0, 0, 0, 0, 0, 0, 0, 0, 0, 0, 0, 0, 0, 0, 0, 0, 0, 0, 0, 0, 0, 0, 0, 0, 0, 0, 0, 0, 0, 0, 0, 0, 0, 0, 0, 0, 0, 0, 0, 0, 0, 0, 0, 0, 0, 0, 0, 0, 0, 0, 0, 0, 0, 0, 0, 0, 0, 0, 0, 0, 0, 0, 0, 0, 0, 0, 0, 0, 0, 0, 0, 0, 0, 0, 0, 0, 0, 0, 0, 0, ...], [3, 180, 4, 0, 0, 0, 0, 0, 0, 0, 0, 0, 0, 0, 0, 0, 0, 0, 0, 0, 0, 0, 0, 0, 0, 0, 0, 0, 0, 0, 0, 0, 0, 0, 0, 0, 0, 0, 0, 0, 0, 0, 0, 0, 0, 0, 0, 0, 0, 0, 0, 0, 0, 0, 0, 0, 0, 0, 0, 0, 0, 0, 0, 0, 0, 0, 0, 0, 0, 0, 0, 0, 0, 0, 0, 0, 0, 0, 0, 0, 0, 0, 0, 0, 0, 0, 0, 0, 0, 0, 0, 0, 0, 0, 0, 0, 0, 0, 0, 0, ...], [3, 2118, 4, 0, 0, 0, 0, 0, 0, 0, 0, 0, 0, 0, 0, 0, 0, 0, 0, 0, 0, 0, 0, 0, 0, 0, 0, 0, 0, 0, 0, 0, 0, 0, 0, 0, 0, 0, 0, 0, 0, 0, 0, 0, 0, 0, 0, 0, 0, 0, 0, 0, 0, 0, 0, 0, 0, 0, 0, 0, 0, 0, 0, 0, 0, 0, 0, 0, 0, 0, 0, 0, 0, 0, 0, 0, 0, 0, 0, 0, 0, 0, 0, 0, 0, 0, 0, 0, 0, 0, 0, 0, 0, 0, 0, 0, 0, 0, 0, 0, ...], [3, 53, 4, 0, 0, 0, 0, 0, 0, 0, 0, 0, 0, 0, 0, 0, 0, 0, 0, 0, 0, 0, 0, 0, 0, 0, 0, 0, 0, 0, 0, 0, 0, 0, 0, 0, 0, 0, 0, 0, 0, 0, 0, 0, 0, 0, 0, 0, 0, 0, 0, 0, 0, 0, 0, 0, 0, 0, 0, 0, 0, 0, 0, 0, 0, 0, 0, 0, 0, 0, 0, 0, 0, 0, 0, 0, 0, 0, 0, 0, 0, 0, 0, 0, 0, 0, 0, 0, 0, 0, 0, 0, 0, 0, 0, 0, 0, 0, 0, 0, ...], [3, 111, 4, 0, 0, 0, 0, 0, 0, 0, 0, 0, 0, 0, 0, 0, 0, 0, 0, 0, 0, 0, 0, 0, 0, 0, 0, 0, 0, 0, 0, 0, 0, 0, 0, 0, 0, 0, 0, 0, 0, 0, 0, 0, 0, 0, 0, 0, 0, 0, 0, 0, 0, 0, 0, 0, 0, 0, 0, 0, 0, 0, 0, 0, 0, 0, 0, 0, 0, 0, 0, 0, 0, 0, 0, 0, 0, 0, 0, 0, 0, 0, 0, 0, 0, 0, 0, 0, 0, 0, 0, 0, 0, 0, 0, 0, 0, 0, 0, 0, ...], [3, 454, 4, 0, 0, 0, 0, 0, 0, 0, 0, 0, 0, 0, 0, 0, 0, 0, 0, 0, 0, 0, 0, 0, 0, 0, 0, 0, 0, 0, 0, 0, 0, 0, 0, 0, 0, 0, 0, 0, 0, 0, 0, 0, 0, 0, 0, 0, 0, 0, 0, 0, 0, 0, 0, 0, 0, 0, 0, 0, 0, 0, 0, 0, 0, 0, 0, 0, 0, 0, 0, 0, 0, 0, 0, 0, 0, 0, 0, 0, 0, 0, 0, 0, 0, 0, 0, 0, 0, 0, 0, 0, 0, 0, 0, 0, 0, 0, 0, 0, ...], [3, 53, 4, 0, 0, 0, 0, 0, 0, 0, 0, 0, 0, 0, 0, 0, 0, 0, 0, 0, 0, 0, 0, 0, 0, 0, 0, 0, 0, 0, 0, 0, 0, 0, 0, 0, 0, 0, 0, 0, 0, 0, 0, 0, 0, 0, 0, 0, 0, 0, 0, 0, 0, 0, 0, 0, 0, 0, 0, 0, 0, 0, 0, 0, 0, 0, 0, 0, 0, 0, 0, 0, 0, 0, 0, 0, 0, 0, 0, 0, 0, 0, 0, 0, 0, 0, 0, 0, 0, 0, 0, 0, 0, 0, 0, 0, 0, 0, 0, 0, ...], [3, 4, 0, 0, 0, 0, 0, 0, 0, 0, 0, 0, 0, 0, 0, 0, 0, 0, 0, 0, 0, 0, 0, 0, 0, 0, 0, 0, 0, 0, 0, 0, 0, 0, 0, 0, 0, 0, 0, 0, 0, 0, 0, 0, 0, 0, 0, 0, 0, 0, 0, 0, 0, 0, 0, 0, 0, 0, 0, 0, 0, 0, 0, 0, 0, 0, 0, 0, 0, 0, 0, 0, 0, 0, 0, 0, 0, 0, 0, 0, 0, 0, 0, 0, 0, 0, 0, 0, 0, 0, 0, 0, 0, 0, 0, 0, 0, 0, 0, 0, ...], [3, 31, 4, 0, 0, 0, 0, 0, 0, 0, 0, 0, 0, 0, 0, 0, 0, 0, 0, 0, 0, 0, 0, 0, 0, 0, 0, 0, 0, 0, 0, 0, 0, 0, 0, 0, 0, 0, 0, 0, 0, 0, 0, 0, 0, 0, 0, 0, 0, 0, 0, 0, 0, 0, 0, 0, 0, 0, 0, 0, 0, 0, 0, 0, 0, 0, 0, 0, 0, 0, 0, 0, 0, 0, 0, 0, 0, 0, 0, 0, 0, 0, 0, 0, 0, 0, 0, 0, 0, 0, 0, 0, 0, 0, 0, 0, 0, 0, 0, 0, ...], [3, 170, 4, 0, 0, 0, 0, 0, 0, 0, 0, 0, 0, 0, 0, 0, 0, 0, 0, 0, 0, 0, 0, 0, 0, 0, 0, 0, 0, 0, 0, 0, 0, 0, 0, 0, 0, 0, 0, 0, 0, 0, 0, 0, 0, 0, 0, 0, 0, 0, 0, 0, 0, 0, 0, 0, 0, 0, 0, 0, 0, 0, 0, 0, 0, 0, 0, 0, 0, 0, 0, 0, 0, 0, 0, 0, 0, 0, 0, 0, 0, 0, 0, 0, 0, 0, 0, 0, 0, 0, 0, 0, 0, 0, 0, 0, 0, 0, 0, 0, ...], [3, 53, 4, 0, 0, 0, 0, 0, 0, 0, 0, 0, 0, 0, 0, 0, 0, 0, 0, 0, 0, 0, 0, 0, 0, 0, 0, 0, 0, 0, 0, 0, 0, 0, 0, 0, 0, 0, 0, 0, 0, 0, 0, 0, 0, 0...</td>\n",
              "    </tr>\n",
              "    <tr>\n",
              "      <th>2</th>\n",
              "      <td>negative</td>\n",
              "      <td>Hilfe bei Zahnschmerzen. &lt;br /&gt;\\r\\nNicht diesen Zahnarzt aufsuchen. Lediglich die Mitteilung sie waren 6 Jahre nicht bei uns und jetzt wollen sie uns besuchen. Trotz Hinweis, dass ich warten würde.&lt;br /&gt;\\r\\nSchlechtester Service, den ich jemals beim Arzt erfahren habe.</td>\n",
              "      <td>[[3, 84, 4, 0, 0, 0, 0, 0, 0, 0, 0, 0, 0, 0, 0, 0, 0, 0, 0, 0, 0, 0, 0, 0, 0, 0, 0, 0, 0, 0, 0, 0, 0, 0, 0, 0, 0, 0, 0, 0, 0, 0, 0, 0, 0, 0, 0, 0, 0, 0, 0, 0, 0, 0, 0, 0, 0, 0, 0, 0, 0, 0, 0, 0, 0, 0, 0, 0, 0, 0, 0, 0, 0, 0, 0, 0, 0, 0, 0, 0, 0, 0, 0, 0, 0, 0, 0, 0, 0, 0, 0, 0, 0, 0, 0, 0, 0, 0, 0, 0, ...], [3, 46, 4, 0, 0, 0, 0, 0, 0, 0, 0, 0, 0, 0, 0, 0, 0, 0, 0, 0, 0, 0, 0, 0, 0, 0, 0, 0, 0, 0, 0, 0, 0, 0, 0, 0, 0, 0, 0, 0, 0, 0, 0, 0, 0, 0, 0, 0, 0, 0, 0, 0, 0, 0, 0, 0, 0, 0, 0, 0, 0, 0, 0, 0, 0, 0, 0, 0, 0, 0, 0, 0, 0, 0, 0, 0, 0, 0, 0, 0, 0, 0, 0, 0, 0, 0, 0, 0, 0, 0, 0, 0, 0, 0, 0, 0, 0, 0, 0, 0, ...], [3, 180, 4, 0, 0, 0, 0, 0, 0, 0, 0, 0, 0, 0, 0, 0, 0, 0, 0, 0, 0, 0, 0, 0, 0, 0, 0, 0, 0, 0, 0, 0, 0, 0, 0, 0, 0, 0, 0, 0, 0, 0, 0, 0, 0, 0, 0, 0, 0, 0, 0, 0, 0, 0, 0, 0, 0, 0, 0, 0, 0, 0, 0, 0, 0, 0, 0, 0, 0, 0, 0, 0, 0, 0, 0, 0, 0, 0, 0, 0, 0, 0, 0, 0, 0, 0, 0, 0, 0, 0, 0, 0, 0, 0, 0, 0, 0, 0, 0, 0, ...], [3, 69, 4, 0, 0, 0, 0, 0, 0, 0, 0, 0, 0, 0, 0, 0, 0, 0, 0, 0, 0, 0, 0, 0, 0, 0, 0, 0, 0, 0, 0, 0, 0, 0, 0, 0, 0, 0, 0, 0, 0, 0, 0, 0, 0, 0, 0, 0, 0, 0, 0, 0, 0, 0, 0, 0, 0, 0, 0, 0, 0, 0, 0, 0, 0, 0, 0, 0, 0, 0, 0, 0, 0, 0, 0, 0, 0, 0, 0, 0, 0, 0, 0, 0, 0, 0, 0, 0, 0, 0, 0, 0, 0, 0, 0, 0, 0, 0, 0, 0, ...], [3, 454, 4, 0, 0, 0, 0, 0, 0, 0, 0, 0, 0, 0, 0, 0, 0, 0, 0, 0, 0, 0, 0, 0, 0, 0, 0, 0, 0, 0, 0, 0, 0, 0, 0, 0, 0, 0, 0, 0, 0, 0, 0, 0, 0, 0, 0, 0, 0, 0, 0, 0, 0, 0, 0, 0, 0, 0, 0, 0, 0, 0, 0, 0, 0, 0, 0, 0, 0, 0, 0, 0, 0, 0, 0, 0, 0, 0, 0, 0, 0, 0, 0, 0, 0, 0, 0, 0, 0, 0, 0, 0, 0, 0, 0, 0, 0, 0, 0, 0, ...], [3, 4, 0, 0, 0, 0, 0, 0, 0, 0, 0, 0, 0, 0, 0, 0, 0, 0, 0, 0, 0, 0, 0, 0, 0, 0, 0, 0, 0, 0, 0, 0, 0, 0, 0, 0, 0, 0, 0, 0, 0, 0, 0, 0, 0, 0, 0, 0, 0, 0, 0, 0, 0, 0, 0, 0, 0, 0, 0, 0, 0, 0, 0, 0, 0, 0, 0, 0, 0, 0, 0, 0, 0, 0, 0, 0, 0, 0, 0, 0, 0, 0, 0, 0, 0, 0, 0, 0, 0, 0, 0, 0, 0, 0, 0, 0, 0, 0, 0, 0, ...], [3, 40, 4, 0, 0, 0, 0, 0, 0, 0, 0, 0, 0, 0, 0, 0, 0, 0, 0, 0, 0, 0, 0, 0, 0, 0, 0, 0, 0, 0, 0, 0, 0, 0, 0, 0, 0, 0, 0, 0, 0, 0, 0, 0, 0, 0, 0, 0, 0, 0, 0, 0, 0, 0, 0, 0, 0, 0, 0, 0, 0, 0, 0, 0, 0, 0, 0, 0, 0, 0, 0, 0, 0, 0, 0, 0, 0, 0, 0, 0, 0, 0, 0, 0, 0, 0, 0, 0, 0, 0, 0, 0, 0, 0, 0, 0, 0, 0, 0, 0, ...], [3, 454, 4, 0, 0, 0, 0, 0, 0, 0, 0, 0, 0, 0, 0, 0, 0, 0, 0, 0, 0, 0, 0, 0, 0, 0, 0, 0, 0, 0, 0, 0, 0, 0, 0, 0, 0, 0, 0, 0, 0, 0, 0, 0, 0, 0, 0, 0, 0, 0, 0, 0, 0, 0, 0, 0, 0, 0, 0, 0, 0, 0, 0, 0, 0, 0, 0, 0, 0, 0, 0, 0, 0, 0, 0, 0, 0, 0, 0, 0, 0, 0, 0, 0, 0, 0, 0, 0, 0, 0, 0, 0, 0, 0, 0, 0, 0, 0, 0, 0, ...], [3, 46, 4, 0, 0, 0, 0, 0, 0, 0, 0, 0, 0, 0, 0, 0, 0, 0, 0, 0, 0, 0, 0, 0, 0, 0, 0, 0, 0, 0, 0, 0, 0, 0, 0, 0, 0, 0, 0, 0, 0, 0, 0, 0, 0, 0, 0, 0, 0, 0, 0, 0, 0, 0, 0, 0, 0, 0, 0, 0, 0, 0, 0, 0, 0, 0, 0, 0, 0, 0, 0, 0, 0, 0, 0, 0, 0, 0, 0, 0, 0, 0, 0, 0, 0, 0, 0, 0, 0, 0, 0, 0, 0, 0, 0, 0, 0, 0, 0, 0, ...], [3, 4, 0, 0, 0, 0, 0, 0, 0, 0, 0, 0, 0, 0, 0, 0, 0, 0, 0, 0, 0, 0, 0, 0, 0, 0, 0, 0, 0, 0, 0, 0, 0, 0, 0, 0, 0, 0, 0, 0, 0, 0, 0, 0, 0, 0, 0, 0, 0, 0, 0, 0, 0, 0, 0, 0, 0, 0, 0, 0, 0, 0, 0, 0, 0, 0, 0, 0, 0, 0, 0, 0, 0, 0, 0, 0, 0, 0, 0, 0, 0, 0, 0, 0, 0, 0, 0, 0, 0, 0, 0, 0, 0, 0, 0, 0, 0, 0, 0, 0, ...], [3, 122, 4, 0, 0, 0, 0, 0, 0, 0, 0, 0, 0, 0, 0, 0, 0, 0, 0, 0, 0, 0, 0, 0, 0, 0, 0, 0, 0, 0, 0, 0, 0, 0, 0, 0, 0, 0, 0, 0, 0, 0, 0, 0, 0, 0, 0, 0, 0, 0, 0, 0, 0, 0, 0, 0, 0, 0, 0, 0, 0, 0, 0, 0, 0, 0, 0, 0, 0, 0, 0, 0, 0, 0, 0, 0, 0, 0, 0, 0, 0, 0, 0, 0, 0, 0, 0, 0, 0, 0, 0, 0, 0, 0, 0, 0, 0, 0, 0, 0, ...], [3, 18, 4, 0, 0, 0, 0, 0, 0, 0, 0, 0, 0, 0, 0, 0, 0, 0, 0, 0, 0, 0, 0, 0, 0, 0, 0, 0, 0, 0, 0, 0, 0, 0, 0, 0, 0, 0, 0, 0, 0, 0, 0, 0, 0, 0, 0, 0, 0, 0, 0, 0, 0, 0, 0, 0, 0, 0, 0, 0, 0, 0, 0, 0, 0, 0, 0, 0, 0, 0, 0, 0, 0, 0, 0, 0, 0, 0, 0, 0, 0, 0, 0, 0, 0, 0, 0, 0, 0, 0, 0, 0, 0, 0, 0, 0, 0, 0, 0, 0, ...], [3, 70, 4, 0, 0, 0, 0, 0, 0, 0, 0, 0, 0, 0, 0, 0, 0, 0, 0, 0, 0, 0, 0, 0, 0, 0, 0, 0, 0, 0, 0, 0, 0, 0, 0, 0, 0, 0, 0, 0, 0, 0, 0, 0, 0, 0, 0, 0, 0, 0, 0, 0, 0, 0, 0, 0, 0, 0, 0, 0, 0, 0, 0, 0, 0, 0, 0, 0, 0, 0, 0, 0, 0, 0, 0, 0, 0, 0, 0, 0, 0, 0, 0, 0, 0, 0, 0, 0, 0, 0, 0, 0, 0, 0, 0, 0, 0, 0, 0, 0, ...], [3, 53, 4, 0, 0, 0, 0, 0, 0, 0, 0, 0, 0, 0, 0, 0, 0, 0, 0, 0, 0, 0, 0, 0, 0, 0, 0, 0, 0, 0, 0, 0, 0, 0, 0, 0, 0, 0, 0, 0, 0, 0, 0, 0, 0, 0, 0, 0, 0, 0, 0, 0, 0, 0, 0, 0, 0, 0, 0, 0, 0, 0, 0, 0, 0, 0, 0, 0, 0, 0, 0, 0, 0, 0, 0, 0, 0, 0, 0, 0, 0, 0, 0, 0, 0, 0, 0, 0, 0, 0, 0, 0, 0, 0, 0, 0, 0, 0, 0, 0, ...], [3, 19, 4, 0, 0, 0, 0, 0, 0, 0, 0, 0, 0, 0, 0, 0, 0, 0, 0, 0, 0, 0, 0, 0, 0, 0, 0, 0, 0, 0, 0, 0, 0, 0, 0, 0, 0, 0, 0, 0, 0, 0, 0, 0, 0, 0, 0, 0, 0, 0, 0, 0, 0, 0, 0, 0, 0, 0, 0, 0, 0, 0, 0, 0, 0, 0, 0, 0, 0, 0, 0, 0, 0, 0, 0, 0, 0, 0, 0, 0, 0, 0, 0, 0, 0, 0, 0, 0, 0, 0, 0, 0, 0, 0, 0, 0, 0, 0, 0, 0, ...], [3, 1350, 4, 0, 0, 0, 0, 0, 0, 0, 0, 0, 0, 0, 0, 0, 0, 0, 0, 0, 0, 0, 0, 0, 0, 0, 0, 0, 0, 0, 0, 0, 0, 0, 0, 0, 0, 0, 0, 0, 0, 0, 0, 0, 0, 0, 0, 0, 0, 0, 0, 0, 0, 0, 0, 0, 0, 0, 0, 0, 0, 0, 0, 0, 0, 0, 0, 0, 0, 0, 0, 0, 0, 0, 0, 0, 0, 0, 0, 0, 0, 0, 0, 0, 0, 0, 0, 0, 0, 0, 0, 0, 0, 0, 0, 0, 0, 0, 0, 0, ...], [3, 70, 4, 0, 0, 0, 0, 0, 0, 0, 0, 0, 0, 0, 0, 0, 0, 0, 0, 0, 0, 0, 0, 0, 0, 0, 0, 0, 0, 0, 0, 0, 0, 0, 0, 0, 0, 0, 0, 0, 0, 0, 0, 0, 0, 0, 0, 0, 0, 0, 0, 0, 0, 0, 0, 0, 0, 0, 0, 0, 0, 0, 0, 0, 0, 0, 0, 0, 0, 0, 0, 0, 0, 0, 0, 0, 0, 0, 0, 0, 0, 0, 0, 0, 0, 0, 0, 0, 0, 0, 0, 0, 0, 0, 0, 0, 0, 0, 0, 0, ...], [3, 59, 4, 0, 0, 0, 0, 0, 0, 0, 0, 0, 0, 0, 0, 0, 0, 0, 0, 0, 0, 0, 0, 0, 0, 0, 0, 0, 0, 0, 0, 0, 0, 0, 0, 0, 0, 0, 0, 0, 0, 0, 0, 0, 0, 0, 0, 0, 0, 0, 0, 0, 0, 0, 0, 0, 0, 0, 0, 0, 0, 0, 0, 0, 0, 0, 0, 0, 0, 0, 0, 0, 0, 0, 0, 0, 0, 0, 0, 0, 0, 0, 0, 0, 0, 0, 0, 0, 0, 0, 0, 0, 0, 0, 0, 0, 0, 0, 0, 0, ...], [3, 454, 4, 0, 0, 0, 0, 0, 0, 0, 0, 0, 0, 0, 0, 0, 0, 0, 0, 0, 0, 0, 0, 0, 0, 0, 0, 0, 0, 0, 0, 0, 0, 0, 0, 0, 0, 0, 0, 0, 0, 0, 0, 0, 0, 0, 0, 0, 0, 0, 0, 0, 0, 0, 0, 0, 0, 0, 0, 0, 0, 0, 0, 0, 0, 0, 0, 0, 0, 0, 0, 0, 0, 0, 0, 0, 0, 0, 0, 0, 0, 0, 0, 0, 0, 0, 0, 0, 0, 0, 0, 0, 0, 0, 0, 0, 0, 0, 0, 0, ...], [3, 496, 4, 0, 0, 0, 0, 0, 0, 0, 0, 0, 0, 0, 0, 0, 0, 0, 0, 0, 0, 0, 0, 0, 0, 0, 0, 0, 0, 0, 0, 0, 0, 0, 0, 0, 0, 0, 0, 0, 0, 0, 0, 0, 0, ...</td>\n",
              "    </tr>\n",
              "    <tr>\n",
              "      <th>3</th>\n",
              "      <td>negative</td>\n",
              "      <td>Ich bin unzufrieden und kann Frau Dr. Frankenberger nicht weiterempfehlen.</td>\n",
              "      <td>[[3, 103, 4, 0, 0, 0, 0, 0, 0, 0, 0, 0, 0, 0, 0, 0, 0, 0, 0, 0, 0, 0, 0, 0, 0, 0, 0, 0, 0, 0, 0, 0, 0, 0, 0, 0, 0, 0, 0, 0, 0, 0, 0, 0, 0, 0, 0, 0, 0, 0, 0, 0, 0, 0, 0, 0, 0, 0, 0, 0, 0, 0, 0, 0, 0, 0, 0, 0, 0, 0, 0, 0, 0, 0, 0, 0, 0, 0, 0, 0, 0, 0, 0, 0, 0, 0, 0, 0, 0, 0, 0, 0, 0, 0, 0, 0, 0, 0, 0, 0, ...], [3, 1350, 4, 0, 0, 0, 0, 0, 0, 0, 0, 0, 0, 0, 0, 0, 0, 0, 0, 0, 0, 0, 0, 0, 0, 0, 0, 0, 0, 0, 0, 0, 0, 0, 0, 0, 0, 0, 0, 0, 0, 0, 0, 0, 0, 0, 0, 0, 0, 0, 0, 0, 0, 0, 0, 0, 0, 0, 0, 0, 0, 0, 0, 0, 0, 0, 0, 0, 0, 0, 0, 0, 0, 0, 0, 0, 0, 0, 0, 0, 0, 0, 0, 0, 0, 0, 0, 0, 0, 0, 0, 0, 0, 0, 0, 0, 0, 0, 0, 0, ...], [3, 70, 4, 0, 0, 0, 0, 0, 0, 0, 0, 0, 0, 0, 0, 0, 0, 0, 0, 0, 0, 0, 0, 0, 0, 0, 0, 0, 0, 0, 0, 0, 0, 0, 0, 0, 0, 0, 0, 0, 0, 0, 0, 0, 0, 0, 0, 0, 0, 0, 0, 0, 0, 0, 0, 0, 0, 0, 0, 0, 0, 0, 0, 0, 0, 0, 0, 0, 0, 0, 0, 0, 0, 0, 0, 0, 0, 0, 0, 0, 0, 0, 0, 0, 0, 0, 0, 0, 0, 0, 0, 0, 0, 0, 0, 0, 0, 0, 0, 0, ...], [3, 4, 0, 0, 0, 0, 0, 0, 0, 0, 0, 0, 0, 0, 0, 0, 0, 0, 0, 0, 0, 0, 0, 0, 0, 0, 0, 0, 0, 0, 0, 0, 0, 0, 0, 0, 0, 0, 0, 0, 0, 0, 0, 0, 0, 0, 0, 0, 0, 0, 0, 0, 0, 0, 0, 0, 0, 0, 0, 0, 0, 0, 0, 0, 0, 0, 0, 0, 0, 0, 0, 0, 0, 0, 0, 0, 0, 0, 0, 0, 0, 0, 0, 0, 0, 0, 0, 0, 0, 0, 0, 0, 0, 0, 0, 0, 0, 0, 0, 0, ...], [3, 40, 4, 0, 0, 0, 0, 0, 0, 0, 0, 0, 0, 0, 0, 0, 0, 0, 0, 0, 0, 0, 0, 0, 0, 0, 0, 0, 0, 0, 0, 0, 0, 0, 0, 0, 0, 0, 0, 0, 0, 0, 0, 0, 0, 0, 0, 0, 0, 0, 0, 0, 0, 0, 0, 0, 0, 0, 0, 0, 0, 0, 0, 0, 0, 0, 0, 0, 0, 0, 0, 0, 0, 0, 0, 0, 0, 0, 0, 0, 0, 0, 0, 0, 0, 0, 0, 0, 0, 0, 0, 0, 0, 0, 0, 0, 0, 0, 0, 0, ...], [3, 46, 4, 0, 0, 0, 0, 0, 0, 0, 0, 0, 0, 0, 0, 0, 0, 0, 0, 0, 0, 0, 0, 0, 0, 0, 0, 0, 0, 0, 0, 0, 0, 0, 0, 0, 0, 0, 0, 0, 0, 0, 0, 0, 0, 0, 0, 0, 0, 0, 0, 0, 0, 0, 0, 0, 0, 0, 0, 0, 0, 0, 0, 0, 0, 0, 0, 0, 0, 0, 0, 0, 0, 0, 0, 0, 0, 0, 0, 0, 0, 0, 0, 0, 0, 0, 0, 0, 0, 0, 0, 0, 0, 0, 0, 0, 0, 0, 0, 0, ...], [3, 53, 4, 0, 0, 0, 0, 0, 0, 0, 0, 0, 0, 0, 0, 0, 0, 0, 0, 0, 0, 0, 0, 0, 0, 0, 0, 0, 0, 0, 0, 0, 0, 0, 0, 0, 0, 0, 0, 0, 0, 0, 0, 0, 0, 0, 0, 0, 0, 0, 0, 0, 0, 0, 0, 0, 0, 0, 0, 0, 0, 0, 0, 0, 0, 0, 0, 0, 0, 0, 0, 0, 0, 0, 0, 0, 0, 0, 0, 0, 0, 0, 0, 0, 0, 0, 0, 0, 0, 0, 0, 0, 0, 0, 0, 0, 0, 0, 0, 0, ...], [3, 4, 0, 0, 0, 0, 0, 0, 0, 0, 0, 0, 0, 0, 0, 0, 0, 0, 0, 0, 0, 0, 0, 0, 0, 0, 0, 0, 0, 0, 0, 0, 0, 0, 0, 0, 0, 0, 0, 0, 0, 0, 0, 0, 0, 0, 0, 0, 0, 0, 0, 0, 0, 0, 0, 0, 0, 0, 0, 0, 0, 0, 0, 0, 0, 0, 0, 0, 0, 0, 0, 0, 0, 0, 0, 0, 0, 0, 0, 0, 0, 0, 0, 0, 0, 0, 0, 0, 0, 0, 0, 0, 0, 0, 0, 0, 0, 0, 0, 0, ...], [3, 2118, 4, 0, 0, 0, 0, 0, 0, 0, 0, 0, 0, 0, 0, 0, 0, 0, 0, 0, 0, 0, 0, 0, 0, 0, 0, 0, 0, 0, 0, 0, 0, 0, 0, 0, 0, 0, 0, 0, 0, 0, 0, 0, 0, 0, 0, 0, 0, 0, 0, 0, 0, 0, 0, 0, 0, 0, 0, 0, 0, 0, 0, 0, 0, 0, 0, 0, 0, 0, 0, 0, 0, 0, 0, 0, 0, 0, 0, 0, 0, 0, 0, 0, 0, 0, 0, 0, 0, 0, 0, 0, 0, 0, 0, 0, 0, 0, 0, 0, ...], [3, 53, 4, 0, 0, 0, 0, 0, 0, 0, 0, 0, 0, 0, 0, 0, 0, 0, 0, 0, 0, 0, 0, 0, 0, 0, 0, 0, 0, 0, 0, 0, 0, 0, 0, 0, 0, 0, 0, 0, 0, 0, 0, 0, 0, 0, 0, 0, 0, 0, 0, 0, 0, 0, 0, 0, 0, 0, 0, 0, 0, 0, 0, 0, 0, 0, 0, 0, 0, 0, 0, 0, 0, 0, 0, 0, 0, 0, 0, 0, 0, 0, 0, 0, 0, 0, 0, 0, 0, 0, 0, 0, 0, 0, 0, 0, 0, 0, 0, 0, ...], [3, 44, 4, 0, 0, 0, 0, 0, 0, 0, 0, 0, 0, 0, 0, 0, 0, 0, 0, 0, 0, 0, 0, 0, 0, 0, 0, 0, 0, 0, 0, 0, 0, 0, 0, 0, 0, 0, 0, 0, 0, 0, 0, 0, 0, 0, 0, 0, 0, 0, 0, 0, 0, 0, 0, 0, 0, 0, 0, 0, 0, 0, 0, 0, 0, 0, 0, 0, 0, 0, 0, 0, 0, 0, 0, 0, 0, 0, 0, 0, 0, 0, 0, 0, 0, 0, 0, 0, 0, 0, 0, 0, 0, 0, 0, 0, 0, 0, 0, 0, ...], [3, 2118, 4, 0, 0, 0, 0, 0, 0, 0, 0, 0, 0, 0, 0, 0, 0, 0, 0, 0, 0, 0, 0, 0, 0, 0, 0, 0, 0, 0, 0, 0, 0, 0, 0, 0, 0, 0, 0, 0, 0, 0, 0, 0, 0, 0, 0, 0, 0, 0, 0, 0, 0, 0, 0, 0, 0, 0, 0, 0, 0, 0, 0, 0, 0, 0, 0, 0, 0, 0, 0, 0, 0, 0, 0, 0, 0, 0, 0, 0, 0, 0, 0, 0, 0, 0, 0, 0, 0, 0, 0, 0, 0, 0, 0, 0, 0, 0, 0, 0, ...], [3, 69, 4, 0, 0, 0, 0, 0, 0, 0, 0, 0, 0, 0, 0, 0, 0, 0, 0, 0, 0, 0, 0, 0, 0, 0, 0, 0, 0, 0, 0, 0, 0, 0, 0, 0, 0, 0, 0, 0, 0, 0, 0, 0, 0, 0, 0, 0, 0, 0, 0, 0, 0, 0, 0, 0, 0, 0, 0, 0, 0, 0, 0, 0, 0, 0, 0, 0, 0, 0, 0, 0, 0, 0, 0, 0, 0, 0, 0, 0, 0, 0, 0, 0, 0, 0, 0, 0, 0, 0, 0, 0, 0, 0, 0, 0, 0, 0, 0, 0, ...], [3, 496, 4, 0, 0, 0, 0, 0, 0, 0, 0, 0, 0, 0, 0, 0, 0, 0, 0, 0, 0, 0, 0, 0, 0, 0, 0, 0, 0, 0, 0, 0, 0, 0, 0, 0, 0, 0, 0, 0, 0, 0, 0, 0, 0, 0, 0, 0, 0, 0, 0, 0, 0, 0, 0, 0, 0, 0, 0, 0, 0, 0, 0, 0, 0, 0, 0, 0, 0, 0, 0, 0, 0, 0, 0, 0, 0, 0, 0, 0, 0, 0, 0, 0, 0, 0, 0, 0, 0, 0, 0, 0, 0, 0, 0, 0, 0, 0, 0, 0, ...], [3, 46, 4, 0, 0, 0, 0, 0, 0, 0, 0, 0, 0, 0, 0, 0, 0, 0, 0, 0, 0, 0, 0, 0, 0, 0, 0, 0, 0, 0, 0, 0, 0, 0, 0, 0, 0, 0, 0, 0, 0, 0, 0, 0, 0, 0, 0, 0, 0, 0, 0, 0, 0, 0, 0, 0, 0, 0, 0, 0, 0, 0, 0, 0, 0, 0, 0, 0, 0, 0, 0, 0, 0, 0, 0, 0, 0, 0, 0, 0, 0, 0, 0, 0, 0, 0, 0, 0, 0, 0, 0, 0, 0, 0, 0, 0, 0, 0, 0, 0, ...], [3, 454, 4, 0, 0, 0, 0, 0, 0, 0, 0, 0, 0, 0, 0, 0, 0, 0, 0, 0, 0, 0, 0, 0, 0, 0, 0, 0, 0, 0, 0, 0, 0, 0, 0, 0, 0, 0, 0, 0, 0, 0, 0, 0, 0, 0, 0, 0, 0, 0, 0, 0, 0, 0, 0, 0, 0, 0, 0, 0, 0, 0, 0, 0, 0, 0, 0, 0, 0, 0, 0, 0, 0, 0, 0, 0, 0, 0, 0, 0, 0, 0, 0, 0, 0, 0, 0, 0, 0, 0, 0, 0, 0, 0, 0, 0, 0, 0, 0, 0, ...], [3, 9, 4, 0, 0, 0, 0, 0, 0, 0, 0, 0, 0, 0, 0, 0, 0, 0, 0, 0, 0, 0, 0, 0, 0, 0, 0, 0, 0, 0, 0, 0, 0, 0, 0, 0, 0, 0, 0, 0, 0, 0, 0, 0, 0, 0, 0, 0, 0, 0, 0, 0, 0, 0, 0, 0, 0, 0, 0, 0, 0, 0, 0, 0, 0, 0, 0, 0, 0, 0, 0, 0, 0, 0, 0, 0, 0, 0, 0, 0, 0, 0, 0, 0, 0, 0, 0, 0, 0, 0, 0, 0, 0, 0, 0, 0, 0, 0, 0, 0, ...], [3, 454, 4, 0, 0, 0, 0, 0, 0, 0, 0, 0, 0, 0, 0, 0, 0, 0, 0, 0, 0, 0, 0, 0, 0, 0, 0, 0, 0, 0, 0, 0, 0, 0, 0, 0, 0, 0, 0, 0, 0, 0, 0, 0, 0, 0, 0, 0, 0, 0, 0, 0, 0, 0, 0, 0, 0, 0, 0, 0, 0, 0, 0, 0, 0, 0, 0, 0, 0, 0, 0, 0, 0, 0, 0, 0, 0, 0, 0, 0, 0, 0, 0, 0, 0, 0, 0, 0, 0, 0, 0, 0, 0, 0, 0, 0, 0, 0, 0, 0, ...], [3, 53, 4, 0, 0, 0, 0, 0, 0, 0, 0, 0, 0, 0, 0, 0, 0, 0, 0, 0, 0, 0, 0, 0, 0, 0, 0, 0, 0, 0, 0, 0, 0, 0, 0, 0, 0, 0, 0, 0, 0, 0, 0, 0, 0, 0, 0, 0, 0, 0, 0, 0, 0, 0, 0, 0, 0, 0, 0, 0, 0, 0, 0, 0, 0, 0, 0, 0, 0, 0, 0, 0, 0, 0, 0, 0, 0, 0, 0, 0, 0, 0, 0, 0, 0, 0, 0, 0, 0, 0, 0, 0, 0, 0, 0, 0, 0, 0, 0, 0, ...], [3, 4, 0, 0, 0, 0, 0, 0, 0, 0, 0, 0, 0, 0, 0, 0, 0, 0, 0, 0, 0, 0, 0, 0, 0, 0, 0, 0, 0, 0, 0, 0, 0, 0, 0, 0, 0, 0, 0, 0, 0, 0, 0, 0, 0, ...</td>\n",
              "    </tr>\n",
              "    <tr>\n",
              "      <th>4</th>\n",
              "      <td>negative</td>\n",
              "      <td>Der arzt ist okay,aber es ist für mich offensichtlich,dass er seine arbeit nicht außerordentlich mag.</td>\n",
              "      <td>[[3, 36, 4, 0, 0, 0, 0, 0, 0, 0, 0, 0, 0, 0, 0, 0, 0, 0, 0, 0, 0, 0, 0, 0, 0, 0, 0, 0, 0, 0, 0, 0, 0, 0, 0, 0, 0, 0, 0, 0, 0, 0, 0, 0, 0, 0, 0, 0, 0, 0, 0, 0, 0, 0, 0, 0, 0, 0, 0, 0, 0, 0, 0, 0, 0, 0, 0, 0, 0, 0, 0, 0, 0, 0, 0, 0, 0, 0, 0, 0, 0, 0, 0, 0, 0, 0, 0, 0, 0, 0, 0, 0, 0, 0, 0, 0, 0, 0, 0, 0, ...], [3, 454, 4, 0, 0, 0, 0, 0, 0, 0, 0, 0, 0, 0, 0, 0, 0, 0, 0, 0, 0, 0, 0, 0, 0, 0, 0, 0, 0, 0, 0, 0, 0, 0, 0, 0, 0, 0, 0, 0, 0, 0, 0, 0, 0, 0, 0, 0, 0, 0, 0, 0, 0, 0, 0, 0, 0, 0, 0, 0, 0, 0, 0, 0, 0, 0, 0, 0, 0, 0, 0, 0, 0, 0, 0, 0, 0, 0, 0, 0, 0, 0, 0, 0, 0, 0, 0, 0, 0, 0, 0, 0, 0, 0, 0, 0, 0, 0, 0, 0, ...], [3, 496, 4, 0, 0, 0, 0, 0, 0, 0, 0, 0, 0, 0, 0, 0, 0, 0, 0, 0, 0, 0, 0, 0, 0, 0, 0, 0, 0, 0, 0, 0, 0, 0, 0, 0, 0, 0, 0, 0, 0, 0, 0, 0, 0, 0, 0, 0, 0, 0, 0, 0, 0, 0, 0, 0, 0, 0, 0, 0, 0, 0, 0, 0, 0, 0, 0, 0, 0, 0, 0, 0, 0, 0, 0, 0, 0, 0, 0, 0, 0, 0, 0, 0, 0, 0, 0, 0, 0, 0, 0, 0, 0, 0, 0, 0, 0, 0, 0, 0, ...], [3, 4, 0, 0, 0, 0, 0, 0, 0, 0, 0, 0, 0, 0, 0, 0, 0, 0, 0, 0, 0, 0, 0, 0, 0, 0, 0, 0, 0, 0, 0, 0, 0, 0, 0, 0, 0, 0, 0, 0, 0, 0, 0, 0, 0, 0, 0, 0, 0, 0, 0, 0, 0, 0, 0, 0, 0, 0, 0, 0, 0, 0, 0, 0, 0, 0, 0, 0, 0, 0, 0, 0, 0, 0, 0, 0, 0, 0, 0, 0, 0, 0, 0, 0, 0, 0, 0, 0, 0, 0, 0, 0, 0, 0, 0, 0, 0, 0, 0, 0, ...], [3, 18, 4, 0, 0, 0, 0, 0, 0, 0, 0, 0, 0, 0, 0, 0, 0, 0, 0, 0, 0, 0, 0, 0, 0, 0, 0, 0, 0, 0, 0, 0, 0, 0, 0, 0, 0, 0, 0, 0, 0, 0, 0, 0, 0, 0, 0, 0, 0, 0, 0, 0, 0, 0, 0, 0, 0, 0, 0, 0, 0, 0, 0, 0, 0, 0, 0, 0, 0, 0, 0, 0, 0, 0, 0, 0, 0, 0, 0, 0, 0, 0, 0, 0, 0, 0, 0, 0, 0, 0, 0, 0, 0, 0, 0, 0, 0, 0, 0, 0, ...], [3, 496, 4, 0, 0, 0, 0, 0, 0, 0, 0, 0, 0, 0, 0, 0, 0, 0, 0, 0, 0, 0, 0, 0, 0, 0, 0, 0, 0, 0, 0, 0, 0, 0, 0, 0, 0, 0, 0, 0, 0, 0, 0, 0, 0, 0, 0, 0, 0, 0, 0, 0, 0, 0, 0, 0, 0, 0, 0, 0, 0, 0, 0, 0, 0, 0, 0, 0, 0, 0, 0, 0, 0, 0, 0, 0, 0, 0, 0, 0, 0, 0, 0, 0, 0, 0, 0, 0, 0, 0, 0, 0, 0, 0, 0, 0, 0, 0, 0, 0, ...], [3, 44, 4, 0, 0, 0, 0, 0, 0, 0, 0, 0, 0, 0, 0, 0, 0, 0, 0, 0, 0, 0, 0, 0, 0, 0, 0, 0, 0, 0, 0, 0, 0, 0, 0, 0, 0, 0, 0, 0, 0, 0, 0, 0, 0, 0, 0, 0, 0, 0, 0, 0, 0, 0, 0, 0, 0, 0, 0, 0, 0, 0, 0, 0, 0, 0, 0, 0, 0, 0, 0, 0, 0, 0, 0, 0, 0, 0, 0, 0, 0, 0, 0, 0, 0, 0, 0, 0, 0, 0, 0, 0, 0, 0, 0, 0, 0, 0, 0, 0, ...], [3, 209, 4, 0, 0, 0, 0, 0, 0, 0, 0, 0, 0, 0, 0, 0, 0, 0, 0, 0, 0, 0, 0, 0, 0, 0, 0, 0, 0, 0, 0, 0, 0, 0, 0, 0, 0, 0, 0, 0, 0, 0, 0, 0, 0, 0, 0, 0, 0, 0, 0, 0, 0, 0, 0, 0, 0, 0, 0, 0, 0, 0, 0, 0, 0, 0, 0, 0, 0, 0, 0, 0, 0, 0, 0, 0, 0, 0, 0, 0, 0, 0, 0, 0, 0, 0, 0, 0, 0, 0, 0, 0, 0, 0, 0, 0, 0, 0, 0, 0, ...], [3, 4, 0, 0, 0, 0, 0, 0, 0, 0, 0, 0, 0, 0, 0, 0, 0, 0, 0, 0, 0, 0, 0, 0, 0, 0, 0, 0, 0, 0, 0, 0, 0, 0, 0, 0, 0, 0, 0, 0, 0, 0, 0, 0, 0, 0, 0, 0, 0, 0, 0, 0, 0, 0, 0, 0, 0, 0, 0, 0, 0, 0, 0, 0, 0, 0, 0, 0, 0, 0, 0, 0, 0, 0, 0, 0, 0, 0, 0, 0, 0, 0, 0, 0, 0, 0, 0, 0, 0, 0, 0, 0, 0, 0, 0, 0, 0, 0, 0, 0, ...], [3, 46, 4, 0, 0, 0, 0, 0, 0, 0, 0, 0, 0, 0, 0, 0, 0, 0, 0, 0, 0, 0, 0, 0, 0, 0, 0, 0, 0, 0, 0, 0, 0, 0, 0, 0, 0, 0, 0, 0, 0, 0, 0, 0, 0, 0, 0, 0, 0, 0, 0, 0, 0, 0, 0, 0, 0, 0, 0, 0, 0, 0, 0, 0, 0, 0, 0, 0, 0, 0, 0, 0, 0, 0, 0, 0, 0, 0, 0, 0, 0, 0, 0, 0, 0, 0, 0, 0, 0, 0, 0, 0, 0, 0, 0, 0, 0, 0, 0, 0, ...], [3, 19, 4, 0, 0, 0, 0, 0, 0, 0, 0, 0, 0, 0, 0, 0, 0, 0, 0, 0, 0, 0, 0, 0, 0, 0, 0, 0, 0, 0, 0, 0, 0, 0, 0, 0, 0, 0, 0, 0, 0, 0, 0, 0, 0, 0, 0, 0, 0, 0, 0, 0, 0, 0, 0, 0, 0, 0, 0, 0, 0, 0, 0, 0, 0, 0, 0, 0, 0, 0, 0, 0, 0, 0, 0, 0, 0, 0, 0, 0, 0, 0, 0, 0, 0, 0, 0, 0, 0, 0, 0, 0, 0, 0, 0, 0, 0, 0, 0, 0, ...], [3, 209, 4, 0, 0, 0, 0, 0, 0, 0, 0, 0, 0, 0, 0, 0, 0, 0, 0, 0, 0, 0, 0, 0, 0, 0, 0, 0, 0, 0, 0, 0, 0, 0, 0, 0, 0, 0, 0, 0, 0, 0, 0, 0, 0, 0, 0, 0, 0, 0, 0, 0, 0, 0, 0, 0, 0, 0, 0, 0, 0, 0, 0, 0, 0, 0, 0, 0, 0, 0, 0, 0, 0, 0, 0, 0, 0, 0, 0, 0, 0, 0, 0, 0, 0, 0, 0, 0, 0, 0, 0, 0, 0, 0, 0, 0, 0, 0, 0, 0, ...], [3, 4, 0, 0, 0, 0, 0, 0, 0, 0, 0, 0, 0, 0, 0, 0, 0, 0, 0, 0, 0, 0, 0, 0, 0, 0, 0, 0, 0, 0, 0, 0, 0, 0, 0, 0, 0, 0, 0, 0, 0, 0, 0, 0, 0, 0, 0, 0, 0, 0, 0, 0, 0, 0, 0, 0, 0, 0, 0, 0, 0, 0, 0, 0, 0, 0, 0, 0, 0, 0, 0, 0, 0, 0, 0, 0, 0, 0, 0, 0, 0, 0, 0, 0, 0, 0, 0, 0, 0, 0, 0, 0, 0, 0, 0, 0, 0, 0, 0, 0, ...], [3, 170, 4, 0, 0, 0, 0, 0, 0, 0, 0, 0, 0, 0, 0, 0, 0, 0, 0, 0, 0, 0, 0, 0, 0, 0, 0, 0, 0, 0, 0, 0, 0, 0, 0, 0, 0, 0, 0, 0, 0, 0, 0, 0, 0, 0, 0, 0, 0, 0, 0, 0, 0, 0, 0, 0, 0, 0, 0, 0, 0, 0, 0, 0, 0, 0, 0, 0, 0, 0, 0, 0, 0, 0, 0, 0, 0, 0, 0, 0, 0, 0, 0, 0, 0, 0, 0, 0, 0, 0, 0, 0, 0, 0, 0, 0, 0, 0, 0, 0, ...], [3, 96, 4, 0, 0, 0, 0, 0, 0, 0, 0, 0, 0, 0, 0, 0, 0, 0, 0, 0, 0, 0, 0, 0, 0, 0, 0, 0, 0, 0, 0, 0, 0, 0, 0, 0, 0, 0, 0, 0, 0, 0, 0, 0, 0, 0, 0, 0, 0, 0, 0, 0, 0, 0, 0, 0, 0, 0, 0, 0, 0, 0, 0, 0, 0, 0, 0, 0, 0, 0, 0, 0, 0, 0, 0, 0, 0, 0, 0, 0, 0, 0, 0, 0, 0, 0, 0, 0, 0, 0, 0, 0, 0, 0, 0, 0, 0, 0, 0, 0, ...], [3, 18, 4, 0, 0, 0, 0, 0, 0, 0, 0, 0, 0, 0, 0, 0, 0, 0, 0, 0, 0, 0, 0, 0, 0, 0, 0, 0, 0, 0, 0, 0, 0, 0, 0, 0, 0, 0, 0, 0, 0, 0, 0, 0, 0, 0, 0, 0, 0, 0, 0, 0, 0, 0, 0, 0, 0, 0, 0, 0, 0, 0, 0, 0, 0, 0, 0, 0, 0, 0, 0, 0, 0, 0, 0, 0, 0, 0, 0, 0, 0, 0, 0, 0, 0, 0, 0, 0, 0, 0, 0, 0, 0, 0, 0, 0, 0, 0, 0, 0, ...], [3, 9560, 4, 0, 0, 0, 0, 0, 0, 0, 0, 0, 0, 0, 0, 0, 0, 0, 0, 0, 0, 0, 0, 0, 0, 0, 0, 0, 0, 0, 0, 0, 0, 0, 0, 0, 0, 0, 0, 0, 0, 0, 0, 0, 0, 0, 0, 0, 0, 0, 0, 0, 0, 0, 0, 0, 0, 0, 0, 0, 0, 0, 0, 0, 0, 0, 0, 0, 0, 0, 0, 0, 0, 0, 0, 0, 0, 0, 0, 0, 0, 0, 0, 0, 0, 0, 0, 0, 0, 0, 0, 0, 0, 0, 0, 0, 0, 0, 0, 0, ...], [3, 26918, 4, 0, 0, 0, 0, 0, 0, 0, 0, 0, 0, 0, 0, 0, 0, 0, 0, 0, 0, 0, 0, 0, 0, 0, 0, 0, 0, 0, 0, 0, 0, 0, 0, 0, 0, 0, 0, 0, 0, 0, 0, 0, 0, 0, 0, 0, 0, 0, 0, 0, 0, 0, 0, 0, 0, 0, 0, 0, 0, 0, 0, 0, 0, 0, 0, 0, 0, 0, 0, 0, 0, 0, 0, 0, 0, 0, 0, 0, 0, 0, 0, 0, 0, 0, 0, 0, 0, 0, 0, 0, 0, 0, 0, 0, 0, 0, 0, 0, ...], [3, 18, 4, 0, 0, 0, 0, 0, 0, 0, 0, 0, 0, 0, 0, 0, 0, 0, 0, 0, 0, 0, 0, 0, 0, 0, 0, 0, 0, 0, 0, 0, 0, 0, 0, 0, 0, 0, 0, 0, 0, 0, 0, 0, 0, 0, 0, 0, 0, 0, 0, 0, 0, 0, 0, 0, 0, 0, 0, 0, 0, 0, 0, 0, 0, 0, 0, 0, 0, 0, 0, 0, 0, 0, 0, 0, 0, 0, 0, 0, 0, 0, 0, 0, 0, 0, 0, 0, 0, 0, 0, 0, 0, 0, 0, 0, 0, 0, 0, 0, ...], [3, 40, 4, 0, 0, 0, 0, 0, 0, 0, 0, 0, 0, 0, 0, 0, 0, 0, 0, 0, 0, 0, 0, 0, 0, 0, 0, 0, 0, 0, 0, 0, 0, 0, 0, 0, 0, 0, 0, 0, 0, 0, 0, 0, 0...</td>\n",
              "    </tr>\n",
              "  </tbody>\n",
              "</table>\n",
              "</div>\n",
              "      <button class=\"colab-df-convert\" onclick=\"convertToInteractive('df-272cfa28-0a25-445b-8617-d2cc9ed3f748')\"\n",
              "              title=\"Convert this dataframe to an interactive table.\"\n",
              "              style=\"display:none;\">\n",
              "        \n",
              "  <svg xmlns=\"http://www.w3.org/2000/svg\" height=\"24px\"viewBox=\"0 0 24 24\"\n",
              "       width=\"24px\">\n",
              "    <path d=\"M0 0h24v24H0V0z\" fill=\"none\"/>\n",
              "    <path d=\"M18.56 5.44l.94 2.06.94-2.06 2.06-.94-2.06-.94-.94-2.06-.94 2.06-2.06.94zm-11 1L8.5 8.5l.94-2.06 2.06-.94-2.06-.94L8.5 2.5l-.94 2.06-2.06.94zm10 10l.94 2.06.94-2.06 2.06-.94-2.06-.94-.94-2.06-.94 2.06-2.06.94z\"/><path d=\"M17.41 7.96l-1.37-1.37c-.4-.4-.92-.59-1.43-.59-.52 0-1.04.2-1.43.59L10.3 9.45l-7.72 7.72c-.78.78-.78 2.05 0 2.83L4 21.41c.39.39.9.59 1.41.59.51 0 1.02-.2 1.41-.59l7.78-7.78 2.81-2.81c.8-.78.8-2.07 0-2.86zM5.41 20L4 18.59l7.72-7.72 1.47 1.35L5.41 20z\"/>\n",
              "  </svg>\n",
              "      </button>\n",
              "      \n",
              "  <style>\n",
              "    .colab-df-container {\n",
              "      display:flex;\n",
              "      flex-wrap:wrap;\n",
              "      gap: 12px;\n",
              "    }\n",
              "\n",
              "    .colab-df-convert {\n",
              "      background-color: #E8F0FE;\n",
              "      border: none;\n",
              "      border-radius: 50%;\n",
              "      cursor: pointer;\n",
              "      display: none;\n",
              "      fill: #1967D2;\n",
              "      height: 32px;\n",
              "      padding: 0 0 0 0;\n",
              "      width: 32px;\n",
              "    }\n",
              "\n",
              "    .colab-df-convert:hover {\n",
              "      background-color: #E2EBFA;\n",
              "      box-shadow: 0px 1px 2px rgba(60, 64, 67, 0.3), 0px 1px 3px 1px rgba(60, 64, 67, 0.15);\n",
              "      fill: #174EA6;\n",
              "    }\n",
              "\n",
              "    [theme=dark] .colab-df-convert {\n",
              "      background-color: #3B4455;\n",
              "      fill: #D2E3FC;\n",
              "    }\n",
              "\n",
              "    [theme=dark] .colab-df-convert:hover {\n",
              "      background-color: #434B5C;\n",
              "      box-shadow: 0px 1px 3px 1px rgba(0, 0, 0, 0.15);\n",
              "      filter: drop-shadow(0px 1px 2px rgba(0, 0, 0, 0.3));\n",
              "      fill: #FFFFFF;\n",
              "    }\n",
              "  </style>\n",
              "\n",
              "      <script>\n",
              "        const buttonEl =\n",
              "          document.querySelector('#df-272cfa28-0a25-445b-8617-d2cc9ed3f748 button.colab-df-convert');\n",
              "        buttonEl.style.display =\n",
              "          google.colab.kernel.accessAllowed ? 'block' : 'none';\n",
              "\n",
              "        async function convertToInteractive(key) {\n",
              "          const element = document.querySelector('#df-272cfa28-0a25-445b-8617-d2cc9ed3f748');\n",
              "          const dataTable =\n",
              "            await google.colab.kernel.invokeFunction('convertToInteractive',\n",
              "                                                     [key], {});\n",
              "          if (!dataTable) return;\n",
              "\n",
              "          const docLinkHtml = 'Like what you see? Visit the ' +\n",
              "            '<a target=\"_blank\" href=https://colab.research.google.com/notebooks/data_table.ipynb>data table notebook</a>'\n",
              "            + ' to learn more about interactive tables.';\n",
              "          element.innerHTML = '';\n",
              "          dataTable['output_type'] = 'display_data';\n",
              "          await google.colab.output.renderOutput(dataTable, element);\n",
              "          const docLink = document.createElement('div');\n",
              "          docLink.innerHTML = docLinkHtml;\n",
              "          element.appendChild(docLink);\n",
              "        }\n",
              "      </script>\n",
              "    </div>\n",
              "  </div>\n",
              "  "
            ]
          },
          "metadata": {},
          "execution_count": 44
        }
      ]
    },
    {
      "cell_type": "code",
      "source": [
        "input_ids = preprocess_text(df_transform[\"comment\"])"
      ],
      "metadata": {
        "id": "e1u8hIqJin7_"
      },
      "execution_count": null,
      "outputs": []
    },
    {
      "cell_type": "markdown",
      "source": [
        "Next, we split out data into train and test for cross validation:"
      ],
      "metadata": {
        "id": "6jNh1V0Y5y08"
      }
    },
    {
      "cell_type": "code",
      "source": [
        "# Sample data for cross validation\n",
        "train_ids, test_ids, train_labels, test_labels = train_test_split(\n",
        "    input_ids, df_transform[\"grade_bad\"], random_state=1, test_size=0.25, shuffle=True\n",
        ")\n",
        "print(f\"Train set: {len(train_ids)}\\nTest set: {len(test_ids)}\")"
      ],
      "metadata": {
        "colab": {
          "base_uri": "https://localhost:8080/"
        },
        "id": "-cuLk0n-i1vP",
        "outputId": "48f6889a-c2a6-4660-f4b9-cec74e11824a"
      },
      "execution_count": null,
      "outputs": [
        {
          "output_type": "stream",
          "name": "stdout",
          "text": [
            "Train set: 15000\n",
            "Test set: 5000\n"
          ]
        }
      ]
    },
    {
      "cell_type": "code",
      "source": [
        "# Set Model Parameters\n",
        "MAXLEN = MAXLEN\n",
        "BATCH_SIZE_PER_REPLICA = 16\n",
        "BATCH_SIZE = BATCH_SIZE_PER_REPLICA * strategy.num_replicas_in_sync\n",
        "EPOCHS = 8\n",
        "LEARNING_RATE = 1e-5\n",
        "DATA_LENGTH = len(df_transform)"
      ],
      "metadata": {
        "id": "BQtljxa6i7OF"
      },
      "execution_count": null,
      "outputs": []
    },
    {
      "cell_type": "code",
      "source": [
        "def create_dataset(\n",
        "    data_tuple,\n",
        "    epochs=EPOCHS,\n",
        "    batch_size=BATCH_SIZE,\n",
        "    buffer_size=DATA_LENGTH,\n",
        "    train=False,\n",
        "):\n",
        "    dataset = tf.data.Dataset.from_tensor_slices(data_tuple)\n",
        "    if train:\n",
        "        dataset = dataset.shuffle(\n",
        "            buffer_size=buffer_size, reshuffle_each_iteration=True\n",
        "        ).repeat(epochs)\n",
        "    dataset = dataset.batch(batch_size)\n",
        "    return dataset\n",
        "\n",
        "train = create_dataset(\n",
        "    (train_ids, train_labels), buffer_size=len(train_ids), train=True\n",
        ")\n",
        "test = create_dataset((test_ids, test_labels), buffer_size=len(test_ids))"
      ],
      "metadata": {
        "id": "zpBj_945jnyP"
      },
      "execution_count": null,
      "outputs": []
    },
    {
      "cell_type": "code",
      "source": [
        "def build_model(transformer, max_len=MAXLEN):\n",
        "    \"\"\" add binary classification to pretrained model\n",
        "    \"\"\"\n",
        "    input_word_ids = tf.keras.layers.Input(\n",
        "        shape=(max_len,), dtype=tf.int32, name=\"input_word_ids\"\n",
        "    )\n",
        "    sequence_output = transformer(input_word_ids)[0]\n",
        "    cls_token = sequence_output[:, 0, :]\n",
        "    out = tf.keras.layers.Dense(1, activation=\"sigmoid\")(cls_token)\n",
        "    model = tf.keras.models.Model(inputs=input_word_ids, outputs=out)\n",
        "    model.compile(\n",
        "        tf.keras.optimizers.Adam(lr=LEARNING_RATE),\n",
        "        loss=\"binary_crossentropy\",\n",
        "        metrics=[\"accuracy\"],\n",
        "    )\n",
        "    return model"
      ],
      "metadata": {
        "id": "W_0zWNuAjrs_"
      },
      "execution_count": null,
      "outputs": []
    },
    {
      "cell_type": "code",
      "source": [
        "with strategy.scope():\n",
        "    transformer_layers = TFBertModel.from_pretrained(\"bert-base-german-cased\")\n",
        "    model = build_model(transformer_layers, max_len=MAXLEN)\n",
        "model.summary()"
      ],
      "metadata": {
        "colab": {
          "base_uri": "https://localhost:8080/",
          "height": 642,
          "referenced_widgets": [
            "540b1abcdc46460c90a0961913bf0cd7",
            "70004bf440fa48bd84ac16ce5005bde4",
            "f09a5f3621df4edda311474dab65cdd6",
            "b1d353addc9249b99b64c20302f09fcc",
            "e563e14d3bc4421faf7c33a4e7a25c51",
            "0a0d436ac2c84a78858a3f07f263a374",
            "14e1882c6a0c46d3a3d392518d821338",
            "c63c686005d740a38f8ebf0ddddeb396",
            "2f0aca73c4df45c49036f1594231c91c",
            "0306f20779124f8ead1eae58ec9c8e54",
            "f8cb54c28ead4ecd84856bed14524cd1"
          ]
        },
        "id": "6_bvcpDGju4v",
        "outputId": "7ccda6e7-2c9d-4d4c-8283-d4e5d0bb552b"
      },
      "execution_count": null,
      "outputs": [
        {
          "output_type": "display_data",
          "data": {
            "text/plain": [
              "Downloading tf_model.h5:   0%|          | 0.00/533M [00:00<?, ?B/s]"
            ],
            "application/vnd.jupyter.widget-view+json": {
              "version_major": 2,
              "version_minor": 0,
              "model_id": "540b1abcdc46460c90a0961913bf0cd7"
            }
          },
          "metadata": {}
        },
        {
          "output_type": "stream",
          "name": "stderr",
          "text": [
            "Some layers from the model checkpoint at bert-base-german-cased were not used when initializing TFBertModel: ['mlm___cls', 'nsp___cls']\n",
            "- This IS expected if you are initializing TFBertModel from the checkpoint of a model trained on another task or with another architecture (e.g. initializing a BertForSequenceClassification model from a BertForPreTraining model).\n",
            "- This IS NOT expected if you are initializing TFBertModel from the checkpoint of a model that you expect to be exactly identical (initializing a BertForSequenceClassification model from a BertForSequenceClassification model).\n",
            "All the layers of TFBertModel were initialized from the model checkpoint at bert-base-german-cased.\n",
            "If your task is similar to the task the model of the checkpoint was trained on, you can already use TFBertModel for predictions without further training.\n",
            "WARNING:absl:`lr` is deprecated, please use `learning_rate` instead, or use the legacy optimizer, e.g.,tf.keras.optimizers.legacy.Adam.\n"
          ]
        },
        {
          "output_type": "stream",
          "name": "stdout",
          "text": [
            "Model: \"model\"\n",
            "_________________________________________________________________\n",
            " Layer (type)                Output Shape              Param #   \n",
            "=================================================================\n",
            " input_word_ids (InputLayer)  [(None, 192)]            0         \n",
            "                                                                 \n",
            " tf_bert_model (TFBertModel)  TFBaseModelOutputWithPoo  109081344\n",
            "                             lingAndCrossAttentions(l            \n",
            "                             ast_hidden_state=(None,             \n",
            "                             192, 768),                          \n",
            "                              pooler_output=(None, 76            \n",
            "                             8),                                 \n",
            "                              past_key_values=None, h            \n",
            "                             idden_states=None, atten            \n",
            "                             tions=None, cross_attent            \n",
            "                             ions=None)                          \n",
            "                                                                 \n",
            " tf.__operators__.getitem (S  (None, 768)              0         \n",
            " licingOpLambda)                                                 \n",
            "                                                                 \n",
            " dense (Dense)               (None, 1)                 769       \n",
            "                                                                 \n",
            "=================================================================\n",
            "Total params: 109,082,113\n",
            "Trainable params: 109,082,113\n",
            "Non-trainable params: 0\n",
            "_________________________________________________________________\n"
          ]
        }
      ]
    },
    {
      "cell_type": "markdown",
      "source": [
        "In the first step, we define an `Input` layer which expects our numeric vectors as input. Then, we add the pre trained transformer which receives the inputs from the previous layer. The output of the transformer is then fed into a `Dense` layer which finally outputs a probability for our input belonging to class 0 or 1.  \n",
        "Now, we build our model by first downloading the pre trained BERT and passing it to our `build_model` function:"
      ],
      "metadata": {
        "id": "qGQNo7B_57Ht"
      }
    },
    {
      "cell_type": "code",
      "source": [
        "# Stop training when validation acc starts dropping\n",
        "# Save checkpoint of model each period\n",
        "now = datetime.now().strftime(\"%Y-%m-%d_%H%M\")\n",
        "# Create callbacks\n",
        "callbacks = [\n",
        "    tf.keras.callbacks.EarlyStopping(\n",
        "        monitor=\"val_loss\", verbose=1, patience=1, restore_best_weights=True\n",
        "    ),\n",
        "    # tf.keras.callbacks.ModelCheckpoint(\n",
        "    #    PATH_GDRIVE_TMP + now + \"_Model_{epoch:02d}_{val_loss:.4f}.h5\",\n",
        "    #    monitor=\"val_loss\",\n",
        "    #    save_best_only=True,\n",
        "    #    verbose=1,\n",
        "    # ),\n",
        "]\n"
      ],
      "metadata": {
        "id": "2kJLIm0_jyZW"
      },
      "execution_count": null,
      "outputs": []
    },
    {
      "cell_type": "code",
      "source": [
        "# Stop training when validation acc starts dropping\n",
        "# Save checkpoint of model each period\n",
        "now = datetime.now().strftime(\"%Y-%m-%d_%H%M\")\n",
        "# Create callbacks\n",
        "callbacks = [\n",
        "    tf.keras.callbacks.EarlyStopping(\n",
        "        monitor=\"val_loss\", verbose=1, patience=1, restore_best_weights=True\n",
        "    ),\n",
        "    # tf.keras.callbacks.ModelCheckpoint(\n",
        "    #    PATH_GDRIVE_TMP + now + \"_Model_{epoch:02d}_{val_loss:.4f}.h5\",\n",
        "    #    monitor=\"val_loss\",\n",
        "    #    save_best_only=True,\n",
        "    #    verbose=1,\n",
        "    # ),\n",
        "]"
      ],
      "metadata": {
        "id": "9IzBVyLikCdn"
      },
      "execution_count": null,
      "outputs": []
    },
    {
      "cell_type": "code",
      "source": [
        "%%time\n",
        "# Train using appropriate steps per epochs (go through all train data in an epoch)\n",
        "steps_per_epoch = int(np.floor((len(train_ids) / BATCH_SIZE)))\n",
        "print(\n",
        "    f\"Model Params:\\nbatch_size: {BATCH_SIZE}\\nEpochs: {EPOCHS}\\n\"\n",
        "    f\"Step p. Epoch: {steps_per_epoch}\\n\"\n",
        "    f\"Learning rate: {LEARNING_RATE}\"\n",
        ")\n",
        "hist = model.fit(\n",
        "    train,\n",
        "    batch_size=BATCH_SIZE,\n",
        "    epochs=EPOCHS,\n",
        "    steps_per_epoch=steps_per_epoch,\n",
        "    validation_data=test,\n",
        "    verbose=1,\n",
        "    callbacks=callbacks,\n",
        ")"
      ],
      "metadata": {
        "colab": {
          "base_uri": "https://localhost:8080/"
        },
        "id": "Qso6RMzbj9yU",
        "outputId": "63f42af8-a75e-4877-d7e7-b72547f32f6b"
      },
      "execution_count": null,
      "outputs": [
        {
          "output_type": "stream",
          "name": "stdout",
          "text": [
            "Model Params:\n",
            "batch_size: 16\n",
            "Epochs: 8\n",
            "Step p. Epoch: 937\n",
            "Learning rate: 1e-05\n",
            "Epoch 1/8\n"
          ]
        },
        {
          "output_type": "stream",
          "name": "stderr",
          "text": [
            "WARNING:tensorflow:Gradients do not exist for variables ['tf_bert_model/bert/pooler/dense/kernel:0', 'tf_bert_model/bert/pooler/dense/bias:0'] when minimizing the loss. If you're using `model.compile()`, did you forget to provide a `loss` argument?\n",
            "WARNING:tensorflow:Gradients do not exist for variables ['tf_bert_model/bert/pooler/dense/kernel:0', 'tf_bert_model/bert/pooler/dense/bias:0'] when minimizing the loss. If you're using `model.compile()`, did you forget to provide a `loss` argument?\n",
            "WARNING:tensorflow:Gradients do not exist for variables ['tf_bert_model/bert/pooler/dense/kernel:0', 'tf_bert_model/bert/pooler/dense/bias:0'] when minimizing the loss. If you're using `model.compile()`, did you forget to provide a `loss` argument?\n",
            "WARNING:tensorflow:Gradients do not exist for variables ['tf_bert_model/bert/pooler/dense/kernel:0', 'tf_bert_model/bert/pooler/dense/bias:0'] when minimizing the loss. If you're using `model.compile()`, did you forget to provide a `loss` argument?\n"
          ]
        },
        {
          "output_type": "stream",
          "name": "stdout",
          "text": [
            "937/937 [==============================] - 737s 712ms/step - loss: 0.7533 - accuracy: 0.4947 - val_loss: 0.7133 - val_accuracy: 0.4928\n",
            "Epoch 2/8\n",
            "937/937 [==============================] - 662s 707ms/step - loss: 0.7014 - accuracy: 0.5075 - val_loss: 0.6933 - val_accuracy: 0.5072\n",
            "Epoch 3/8\n",
            "638/937 [===================>..........] - ETA: 3:09 - loss: 0.6983 - accuracy: 0.5040"
          ]
        }
      ]
    },
    {
      "cell_type": "code",
      "source": [
        "loss = pd.DataFrame(\n",
        "    {\"train loss\": hist.history[\"loss\"], \"test loss\": hist.history[\"val_loss\"]}\n",
        ").melt()\n",
        "loss[\"epoch\"] = loss.groupby(\"variable\").cumcount() + 1\n",
        "sns.lineplot(x=\"epoch\", y=\"value\", hue=\"variable\", data=loss).set(\n",
        "    title=\"Model loss\",\n",
        "    ylabel=\"\",\n",
        "    xticks=range(1, loss[\"epoch\"].max() + 1),\n",
        "    xticklabels=loss[\"epoch\"].unique(),\n",
        ")"
      ],
      "metadata": {
        "id": "zsFsARadjjpB"
      },
      "execution_count": null,
      "outputs": []
    },
    {
      "cell_type": "code",
      "source": [
        "pred = model.predict(test, batch_size=BATCH_SIZE, verbose=2, use_multiprocessing=True)\n"
      ],
      "metadata": {
        "id": "d2bNm1DikMQv"
      },
      "execution_count": null,
      "outputs": []
    },
    {
      "cell_type": "code",
      "source": [
        "# Load best model from Checkpoint\n",
        "# model = load_model(PATH_GDRIVE_TMP+\"BERT.h5\", compile=False)\n",
        "pred_class = (pred > 0.5).astype(int)\n",
        "report = metrics.classification_report(test_labels, pred_class)\n",
        "print(report)"
      ],
      "metadata": {
        "id": "pVSYViFikM9_"
      },
      "execution_count": null,
      "outputs": []
    },
    {
      "cell_type": "markdown",
      "source": [
        "Unfortunately , I was unable to run BERT transformers due to lack of GPU resources. Other models could be a solution to our case study such as:GermanGPT2, XLM-RoBERTa, flair models..."
      ],
      "metadata": {
        "id": "fHim3ePE6OcO"
      }
    },
    {
      "cell_type": "markdown",
      "source": [
        "### Conclusion\n",
        "Using the traditional methods, LogisticRegression is a promising model with macro f1-score = 0.9. The LSTM model which uses a pretrained embedding has also the same performance with macro f1-score = 0.9. Unfortunately, I was unable to run the transformers due to lack of resources (GPU).\n",
        "\n",
        "\n",
        "These results could be of course better by eliminating other words such as \"doctor\" (arzt) and \"miss\" (frau) which are very common but probably won't help our algorithm to differentiate between sentiments. "
      ],
      "metadata": {
        "id": "Staggcaw7b0A"
      }
    }
  ],
  "metadata": {
    "accelerator": "GPU",
    "colab": {
      "provenance": []
    },
    "gpuClass": "standard",
    "kernelspec": {
      "display_name": "Python 3",
      "name": "python3"
    },
    "language_info": {
      "name": "python"
    },
    "widgets": {
      "application/vnd.jupyter.widget-state+json": {
        "a8c33c9f41f84c9b9db53089a1dbac45": {
          "model_module": "@jupyter-widgets/controls",
          "model_name": "HBoxModel",
          "model_module_version": "1.5.0",
          "state": {
            "_dom_classes": [],
            "_model_module": "@jupyter-widgets/controls",
            "_model_module_version": "1.5.0",
            "_model_name": "HBoxModel",
            "_view_count": null,
            "_view_module": "@jupyter-widgets/controls",
            "_view_module_version": "1.5.0",
            "_view_name": "HBoxView",
            "box_style": "",
            "children": [
              "IPY_MODEL_8e4ca8c020f049c9986a09ed557ce1d7",
              "IPY_MODEL_3199e725ab184db39e6356f4e7c74b8f",
              "IPY_MODEL_ccb40fc05cc047c0bd2cc3e84470585c"
            ],
            "layout": "IPY_MODEL_0034af26a324435bbb10c6641a8afb90"
          }
        },
        "8e4ca8c020f049c9986a09ed557ce1d7": {
          "model_module": "@jupyter-widgets/controls",
          "model_name": "HTMLModel",
          "model_module_version": "1.5.0",
          "state": {
            "_dom_classes": [],
            "_model_module": "@jupyter-widgets/controls",
            "_model_module_version": "1.5.0",
            "_model_name": "HTMLModel",
            "_view_count": null,
            "_view_module": "@jupyter-widgets/controls",
            "_view_module_version": "1.5.0",
            "_view_name": "HTMLView",
            "description": "",
            "description_tooltip": null,
            "layout": "IPY_MODEL_d45a30858085492b81914ffcb1213cb3",
            "placeholder": "​",
            "style": "IPY_MODEL_a88a3091cf1347ab92311e6e236c34e4",
            "value": "Downloading (…)solve/main/vocab.txt: 100%"
          }
        },
        "3199e725ab184db39e6356f4e7c74b8f": {
          "model_module": "@jupyter-widgets/controls",
          "model_name": "FloatProgressModel",
          "model_module_version": "1.5.0",
          "state": {
            "_dom_classes": [],
            "_model_module": "@jupyter-widgets/controls",
            "_model_module_version": "1.5.0",
            "_model_name": "FloatProgressModel",
            "_view_count": null,
            "_view_module": "@jupyter-widgets/controls",
            "_view_module_version": "1.5.0",
            "_view_name": "ProgressView",
            "bar_style": "success",
            "description": "",
            "description_tooltip": null,
            "layout": "IPY_MODEL_8390b302255a4b58810563de63062fa7",
            "max": 254728,
            "min": 0,
            "orientation": "horizontal",
            "style": "IPY_MODEL_d60851b3ebb64b6e8af3e8abfb46b852",
            "value": 254728
          }
        },
        "ccb40fc05cc047c0bd2cc3e84470585c": {
          "model_module": "@jupyter-widgets/controls",
          "model_name": "HTMLModel",
          "model_module_version": "1.5.0",
          "state": {
            "_dom_classes": [],
            "_model_module": "@jupyter-widgets/controls",
            "_model_module_version": "1.5.0",
            "_model_name": "HTMLModel",
            "_view_count": null,
            "_view_module": "@jupyter-widgets/controls",
            "_view_module_version": "1.5.0",
            "_view_name": "HTMLView",
            "description": "",
            "description_tooltip": null,
            "layout": "IPY_MODEL_ec0bf81d064d4ea3868b610c7ceb2321",
            "placeholder": "​",
            "style": "IPY_MODEL_7ba153be72bb4af2be3d3d16efeb7e0e",
            "value": " 255k/255k [00:00&lt;00:00, 1.73MB/s]"
          }
        },
        "0034af26a324435bbb10c6641a8afb90": {
          "model_module": "@jupyter-widgets/base",
          "model_name": "LayoutModel",
          "model_module_version": "1.2.0",
          "state": {
            "_model_module": "@jupyter-widgets/base",
            "_model_module_version": "1.2.0",
            "_model_name": "LayoutModel",
            "_view_count": null,
            "_view_module": "@jupyter-widgets/base",
            "_view_module_version": "1.2.0",
            "_view_name": "LayoutView",
            "align_content": null,
            "align_items": null,
            "align_self": null,
            "border": null,
            "bottom": null,
            "display": null,
            "flex": null,
            "flex_flow": null,
            "grid_area": null,
            "grid_auto_columns": null,
            "grid_auto_flow": null,
            "grid_auto_rows": null,
            "grid_column": null,
            "grid_gap": null,
            "grid_row": null,
            "grid_template_areas": null,
            "grid_template_columns": null,
            "grid_template_rows": null,
            "height": null,
            "justify_content": null,
            "justify_items": null,
            "left": null,
            "margin": null,
            "max_height": null,
            "max_width": null,
            "min_height": null,
            "min_width": null,
            "object_fit": null,
            "object_position": null,
            "order": null,
            "overflow": null,
            "overflow_x": null,
            "overflow_y": null,
            "padding": null,
            "right": null,
            "top": null,
            "visibility": null,
            "width": null
          }
        },
        "d45a30858085492b81914ffcb1213cb3": {
          "model_module": "@jupyter-widgets/base",
          "model_name": "LayoutModel",
          "model_module_version": "1.2.0",
          "state": {
            "_model_module": "@jupyter-widgets/base",
            "_model_module_version": "1.2.0",
            "_model_name": "LayoutModel",
            "_view_count": null,
            "_view_module": "@jupyter-widgets/base",
            "_view_module_version": "1.2.0",
            "_view_name": "LayoutView",
            "align_content": null,
            "align_items": null,
            "align_self": null,
            "border": null,
            "bottom": null,
            "display": null,
            "flex": null,
            "flex_flow": null,
            "grid_area": null,
            "grid_auto_columns": null,
            "grid_auto_flow": null,
            "grid_auto_rows": null,
            "grid_column": null,
            "grid_gap": null,
            "grid_row": null,
            "grid_template_areas": null,
            "grid_template_columns": null,
            "grid_template_rows": null,
            "height": null,
            "justify_content": null,
            "justify_items": null,
            "left": null,
            "margin": null,
            "max_height": null,
            "max_width": null,
            "min_height": null,
            "min_width": null,
            "object_fit": null,
            "object_position": null,
            "order": null,
            "overflow": null,
            "overflow_x": null,
            "overflow_y": null,
            "padding": null,
            "right": null,
            "top": null,
            "visibility": null,
            "width": null
          }
        },
        "a88a3091cf1347ab92311e6e236c34e4": {
          "model_module": "@jupyter-widgets/controls",
          "model_name": "DescriptionStyleModel",
          "model_module_version": "1.5.0",
          "state": {
            "_model_module": "@jupyter-widgets/controls",
            "_model_module_version": "1.5.0",
            "_model_name": "DescriptionStyleModel",
            "_view_count": null,
            "_view_module": "@jupyter-widgets/base",
            "_view_module_version": "1.2.0",
            "_view_name": "StyleView",
            "description_width": ""
          }
        },
        "8390b302255a4b58810563de63062fa7": {
          "model_module": "@jupyter-widgets/base",
          "model_name": "LayoutModel",
          "model_module_version": "1.2.0",
          "state": {
            "_model_module": "@jupyter-widgets/base",
            "_model_module_version": "1.2.0",
            "_model_name": "LayoutModel",
            "_view_count": null,
            "_view_module": "@jupyter-widgets/base",
            "_view_module_version": "1.2.0",
            "_view_name": "LayoutView",
            "align_content": null,
            "align_items": null,
            "align_self": null,
            "border": null,
            "bottom": null,
            "display": null,
            "flex": null,
            "flex_flow": null,
            "grid_area": null,
            "grid_auto_columns": null,
            "grid_auto_flow": null,
            "grid_auto_rows": null,
            "grid_column": null,
            "grid_gap": null,
            "grid_row": null,
            "grid_template_areas": null,
            "grid_template_columns": null,
            "grid_template_rows": null,
            "height": null,
            "justify_content": null,
            "justify_items": null,
            "left": null,
            "margin": null,
            "max_height": null,
            "max_width": null,
            "min_height": null,
            "min_width": null,
            "object_fit": null,
            "object_position": null,
            "order": null,
            "overflow": null,
            "overflow_x": null,
            "overflow_y": null,
            "padding": null,
            "right": null,
            "top": null,
            "visibility": null,
            "width": null
          }
        },
        "d60851b3ebb64b6e8af3e8abfb46b852": {
          "model_module": "@jupyter-widgets/controls",
          "model_name": "ProgressStyleModel",
          "model_module_version": "1.5.0",
          "state": {
            "_model_module": "@jupyter-widgets/controls",
            "_model_module_version": "1.5.0",
            "_model_name": "ProgressStyleModel",
            "_view_count": null,
            "_view_module": "@jupyter-widgets/base",
            "_view_module_version": "1.2.0",
            "_view_name": "StyleView",
            "bar_color": null,
            "description_width": ""
          }
        },
        "ec0bf81d064d4ea3868b610c7ceb2321": {
          "model_module": "@jupyter-widgets/base",
          "model_name": "LayoutModel",
          "model_module_version": "1.2.0",
          "state": {
            "_model_module": "@jupyter-widgets/base",
            "_model_module_version": "1.2.0",
            "_model_name": "LayoutModel",
            "_view_count": null,
            "_view_module": "@jupyter-widgets/base",
            "_view_module_version": "1.2.0",
            "_view_name": "LayoutView",
            "align_content": null,
            "align_items": null,
            "align_self": null,
            "border": null,
            "bottom": null,
            "display": null,
            "flex": null,
            "flex_flow": null,
            "grid_area": null,
            "grid_auto_columns": null,
            "grid_auto_flow": null,
            "grid_auto_rows": null,
            "grid_column": null,
            "grid_gap": null,
            "grid_row": null,
            "grid_template_areas": null,
            "grid_template_columns": null,
            "grid_template_rows": null,
            "height": null,
            "justify_content": null,
            "justify_items": null,
            "left": null,
            "margin": null,
            "max_height": null,
            "max_width": null,
            "min_height": null,
            "min_width": null,
            "object_fit": null,
            "object_position": null,
            "order": null,
            "overflow": null,
            "overflow_x": null,
            "overflow_y": null,
            "padding": null,
            "right": null,
            "top": null,
            "visibility": null,
            "width": null
          }
        },
        "7ba153be72bb4af2be3d3d16efeb7e0e": {
          "model_module": "@jupyter-widgets/controls",
          "model_name": "DescriptionStyleModel",
          "model_module_version": "1.5.0",
          "state": {
            "_model_module": "@jupyter-widgets/controls",
            "_model_module_version": "1.5.0",
            "_model_name": "DescriptionStyleModel",
            "_view_count": null,
            "_view_module": "@jupyter-widgets/base",
            "_view_module_version": "1.2.0",
            "_view_name": "StyleView",
            "description_width": ""
          }
        },
        "396ca804f2c940638edb0daa5f00301a": {
          "model_module": "@jupyter-widgets/controls",
          "model_name": "HBoxModel",
          "model_module_version": "1.5.0",
          "state": {
            "_dom_classes": [],
            "_model_module": "@jupyter-widgets/controls",
            "_model_module_version": "1.5.0",
            "_model_name": "HBoxModel",
            "_view_count": null,
            "_view_module": "@jupyter-widgets/controls",
            "_view_module_version": "1.5.0",
            "_view_name": "HBoxView",
            "box_style": "",
            "children": [
              "IPY_MODEL_7f5d0613a48f4d0e8caec612e1c52d0a",
              "IPY_MODEL_a02ec2b25d294602b5229c13d0d0ac0c",
              "IPY_MODEL_9f93c8d97251477eb970ac35c2116d93"
            ],
            "layout": "IPY_MODEL_896086ca7f1e427190395355dc4cbf52"
          }
        },
        "7f5d0613a48f4d0e8caec612e1c52d0a": {
          "model_module": "@jupyter-widgets/controls",
          "model_name": "HTMLModel",
          "model_module_version": "1.5.0",
          "state": {
            "_dom_classes": [],
            "_model_module": "@jupyter-widgets/controls",
            "_model_module_version": "1.5.0",
            "_model_name": "HTMLModel",
            "_view_count": null,
            "_view_module": "@jupyter-widgets/controls",
            "_view_module_version": "1.5.0",
            "_view_name": "HTMLView",
            "description": "",
            "description_tooltip": null,
            "layout": "IPY_MODEL_8f47fff872e94e7a8418808a7ac7add2",
            "placeholder": "​",
            "style": "IPY_MODEL_8acafe2457e44ba88e89e8c13d398744",
            "value": "Downloading (…)okenizer_config.json: 100%"
          }
        },
        "a02ec2b25d294602b5229c13d0d0ac0c": {
          "model_module": "@jupyter-widgets/controls",
          "model_name": "FloatProgressModel",
          "model_module_version": "1.5.0",
          "state": {
            "_dom_classes": [],
            "_model_module": "@jupyter-widgets/controls",
            "_model_module_version": "1.5.0",
            "_model_name": "FloatProgressModel",
            "_view_count": null,
            "_view_module": "@jupyter-widgets/controls",
            "_view_module_version": "1.5.0",
            "_view_name": "ProgressView",
            "bar_style": "success",
            "description": "",
            "description_tooltip": null,
            "layout": "IPY_MODEL_af4e03153c75450f8262c318caf651ff",
            "max": 29,
            "min": 0,
            "orientation": "horizontal",
            "style": "IPY_MODEL_0de47d7df76e4c9e83276356e240bd0b",
            "value": 29
          }
        },
        "9f93c8d97251477eb970ac35c2116d93": {
          "model_module": "@jupyter-widgets/controls",
          "model_name": "HTMLModel",
          "model_module_version": "1.5.0",
          "state": {
            "_dom_classes": [],
            "_model_module": "@jupyter-widgets/controls",
            "_model_module_version": "1.5.0",
            "_model_name": "HTMLModel",
            "_view_count": null,
            "_view_module": "@jupyter-widgets/controls",
            "_view_module_version": "1.5.0",
            "_view_name": "HTMLView",
            "description": "",
            "description_tooltip": null,
            "layout": "IPY_MODEL_a3030f303a6c47b1900015d49236fcbd",
            "placeholder": "​",
            "style": "IPY_MODEL_784a548a2396419cba6b36fe9c4d7c7e",
            "value": " 29.0/29.0 [00:00&lt;00:00, 543B/s]"
          }
        },
        "896086ca7f1e427190395355dc4cbf52": {
          "model_module": "@jupyter-widgets/base",
          "model_name": "LayoutModel",
          "model_module_version": "1.2.0",
          "state": {
            "_model_module": "@jupyter-widgets/base",
            "_model_module_version": "1.2.0",
            "_model_name": "LayoutModel",
            "_view_count": null,
            "_view_module": "@jupyter-widgets/base",
            "_view_module_version": "1.2.0",
            "_view_name": "LayoutView",
            "align_content": null,
            "align_items": null,
            "align_self": null,
            "border": null,
            "bottom": null,
            "display": null,
            "flex": null,
            "flex_flow": null,
            "grid_area": null,
            "grid_auto_columns": null,
            "grid_auto_flow": null,
            "grid_auto_rows": null,
            "grid_column": null,
            "grid_gap": null,
            "grid_row": null,
            "grid_template_areas": null,
            "grid_template_columns": null,
            "grid_template_rows": null,
            "height": null,
            "justify_content": null,
            "justify_items": null,
            "left": null,
            "margin": null,
            "max_height": null,
            "max_width": null,
            "min_height": null,
            "min_width": null,
            "object_fit": null,
            "object_position": null,
            "order": null,
            "overflow": null,
            "overflow_x": null,
            "overflow_y": null,
            "padding": null,
            "right": null,
            "top": null,
            "visibility": null,
            "width": null
          }
        },
        "8f47fff872e94e7a8418808a7ac7add2": {
          "model_module": "@jupyter-widgets/base",
          "model_name": "LayoutModel",
          "model_module_version": "1.2.0",
          "state": {
            "_model_module": "@jupyter-widgets/base",
            "_model_module_version": "1.2.0",
            "_model_name": "LayoutModel",
            "_view_count": null,
            "_view_module": "@jupyter-widgets/base",
            "_view_module_version": "1.2.0",
            "_view_name": "LayoutView",
            "align_content": null,
            "align_items": null,
            "align_self": null,
            "border": null,
            "bottom": null,
            "display": null,
            "flex": null,
            "flex_flow": null,
            "grid_area": null,
            "grid_auto_columns": null,
            "grid_auto_flow": null,
            "grid_auto_rows": null,
            "grid_column": null,
            "grid_gap": null,
            "grid_row": null,
            "grid_template_areas": null,
            "grid_template_columns": null,
            "grid_template_rows": null,
            "height": null,
            "justify_content": null,
            "justify_items": null,
            "left": null,
            "margin": null,
            "max_height": null,
            "max_width": null,
            "min_height": null,
            "min_width": null,
            "object_fit": null,
            "object_position": null,
            "order": null,
            "overflow": null,
            "overflow_x": null,
            "overflow_y": null,
            "padding": null,
            "right": null,
            "top": null,
            "visibility": null,
            "width": null
          }
        },
        "8acafe2457e44ba88e89e8c13d398744": {
          "model_module": "@jupyter-widgets/controls",
          "model_name": "DescriptionStyleModel",
          "model_module_version": "1.5.0",
          "state": {
            "_model_module": "@jupyter-widgets/controls",
            "_model_module_version": "1.5.0",
            "_model_name": "DescriptionStyleModel",
            "_view_count": null,
            "_view_module": "@jupyter-widgets/base",
            "_view_module_version": "1.2.0",
            "_view_name": "StyleView",
            "description_width": ""
          }
        },
        "af4e03153c75450f8262c318caf651ff": {
          "model_module": "@jupyter-widgets/base",
          "model_name": "LayoutModel",
          "model_module_version": "1.2.0",
          "state": {
            "_model_module": "@jupyter-widgets/base",
            "_model_module_version": "1.2.0",
            "_model_name": "LayoutModel",
            "_view_count": null,
            "_view_module": "@jupyter-widgets/base",
            "_view_module_version": "1.2.0",
            "_view_name": "LayoutView",
            "align_content": null,
            "align_items": null,
            "align_self": null,
            "border": null,
            "bottom": null,
            "display": null,
            "flex": null,
            "flex_flow": null,
            "grid_area": null,
            "grid_auto_columns": null,
            "grid_auto_flow": null,
            "grid_auto_rows": null,
            "grid_column": null,
            "grid_gap": null,
            "grid_row": null,
            "grid_template_areas": null,
            "grid_template_columns": null,
            "grid_template_rows": null,
            "height": null,
            "justify_content": null,
            "justify_items": null,
            "left": null,
            "margin": null,
            "max_height": null,
            "max_width": null,
            "min_height": null,
            "min_width": null,
            "object_fit": null,
            "object_position": null,
            "order": null,
            "overflow": null,
            "overflow_x": null,
            "overflow_y": null,
            "padding": null,
            "right": null,
            "top": null,
            "visibility": null,
            "width": null
          }
        },
        "0de47d7df76e4c9e83276356e240bd0b": {
          "model_module": "@jupyter-widgets/controls",
          "model_name": "ProgressStyleModel",
          "model_module_version": "1.5.0",
          "state": {
            "_model_module": "@jupyter-widgets/controls",
            "_model_module_version": "1.5.0",
            "_model_name": "ProgressStyleModel",
            "_view_count": null,
            "_view_module": "@jupyter-widgets/base",
            "_view_module_version": "1.2.0",
            "_view_name": "StyleView",
            "bar_color": null,
            "description_width": ""
          }
        },
        "a3030f303a6c47b1900015d49236fcbd": {
          "model_module": "@jupyter-widgets/base",
          "model_name": "LayoutModel",
          "model_module_version": "1.2.0",
          "state": {
            "_model_module": "@jupyter-widgets/base",
            "_model_module_version": "1.2.0",
            "_model_name": "LayoutModel",
            "_view_count": null,
            "_view_module": "@jupyter-widgets/base",
            "_view_module_version": "1.2.0",
            "_view_name": "LayoutView",
            "align_content": null,
            "align_items": null,
            "align_self": null,
            "border": null,
            "bottom": null,
            "display": null,
            "flex": null,
            "flex_flow": null,
            "grid_area": null,
            "grid_auto_columns": null,
            "grid_auto_flow": null,
            "grid_auto_rows": null,
            "grid_column": null,
            "grid_gap": null,
            "grid_row": null,
            "grid_template_areas": null,
            "grid_template_columns": null,
            "grid_template_rows": null,
            "height": null,
            "justify_content": null,
            "justify_items": null,
            "left": null,
            "margin": null,
            "max_height": null,
            "max_width": null,
            "min_height": null,
            "min_width": null,
            "object_fit": null,
            "object_position": null,
            "order": null,
            "overflow": null,
            "overflow_x": null,
            "overflow_y": null,
            "padding": null,
            "right": null,
            "top": null,
            "visibility": null,
            "width": null
          }
        },
        "784a548a2396419cba6b36fe9c4d7c7e": {
          "model_module": "@jupyter-widgets/controls",
          "model_name": "DescriptionStyleModel",
          "model_module_version": "1.5.0",
          "state": {
            "_model_module": "@jupyter-widgets/controls",
            "_model_module_version": "1.5.0",
            "_model_name": "DescriptionStyleModel",
            "_view_count": null,
            "_view_module": "@jupyter-widgets/base",
            "_view_module_version": "1.2.0",
            "_view_name": "StyleView",
            "description_width": ""
          }
        },
        "cf802807354341c98f642f697b696dcf": {
          "model_module": "@jupyter-widgets/controls",
          "model_name": "HBoxModel",
          "model_module_version": "1.5.0",
          "state": {
            "_dom_classes": [],
            "_model_module": "@jupyter-widgets/controls",
            "_model_module_version": "1.5.0",
            "_model_name": "HBoxModel",
            "_view_count": null,
            "_view_module": "@jupyter-widgets/controls",
            "_view_module_version": "1.5.0",
            "_view_name": "HBoxView",
            "box_style": "",
            "children": [
              "IPY_MODEL_2d2366b154a34b23a1d50456f1f6004f",
              "IPY_MODEL_b5edcd68d044449cb47de2e1d8f375d2",
              "IPY_MODEL_286c59bce6c746d5836025be7a4f4cbe"
            ],
            "layout": "IPY_MODEL_9cf3baa68b354ceaa6a002477a835f37"
          }
        },
        "2d2366b154a34b23a1d50456f1f6004f": {
          "model_module": "@jupyter-widgets/controls",
          "model_name": "HTMLModel",
          "model_module_version": "1.5.0",
          "state": {
            "_dom_classes": [],
            "_model_module": "@jupyter-widgets/controls",
            "_model_module_version": "1.5.0",
            "_model_name": "HTMLModel",
            "_view_count": null,
            "_view_module": "@jupyter-widgets/controls",
            "_view_module_version": "1.5.0",
            "_view_name": "HTMLView",
            "description": "",
            "description_tooltip": null,
            "layout": "IPY_MODEL_702d1ecfe6204462af023941c00422a4",
            "placeholder": "​",
            "style": "IPY_MODEL_32b4b2ae043d442db438b3fe3a7a76bb",
            "value": "Downloading (…)lve/main/config.json: 100%"
          }
        },
        "b5edcd68d044449cb47de2e1d8f375d2": {
          "model_module": "@jupyter-widgets/controls",
          "model_name": "FloatProgressModel",
          "model_module_version": "1.5.0",
          "state": {
            "_dom_classes": [],
            "_model_module": "@jupyter-widgets/controls",
            "_model_module_version": "1.5.0",
            "_model_name": "FloatProgressModel",
            "_view_count": null,
            "_view_module": "@jupyter-widgets/controls",
            "_view_module_version": "1.5.0",
            "_view_name": "ProgressView",
            "bar_style": "success",
            "description": "",
            "description_tooltip": null,
            "layout": "IPY_MODEL_e435bf4a4d6144d2a52e80bf54373cb3",
            "max": 433,
            "min": 0,
            "orientation": "horizontal",
            "style": "IPY_MODEL_894a595eb8b948ee8b70907593ccfd01",
            "value": 433
          }
        },
        "286c59bce6c746d5836025be7a4f4cbe": {
          "model_module": "@jupyter-widgets/controls",
          "model_name": "HTMLModel",
          "model_module_version": "1.5.0",
          "state": {
            "_dom_classes": [],
            "_model_module": "@jupyter-widgets/controls",
            "_model_module_version": "1.5.0",
            "_model_name": "HTMLModel",
            "_view_count": null,
            "_view_module": "@jupyter-widgets/controls",
            "_view_module_version": "1.5.0",
            "_view_name": "HTMLView",
            "description": "",
            "description_tooltip": null,
            "layout": "IPY_MODEL_f8890f8152fc42f18102cb8dd71868fc",
            "placeholder": "​",
            "style": "IPY_MODEL_99fface0993341a1a52d261bd2e0374c",
            "value": " 433/433 [00:00&lt;00:00, 16.6kB/s]"
          }
        },
        "9cf3baa68b354ceaa6a002477a835f37": {
          "model_module": "@jupyter-widgets/base",
          "model_name": "LayoutModel",
          "model_module_version": "1.2.0",
          "state": {
            "_model_module": "@jupyter-widgets/base",
            "_model_module_version": "1.2.0",
            "_model_name": "LayoutModel",
            "_view_count": null,
            "_view_module": "@jupyter-widgets/base",
            "_view_module_version": "1.2.0",
            "_view_name": "LayoutView",
            "align_content": null,
            "align_items": null,
            "align_self": null,
            "border": null,
            "bottom": null,
            "display": null,
            "flex": null,
            "flex_flow": null,
            "grid_area": null,
            "grid_auto_columns": null,
            "grid_auto_flow": null,
            "grid_auto_rows": null,
            "grid_column": null,
            "grid_gap": null,
            "grid_row": null,
            "grid_template_areas": null,
            "grid_template_columns": null,
            "grid_template_rows": null,
            "height": null,
            "justify_content": null,
            "justify_items": null,
            "left": null,
            "margin": null,
            "max_height": null,
            "max_width": null,
            "min_height": null,
            "min_width": null,
            "object_fit": null,
            "object_position": null,
            "order": null,
            "overflow": null,
            "overflow_x": null,
            "overflow_y": null,
            "padding": null,
            "right": null,
            "top": null,
            "visibility": null,
            "width": null
          }
        },
        "702d1ecfe6204462af023941c00422a4": {
          "model_module": "@jupyter-widgets/base",
          "model_name": "LayoutModel",
          "model_module_version": "1.2.0",
          "state": {
            "_model_module": "@jupyter-widgets/base",
            "_model_module_version": "1.2.0",
            "_model_name": "LayoutModel",
            "_view_count": null,
            "_view_module": "@jupyter-widgets/base",
            "_view_module_version": "1.2.0",
            "_view_name": "LayoutView",
            "align_content": null,
            "align_items": null,
            "align_self": null,
            "border": null,
            "bottom": null,
            "display": null,
            "flex": null,
            "flex_flow": null,
            "grid_area": null,
            "grid_auto_columns": null,
            "grid_auto_flow": null,
            "grid_auto_rows": null,
            "grid_column": null,
            "grid_gap": null,
            "grid_row": null,
            "grid_template_areas": null,
            "grid_template_columns": null,
            "grid_template_rows": null,
            "height": null,
            "justify_content": null,
            "justify_items": null,
            "left": null,
            "margin": null,
            "max_height": null,
            "max_width": null,
            "min_height": null,
            "min_width": null,
            "object_fit": null,
            "object_position": null,
            "order": null,
            "overflow": null,
            "overflow_x": null,
            "overflow_y": null,
            "padding": null,
            "right": null,
            "top": null,
            "visibility": null,
            "width": null
          }
        },
        "32b4b2ae043d442db438b3fe3a7a76bb": {
          "model_module": "@jupyter-widgets/controls",
          "model_name": "DescriptionStyleModel",
          "model_module_version": "1.5.0",
          "state": {
            "_model_module": "@jupyter-widgets/controls",
            "_model_module_version": "1.5.0",
            "_model_name": "DescriptionStyleModel",
            "_view_count": null,
            "_view_module": "@jupyter-widgets/base",
            "_view_module_version": "1.2.0",
            "_view_name": "StyleView",
            "description_width": ""
          }
        },
        "e435bf4a4d6144d2a52e80bf54373cb3": {
          "model_module": "@jupyter-widgets/base",
          "model_name": "LayoutModel",
          "model_module_version": "1.2.0",
          "state": {
            "_model_module": "@jupyter-widgets/base",
            "_model_module_version": "1.2.0",
            "_model_name": "LayoutModel",
            "_view_count": null,
            "_view_module": "@jupyter-widgets/base",
            "_view_module_version": "1.2.0",
            "_view_name": "LayoutView",
            "align_content": null,
            "align_items": null,
            "align_self": null,
            "border": null,
            "bottom": null,
            "display": null,
            "flex": null,
            "flex_flow": null,
            "grid_area": null,
            "grid_auto_columns": null,
            "grid_auto_flow": null,
            "grid_auto_rows": null,
            "grid_column": null,
            "grid_gap": null,
            "grid_row": null,
            "grid_template_areas": null,
            "grid_template_columns": null,
            "grid_template_rows": null,
            "height": null,
            "justify_content": null,
            "justify_items": null,
            "left": null,
            "margin": null,
            "max_height": null,
            "max_width": null,
            "min_height": null,
            "min_width": null,
            "object_fit": null,
            "object_position": null,
            "order": null,
            "overflow": null,
            "overflow_x": null,
            "overflow_y": null,
            "padding": null,
            "right": null,
            "top": null,
            "visibility": null,
            "width": null
          }
        },
        "894a595eb8b948ee8b70907593ccfd01": {
          "model_module": "@jupyter-widgets/controls",
          "model_name": "ProgressStyleModel",
          "model_module_version": "1.5.0",
          "state": {
            "_model_module": "@jupyter-widgets/controls",
            "_model_module_version": "1.5.0",
            "_model_name": "ProgressStyleModel",
            "_view_count": null,
            "_view_module": "@jupyter-widgets/base",
            "_view_module_version": "1.2.0",
            "_view_name": "StyleView",
            "bar_color": null,
            "description_width": ""
          }
        },
        "f8890f8152fc42f18102cb8dd71868fc": {
          "model_module": "@jupyter-widgets/base",
          "model_name": "LayoutModel",
          "model_module_version": "1.2.0",
          "state": {
            "_model_module": "@jupyter-widgets/base",
            "_model_module_version": "1.2.0",
            "_model_name": "LayoutModel",
            "_view_count": null,
            "_view_module": "@jupyter-widgets/base",
            "_view_module_version": "1.2.0",
            "_view_name": "LayoutView",
            "align_content": null,
            "align_items": null,
            "align_self": null,
            "border": null,
            "bottom": null,
            "display": null,
            "flex": null,
            "flex_flow": null,
            "grid_area": null,
            "grid_auto_columns": null,
            "grid_auto_flow": null,
            "grid_auto_rows": null,
            "grid_column": null,
            "grid_gap": null,
            "grid_row": null,
            "grid_template_areas": null,
            "grid_template_columns": null,
            "grid_template_rows": null,
            "height": null,
            "justify_content": null,
            "justify_items": null,
            "left": null,
            "margin": null,
            "max_height": null,
            "max_width": null,
            "min_height": null,
            "min_width": null,
            "object_fit": null,
            "object_position": null,
            "order": null,
            "overflow": null,
            "overflow_x": null,
            "overflow_y": null,
            "padding": null,
            "right": null,
            "top": null,
            "visibility": null,
            "width": null
          }
        },
        "99fface0993341a1a52d261bd2e0374c": {
          "model_module": "@jupyter-widgets/controls",
          "model_name": "DescriptionStyleModel",
          "model_module_version": "1.5.0",
          "state": {
            "_model_module": "@jupyter-widgets/controls",
            "_model_module_version": "1.5.0",
            "_model_name": "DescriptionStyleModel",
            "_view_count": null,
            "_view_module": "@jupyter-widgets/base",
            "_view_module_version": "1.2.0",
            "_view_name": "StyleView",
            "description_width": ""
          }
        },
        "540b1abcdc46460c90a0961913bf0cd7": {
          "model_module": "@jupyter-widgets/controls",
          "model_name": "HBoxModel",
          "model_module_version": "1.5.0",
          "state": {
            "_dom_classes": [],
            "_model_module": "@jupyter-widgets/controls",
            "_model_module_version": "1.5.0",
            "_model_name": "HBoxModel",
            "_view_count": null,
            "_view_module": "@jupyter-widgets/controls",
            "_view_module_version": "1.5.0",
            "_view_name": "HBoxView",
            "box_style": "",
            "children": [
              "IPY_MODEL_70004bf440fa48bd84ac16ce5005bde4",
              "IPY_MODEL_f09a5f3621df4edda311474dab65cdd6",
              "IPY_MODEL_b1d353addc9249b99b64c20302f09fcc"
            ],
            "layout": "IPY_MODEL_e563e14d3bc4421faf7c33a4e7a25c51"
          }
        },
        "70004bf440fa48bd84ac16ce5005bde4": {
          "model_module": "@jupyter-widgets/controls",
          "model_name": "HTMLModel",
          "model_module_version": "1.5.0",
          "state": {
            "_dom_classes": [],
            "_model_module": "@jupyter-widgets/controls",
            "_model_module_version": "1.5.0",
            "_model_name": "HTMLModel",
            "_view_count": null,
            "_view_module": "@jupyter-widgets/controls",
            "_view_module_version": "1.5.0",
            "_view_name": "HTMLView",
            "description": "",
            "description_tooltip": null,
            "layout": "IPY_MODEL_0a0d436ac2c84a78858a3f07f263a374",
            "placeholder": "​",
            "style": "IPY_MODEL_14e1882c6a0c46d3a3d392518d821338",
            "value": "Downloading tf_model.h5: 100%"
          }
        },
        "f09a5f3621df4edda311474dab65cdd6": {
          "model_module": "@jupyter-widgets/controls",
          "model_name": "FloatProgressModel",
          "model_module_version": "1.5.0",
          "state": {
            "_dom_classes": [],
            "_model_module": "@jupyter-widgets/controls",
            "_model_module_version": "1.5.0",
            "_model_name": "FloatProgressModel",
            "_view_count": null,
            "_view_module": "@jupyter-widgets/controls",
            "_view_module_version": "1.5.0",
            "_view_name": "ProgressView",
            "bar_style": "success",
            "description": "",
            "description_tooltip": null,
            "layout": "IPY_MODEL_c63c686005d740a38f8ebf0ddddeb396",
            "max": 532854392,
            "min": 0,
            "orientation": "horizontal",
            "style": "IPY_MODEL_2f0aca73c4df45c49036f1594231c91c",
            "value": 532854392
          }
        },
        "b1d353addc9249b99b64c20302f09fcc": {
          "model_module": "@jupyter-widgets/controls",
          "model_name": "HTMLModel",
          "model_module_version": "1.5.0",
          "state": {
            "_dom_classes": [],
            "_model_module": "@jupyter-widgets/controls",
            "_model_module_version": "1.5.0",
            "_model_name": "HTMLModel",
            "_view_count": null,
            "_view_module": "@jupyter-widgets/controls",
            "_view_module_version": "1.5.0",
            "_view_name": "HTMLView",
            "description": "",
            "description_tooltip": null,
            "layout": "IPY_MODEL_0306f20779124f8ead1eae58ec9c8e54",
            "placeholder": "​",
            "style": "IPY_MODEL_f8cb54c28ead4ecd84856bed14524cd1",
            "value": " 533M/533M [00:14&lt;00:00, 16.3MB/s]"
          }
        },
        "e563e14d3bc4421faf7c33a4e7a25c51": {
          "model_module": "@jupyter-widgets/base",
          "model_name": "LayoutModel",
          "model_module_version": "1.2.0",
          "state": {
            "_model_module": "@jupyter-widgets/base",
            "_model_module_version": "1.2.0",
            "_model_name": "LayoutModel",
            "_view_count": null,
            "_view_module": "@jupyter-widgets/base",
            "_view_module_version": "1.2.0",
            "_view_name": "LayoutView",
            "align_content": null,
            "align_items": null,
            "align_self": null,
            "border": null,
            "bottom": null,
            "display": null,
            "flex": null,
            "flex_flow": null,
            "grid_area": null,
            "grid_auto_columns": null,
            "grid_auto_flow": null,
            "grid_auto_rows": null,
            "grid_column": null,
            "grid_gap": null,
            "grid_row": null,
            "grid_template_areas": null,
            "grid_template_columns": null,
            "grid_template_rows": null,
            "height": null,
            "justify_content": null,
            "justify_items": null,
            "left": null,
            "margin": null,
            "max_height": null,
            "max_width": null,
            "min_height": null,
            "min_width": null,
            "object_fit": null,
            "object_position": null,
            "order": null,
            "overflow": null,
            "overflow_x": null,
            "overflow_y": null,
            "padding": null,
            "right": null,
            "top": null,
            "visibility": null,
            "width": null
          }
        },
        "0a0d436ac2c84a78858a3f07f263a374": {
          "model_module": "@jupyter-widgets/base",
          "model_name": "LayoutModel",
          "model_module_version": "1.2.0",
          "state": {
            "_model_module": "@jupyter-widgets/base",
            "_model_module_version": "1.2.0",
            "_model_name": "LayoutModel",
            "_view_count": null,
            "_view_module": "@jupyter-widgets/base",
            "_view_module_version": "1.2.0",
            "_view_name": "LayoutView",
            "align_content": null,
            "align_items": null,
            "align_self": null,
            "border": null,
            "bottom": null,
            "display": null,
            "flex": null,
            "flex_flow": null,
            "grid_area": null,
            "grid_auto_columns": null,
            "grid_auto_flow": null,
            "grid_auto_rows": null,
            "grid_column": null,
            "grid_gap": null,
            "grid_row": null,
            "grid_template_areas": null,
            "grid_template_columns": null,
            "grid_template_rows": null,
            "height": null,
            "justify_content": null,
            "justify_items": null,
            "left": null,
            "margin": null,
            "max_height": null,
            "max_width": null,
            "min_height": null,
            "min_width": null,
            "object_fit": null,
            "object_position": null,
            "order": null,
            "overflow": null,
            "overflow_x": null,
            "overflow_y": null,
            "padding": null,
            "right": null,
            "top": null,
            "visibility": null,
            "width": null
          }
        },
        "14e1882c6a0c46d3a3d392518d821338": {
          "model_module": "@jupyter-widgets/controls",
          "model_name": "DescriptionStyleModel",
          "model_module_version": "1.5.0",
          "state": {
            "_model_module": "@jupyter-widgets/controls",
            "_model_module_version": "1.5.0",
            "_model_name": "DescriptionStyleModel",
            "_view_count": null,
            "_view_module": "@jupyter-widgets/base",
            "_view_module_version": "1.2.0",
            "_view_name": "StyleView",
            "description_width": ""
          }
        },
        "c63c686005d740a38f8ebf0ddddeb396": {
          "model_module": "@jupyter-widgets/base",
          "model_name": "LayoutModel",
          "model_module_version": "1.2.0",
          "state": {
            "_model_module": "@jupyter-widgets/base",
            "_model_module_version": "1.2.0",
            "_model_name": "LayoutModel",
            "_view_count": null,
            "_view_module": "@jupyter-widgets/base",
            "_view_module_version": "1.2.0",
            "_view_name": "LayoutView",
            "align_content": null,
            "align_items": null,
            "align_self": null,
            "border": null,
            "bottom": null,
            "display": null,
            "flex": null,
            "flex_flow": null,
            "grid_area": null,
            "grid_auto_columns": null,
            "grid_auto_flow": null,
            "grid_auto_rows": null,
            "grid_column": null,
            "grid_gap": null,
            "grid_row": null,
            "grid_template_areas": null,
            "grid_template_columns": null,
            "grid_template_rows": null,
            "height": null,
            "justify_content": null,
            "justify_items": null,
            "left": null,
            "margin": null,
            "max_height": null,
            "max_width": null,
            "min_height": null,
            "min_width": null,
            "object_fit": null,
            "object_position": null,
            "order": null,
            "overflow": null,
            "overflow_x": null,
            "overflow_y": null,
            "padding": null,
            "right": null,
            "top": null,
            "visibility": null,
            "width": null
          }
        },
        "2f0aca73c4df45c49036f1594231c91c": {
          "model_module": "@jupyter-widgets/controls",
          "model_name": "ProgressStyleModel",
          "model_module_version": "1.5.0",
          "state": {
            "_model_module": "@jupyter-widgets/controls",
            "_model_module_version": "1.5.0",
            "_model_name": "ProgressStyleModel",
            "_view_count": null,
            "_view_module": "@jupyter-widgets/base",
            "_view_module_version": "1.2.0",
            "_view_name": "StyleView",
            "bar_color": null,
            "description_width": ""
          }
        },
        "0306f20779124f8ead1eae58ec9c8e54": {
          "model_module": "@jupyter-widgets/base",
          "model_name": "LayoutModel",
          "model_module_version": "1.2.0",
          "state": {
            "_model_module": "@jupyter-widgets/base",
            "_model_module_version": "1.2.0",
            "_model_name": "LayoutModel",
            "_view_count": null,
            "_view_module": "@jupyter-widgets/base",
            "_view_module_version": "1.2.0",
            "_view_name": "LayoutView",
            "align_content": null,
            "align_items": null,
            "align_self": null,
            "border": null,
            "bottom": null,
            "display": null,
            "flex": null,
            "flex_flow": null,
            "grid_area": null,
            "grid_auto_columns": null,
            "grid_auto_flow": null,
            "grid_auto_rows": null,
            "grid_column": null,
            "grid_gap": null,
            "grid_row": null,
            "grid_template_areas": null,
            "grid_template_columns": null,
            "grid_template_rows": null,
            "height": null,
            "justify_content": null,
            "justify_items": null,
            "left": null,
            "margin": null,
            "max_height": null,
            "max_width": null,
            "min_height": null,
            "min_width": null,
            "object_fit": null,
            "object_position": null,
            "order": null,
            "overflow": null,
            "overflow_x": null,
            "overflow_y": null,
            "padding": null,
            "right": null,
            "top": null,
            "visibility": null,
            "width": null
          }
        },
        "f8cb54c28ead4ecd84856bed14524cd1": {
          "model_module": "@jupyter-widgets/controls",
          "model_name": "DescriptionStyleModel",
          "model_module_version": "1.5.0",
          "state": {
            "_model_module": "@jupyter-widgets/controls",
            "_model_module_version": "1.5.0",
            "_model_name": "DescriptionStyleModel",
            "_view_count": null,
            "_view_module": "@jupyter-widgets/base",
            "_view_module_version": "1.2.0",
            "_view_name": "StyleView",
            "description_width": ""
          }
        }
      }
    }
  },
  "nbformat": 4,
  "nbformat_minor": 0
}